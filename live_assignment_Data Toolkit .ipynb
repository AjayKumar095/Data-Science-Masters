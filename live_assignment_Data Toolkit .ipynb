{
 "cells": [
  {
   "cell_type": "markdown",
   "metadata": {},
   "source": [
    "<h1><center>Data Toolkit</center></h1>"
   ]
  },
  {
   "cell_type": "code",
   "execution_count": null,
   "metadata": {},
   "outputs": [],
   "source": [
    "\"\"\"Q1. Demonstrate three different methods for creating identical 2D arrays in NumPy? Provide the code for each\n",
    "method and the final output after each method?\"\"\"\n",
    "\n",
    "import numpy as np\n",
    "\n",
    "## method 1 \n",
    "\n",
    "array1=np.array([[1,2,3],[4,5,6],[7,8,9]])\n",
    "print(f'Printing 2D arry by method 1: \\n {array1}')\n",
    "\n",
    "## method 2 \n",
    "array2=np.zeros((3,3),dtype=int)\n",
    "array2[0,:]=[1,2,3]\n",
    "array2[1,:]=[4,5,6]\n",
    "array2[2,:]=[6,7,8]\n",
    "\n",
    "print('\\n')\n",
    "print(f'Printing 2D arry by method 2: \\n {array2}')\n",
    "\n",
    "## method 3\n",
    "array3 = np.full((3, 3), 0, dtype=int)\n",
    "array3[0, :] = [1, 2, 3]\n",
    "array3[1, :] = [4, 5, 6]\n",
    "array3[2, :] = [7, 8, 9]\n",
    "\n",
    "print('\\n')\n",
    "print(f'Printing 2D arry by method 3: \\n {array3}')"
   ]
  },
  {
   "cell_type": "code",
   "execution_count": null,
   "metadata": {},
   "outputs": [],
   "source": [
    "\"\"\"Q2. Using the Numpy function, generate an array of 100 evenly spaced numbers between 1 and 10 and\n",
    "Reshape that 1D array into a 2D array?\"\"\"\n",
    "\n",
    "\n",
    "## creating 1D array of 100 evenly spaced numbers between 1 to 10.\n",
    "arr=np.linspace(1,10, num=100, endpoint=True)\n",
    "\n",
    "\n",
    "## reshape that 1D array into 2D array.\n",
    "\n",
    "newarr=np.reshape(arr,(10,10))  ## 10 X 10 array\n",
    "print(f'New 2D array: \\n{newarr}')"
   ]
  },
  {
   "cell_type": "markdown",
   "metadata": {},
   "source": [
    "<h3>Q3. Explain the following terms? <br>\n",
    "1. The difference in nparray, npasarray and npYasanyarray. <br>\n",
    "2. The difference between Deep copy and shallow copy.</h3>\n",
    "    <ul>\n",
    "        <li>\n",
    "            <strong>Difference between <code>np.array</code>, <code>np.asarray</code>, and <code>np.asanyarray</code>:</strong>\n",
    "            <ul>\n",
    "                <li>\n",
    "                    <strong><code>np.array</code>:</strong> This function creates a new array object and, by default, makes a copy of the data. If you pass an existing array, it will copy the data into a new array unless specified otherwise.\n",
    "                    <pre><code>import numpy as np\n",
    "arr1 = np.array([1, 2, 3])\n",
    "</code></pre>\n",
    "                </li>\n",
    "                <li>\n",
    "                    <strong><code>np.asarray</code>:</strong> This function converts the input to an array but does not copy the data if the input is already an array. It's useful when you want to ensure you have an array but avoid unnecessary data duplication.\n",
    "                    <pre><code>arr2 = np.asarray(arr1)</code></pre>\n",
    "                </li>\n",
    "                <li>\n",
    "                    <strong><code>np.asanyarray</code>:</strong> This function is similar to <code>np.asarray</code> but is more flexible. If the input is a subclass of <code>ndarray</code> (like <code>matrix</code>), it returns the input as is without converting it to a base <code>ndarray</code>.\n",
    "                    <pre><code>arr3 = np.asanyarray(arr1)</code></pre>\n",
    "                </li>\n",
    "            </ul>\n",
    "        </li>\n",
    "        <li>\n",
    "            <strong>Difference between Deep Copy and Shallow Copy:</strong>\n",
    "            <ul>\n",
    "                <li>\n",
    "                    <strong>Deep Copy:</strong> This type of copy creates a new object and recursively copies all objects found in the original, resulting in a fully independent clone of the original object. Changes to the deep copy do not affect the original object.\n",
    "                    <pre><code>import copy\n",
    "original = [1, 2, [3, 4]]\n",
    "deep_copied = copy.deepcopy(original)\n",
    "deep_copied[2][0] = 99\n",
    "# original remains [1, 2, [3, 4]]\n",
    "</code></pre>\n",
    "                </li>\n",
    "                <li>\n",
    "                    <strong>Shallow Copy:</strong> This type of copy creates a new object, but inserts references into it to the objects found in the original. Therefore, changes to nested objects in the shallow copy will affect the original object.\n",
    "                    <pre><code>shallow_copied = copy.copy(original)\n",
    "shallow_copied[2][0] = 99\n",
    "# original becomes [1, 2, [99, 4]]\n",
    "</code></pre>\n",
    "                </li>\n",
    "            </ul>\n",
    "        </li>\n",
    "    </ul>"
   ]
  },
  {
   "cell_type": "code",
   "execution_count": null,
   "metadata": {},
   "outputs": [],
   "source": [
    "\"\"\"Q4. Generate a 3x3 array with random floating-point numbers between 5 and 20. Then, round each number in\n",
    "the array to 2 decimal places?\"\"\"\n",
    "\n",
    "\n",
    "random_arr=np.reshape(np.linspace(5, 20, num=9, endpoint=False), (3,3))\n",
    "random_rounded_arr=random_arr.round(2)\n",
    "\n",
    "print(f'Oringinal array:\\n{random_arr}')\n",
    "print('\\n')\n",
    "print(f'Array with number to 2 decimal place: \\n{random_rounded_arr}')\n"
   ]
  },
  {
   "cell_type": "code",
   "execution_count": null,
   "metadata": {},
   "outputs": [],
   "source": [
    "\"\"\"Q5.Create a NumPy array with random integers between 1 and 10 of shape (5, 6)? After creating the array\n",
    "perform the following operations:\n",
    "\n",
    " a)Extract all even integers from array.\n",
    "\n",
    " b)Extract all odd integers from array.\"\"\"\n",
    " \n",
    "\n",
    "## creating a random interger array of size (5,6), number between 1 to 10.\n",
    "integer_arr=np.random.randint(1,10, size=(5,6))\n",
    "\n",
    "## Extract all even integers from array.\n",
    "Even_value_arr=integer_arr[integer_arr % 2 == 0]\n",
    "\n",
    "## Extract all odd integers from array.\n",
    "Odd_value_arr=integer_arr[integer_arr % 2 == 1]\n",
    "\n",
    "print(f'Even value array:\\n{Even_value_arr} \\nOdd value array:\\n{Odd_value_arr}')"
   ]
  }
 ],
 "metadata": {
  "kernelspec": {
   "display_name": "Python 3",
   "language": "python",
   "name": "python3"
  },
  "language_info": {
   "codemirror_mode": {
    "name": "ipython",
    "version": 3
   },
   "file_extension": ".py",
   "mimetype": "text/x-python",
   "name": "python",
   "nbconvert_exporter": "python",
   "pygments_lexer": "ipython3",
   "version": "3.11.9"
  }
 },
 "nbformat": 4,
 "nbformat_minor": 2
}
