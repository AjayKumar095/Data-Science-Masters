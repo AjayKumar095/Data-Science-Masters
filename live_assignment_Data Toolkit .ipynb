{
 "cells": [
  {
   "cell_type": "markdown",
   "metadata": {},
   "source": [
    "<h1><center>Data Toolkit</center></h1>"
   ]
  },
  {
   "cell_type": "code",
   "execution_count": 1,
   "metadata": {},
   "outputs": [
    {
     "name": "stdout",
     "output_type": "stream",
     "text": [
      "Printing 2D arry by method 1: \n",
      " [[1 2 3]\n",
      " [4 5 6]\n",
      " [7 8 9]]\n",
      "\n",
      "\n",
      "Printing 2D arry by method 2: \n",
      " [[1 2 3]\n",
      " [4 5 6]\n",
      " [6 7 8]]\n",
      "\n",
      "\n",
      "Printing 2D arry by method 3: \n",
      " [[1 2 3]\n",
      " [4 5 6]\n",
      " [7 8 9]]\n"
     ]
    }
   ],
   "source": [
    "\"\"\"Q1. Demonstrate three different methods for creating identical 2D arrays in NumPy? Provide the code for each\n",
    "method and the final output after each method?\"\"\"\n",
    "\n",
    "import numpy as np\n",
    "\n",
    "## method 1 \n",
    "\n",
    "array1=np.array([[1,2,3],[4,5,6],[7,8,9]])\n",
    "print(f'Printing 2D arry by method 1: \\n {array1}')\n",
    "\n",
    "## method 2 \n",
    "array2=np.zeros((3,3),dtype=int)\n",
    "array2[0,:]=[1,2,3]\n",
    "array2[1,:]=[4,5,6]\n",
    "array2[2,:]=[6,7,8]\n",
    "\n",
    "print('\\n')\n",
    "print(f'Printing 2D arry by method 2: \\n {array2}')\n",
    "\n",
    "## method 3\n",
    "array3 = np.full((3, 3), 0, dtype=int)\n",
    "array3[0, :] = [1, 2, 3]\n",
    "array3[1, :] = [4, 5, 6]\n",
    "array3[2, :] = [7, 8, 9]\n",
    "\n",
    "print('\\n')\n",
    "print(f'Printing 2D arry by method 3: \\n {array3}')"
   ]
  },
  {
   "cell_type": "code",
   "execution_count": 2,
   "metadata": {},
   "outputs": [
    {
     "name": "stdout",
     "output_type": "stream",
     "text": [
      "New 2D array: \n",
      "[[ 1.          1.09090909  1.18181818  1.27272727  1.36363636  1.45454545\n",
      "   1.54545455  1.63636364  1.72727273  1.81818182]\n",
      " [ 1.90909091  2.          2.09090909  2.18181818  2.27272727  2.36363636\n",
      "   2.45454545  2.54545455  2.63636364  2.72727273]\n",
      " [ 2.81818182  2.90909091  3.          3.09090909  3.18181818  3.27272727\n",
      "   3.36363636  3.45454545  3.54545455  3.63636364]\n",
      " [ 3.72727273  3.81818182  3.90909091  4.          4.09090909  4.18181818\n",
      "   4.27272727  4.36363636  4.45454545  4.54545455]\n",
      " [ 4.63636364  4.72727273  4.81818182  4.90909091  5.          5.09090909\n",
      "   5.18181818  5.27272727  5.36363636  5.45454545]\n",
      " [ 5.54545455  5.63636364  5.72727273  5.81818182  5.90909091  6.\n",
      "   6.09090909  6.18181818  6.27272727  6.36363636]\n",
      " [ 6.45454545  6.54545455  6.63636364  6.72727273  6.81818182  6.90909091\n",
      "   7.          7.09090909  7.18181818  7.27272727]\n",
      " [ 7.36363636  7.45454545  7.54545455  7.63636364  7.72727273  7.81818182\n",
      "   7.90909091  8.          8.09090909  8.18181818]\n",
      " [ 8.27272727  8.36363636  8.45454545  8.54545455  8.63636364  8.72727273\n",
      "   8.81818182  8.90909091  9.          9.09090909]\n",
      " [ 9.18181818  9.27272727  9.36363636  9.45454545  9.54545455  9.63636364\n",
      "   9.72727273  9.81818182  9.90909091 10.        ]]\n"
     ]
    }
   ],
   "source": [
    "\"\"\"Q2. Using the Numpy function, generate an array of 100 evenly spaced numbers between 1 and 10 and\n",
    "Reshape that 1D array into a 2D array?\"\"\"\n",
    "\n",
    "\n",
    "## creating 1D array of 100 evenly spaced numbers between 1 to 10.\n",
    "arr=np.linspace(1,10, num=100, endpoint=True)\n",
    "\n",
    "\n",
    "## reshape that 1D array into 2D array.\n",
    "\n",
    "newarr=np.reshape(arr,(10,10))  ## 10 X 10 array\n",
    "print(f'New 2D array: \\n{newarr}')"
   ]
  },
  {
   "cell_type": "markdown",
   "metadata": {},
   "source": [
    "<h3>Q3. Explain the following terms? <br>\n",
    "1. The difference in nparray, npasarray and npYasanyarray. <br>\n",
    "2. The difference between Deep copy and shallow copy.</h3>\n",
    "    <ul>\n",
    "        <li>\n",
    "            <strong>Difference between <code>np.array</code>, <code>np.asarray</code>, and <code>np.asanyarray</code>:</strong>\n",
    "            <ul>\n",
    "                <li>\n",
    "                    <strong><code>np.array</code>:</strong> This function creates a new array object and, by default, makes a copy of the data. If you pass an existing array, it will copy the data into a new array unless specified otherwise.\n",
    "                    <pre><code>import numpy as np\n",
    "arr1 = np.array([1, 2, 3])\n",
    "</code></pre>\n",
    "                </li>\n",
    "                <li>\n",
    "                    <strong><code>np.asarray</code>:</strong> This function converts the input to an array but does not copy the data if the input is already an array. It's useful when you want to ensure you have an array but avoid unnecessary data duplication.\n",
    "                    <pre><code>arr2 = np.asarray(arr1)</code></pre>\n",
    "                </li>\n",
    "                <li>\n",
    "                    <strong><code>np.asanyarray</code>:</strong> This function is similar to <code>np.asarray</code> but is more flexible. If the input is a subclass of <code>ndarray</code> (like <code>matrix</code>), it returns the input as is without converting it to a base <code>ndarray</code>.\n",
    "                    <pre><code>arr3 = np.asanyarray(arr1)</code></pre>\n",
    "                </li>\n",
    "            </ul>\n",
    "        </li>\n",
    "        <li>\n",
    "            <strong>Difference between Deep Copy and Shallow Copy:</strong>\n",
    "            <ul>\n",
    "                <li>\n",
    "                    <strong>Deep Copy:</strong> This type of copy creates a new object and recursively copies all objects found in the original, resulting in a fully independent clone of the original object. Changes to the deep copy do not affect the original object.\n",
    "                    <pre><code>import copy\n",
    "original = [1, 2, [3, 4]]\n",
    "deep_copied = copy.deepcopy(original)\n",
    "deep_copied[2][0] = 99\n",
    "# original remains [1, 2, [3, 4]]\n",
    "</code></pre>\n",
    "                </li>\n",
    "                <li>\n",
    "                    <strong>Shallow Copy:</strong> This type of copy creates a new object, but inserts references into it to the objects found in the original. Therefore, changes to nested objects in the shallow copy will affect the original object.\n",
    "                    <pre><code>shallow_copied = copy.copy(original)\n",
    "shallow_copied[2][0] = 99\n",
    "# original becomes [1, 2, [99, 4]]\n",
    "</code></pre>\n",
    "                </li>\n",
    "            </ul>\n",
    "        </li>\n",
    "    </ul>"
   ]
  },
  {
   "cell_type": "code",
   "execution_count": 3,
   "metadata": {},
   "outputs": [
    {
     "name": "stdout",
     "output_type": "stream",
     "text": [
      "Oringinal array:\n",
      "[[ 5.          6.66666667  8.33333333]\n",
      " [10.         11.66666667 13.33333333]\n",
      " [15.         16.66666667 18.33333333]]\n",
      "\n",
      "\n",
      "Array with number to 2 decimal place: \n",
      "[[ 5.    6.67  8.33]\n",
      " [10.   11.67 13.33]\n",
      " [15.   16.67 18.33]]\n"
     ]
    }
   ],
   "source": [
    "\"\"\"Q4. Generate a 3x3 array with random floating-point numbers between 5 and 20. Then, round each number in\n",
    "the array to 2 decimal places?\"\"\"\n",
    "\n",
    "## creating ranodom array\n",
    "random_arr=np.reshape(np.linspace(5, 20, num=9, endpoint=False), (3,3))\n",
    "random_rounded_arr=random_arr.round(2) ## taking round value of random array\n",
    "\n",
    "## printing the array\n",
    "\n",
    "print(f'Oringinal array:\\n{random_arr}')\n",
    "print('\\n')\n",
    "print(f'Array with number to 2 decimal place: \\n{random_rounded_arr}')\n"
   ]
  },
  {
   "cell_type": "code",
   "execution_count": 4,
   "metadata": {},
   "outputs": [
    {
     "name": "stdout",
     "output_type": "stream",
     "text": [
      "Even value array:\n",
      "[2 2 4 4 4 6 8 2 2 2 8] \n",
      "Odd value array:\n",
      "[5 7 9 9 7 1 9 7 7 9 7 7 7 1 7 5 7 7 1]\n"
     ]
    }
   ],
   "source": [
    "\"\"\"Q5.Create a NumPy array with random integers between 1 and 10 of shape (5, 6)? After creating the array\n",
    "perform the following operations:\n",
    "\n",
    " a)Extract all even integers from array.\n",
    "\n",
    " b)Extract all odd integers from array.\"\"\"\n",
    " \n",
    "\n",
    "## creating a random interger array of size (5,6), number between 1 to 10.\n",
    "integer_arr=np.random.randint(1,10, size=(5,6))\n",
    "\n",
    "## Extract all even integers from array.\n",
    "Even_value_arr=integer_arr[integer_arr % 2 == 0]\n",
    "\n",
    "## Extract all odd integers from array.\n",
    "Odd_value_arr=integer_arr[integer_arr % 2 == 1]\n",
    "\n",
    "print(f'Even value array:\\n{Even_value_arr} \\nOdd value array:\\n{Odd_value_arr}')"
   ]
  },
  {
   "cell_type": "code",
   "execution_count": 8,
   "metadata": {},
   "outputs": [
    {
     "name": "stdout",
     "output_type": "stream",
     "text": [
      "Original Array:\n",
      " [[[4 3 5]\n",
      "  [1 3 5]\n",
      "  [7 4 7]]\n",
      "\n",
      " [[8 1 1]\n",
      "  [9 3 9]\n",
      "  [5 2 1]]\n",
      "\n",
      " [[5 7 3]\n",
      "  [9 5 5]\n",
      "  [2 3 8]]]\n",
      "Indices of maximum values along each depth level:\n",
      " [[2 2 0]\n",
      " [0 0 0]\n",
      " [1 0 2]]\n",
      "Second Array:\n",
      " [[[7 8 8]\n",
      "  [2 7 9]\n",
      "  [1 5 9]]\n",
      "\n",
      " [[2 1 1]\n",
      "  [7 6 7]\n",
      "  [5 2 3]]\n",
      "\n",
      " [[1 2 4]\n",
      "  [1 9 4]\n",
      "  [2 6 2]]]\n",
      "Element-wise multiplication of both arrays:\n",
      " [[[28 24 40]\n",
      "  [ 2 21 45]\n",
      "  [ 7 20 63]]\n",
      "\n",
      " [[16  1  1]\n",
      "  [63 18 63]\n",
      "  [25  4  3]]\n",
      "\n",
      " [[ 5 14 12]\n",
      "  [ 9 45 20]\n",
      "  [ 4 18 16]]]\n"
     ]
    }
   ],
   "source": [
    "\"\"\"Q6. Create a 3D NumPy array of shape (3, 3, 3) containing random integers Petween 1 and 10. Perform the\n",
    "following operations:\n",
    "\n",
    " a) Find the indices of the maximum values along each depth level (third axis).\n",
    "\n",
    " b) Perform element-wise multiplication of between both array\"\"\"\n",
    "\n",
    "import numpy as np\n",
    "\n",
    "#  Create a 3D NumPy array of shape (3, 3, 3) containing random integers between 1 and 100\n",
    "array = np.random.randint(1, 10, size=(3, 3, 3))\n",
    "print(\"Original Array:\\n\", array)\n",
    "\n",
    "# Find the indices of the maximum values along each depth level (third axis)\n",
    "max_indices = np.argmax(array, axis=2)\n",
    "print(\"Indices of maximum values along each depth level:\\n\", max_indices)\n",
    "\n",
    "#  Perform element-wise multiplication between two 3D arrays of the same shape\n",
    "array2 = np.random.randint(1, 10, size=(3, 3, 3))\n",
    "print(\"Second Array:\\n\", array2)\n",
    "\n",
    "elementwise_multiplication = np.multiply(array, array2)\n",
    "print(\"Element-wise multiplication of both arrays:\\n\", elementwise_multiplication)\n"
   ]
  },
  {
   "cell_type": "code",
   "execution_count": 12,
   "metadata": {},
   "outputs": [
    {
     "data": {
      "text/html": [
       "<div>\n",
       "<style scoped>\n",
       "    .dataframe tbody tr th:only-of-type {\n",
       "        vertical-align: middle;\n",
       "    }\n",
       "\n",
       "    .dataframe tbody tr th {\n",
       "        vertical-align: top;\n",
       "    }\n",
       "\n",
       "    .dataframe thead th {\n",
       "        text-align: right;\n",
       "    }\n",
       "</style>\n",
       "<table border=\"1\" class=\"dataframe\">\n",
       "  <thead>\n",
       "    <tr style=\"text-align: right;\">\n",
       "      <th></th>\n",
       "      <th>Index</th>\n",
       "      <th>User Id</th>\n",
       "      <th>First Name</th>\n",
       "      <th>Last Name</th>\n",
       "      <th>Gender</th>\n",
       "      <th>Email</th>\n",
       "      <th>Phone</th>\n",
       "      <th>Date of birth</th>\n",
       "      <th>Job Title</th>\n",
       "      <th>Salary</th>\n",
       "    </tr>\n",
       "  </thead>\n",
       "  <tbody>\n",
       "    <tr>\n",
       "      <th>0</th>\n",
       "      <td>1</td>\n",
       "      <td>8717bbf45cCDbEe</td>\n",
       "      <td>Shelia</td>\n",
       "      <td>Mahoney</td>\n",
       "      <td>Male</td>\n",
       "      <td>pwarner@example.org</td>\n",
       "      <td>8.571398e+09</td>\n",
       "      <td>27-01-2014</td>\n",
       "      <td>Probation officer</td>\n",
       "      <td>90000</td>\n",
       "    </tr>\n",
       "    <tr>\n",
       "      <th>1</th>\n",
       "      <td>2</td>\n",
       "      <td>3d5AD30A4cD38ed</td>\n",
       "      <td>Jo</td>\n",
       "      <td>Rivers</td>\n",
       "      <td>Female</td>\n",
       "      <td>fergusonkatherine@example.net</td>\n",
       "      <td>NaN</td>\n",
       "      <td>26-07-1931</td>\n",
       "      <td>Dancer</td>\n",
       "      <td>80000</td>\n",
       "    </tr>\n",
       "    <tr>\n",
       "      <th>2</th>\n",
       "      <td>3</td>\n",
       "      <td>810Ce0F276Badec</td>\n",
       "      <td>Sheryl</td>\n",
       "      <td>Lowery</td>\n",
       "      <td>Female</td>\n",
       "      <td>fhoward@example.org</td>\n",
       "      <td>5.997821e+09</td>\n",
       "      <td>25-11-2013</td>\n",
       "      <td>Copy</td>\n",
       "      <td>50000</td>\n",
       "    </tr>\n",
       "    <tr>\n",
       "      <th>3</th>\n",
       "      <td>4</td>\n",
       "      <td>BF2a889C00f0cE1</td>\n",
       "      <td>Whitney</td>\n",
       "      <td>Hooper</td>\n",
       "      <td>Male</td>\n",
       "      <td>zjohnston@example.com</td>\n",
       "      <td>NaN</td>\n",
       "      <td>17-11-2012</td>\n",
       "      <td>Counselling psychologist</td>\n",
       "      <td>65000</td>\n",
       "    </tr>\n",
       "    <tr>\n",
       "      <th>4</th>\n",
       "      <td>5</td>\n",
       "      <td>9afFEafAe1CBBB9</td>\n",
       "      <td>Lindsey</td>\n",
       "      <td>Rice</td>\n",
       "      <td>Female</td>\n",
       "      <td>elin@example.net</td>\n",
       "      <td>3.904172e+13</td>\n",
       "      <td>15-04-1923</td>\n",
       "      <td>Biomedical engineer</td>\n",
       "      <td>100000</td>\n",
       "    </tr>\n",
       "  </tbody>\n",
       "</table>\n",
       "</div>"
      ],
      "text/plain": [
       "   Index          User Id First Name Last Name  Gender  \\\n",
       "0      1  8717bbf45cCDbEe     Shelia   Mahoney    Male   \n",
       "1      2  3d5AD30A4cD38ed         Jo    Rivers  Female   \n",
       "2      3  810Ce0F276Badec     Sheryl    Lowery  Female   \n",
       "3      4  BF2a889C00f0cE1    Whitney    Hooper    Male   \n",
       "4      5  9afFEafAe1CBBB9    Lindsey      Rice  Female   \n",
       "\n",
       "                           Email         Phone Date of birth  \\\n",
       "0            pwarner@example.org  8.571398e+09    27-01-2014   \n",
       "1  fergusonkatherine@example.net           NaN    26-07-1931   \n",
       "2            fhoward@example.org  5.997821e+09    25-11-2013   \n",
       "3          zjohnston@example.com           NaN    17-11-2012   \n",
       "4               elin@example.net  3.904172e+13    15-04-1923   \n",
       "\n",
       "                  Job Title  Salary  \n",
       "0         Probation officer   90000  \n",
       "1                    Dancer   80000  \n",
       "2                      Copy   50000  \n",
       "3  Counselling psychologist   65000  \n",
       "4       Biomedical engineer  100000  "
      ]
     },
     "execution_count": 12,
     "metadata": {},
     "output_type": "execute_result"
    }
   ],
   "source": [
    "\"\"\"Q7. Clean and transform the 'Phone' column in the sample dataset to remove non-numeric characters and\n",
    "convert it to a numeric data type? Also display the taPle attriPutes and data types of each column\n",
    "?\n",
    "\"\"\"\n",
    "\n",
    "import pandas as pd\n",
    "\n",
    "# Sample dataset\n",
    "df = pd.read_csv(\"People Data.csv\")\n",
    "\n",
    "\n",
    "\n",
    "# Remove non-numeric characters from 'Phone' column\n",
    "df['Phone'] = df['Phone'].str.replace(r'\\D', '', regex=True)\n",
    "\n",
    "# Convert 'Phone' column to numeric data type\n",
    "df['Phone'] = pd.to_numeric(df['Phone'])\n",
    "\n",
    "(df.head())\n",
    "\n",
    "\n"
   ]
  },
  {
   "cell_type": "code",
   "execution_count": 17,
   "metadata": {},
   "outputs": [
    {
     "name": "stdout",
     "output_type": "stream",
     "text": [
      "     Index          User Id First Name Last Name  Gender  \\\n",
      "45      46  99A502C175C4EBd     Olivia      Duke  Female   \n",
      "210    211  DF17975CC0a0373    Katrina      Duke  Female   \n",
      "457    458  dcE1B7DE83c1076      Traci      Duke  Female   \n",
      "729    730  c9b482D7aa3e682     Lonnie      Duke  Female   \n",
      "\n",
      "                        Email                   Phone Date of birth  \\\n",
      "45        diana26@example.net  001-366-475-8607x04350    13-10-1934   \n",
      "210       robin78@example.com            740.434.0212    21-09-1935   \n",
      "457  perryhoffman@example.org     +1-903-596-0995x489    11-02-1997   \n",
      "729   kevinkramer@example.net            982.692.6257    12-05-2015   \n",
      "\n",
      "           Job Title  Salary  \n",
      "45           Dentist   60000  \n",
      "210  Producer, radio   50000  \n",
      "457        Herbalist   50000  \n",
      "729     Nurse, adult   70000  \n"
     ]
    }
   ],
   "source": [
    "\"\"\"Q8.Filter and select rows from the People_Dataset, where the “Last Name' column contains the name 'Duke', \n",
    "'Gender' column contains the word Female and salary should be less than 85000\"\"\"\n",
    "\n",
    "\n",
    "data=pd.read_csv('People Data.csv')\n",
    "People_Dataset = data\n",
    "\n",
    "# Define the filter conditions\n",
    "last_name_condition = People_Dataset['Last Name'].str.contains('Duke')\n",
    "gender_condition = People_Dataset['Gender'] == 'Female'\n",
    "salary_condition = People_Dataset['Salary'] < 85000\n",
    "\n",
    "# Apply the filter conditions\n",
    "filtered_data = People_Dataset[last_name_condition & gender_condition & salary_condition]\n",
    "\n",
    "# Display the filtered rows\n",
    "print(filtered_data)"
   ]
  },
  {
   "cell_type": "code",
   "execution_count": 1,
   "metadata": {},
   "outputs": [
    {
     "name": "stdout",
     "output_type": "stream",
     "text": [
      "   Col_1  Col_2  Col_3  Col_4  Col_5\n",
      "0      5      3      4      6      6\n",
      "1      5      4      1      2      2\n",
      "2      3      5      6      1      2\n",
      "3      3      2      2      5      2\n",
      "4      4      4      5      3      3\n",
      "5      1      5      6      1      4\n",
      "6      3      5      1      3      1\n"
     ]
    }
   ],
   "source": [
    "\"\"\"Q 10. Create a 7*5 Dataframe in Pandas using a series generated from 35. random integers between 1 to 6? \"\"\"\n",
    "\n",
    "import pandas as pd\n",
    "import numpy as np\n",
    "\n",
    "# Generate a series of 35 random integers between 1 and 6\n",
    "random_integers = np.random.randint(1, 7, size=35)\n",
    "\n",
    "# Create a 7x5 DataFrame using the generated random integers\n",
    "df = pd.DataFrame(random_integers.reshape(7, 5), columns=[f'Col_{i+1}' for i in range(5)])\n",
    "\n",
    "# Display the DataFrame\n",
    "print(df)\n"
   ]
  },
  {
   "cell_type": "code",
   "execution_count": 5,
   "metadata": {},
   "outputs": [
    {
     "name": "stdout",
     "output_type": "stream",
     "text": [
      "    First  Second\n",
      "0      30     697\n",
      "1      14     205\n",
      "2      45     573\n",
      "3      30     539\n",
      "4      29     743\n",
      "5      34     556\n",
      "6      32     336\n",
      "7      43     282\n",
      "8      44     405\n",
      "9      35     427\n",
      "10     16     546\n",
      "11     16     539\n",
      "12     39     767\n",
      "13     31     849\n",
      "14     22     100\n",
      "15     17     851\n",
      "16     45     760\n",
      "17     44     837\n",
      "18     26     188\n",
      "19     12     263\n"
     ]
    }
   ],
   "source": [
    "\"\"\"Q11. Create two different Series, each of length 50, with the following criteria:\"\"\"\n",
    "\n",
    "import pandas as pd\n",
    "import numpy as np\n",
    "\n",
    "# Generate the first series with random integers from 10 to 50\n",
    "first_series = pd.Series(np.random.randint(10, 50, size=20), name='First')\n",
    "\n",
    "# Generate the second series with random integers from 100 to 1000\n",
    "second_series = pd.Series(np.random.randint(100, 1000, size=20), name='Second')\n",
    "\n",
    "# Combine the two series into a DataFrame\n",
    "df = pd.concat([first_series, second_series], axis=1)\n",
    "\n",
    "# Display the DataFrame\n",
    "print(df)\n",
    "\n",
    "\n",
    "##"
   ]
  },
  {
   "cell_type": "code",
   "execution_count": 8,
   "metadata": {},
   "outputs": [
    {
     "data": {
      "text/html": [
       "<div>\n",
       "<style scoped>\n",
       "    .dataframe tbody tr th:only-of-type {\n",
       "        vertical-align: middle;\n",
       "    }\n",
       "\n",
       "    .dataframe tbody tr th {\n",
       "        vertical-align: top;\n",
       "    }\n",
       "\n",
       "    .dataframe thead th {\n",
       "        text-align: right;\n",
       "    }\n",
       "</style>\n",
       "<table border=\"1\" class=\"dataframe\">\n",
       "  <thead>\n",
       "    <tr style=\"text-align: right;\">\n",
       "      <th></th>\n",
       "      <th>Index</th>\n",
       "      <th>User Id</th>\n",
       "      <th>First Name</th>\n",
       "      <th>Last Name</th>\n",
       "      <th>Gender</th>\n",
       "      <th>Job Title</th>\n",
       "      <th>Salary</th>\n",
       "    </tr>\n",
       "  </thead>\n",
       "  <tbody>\n",
       "    <tr>\n",
       "      <th>0</th>\n",
       "      <td>1</td>\n",
       "      <td>8717bbf45cCDbEe</td>\n",
       "      <td>Shelia</td>\n",
       "      <td>Mahoney</td>\n",
       "      <td>Male</td>\n",
       "      <td>Probation officer</td>\n",
       "      <td>90000</td>\n",
       "    </tr>\n",
       "    <tr>\n",
       "      <th>1</th>\n",
       "      <td>2</td>\n",
       "      <td>3d5AD30A4cD38ed</td>\n",
       "      <td>Jo</td>\n",
       "      <td>Rivers</td>\n",
       "      <td>Female</td>\n",
       "      <td>Dancer</td>\n",
       "      <td>80000</td>\n",
       "    </tr>\n",
       "    <tr>\n",
       "      <th>2</th>\n",
       "      <td>3</td>\n",
       "      <td>810Ce0F276Badec</td>\n",
       "      <td>Sheryl</td>\n",
       "      <td>Lowery</td>\n",
       "      <td>Female</td>\n",
       "      <td>Copy</td>\n",
       "      <td>50000</td>\n",
       "    </tr>\n",
       "    <tr>\n",
       "      <th>3</th>\n",
       "      <td>4</td>\n",
       "      <td>BF2a889C00f0cE1</td>\n",
       "      <td>Whitney</td>\n",
       "      <td>Hooper</td>\n",
       "      <td>Male</td>\n",
       "      <td>Counselling psychologist</td>\n",
       "      <td>65000</td>\n",
       "    </tr>\n",
       "    <tr>\n",
       "      <th>4</th>\n",
       "      <td>5</td>\n",
       "      <td>9afFEafAe1CBBB9</td>\n",
       "      <td>Lindsey</td>\n",
       "      <td>Rice</td>\n",
       "      <td>Female</td>\n",
       "      <td>Biomedical engineer</td>\n",
       "      <td>100000</td>\n",
       "    </tr>\n",
       "  </tbody>\n",
       "</table>\n",
       "</div>"
      ],
      "text/plain": [
       "   Index          User Id First Name Last Name  Gender  \\\n",
       "0      1  8717bbf45cCDbEe     Shelia   Mahoney    Male   \n",
       "1      2  3d5AD30A4cD38ed         Jo    Rivers  Female   \n",
       "2      3  810Ce0F276Badec     Sheryl    Lowery  Female   \n",
       "3      4  BF2a889C00f0cE1    Whitney    Hooper    Male   \n",
       "4      5  9afFEafAe1CBBB9    Lindsey      Rice  Female   \n",
       "\n",
       "                  Job Title  Salary  \n",
       "0         Probation officer   90000  \n",
       "1                    Dancer   80000  \n",
       "2                      Copy   50000  \n",
       "3  Counselling psychologist   65000  \n",
       "4       Biomedical engineer  100000  "
      ]
     },
     "execution_count": 8,
     "metadata": {},
     "output_type": "execute_result"
    }
   ],
   "source": [
    "\"\"\"Q12. Perform the following operations using people data set:\"\"\"\n",
    "\n",
    "## deleting the 'email', 'phone', and date of birth column form the data set\n",
    "\n",
    "df=pd.read_csv(\"People Data.csv\")\n",
    "\n",
    "df.drop(['Email', \"Phone\", 'Date of birth'], axis=1, inplace=True)\n",
    "\n",
    "## Deleting the row contiang any missing values\n",
    "\n",
    "df.dropna(axis=0, inplace=True)\n",
    "\n",
    "##  Printing the final output\n",
    "df.head()"
   ]
  },
  {
   "cell_type": "code",
   "execution_count": 28,
   "metadata": {},
   "outputs": [
    {
     "name": "stdout",
     "output_type": "stream",
     "text": [
      "<matplotlib.collections.PathCollection object at 0x0000012465AA5D10>\n",
      "Line2D(y = 0.5)\n",
      "Line2D(x = 0.5)\n"
     ]
    },
    {
     "data": {
      "text/plain": [
       "<matplotlib.legend.Legend at 0x12465a7ae10>"
      ]
     },
     "execution_count": 28,
     "metadata": {},
     "output_type": "execute_result"
    },
    {
     "data": {
      "image/png": "[encoded data removed]",
      "text/plain": [
       "<Figure size 1000x500 with 1 Axes>"
      ]
     },
     "metadata": {},
     "output_type": "display_data"
    }
   ],
   "source": [
    "\"\"\"Q13.  Create two NumPy arrays, x and y, each containing 100 random float values between 0 and 1. Perform the\n",
    "following tasks using Matplotlib and NumPy?\"\"\"\n",
    "\n",
    "import matplotlib.pyplot as plt \n",
    "import numpy as np \n",
    "\n",
    "## creating a numpy array of x and y, each containg 100 random values float between 0 to 1.\n",
    "\n",
    "x=np.random.uniform(1, 100, size=100)\n",
    "y=np.random.uniform(1, 100, size=100)\n",
    "\n",
    "## Create a scatter plot using x and y, setting the color of the points to red and the marker style to 'o'\n",
    "\n",
    "fig=plt.figure(figsize=(10,5))\n",
    "print(plt.scatter(x=x, y=y, marker='o', color='r', label='data point'))\n",
    "\n",
    "\n",
    "\n",
    "print(plt.axhline(y=0.5, color='g', linestyle='--', label='y = 0.5'))\n",
    "print(plt.axvline(x=0.5, color='b', linestyle='--', label='x = 0.5'))\n",
    "plt.xlabel('X_label')\n",
    "plt.ylabel('Y_label')\n",
    "plt.title('Advance Scatter Plot with random values.')\n",
    "plt.legend()"
   ]
  },
  {
   "cell_type": "code",
   "execution_count": 36,
   "metadata": {},
   "outputs": [
    {
     "data": {
      "image/png": "[encoded data removed]",
      "text/plain": [
       "<Figure size 640x480 with 2 Axes>"
      ]
     },
     "metadata": {},
     "output_type": "display_data"
    }
   ],
   "source": [
    "\"\"\"Q14. Create a time-series dataset in a Pandas DataFrame with columns: 'Date', 'Temperature', 'Humidity' and perform various task.\"\"\"\n",
    "\n",
    "\n",
    "import pandas as pd\n",
    "import numpy as np\n",
    "import matplotlib.pyplot as plt\n",
    "\n",
    "#Create date range\n",
    "date_range = pd.date_range(start='2023-01-01', periods=30, freq='D')\n",
    "\n",
    "# Generate random temperature and humidity values\n",
    "np.random.seed(0)  \n",
    "temperatures = np.random.uniform(low=-10, high=35, size=30)  \n",
    "humidity = np.random.uniform(low=20, high=100, size=30)     \n",
    "\n",
    "#  Create the DataFrame\n",
    "data = {\n",
    "    'Date': date_range,\n",
    "    'Temperature': temperatures,\n",
    "    'Humidity': humidity\n",
    "}\n",
    "\n",
    "df = pd.DataFrame(data)\n",
    "\n",
    "fig, ax1 = plt.subplots()\n",
    "\n",
    "# Plot Temperature on left y-axis\n",
    "ax1.plot(df['Date'], df['Temperature'], color='blue', marker='o')\n",
    "ax1.set_ylabel('Temperature (°C)', color='blue')\n",
    "\n",
    "# Create a second y-axis sharing the same x-axis\n",
    "ax2 = ax1.twinx()\n",
    "\n",
    "# Plot Humidity on right y-axis\n",
    "ax2.plot(df['Date'], df['Humidity'], color='green', marker='s')\n",
    "ax2.set_ylabel('Humidity (%)', color='green')\n",
    "\n",
    "# Label the x-axis\n",
    "ax1.set_xlabel('Date')\n",
    "\n",
    "# Set title of the plot\n",
    "plt.title('Temperature and Humidity Over Time')\n",
    "\n",
    "# Show the plot\n",
    "plt.show()\n"
   ]
  },
  {
   "cell_type": "code",
   "execution_count": 40,
   "metadata": {},
   "outputs": [
    {
     "name": "stdout",
     "output_type": "stream",
     "text": [
      "(array([  1.,   1.,   1.,   0.,   2.,   4.,  11.,  22.,  33.,  43.,  51.,\n",
      "        77.,  86.,  88., 104.,  98.,  78.,  79.,  65.,  60.,  30.,  27.,\n",
      "        20.,   6.,   3.,   5.,   2.,   0.,   2.,   1.]), array([-3.74010064, -3.48870861, -3.23731658, -2.98592455, -2.73453252,\n",
      "       -2.4831405 , -2.23174847, -1.98035644, -1.72896441, -1.47757238,\n",
      "       -1.22618035, -0.97478833, -0.7233963 , -0.47200427, -0.22061224,\n",
      "        0.03077979,  0.28217182,  0.53356385,  0.78495587,  1.0363479 ,\n",
      "        1.28773993,  1.53913196,  1.79052399,  2.04191602,  2.29330804,\n",
      "        2.54470007,  2.7960921 ,  3.04748413,  3.29887616,  3.55026819,\n",
      "        3.80166021]), <BarContainer object of 30 artists>)\n"
     ]
    },
    {
     "data": {
      "image/png": "[encoded data removed]",
      "text/plain": [
       "<Figure size 640x480 with 1 Axes>"
      ]
     },
     "metadata": {},
     "output_type": "display_data"
    }
   ],
   "source": [
    "\"\"\"Q15. Create a NumPy array data containing 1000 samples from a normal distribution. Perform the following\n",
    "tasks using Matplotlib:\"\"\"\n",
    "\n",
    "import numpy as np\n",
    "import matplotlib.pyplot as plt \n",
    "\n",
    "data = np.random.normal(loc=0, scale=1, size=1000)\n",
    "\n",
    "print(plt.hist(data, bins=30))\n",
    "\n",
    "## \n",
    "x_values = np.linspace(-4, 4, 1000)\n",
    "\n",
    "# Calculate the PDF of the normal distribution for the x_values\n",
    "pdf_values = (1/np.sqrt(2*np.pi)) * np.exp(-0.5*x_values**2)\n",
    "\n",
    "# Plot histogram of the data\n",
    "plt.hist(data, bins=30, density=True, alpha=0.5, color='b', label='Histogram')\n",
    "\n",
    "# Overlay the PDF line plot\n",
    "plt.plot(x_values, pdf_values, color='r', label='PDF')\n",
    "\n",
    "# Add labels and legend\n",
    "plt.xlabel('Value')\n",
    "plt.ylabel('Probability Density')\n",
    "plt.title('Histogram and Probability Density Function (PDF) of Normal Distribution')\n",
    "plt.legend()\n",
    "\n",
    "# Show the plot\n",
    "plt.show()"
   ]
  },
  {
   "cell_type": "code",
   "execution_count": 42,
   "metadata": {},
   "outputs": [
    {
     "data": {
      "image/png": "[encoded data removed]",
      "text/plain": [
       "<Figure size 640x480 with 1 Axes>"
      ]
     },
     "metadata": {},
     "output_type": "display_data"
    }
   ],
   "source": [
    "\"\"\"Q16. Create a Seaborn scatter plot of two random arrays, color points based on their position relative to the\n",
    "origin (quadrants), add a legend, label the axes, and set the title as 'Quadrant-wise Scatter Plot'.\"\"\"\n",
    "\n",
    "import numpy as np\n",
    "import seaborn as sns\n",
    "import matplotlib.pyplot as plt\n",
    "import pandas as pd\n",
    "\n",
    "np.random.seed(0) \n",
    "x = np.random.randn(100)\n",
    "y = np.random.randn(100)\n",
    "\n",
    "quadrant = np.zeros_like(x)\n",
    "quadrant[(x >= 0) & (y >= 0)] = 1  \n",
    "quadrant[(x < 0) & (y >= 0)] = 2   \n",
    "quadrant[(x < 0) & (y < 0)] = 3    \n",
    "quadrant[(x >= 0) & (y < 0)] = 4   \n",
    "\n",
    "# Create a DataFrame for plotting\n",
    "data = pd.DataFrame({'X': x, 'Y': y, 'Quadrant': quadrant})\n",
    "\n",
    "# Create a Seaborn scatter plot with colors based on quadrants\n",
    "sns.scatterplot(data=data, x='X', y='Y', hue='Quadrant', palette='Set1')\n",
    "\n",
    "# Add legend\n",
    "plt.legend(title='Quadrant')\n",
    "\n",
    "# Label axes and set title\n",
    "plt.xlabel('X-axis')\n",
    "plt.ylabel('Y-axis')\n",
    "plt.title('Quadrant-wise Scatter Plot')\n",
    "\n",
    "# Show the plot\n",
    "plt.show()\n"
   ]
  },
  {
   "cell_type": "code",
   "execution_count": 1,
   "metadata": {},
   "outputs": [
    {
     "data": {
      "text/html": [
       "    <style>\n",
       "        .bk-notebook-logo {\n",
       "            display: block;\n",
       "            width: 20px;\n",
       "            height: 20px;\n",
       "            background-image: url(data:image/png;base64,iVBORw0KGgoAAAANSUhEUgAAABQAAAAUCAYAAACNiR0NAAAABHNCSVQICAgIfAhkiAAAAAlwSFlzAAALEgAACxIB0t1+/AAAABx0RVh0U29mdHdhcmUAQWRvYmUgRmlyZXdvcmtzIENTNui8sowAAAOkSURBVDiNjZRtaJVlGMd/1/08zzln5zjP1LWcU9N0NkN8m2CYjpgQYQXqSs0I84OLIC0hkEKoPtiH3gmKoiJDU7QpLgoLjLIQCpEsNJ1vqUOdO7ppbuec5+V+rj4ctwzd8IIbbi6u+8f1539dt3A78eXC7QizUF7gyV1fD1Yqg4JWz84yffhm0qkFqBogB9rM8tZdtwVsPUhWhGcFJngGeWrPzHm5oaMmkfEg1usvLFyc8jLRqDOMru7AyC8saQr7GG7f5fvDeH7Ej8CM66nIF+8yngt6HWaKh7k49Soy9nXurCi1o3qUbS3zWfrYeQDTB/Qj6kX6Ybhw4B+bOYoLKCC9H3Nu/leUTZ1JdRWkkn2ldcCamzrcf47KKXdAJllSlxAOkRgyHsGC/zRday5Qld9DyoM4/q/rUoy/CXh3jzOu3bHUVZeU+DEn8FInkPBFlu3+nW3Nw0mk6vCDiWg8CeJaxEwuHS3+z5RgY+YBR6V1Z1nxSOfoaPa4LASWxxdNp+VWTk7+4vzaou8v8PN+xo+KY2xsw6une2frhw05CTYOmQvsEhjhWjn0bmXPjpE1+kplmmkP3suftwTubK9Vq22qKmrBhpY4jvd5afdRA3wGjFAgcnTK2s4hY0/GPNIb0nErGMCRxWOOX64Z8RAC4oCXdklmEvcL8o0BfkNK4lUg9HTl+oPlQxdNo3Mg4Nv175e/1LDGzZen30MEjRUtmXSfiTVu1kK8W4txyV6BMKlbgk3lMwYCiusNy9fVfvvwMxv8Ynl6vxoByANLTWplvuj/nF9m2+PDtt1eiHPBr1oIfhCChQMBw6Aw0UulqTKZdfVvfG7VcfIqLG9bcldL/+pdWTLxLUy8Qq38heUIjh4XlzZxzQm19lLFlr8vdQ97rjZVOLf8nclzckbcD4wxXMidpX30sFd37Fv/GtwwhzhxGVAprjbg0gCAEeIgwCZyTV2Z1REEW8O4py0wsjeloKoMr6iCY6dP92H6Vw/oTyICIthibxjm/DfN9lVz8IqtqKYLUXfoKVMVQVVJOElGjrnnUt9T9wbgp8AyYKaGlqingHZU/uG2NTZSVqwHQTWkx9hxjkpWDaCg6Ckj5qebgBVbT3V3NNXMSiWSDdGV3hrtzla7J+duwPOToIg42ChPQOQjspnSlp1V+Gjdged7+8UN5CRAV7a5EdFNwCjEaBR27b3W890TE7g24NAP/mMDXRWrGoFPQI9ls/MWO2dWFAar/xcOIImbbpA3zgAAAABJRU5ErkJggg==);\n",
       "        }\n",
       "    </style>\n",
       "    <div>\n",
       "        <a href=\"https://bokeh.org\" target=\"_blank\" class=\"bk-notebook-logo\"></a>\n",
       "        <span id=\"a4749bd9-6e11-4825-8b2b-775db084a67c\">Loading BokehJS ...</span>\n",
       "    </div>\n"
      ]
     },
     "metadata": {},
     "output_type": "display_data"
    },
    {
     "data": {
      "application/javascript": "(function(root) {\n  function now() {\n    return new Date();\n  }\n\n  const force = true;\n\n  if (typeof root._bokeh_onload_callbacks === \"undefined\" || force === true) {\n    root._bokeh_onload_callbacks = [];\n    root._bokeh_is_loading = undefined;\n  }\n\nconst JS_MIME_TYPE = 'application/javascript';\n  const HTML_MIME_TYPE = 'text/html';\n  const EXEC_MIME_TYPE = 'application/vnd.bokehjs_exec.v0+json';\n  const CLASS_NAME = 'output_bokeh rendered_html';\n\n  /**\n   * Render data to the DOM node\n   */\n  function render(props, node) {\n    const script = document.createElement(\"script\");\n    node.appendChild(script);\n  }\n\n  /**\n   * Handle when an output is cleared or removed\n   */\n  function handleClearOutput(event, handle) {\n    function drop(id) {\n      const view = Bokeh.index.get_by_id(id)\n      if (view != null) {\n        view.model.document.clear()\n        Bokeh.index.delete(view)\n      }\n    }\n\n    const cell = handle.cell;\n\n    const id = cell.output_area._bokeh_element_id;\n    const server_id = cell.output_area._bokeh_server_id;\n\n    // Clean up Bokeh references\n    if (id != null) {\n      drop(id)\n    }\n\n    if (server_id !== undefined) {\n      // Clean up Bokeh references\n      const cmd_clean = \"from bokeh.io.state import curstate; print(curstate().uuid_to_server['\" + server_id + \"'].get_sessions()[0].document.roots[0]._id)\";\n      cell.notebook.kernel.execute(cmd_clean, {\n        iopub: {\n          output: function(msg) {\n            const id = msg.content.text.trim()\n            drop(id)\n          }\n        }\n      });\n      // Destroy server and session\n      const cmd_destroy = \"import bokeh.io.notebook as ion; ion.destroy_server('\" + server_id + \"')\";\n      cell.notebook.kernel.execute(cmd_destroy);\n    }\n  }\n\n  /**\n   * Handle when a new output is added\n   */\n  function handleAddOutput(event, handle) {\n    const output_area = handle.output_area;\n    const output = handle.output;\n\n    // limit handleAddOutput to display_data with EXEC_MIME_TYPE content only\n    if ((output.output_type != \"display_data\") || (!Object.prototype.hasOwnProperty.call(output.data, EXEC_MIME_TYPE))) {\n      return\n    }\n\n    const toinsert = output_area.element.find(\".\" + CLASS_NAME.split(' ')[0]);\n\n    if (output.metadata[EXEC_MIME_TYPE][\"id\"] !== undefined) {\n      toinsert[toinsert.length - 1].firstChild.textContent = output.data[JS_MIME_TYPE];\n      // store reference to embed id on output_area\n      output_area._bokeh_element_id = output.metadata[EXEC_MIME_TYPE][\"id\"];\n    }\n    if (output.metadata[EXEC_MIME_TYPE][\"server_id\"] !== undefined) {\n      const bk_div = document.createElement(\"div\");\n      bk_div.innerHTML = output.data[HTML_MIME_TYPE];\n      const script_attrs = bk_div.children[0].attributes;\n      for (let i = 0; i < script_attrs.length; i++) {\n        toinsert[toinsert.length - 1].firstChild.setAttribute(script_attrs[i].name, script_attrs[i].value);\n        toinsert[toinsert.length - 1].firstChild.textContent = bk_div.children[0].textContent\n      }\n      // store reference to server id on output_area\n      output_area._bokeh_server_id = output.metadata[EXEC_MIME_TYPE][\"server_id\"];\n    }\n  }\n\n  function register_renderer(events, OutputArea) {\n\n    function append_mime(data, metadata, element) {\n      // create a DOM node to render to\n      const toinsert = this.create_output_subarea(\n        metadata,\n        CLASS_NAME,\n        EXEC_MIME_TYPE\n      );\n      this.keyboard_manager.register_events(toinsert);\n      // Render to node\n      const props = {data: data, metadata: metadata[EXEC_MIME_TYPE]};\n      render(props, toinsert[toinsert.length - 1]);\n      element.append(toinsert);\n      return toinsert\n    }\n\n    /* Handle when an output is cleared or removed */\n    events.on('clear_output.CodeCell', handleClearOutput);\n    events.on('delete.Cell', handleClearOutput);\n\n    /* Handle when a new output is added */\n    events.on('output_added.OutputArea', handleAddOutput);\n\n    /**\n     * Register the mime type and append_mime function with output_area\n     */\n    OutputArea.prototype.register_mime_type(EXEC_MIME_TYPE, append_mime, {\n      /* Is output safe? */\n      safe: true,\n      /* Index of renderer in `output_area.display_order` */\n      index: 0\n    });\n  }\n\n  // register the mime type if in Jupyter Notebook environment and previously unregistered\n  if (root.Jupyter !== undefined) {\n    const events = require('base/js/events');\n    const OutputArea = require('notebook/js/outputarea').OutputArea;\n\n    if (OutputArea.prototype.mime_types().indexOf(EXEC_MIME_TYPE) == -1) {\n      register_renderer(events, OutputArea);\n    }\n  }\n  if (typeof (root._bokeh_timeout) === \"undefined\" || force === true) {\n    root._bokeh_timeout = Date.now() + 5000;\n    root._bokeh_failed_load = false;\n  }\n\n  const NB_LOAD_WARNING = {'data': {'text/html':\n     \"<div style='background-color: #fdd'>\\n\"+\n     \"<p>\\n\"+\n     \"BokehJS does not appear to have successfully loaded. If loading BokehJS from CDN, this \\n\"+\n     \"may be due to a slow or bad network connection. Possible fixes:\\n\"+\n     \"</p>\\n\"+\n     \"<ul>\\n\"+\n     \"<li>re-rerun `output_notebook()` to attempt to load from CDN again, or</li>\\n\"+\n     \"<li>use INLINE resources instead, as so:</li>\\n\"+\n     \"</ul>\\n\"+\n     \"<code>\\n\"+\n     \"from bokeh.resources import INLINE\\n\"+\n     \"output_notebook(resources=INLINE)\\n\"+\n     \"</code>\\n\"+\n     \"</div>\"}};\n\n  function display_loaded() {\n    const el = document.getElementById(\"a4749bd9-6e11-4825-8b2b-775db084a67c\");\n    if (el != null) {\n      el.textContent = \"BokehJS is loading...\";\n    }\n    if (root.Bokeh !== undefined) {\n      if (el != null) {\n        el.textContent = \"BokehJS \" + root.Bokeh.version + \" successfully loaded.\";\n      }\n    } else if (Date.now() < root._bokeh_timeout) {\n      setTimeout(display_loaded, 100)\n    }\n  }\n\n  function run_callbacks() {\n    try {\n      root._bokeh_onload_callbacks.forEach(function(callback) {\n        if (callback != null)\n          callback();\n      });\n    } finally {\n      delete root._bokeh_onload_callbacks\n    }\n    console.debug(\"Bokeh: all callbacks have finished\");\n  }\n\n  function load_libs(css_urls, js_urls, callback) {\n    if (css_urls == null) css_urls = [];\n    if (js_urls == null) js_urls = [];\n\n    root._bokeh_onload_callbacks.push(callback);\n    if (root._bokeh_is_loading > 0) {\n      console.debug(\"Bokeh: BokehJS is being loaded, scheduling callback at\", now());\n      return null;\n    }\n    if (js_urls == null || js_urls.length === 0) {\n      run_callbacks();\n      return null;\n    }\n    console.debug(\"Bokeh: BokehJS not loaded, scheduling load and callback at\", now());\n    root._bokeh_is_loading = css_urls.length + js_urls.length;\n\n    function on_load() {\n      root._bokeh_is_loading--;\n      if (root._bokeh_is_loading === 0) {\n        console.debug(\"Bokeh: all BokehJS libraries/stylesheets loaded\");\n        run_callbacks()\n      }\n    }\n\n    function on_error(url) {\n      console.error(\"failed to load \" + url);\n    }\n\n    for (let i = 0; i < css_urls.length; i++) {\n      const url = css_urls[i];\n      const element = document.createElement(\"link\");\n      element.onload = on_load;\n      element.onerror = on_error.bind(null, url);\n      element.rel = \"stylesheet\";\n      element.type = \"text/css\";\n      element.href = url;\n      console.debug(\"Bokeh: injecting link tag for BokehJS stylesheet: \", url);\n      document.body.appendChild(element);\n    }\n\n    for (let i = 0; i < js_urls.length; i++) {\n      const url = js_urls[i];\n      const element = document.createElement('script');\n      element.onload = on_load;\n      element.onerror = on_error.bind(null, url);\n      element.async = false;\n      element.src = url;\n      console.debug(\"Bokeh: injecting script tag for BokehJS library: \", url);\n      document.head.appendChild(element);\n    }\n  };\n\n  function inject_raw_css(css) {\n    const element = document.createElement(\"style\");\n    element.appendChild(document.createTextNode(css));\n    document.body.appendChild(element);\n  }\n\n  const js_urls = [\"https://cdn.bokeh.org/bokeh/release/bokeh-3.3.4.min.js\", \"https://cdn.bokeh.org/bokeh/release/bokeh-gl-3.3.4.min.js\", \"https://cdn.bokeh.org/bokeh/release/bokeh-widgets-3.3.4.min.js\", \"https://cdn.bokeh.org/bokeh/release/bokeh-tables-3.3.4.min.js\", \"https://cdn.bokeh.org/bokeh/release/bokeh-mathjax-3.3.4.min.js\"];\n  const css_urls = [];\n\n  const inline_js = [    function(Bokeh) {\n      Bokeh.set_log_level(\"info\");\n    },\nfunction(Bokeh) {\n    }\n  ];\n\n  function run_inline_js() {\n    if (root.Bokeh !== undefined || force === true) {\n          for (let i = 0; i < inline_js.length; i++) {\n      inline_js[i].call(root, root.Bokeh);\n    }\nif (force === true) {\n        display_loaded();\n      }} else if (Date.now() < root._bokeh_timeout) {\n      setTimeout(run_inline_js, 100);\n    } else if (!root._bokeh_failed_load) {\n      console.log(\"Bokeh: BokehJS failed to load within specified timeout.\");\n      root._bokeh_failed_load = true;\n    } else if (force !== true) {\n      const cell = $(document.getElementById(\"a4749bd9-6e11-4825-8b2b-775db084a67c\")).parents('.cell').data().cell;\n      cell.output_area.append_execute_result(NB_LOAD_WARNING)\n    }\n  }\n\n  if (root._bokeh_is_loading === 0) {\n    console.debug(\"Bokeh: BokehJS loaded, going straight to plotting\");\n    run_inline_js();\n  } else {\n    load_libs(css_urls, js_urls, function() {\n      console.debug(\"Bokeh: BokehJS plotting callback run at\", now());\n      run_inline_js();\n    });\n  }\n}(window));",
      "application/vnd.bokehjs_load.v0+json": ""
     },
     "metadata": {},
     "output_type": "display_data"
    },
    {
     "data": {
      "text/html": [
       "\n",
       "  <div id=\"c98476c4-c2f8-4258-acff-491670252d89\" data-root-id=\"p1001\" style=\"display: contents;\"></div>\n"
      ]
     },
     "metadata": {},
     "output_type": "display_data"
    },
    {
     "data": {
      "application/javascript": "(function(root) {\n  function embed_document(root) {\n  const docs_json = {\"30c2ed6f-8d5e-4734-8828-681ee99bf4fa\":{\"version\":\"3.3.4\",\"title\":\"Bokeh Application\",\"roots\":[{\"type\":\"object\",\"name\":\"Figure\",\"id\":\"p1001\",\"attributes\":{\"width\":800,\"height\":400,\"x_range\":{\"type\":\"object\",\"name\":\"DataRange1d\",\"id\":\"p1002\"},\"y_range\":{\"type\":\"object\",\"name\":\"DataRange1d\",\"id\":\"p1003\"},\"x_scale\":{\"type\":\"object\",\"name\":\"LinearScale\",\"id\":\"p1011\"},\"y_scale\":{\"type\":\"object\",\"name\":\"LinearScale\",\"id\":\"p1012\"},\"title\":{\"type\":\"object\",\"name\":\"Title\",\"id\":\"p1004\",\"attributes\":{\"text\":\"Sine Wave Function\"}},\"renderers\":[{\"type\":\"object\",\"name\":\"GlyphRenderer\",\"id\":\"p1040\",\"attributes\":{\"data_source\":{\"type\":\"object\",\"name\":\"ColumnDataSource\",\"id\":\"p1034\",\"attributes\":{\"selected\":{\"type\":\"object\",\"name\":\"Selection\",\"id\":\"p1035\",\"attributes\":{\"indices\":[],\"line_indices\":[]}},\"selection_policy\":{\"type\":\"object\",\"name\":\"UnionRenderers\",\"id\":\"p1036\"},\"data\":{\"type\":\"map\",\"entries\":[[\"x\",{\"type\":\"ndarray\",\"array\":{\"type\":\"bytes\",\"data\":\"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\"},\"shape\":[1000],\"dtype\":\"float64\",\"order\":\"little\"}],[\"y\",{\"type\":\"ndarray\",\"array\":{\"type\":\"bytes\",\"data\":\"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\"},\"shape\":[1000],\"dtype\":\"float64\",\"order\":\"little\"}]]}}},\"view\":{\"type\":\"object\",\"name\":\"CDSView\",\"id\":\"p1041\",\"attributes\":{\"filter\":{\"type\":\"object\",\"name\":\"AllIndices\",\"id\":\"p1042\"}}},\"glyph\":{\"type\":\"object\",\"name\":\"Line\",\"id\":\"p1037\",\"attributes\":{\"x\":{\"type\":\"field\",\"field\":\"x\"},\"y\":{\"type\":\"field\",\"field\":\"y\"},\"line_color\":\"#1f77b4\",\"line_width\":2}},\"nonselection_glyph\":{\"type\":\"object\",\"name\":\"Line\",\"id\":\"p1038\",\"attributes\":{\"x\":{\"type\":\"field\",\"field\":\"x\"},\"y\":{\"type\":\"field\",\"field\":\"y\"},\"line_color\":\"#1f77b4\",\"line_alpha\":0.1,\"line_width\":2}},\"muted_glyph\":{\"type\":\"object\",\"name\":\"Line\",\"id\":\"p1039\",\"attributes\":{\"x\":{\"type\":\"field\",\"field\":\"x\"},\"y\":{\"type\":\"field\",\"field\":\"y\"},\"line_color\":\"#1f77b4\",\"line_alpha\":0.2,\"line_width\":2}}}}],\"toolbar\":{\"type\":\"object\",\"name\":\"Toolbar\",\"id\":\"p1010\",\"attributes\":{\"tools\":[{\"type\":\"object\",\"name\":\"PanTool\",\"id\":\"p1023\"},{\"type\":\"object\",\"name\":\"WheelZoomTool\",\"id\":\"p1024\",\"attributes\":{\"renderers\":\"auto\"}},{\"type\":\"object\",\"name\":\"BoxZoomTool\",\"id\":\"p1025\",\"attributes\":{\"overlay\":{\"type\":\"object\",\"name\":\"BoxAnnotation\",\"id\":\"p1026\",\"attributes\":{\"syncable\":false,\"level\":\"overlay\",\"visible\":false,\"left\":{\"type\":\"number\",\"value\":\"nan\"},\"right\":{\"type\":\"number\",\"value\":\"nan\"},\"top\":{\"type\":\"number\",\"value\":\"nan\"},\"bottom\":{\"type\":\"number\",\"value\":\"nan\"},\"left_units\":\"canvas\",\"right_units\":\"canvas\",\"top_units\":\"canvas\",\"bottom_units\":\"canvas\",\"line_color\":\"black\",\"line_alpha\":1.0,\"line_width\":2,\"line_dash\":[4,4],\"fill_color\":\"lightgrey\",\"fill_alpha\":0.5}}}},{\"type\":\"object\",\"name\":\"SaveTool\",\"id\":\"p1031\"},{\"type\":\"object\",\"name\":\"ResetTool\",\"id\":\"p1032\"},{\"type\":\"object\",\"name\":\"HelpTool\",\"id\":\"p1033\"}]}},\"left\":[{\"type\":\"object\",\"name\":\"LinearAxis\",\"id\":\"p1018\",\"attributes\":{\"ticker\":{\"type\":\"object\",\"name\":\"BasicTicker\",\"id\":\"p1019\",\"attributes\":{\"mantissas\":[1,2,5]}},\"formatter\":{\"type\":\"object\",\"name\":\"BasicTickFormatter\",\"id\":\"p1020\"},\"axis_label\":\"sin(x)\",\"major_label_policy\":{\"type\":\"object\",\"name\":\"AllLabels\",\"id\":\"p1021\"}}}],\"below\":[{\"type\":\"object\",\"name\":\"LinearAxis\",\"id\":\"p1013\",\"attributes\":{\"ticker\":{\"type\":\"object\",\"name\":\"BasicTicker\",\"id\":\"p1014\",\"attributes\":{\"mantissas\":[1,2,5]}},\"formatter\":{\"type\":\"object\",\"name\":\"BasicTickFormatter\",\"id\":\"p1015\"},\"axis_label\":\"x values\",\"major_label_policy\":{\"type\":\"object\",\"name\":\"AllLabels\",\"id\":\"p1016\"}}}],\"center\":[{\"type\":\"object\",\"name\":\"Grid\",\"id\":\"p1017\",\"attributes\":{\"axis\":{\"id\":\"p1013\"}}},{\"type\":\"object\",\"name\":\"Grid\",\"id\":\"p1022\",\"attributes\":{\"dimension\":1,\"axis\":{\"id\":\"p1018\"}}},{\"type\":\"object\",\"name\":\"Legend\",\"id\":\"p1043\",\"attributes\":{\"items\":[{\"type\":\"object\",\"name\":\"LegendItem\",\"id\":\"p1044\",\"attributes\":{\"label\":{\"type\":\"value\",\"value\":\"Sine Wave\"},\"renderers\":[{\"id\":\"p1040\"}]}}]}}]}}]}};\n  const render_items = [{\"docid\":\"30c2ed6f-8d5e-4734-8828-681ee99bf4fa\",\"roots\":{\"p1001\":\"c98476c4-c2f8-4258-acff-491670252d89\"},\"root_ids\":[\"p1001\"]}];\n  root.Bokeh.embed.embed_items_notebook(docs_json, render_items);\n  }\n  if (root.Bokeh !== undefined) {\n    embed_document(root);\n  } else {\n    let attempts = 0;\n    const timer = setInterval(function(root) {\n      if (root.Bokeh !== undefined) {\n        clearInterval(timer);\n        embed_document(root);\n      } else {\n        attempts++;\n        if (attempts > 100) {\n          clearInterval(timer);\n          console.log(\"Bokeh: ERROR: Unable to run BokehJS code because BokehJS library is missing\");\n        }\n      }\n    }, 10, root)\n  }\n})(window);",
      "application/vnd.bokehjs_exec.v0+json": ""
     },
     "metadata": {
      "application/vnd.bokehjs_exec.v0+json": {
       "id": "p1001"
      }
     },
     "output_type": "display_data"
    }
   ],
   "source": [
    "\"\"\"18. With Bokeh, plot a line chart of a sine wave function, add grid lines, label the axes, and set the title as 'Sine\n",
    "Wave Function?\"\"\"\n",
    "\n",
    "import numpy as np\n",
    "from bokeh.plotting import figure, show\n",
    "from bokeh.io import output_notebook\n",
    "\n",
    "# Generate x values\n",
    "x = np.linspace(0, 2 * np.pi, 1000)  \n",
    "\n",
    "y = np.sin(x)\n",
    "\n",
    "output_notebook()\n",
    "\n",
    "p = figure(title=\"Sine Wave Function\", x_axis_label='x values', y_axis_label='sin(x)', width=800, height=400)\n",
    "\n",
    "# Add a line renderer with legend and line thickness\n",
    "p.line(x, y, legend_label=\"Sine Wave\", line_width=2)\n",
    "\n",
    "# Show the results\n",
    "show(p)\n"
   ]
  },
  {
   "cell_type": "code",
   "execution_count": 3,
   "metadata": {},
   "outputs": [
    {
     "data": {
      "text/html": [
       "    <style>\n",
       "        .bk-notebook-logo {\n",
       "            display: block;\n",
       "            width: 20px;\n",
       "            height: 20px;\n",
       "            background-image: url(data:image/png;base64,iVBORw0KGgoAAAANSUhEUgAAABQAAAAUCAYAAACNiR0NAAAABHNCSVQICAgIfAhkiAAAAAlwSFlzAAALEgAACxIB0t1+/AAAABx0RVh0U29mdHdhcmUAQWRvYmUgRmlyZXdvcmtzIENTNui8sowAAAOkSURBVDiNjZRtaJVlGMd/1/08zzln5zjP1LWcU9N0NkN8m2CYjpgQYQXqSs0I84OLIC0hkEKoPtiH3gmKoiJDU7QpLgoLjLIQCpEsNJ1vqUOdO7ppbuec5+V+rj4ctwzd8IIbbi6u+8f1539dt3A78eXC7QizUF7gyV1fD1Yqg4JWz84yffhm0qkFqBogB9rM8tZdtwVsPUhWhGcFJngGeWrPzHm5oaMmkfEg1usvLFyc8jLRqDOMru7AyC8saQr7GG7f5fvDeH7Ej8CM66nIF+8yngt6HWaKh7k49Soy9nXurCi1o3qUbS3zWfrYeQDTB/Qj6kX6Ybhw4B+bOYoLKCC9H3Nu/leUTZ1JdRWkkn2ldcCamzrcf47KKXdAJllSlxAOkRgyHsGC/zRday5Qld9DyoM4/q/rUoy/CXh3jzOu3bHUVZeU+DEn8FInkPBFlu3+nW3Nw0mk6vCDiWg8CeJaxEwuHS3+z5RgY+YBR6V1Z1nxSOfoaPa4LASWxxdNp+VWTk7+4vzaou8v8PN+xo+KY2xsw6une2frhw05CTYOmQvsEhjhWjn0bmXPjpE1+kplmmkP3suftwTubK9Vq22qKmrBhpY4jvd5afdRA3wGjFAgcnTK2s4hY0/GPNIb0nErGMCRxWOOX64Z8RAC4oCXdklmEvcL8o0BfkNK4lUg9HTl+oPlQxdNo3Mg4Nv175e/1LDGzZen30MEjRUtmXSfiTVu1kK8W4txyV6BMKlbgk3lMwYCiusNy9fVfvvwMxv8Ynl6vxoByANLTWplvuj/nF9m2+PDtt1eiHPBr1oIfhCChQMBw6Aw0UulqTKZdfVvfG7VcfIqLG9bcldL/+pdWTLxLUy8Qq38heUIjh4XlzZxzQm19lLFlr8vdQ97rjZVOLf8nclzckbcD4wxXMidpX30sFd37Fv/GtwwhzhxGVAprjbg0gCAEeIgwCZyTV2Z1REEW8O4py0wsjeloKoMr6iCY6dP92H6Vw/oTyICIthibxjm/DfN9lVz8IqtqKYLUXfoKVMVQVVJOElGjrnnUt9T9wbgp8AyYKaGlqingHZU/uG2NTZSVqwHQTWkx9hxjkpWDaCg6Ckj5qebgBVbT3V3NNXMSiWSDdGV3hrtzla7J+duwPOToIg42ChPQOQjspnSlp1V+Gjdged7+8UN5CRAV7a5EdFNwCjEaBR27b3W890TE7g24NAP/mMDXRWrGoFPQI9ls/MWO2dWFAar/xcOIImbbpA3zgAAAABJRU5ErkJggg==);\n",
       "        }\n",
       "    </style>\n",
       "    <div>\n",
       "        <a href=\"https://bokeh.org\" target=\"_blank\" class=\"bk-notebook-logo\"></a>\n",
       "        <span id=\"ebbdce81-281e-4632-8e81-46306f84bcc4\">Loading BokehJS ...</span>\n",
       "    </div>\n"
      ]
     },
     "metadata": {},
     "output_type": "display_data"
    },
    {
     "data": {
      "application/javascript": "(function(root) {\n  function now() {\n    return new Date();\n  }\n\n  const force = true;\n\n  if (typeof root._bokeh_onload_callbacks === \"undefined\" || force === true) {\n    root._bokeh_onload_callbacks = [];\n    root._bokeh_is_loading = undefined;\n  }\n\nconst JS_MIME_TYPE = 'application/javascript';\n  const HTML_MIME_TYPE = 'text/html';\n  const EXEC_MIME_TYPE = 'application/vnd.bokehjs_exec.v0+json';\n  const CLASS_NAME = 'output_bokeh rendered_html';\n\n  /**\n   * Render data to the DOM node\n   */\n  function render(props, node) {\n    const script = document.createElement(\"script\");\n    node.appendChild(script);\n  }\n\n  /**\n   * Handle when an output is cleared or removed\n   */\n  function handleClearOutput(event, handle) {\n    function drop(id) {\n      const view = Bokeh.index.get_by_id(id)\n      if (view != null) {\n        view.model.document.clear()\n        Bokeh.index.delete(view)\n      }\n    }\n\n    const cell = handle.cell;\n\n    const id = cell.output_area._bokeh_element_id;\n    const server_id = cell.output_area._bokeh_server_id;\n\n    // Clean up Bokeh references\n    if (id != null) {\n      drop(id)\n    }\n\n    if (server_id !== undefined) {\n      // Clean up Bokeh references\n      const cmd_clean = \"from bokeh.io.state import curstate; print(curstate().uuid_to_server['\" + server_id + \"'].get_sessions()[0].document.roots[0]._id)\";\n      cell.notebook.kernel.execute(cmd_clean, {\n        iopub: {\n          output: function(msg) {\n            const id = msg.content.text.trim()\n            drop(id)\n          }\n        }\n      });\n      // Destroy server and session\n      const cmd_destroy = \"import bokeh.io.notebook as ion; ion.destroy_server('\" + server_id + \"')\";\n      cell.notebook.kernel.execute(cmd_destroy);\n    }\n  }\n\n  /**\n   * Handle when a new output is added\n   */\n  function handleAddOutput(event, handle) {\n    const output_area = handle.output_area;\n    const output = handle.output;\n\n    // limit handleAddOutput to display_data with EXEC_MIME_TYPE content only\n    if ((output.output_type != \"display_data\") || (!Object.prototype.hasOwnProperty.call(output.data, EXEC_MIME_TYPE))) {\n      return\n    }\n\n    const toinsert = output_area.element.find(\".\" + CLASS_NAME.split(' ')[0]);\n\n    if (output.metadata[EXEC_MIME_TYPE][\"id\"] !== undefined) {\n      toinsert[toinsert.length - 1].firstChild.textContent = output.data[JS_MIME_TYPE];\n      // store reference to embed id on output_area\n      output_area._bokeh_element_id = output.metadata[EXEC_MIME_TYPE][\"id\"];\n    }\n    if (output.metadata[EXEC_MIME_TYPE][\"server_id\"] !== undefined) {\n      const bk_div = document.createElement(\"div\");\n      bk_div.innerHTML = output.data[HTML_MIME_TYPE];\n      const script_attrs = bk_div.children[0].attributes;\n      for (let i = 0; i < script_attrs.length; i++) {\n        toinsert[toinsert.length - 1].firstChild.setAttribute(script_attrs[i].name, script_attrs[i].value);\n        toinsert[toinsert.length - 1].firstChild.textContent = bk_div.children[0].textContent\n      }\n      // store reference to server id on output_area\n      output_area._bokeh_server_id = output.metadata[EXEC_MIME_TYPE][\"server_id\"];\n    }\n  }\n\n  function register_renderer(events, OutputArea) {\n\n    function append_mime(data, metadata, element) {\n      // create a DOM node to render to\n      const toinsert = this.create_output_subarea(\n        metadata,\n        CLASS_NAME,\n        EXEC_MIME_TYPE\n      );\n      this.keyboard_manager.register_events(toinsert);\n      // Render to node\n      const props = {data: data, metadata: metadata[EXEC_MIME_TYPE]};\n      render(props, toinsert[toinsert.length - 1]);\n      element.append(toinsert);\n      return toinsert\n    }\n\n    /* Handle when an output is cleared or removed */\n    events.on('clear_output.CodeCell', handleClearOutput);\n    events.on('delete.Cell', handleClearOutput);\n\n    /* Handle when a new output is added */\n    events.on('output_added.OutputArea', handleAddOutput);\n\n    /**\n     * Register the mime type and append_mime function with output_area\n     */\n    OutputArea.prototype.register_mime_type(EXEC_MIME_TYPE, append_mime, {\n      /* Is output safe? */\n      safe: true,\n      /* Index of renderer in `output_area.display_order` */\n      index: 0\n    });\n  }\n\n  // register the mime type if in Jupyter Notebook environment and previously unregistered\n  if (root.Jupyter !== undefined) {\n    const events = require('base/js/events');\n    const OutputArea = require('notebook/js/outputarea').OutputArea;\n\n    if (OutputArea.prototype.mime_types().indexOf(EXEC_MIME_TYPE) == -1) {\n      register_renderer(events, OutputArea);\n    }\n  }\n  if (typeof (root._bokeh_timeout) === \"undefined\" || force === true) {\n    root._bokeh_timeout = Date.now() + 5000;\n    root._bokeh_failed_load = false;\n  }\n\n  const NB_LOAD_WARNING = {'data': {'text/html':\n     \"<div style='background-color: #fdd'>\\n\"+\n     \"<p>\\n\"+\n     \"BokehJS does not appear to have successfully loaded. If loading BokehJS from CDN, this \\n\"+\n     \"may be due to a slow or bad network connection. Possible fixes:\\n\"+\n     \"</p>\\n\"+\n     \"<ul>\\n\"+\n     \"<li>re-rerun `output_notebook()` to attempt to load from CDN again, or</li>\\n\"+\n     \"<li>use INLINE resources instead, as so:</li>\\n\"+\n     \"</ul>\\n\"+\n     \"<code>\\n\"+\n     \"from bokeh.resources import INLINE\\n\"+\n     \"output_notebook(resources=INLINE)\\n\"+\n     \"</code>\\n\"+\n     \"</div>\"}};\n\n  function display_loaded() {\n    const el = document.getElementById(\"ebbdce81-281e-4632-8e81-46306f84bcc4\");\n    if (el != null) {\n      el.textContent = \"BokehJS is loading...\";\n    }\n    if (root.Bokeh !== undefined) {\n      if (el != null) {\n        el.textContent = \"BokehJS \" + root.Bokeh.version + \" successfully loaded.\";\n      }\n    } else if (Date.now() < root._bokeh_timeout) {\n      setTimeout(display_loaded, 100)\n    }\n  }\n\n  function run_callbacks() {\n    try {\n      root._bokeh_onload_callbacks.forEach(function(callback) {\n        if (callback != null)\n          callback();\n      });\n    } finally {\n      delete root._bokeh_onload_callbacks\n    }\n    console.debug(\"Bokeh: all callbacks have finished\");\n  }\n\n  function load_libs(css_urls, js_urls, callback) {\n    if (css_urls == null) css_urls = [];\n    if (js_urls == null) js_urls = [];\n\n    root._bokeh_onload_callbacks.push(callback);\n    if (root._bokeh_is_loading > 0) {\n      console.debug(\"Bokeh: BokehJS is being loaded, scheduling callback at\", now());\n      return null;\n    }\n    if (js_urls == null || js_urls.length === 0) {\n      run_callbacks();\n      return null;\n    }\n    console.debug(\"Bokeh: BokehJS not loaded, scheduling load and callback at\", now());\n    root._bokeh_is_loading = css_urls.length + js_urls.length;\n\n    function on_load() {\n      root._bokeh_is_loading--;\n      if (root._bokeh_is_loading === 0) {\n        console.debug(\"Bokeh: all BokehJS libraries/stylesheets loaded\");\n        run_callbacks()\n      }\n    }\n\n    function on_error(url) {\n      console.error(\"failed to load \" + url);\n    }\n\n    for (let i = 0; i < css_urls.length; i++) {\n      const url = css_urls[i];\n      const element = document.createElement(\"link\");\n      element.onload = on_load;\n      element.onerror = on_error.bind(null, url);\n      element.rel = \"stylesheet\";\n      element.type = \"text/css\";\n      element.href = url;\n      console.debug(\"Bokeh: injecting link tag for BokehJS stylesheet: \", url);\n      document.body.appendChild(element);\n    }\n\n    for (let i = 0; i < js_urls.length; i++) {\n      const url = js_urls[i];\n      const element = document.createElement('script');\n      element.onload = on_load;\n      element.onerror = on_error.bind(null, url);\n      element.async = false;\n      element.src = url;\n      console.debug(\"Bokeh: injecting script tag for BokehJS library: \", url);\n      document.head.appendChild(element);\n    }\n  };\n\n  function inject_raw_css(css) {\n    const element = document.createElement(\"style\");\n    element.appendChild(document.createTextNode(css));\n    document.body.appendChild(element);\n  }\n\n  const js_urls = [\"https://cdn.bokeh.org/bokeh/release/bokeh-3.3.4.min.js\", \"https://cdn.bokeh.org/bokeh/release/bokeh-gl-3.3.4.min.js\", \"https://cdn.bokeh.org/bokeh/release/bokeh-widgets-3.3.4.min.js\", \"https://cdn.bokeh.org/bokeh/release/bokeh-tables-3.3.4.min.js\", \"https://cdn.bokeh.org/bokeh/release/bokeh-mathjax-3.3.4.min.js\"];\n  const css_urls = [];\n\n  const inline_js = [    function(Bokeh) {\n      Bokeh.set_log_level(\"info\");\n    },\nfunction(Bokeh) {\n    }\n  ];\n\n  function run_inline_js() {\n    if (root.Bokeh !== undefined || force === true) {\n          for (let i = 0; i < inline_js.length; i++) {\n      inline_js[i].call(root, root.Bokeh);\n    }\nif (force === true) {\n        display_loaded();\n      }} else if (Date.now() < root._bokeh_timeout) {\n      setTimeout(run_inline_js, 100);\n    } else if (!root._bokeh_failed_load) {\n      console.log(\"Bokeh: BokehJS failed to load within specified timeout.\");\n      root._bokeh_failed_load = true;\n    } else if (force !== true) {\n      const cell = $(document.getElementById(\"ebbdce81-281e-4632-8e81-46306f84bcc4\")).parents('.cell').data().cell;\n      cell.output_area.append_execute_result(NB_LOAD_WARNING)\n    }\n  }\n\n  if (root._bokeh_is_loading === 0) {\n    console.debug(\"Bokeh: BokehJS loaded, going straight to plotting\");\n    run_inline_js();\n  } else {\n    load_libs(css_urls, js_urls, function() {\n      console.debug(\"Bokeh: BokehJS plotting callback run at\", now());\n      run_inline_js();\n    });\n  }\n}(window));",
      "application/vnd.bokehjs_load.v0+json": ""
     },
     "metadata": {},
     "output_type": "display_data"
    },
    {
     "data": {
      "text/html": [
       "\n",
       "  <div id=\"bf1cab35-aab4-4c4e-a1ed-1b78bfd5fbdd\" data-root-id=\"p1056\" style=\"display: contents;\"></div>\n"
      ]
     },
     "metadata": {},
     "output_type": "display_data"
    },
    {
     "data": {
      "application/javascript": "(function(root) {\n  function embed_document(root) {\n  const docs_json = {\"6bd133c3-8901-40a9-8e07-9ebd1ed51e43\":{\"version\":\"3.3.4\",\"title\":\"Bokeh Application\",\"roots\":[{\"type\":\"object\",\"name\":\"Figure\",\"id\":\"p1056\",\"attributes\":{\"x_range\":{\"type\":\"object\",\"name\":\"FactorRange\",\"id\":\"p1066\",\"attributes\":{\"factors\":[\"Category A\",\"Category B\",\"Category C\",\"Category D\",\"Category E\"]}},\"y_range\":{\"type\":\"object\",\"name\":\"DataRange1d\",\"id\":\"p1058\",\"attributes\":{\"start\":0}},\"x_scale\":{\"type\":\"object\",\"name\":\"CategoricalScale\",\"id\":\"p1067\"},\"y_scale\":{\"type\":\"object\",\"name\":\"LinearScale\",\"id\":\"p1068\"},\"title\":{\"type\":\"object\",\"name\":\"Title\",\"id\":\"p1059\",\"attributes\":{\"text\":\"Random Categorical Bar Chart\"}},\"renderers\":[{\"type\":\"object\",\"name\":\"GlyphRenderer\",\"id\":\"p1097\",\"attributes\":{\"data_source\":{\"type\":\"object\",\"name\":\"ColumnDataSource\",\"id\":\"p1053\",\"attributes\":{\"selected\":{\"type\":\"object\",\"name\":\"Selection\",\"id\":\"p1054\",\"attributes\":{\"indices\":[],\"line_indices\":[]}},\"selection_policy\":{\"type\":\"object\",\"name\":\"UnionRenderers\",\"id\":\"p1055\"},\"data\":{\"type\":\"map\",\"entries\":[[\"index\",{\"type\":\"ndarray\",\"array\":{\"type\":\"bytes\",\"data\":\"AAAAAAEAAAACAAAAAwAAAAQAAAA=\"},\"shape\":[5],\"dtype\":\"int32\",\"order\":\"little\"}],[\"categories\",{\"type\":\"ndarray\",\"array\":[\"Category A\",\"Category B\",\"Category C\",\"Category D\",\"Category E\"],\"shape\":[5],\"dtype\":\"object\",\"order\":\"little\"}],[\"values\",{\"type\":\"ndarray\",\"array\":{\"type\":\"bytes\",\"data\":\"JQAAAFsAAABSAAAAFgAAAC8AAAA=\"},\"shape\":[5],\"dtype\":\"int32\",\"order\":\"little\"}]]}}},\"view\":{\"type\":\"object\",\"name\":\"CDSView\",\"id\":\"p1098\",\"attributes\":{\"filter\":{\"type\":\"object\",\"name\":\"AllIndices\",\"id\":\"p1099\"}}},\"glyph\":{\"type\":\"object\",\"name\":\"VBar\",\"id\":\"p1094\",\"attributes\":{\"x\":{\"type\":\"field\",\"field\":\"categories\"},\"width\":{\"type\":\"value\",\"value\":0.9},\"top\":{\"type\":\"field\",\"field\":\"values\"},\"line_color\":{\"type\":\"value\",\"value\":\"white\"},\"fill_color\":{\"type\":\"field\",\"field\":\"categories\",\"transform\":{\"type\":\"object\",\"name\":\"CategoricalColorMapper\",\"id\":\"p1090\",\"attributes\":{\"palette\":[\"#440154\",\"#440255\",\"#440357\",\"#450558\",\"#45065A\"],\"factors\":[\"Category A\",\"Category B\",\"Category C\",\"Category D\",\"Category E\"]}}}}},\"nonselection_glyph\":{\"type\":\"object\",\"name\":\"VBar\",\"id\":\"p1095\",\"attributes\":{\"x\":{\"type\":\"field\",\"field\":\"categories\"},\"width\":{\"type\":\"value\",\"value\":0.9},\"top\":{\"type\":\"field\",\"field\":\"values\"},\"line_color\":{\"type\":\"value\",\"value\":\"white\"},\"line_alpha\":{\"type\":\"value\",\"value\":0.1},\"fill_color\":{\"type\":\"field\",\"field\":\"categories\",\"transform\":{\"id\":\"p1090\"}},\"fill_alpha\":{\"type\":\"value\",\"value\":0.1},\"hatch_alpha\":{\"type\":\"value\",\"value\":0.1}}},\"muted_glyph\":{\"type\":\"object\",\"name\":\"VBar\",\"id\":\"p1096\",\"attributes\":{\"x\":{\"type\":\"field\",\"field\":\"categories\"},\"width\":{\"type\":\"value\",\"value\":0.9},\"top\":{\"type\":\"field\",\"field\":\"values\"},\"line_color\":{\"type\":\"value\",\"value\":\"white\"},\"line_alpha\":{\"type\":\"value\",\"value\":0.2},\"fill_color\":{\"type\":\"field\",\"field\":\"categories\",\"transform\":{\"id\":\"p1090\"}},\"fill_alpha\":{\"type\":\"value\",\"value\":0.2},\"hatch_alpha\":{\"type\":\"value\",\"value\":0.2}}}}}],\"toolbar\":{\"type\":\"object\",\"name\":\"Toolbar\",\"id\":\"p1065\",\"attributes\":{\"tools\":[{\"type\":\"object\",\"name\":\"PanTool\",\"id\":\"p1079\"},{\"type\":\"object\",\"name\":\"WheelZoomTool\",\"id\":\"p1080\",\"attributes\":{\"renderers\":\"auto\"}},{\"type\":\"object\",\"name\":\"BoxZoomTool\",\"id\":\"p1081\",\"attributes\":{\"overlay\":{\"type\":\"object\",\"name\":\"BoxAnnotation\",\"id\":\"p1082\",\"attributes\":{\"syncable\":false,\"level\":\"overlay\",\"visible\":false,\"left\":{\"type\":\"number\",\"value\":\"nan\"},\"right\":{\"type\":\"number\",\"value\":\"nan\"},\"top\":{\"type\":\"number\",\"value\":\"nan\"},\"bottom\":{\"type\":\"number\",\"value\":\"nan\"},\"left_units\":\"canvas\",\"right_units\":\"canvas\",\"top_units\":\"canvas\",\"bottom_units\":\"canvas\",\"line_color\":\"black\",\"line_alpha\":1.0,\"line_width\":2,\"line_dash\":[4,4],\"fill_color\":\"lightgrey\",\"fill_alpha\":0.5}}}},{\"type\":\"object\",\"name\":\"SaveTool\",\"id\":\"p1087\"},{\"type\":\"object\",\"name\":\"ResetTool\",\"id\":\"p1088\"},{\"type\":\"object\",\"name\":\"HelpTool\",\"id\":\"p1089\"},{\"type\":\"object\",\"name\":\"HoverTool\",\"id\":\"p1102\",\"attributes\":{\"renderers\":\"auto\",\"tooltips\":[[\"Category\",\"@categories\"],[\"Value\",\"@values\"]]}}]}},\"left\":[{\"type\":\"object\",\"name\":\"LinearAxis\",\"id\":\"p1074\",\"attributes\":{\"ticker\":{\"type\":\"object\",\"name\":\"BasicTicker\",\"id\":\"p1075\",\"attributes\":{\"mantissas\":[1,2,5]}},\"formatter\":{\"type\":\"object\",\"name\":\"BasicTickFormatter\",\"id\":\"p1076\"},\"axis_label\":\"Values\",\"major_label_policy\":{\"type\":\"object\",\"name\":\"AllLabels\",\"id\":\"p1077\"}}}],\"below\":[{\"type\":\"object\",\"name\":\"CategoricalAxis\",\"id\":\"p1069\",\"attributes\":{\"ticker\":{\"type\":\"object\",\"name\":\"CategoricalTicker\",\"id\":\"p1070\"},\"formatter\":{\"type\":\"object\",\"name\":\"CategoricalTickFormatter\",\"id\":\"p1071\"},\"axis_label\":\"Categories\",\"major_label_policy\":{\"type\":\"object\",\"name\":\"AllLabels\",\"id\":\"p1072\"}}}],\"center\":[{\"type\":\"object\",\"name\":\"Grid\",\"id\":\"p1073\",\"attributes\":{\"axis\":{\"id\":\"p1069\"},\"grid_line_color\":null}},{\"type\":\"object\",\"name\":\"Grid\",\"id\":\"p1078\",\"attributes\":{\"dimension\":1,\"axis\":{\"id\":\"p1074\"}}},{\"type\":\"object\",\"name\":\"Legend\",\"id\":\"p1100\",\"attributes\":{\"location\":\"top_center\",\"orientation\":\"horizontal\",\"items\":[{\"type\":\"object\",\"name\":\"LegendItem\",\"id\":\"p1101\",\"attributes\":{\"label\":{\"type\":\"field\",\"field\":\"categories\"},\"renderers\":[{\"id\":\"p1097\"}]}}]}}]}}]}};\n  const render_items = [{\"docid\":\"6bd133c3-8901-40a9-8e07-9ebd1ed51e43\",\"roots\":{\"p1056\":\"bf1cab35-aab4-4c4e-a1ed-1b78bfd5fbdd\"},\"root_ids\":[\"p1056\"]}];\n  root.Bokeh.embed.embed_items_notebook(docs_json, render_items);\n  }\n  if (root.Bokeh !== undefined) {\n    embed_document(root);\n  } else {\n    let attempts = 0;\n    const timer = setInterval(function(root) {\n      if (root.Bokeh !== undefined) {\n        clearInterval(timer);\n        embed_document(root);\n      } else {\n        attempts++;\n        if (attempts > 100) {\n          clearInterval(timer);\n          console.log(\"Bokeh: ERROR: Unable to run BokehJS code because BokehJS library is missing\");\n        }\n      }\n    }, 10, root)\n  }\n})(window);",
      "application/vnd.bokehjs_exec.v0+json": ""
     },
     "metadata": {
      "application/vnd.bokehjs_exec.v0+json": {
       "id": "p1056"
      }
     },
     "output_type": "display_data"
    }
   ],
   "source": [
    "\"\"\"Q19. Using Bokeh, generate a bar chart of randomly generated categorical data, color bars based on their\n",
    "values, add hover tooltips to display exact values, label the axes, and set the title as 'Random Categorical\n",
    "Bar Chart'8\"\"\"\n",
    "\n",
    "import numpy as np\n",
    "import pandas as pd\n",
    "from bokeh.plotting import figure, show\n",
    "from bokeh.io import output_notebook\n",
    "from bokeh.transform import factor_cmap\n",
    "from bokeh.models import ColumnDataSource, HoverTool\n",
    "from bokeh.palettes import Viridis256\n",
    "\n",
    "# Output to notebook\n",
    "output_notebook()\n",
    "\n",
    "# Generate random categorical data\n",
    "categories = ['Category A', 'Category B', 'Category C', 'Category D', 'Category E']\n",
    "values = np.random.randint(1, 101, size=len(categories))\n",
    "\n",
    "# Create a DataFrame\n",
    "data = pd.DataFrame({'categories': categories, 'values': values})\n",
    "\n",
    "# Convert DataFrame to ColumnDataSource\n",
    "source = ColumnDataSource(data)\n",
    "\n",
    "# Create a new plot\n",
    "p = figure(x_range=categories, title=\"Random Categorical Bar Chart\", x_axis_label='Categories', y_axis_label='Values')\n",
    "\n",
    "# Create a color mapper\n",
    "color_mapper = factor_cmap('categories', palette=Viridis256[:len(categories)], factors=categories)\n",
    "\n",
    "# Add bar renderer with hover tooltips\n",
    "p.vbar(x='categories', top='values', width=0.9, source=source, legend_field='categories', line_color='white', fill_color=color_mapper)\n",
    "\n",
    "# Add hover tool\n",
    "hover = HoverTool()\n",
    "hover.tooltips = [(\"Category\", \"@categories\"), (\"Value\", \"@values\")]\n",
    "p.add_tools(hover)\n",
    "\n",
    "# Configure plot\n",
    "p.legend.orientation = \"horizontal\"\n",
    "p.legend.location = \"top_center\"\n",
    "p.xgrid.grid_line_color = None\n",
    "p.y_range.start = 0\n",
    "\n",
    "# Show the results\n",
    "show(p)\n"
   ]
  },
  {
   "cell_type": "code",
   "execution_count": 4,
   "metadata": {},
   "outputs": [
    {
     "data": {
      "application/vnd.plotly.v1+json": {
       "config": {
        "plotlyServerURL": "https://plot.ly"
       },
       "data": [
        {
         "mode": "lines",
         "name": "Random Data",
         "type": "scatter",
         "x": [
          0,
          0.10101010101010101,
          0.20202020202020202,
          0.30303030303030304,
          0.40404040404040403,
          0.5050505050505051,
          0.6060606060606061,
          0.7070707070707071,
          0.8080808080808081,
          0.9090909090909091,
          1.0101010101010102,
          1.1111111111111112,
          1.2121212121212122,
          1.3131313131313131,
          1.4141414141414141,
          1.5151515151515151,
          1.6161616161616161,
          1.7171717171717171,
          1.8181818181818181,
          1.9191919191919191,
          2.0202020202020203,
          2.121212121212121,
          2.2222222222222223,
          2.323232323232323,
          2.4242424242424243,
          2.525252525252525,
          2.6262626262626263,
          2.727272727272727,
          2.8282828282828283,
          2.929292929292929,
          3.0303030303030303,
          3.131313131313131,
          3.2323232323232323,
          3.3333333333333335,
          3.4343434343434343,
          3.5353535353535355,
          3.6363636363636362,
          3.7373737373737375,
          3.8383838383838382,
          3.9393939393939394,
          4.040404040404041,
          4.141414141414141,
          4.242424242424242,
          4.343434343434343,
          4.444444444444445,
          4.545454545454545,
          4.646464646464646,
          4.747474747474747,
          4.848484848484849,
          4.94949494949495,
          5.05050505050505,
          5.151515151515151,
          5.252525252525253,
          5.353535353535354,
          5.454545454545454,
          5.555555555555555,
          5.656565656565657,
          5.757575757575758,
          5.858585858585858,
          5.959595959595959,
          6.0606060606060606,
          6.161616161616162,
          6.262626262626262,
          6.363636363636363,
          6.4646464646464645,
          6.565656565656566,
          6.666666666666667,
          6.767676767676767,
          6.8686868686868685,
          6.96969696969697,
          7.070707070707071,
          7.171717171717171,
          7.2727272727272725,
          7.373737373737374,
          7.474747474747475,
          7.575757575757575,
          7.6767676767676765,
          7.777777777777778,
          7.878787878787879,
          7.979797979797979,
          8.080808080808081,
          8.181818181818182,
          8.282828282828282,
          8.383838383838384,
          8.484848484848484,
          8.585858585858587,
          8.686868686868687,
          8.787878787878787,
          8.88888888888889,
          8.98989898989899,
          9.09090909090909,
          9.191919191919192,
          9.292929292929292,
          9.393939393939394,
          9.494949494949495,
          9.595959595959595,
          9.696969696969697,
          9.797979797979798,
          9.8989898989899,
          10
         ],
         "y": [
          1.764052345967664,
          2.1642095543348874,
          3.1429475384406267,
          5.3838407376420845,
          7.251398727792052,
          6.274120847915642,
          7.224209265441231,
          7.072852057143533,
          6.969633205349975,
          7.380231707288347,
          7.524275278449225,
          8.9785487854122,
          9.739586510559192,
          9.86126152705202,
          10.305124759797446,
          10.638799087171712,
          12.132878160329318,
          11.927719896563516,
          12.240787598214418,
          11.386691858912693,
          8.833702043078613,
          9.487320638518973,
          10.35175683737848,
          9.609591816972037,
          11.879346440959644,
          10.424980766360878,
          10.470739283662324,
          10.28355543363649,
          11.816334647994948,
          13.285693417895233,
          13.44064084359215,
          13.818803363194323,
          12.93101761556421,
          10.950221147340283,
          10.60230899801413,
          10.758657967118111,
          11.988948647845833,
          13.191328496630245,
          12.804001679222292,
          12.501698928646956,
          11.453145963579864,
          10.033128026400888,
          8.326857835775876,
          10.277633231007666,
          9.767981049256013,
          9.329906747644827,
          8.0771113875949,
          8.85460174342681,
          7.240703895868859,
          7.02796361565489,
          6.132497054461215,
          6.519399552320477,
          6.008594414751604,
          4.827962230629192,
          4.799780002290537,
          5.228111872820954,
          5.294629095204122,
          5.597100992943904,
          4.962778899262941,
          4.600037733275802,
          3.927577285499851,
          3.56802412395931,
          2.7548778419148556,
          1.0285952395831788,
          1.2060213818369316,
          0.8042404456286698,
          -0.8259579013373748,
          -0.3631756458116006,
          -1.2704740101948429,
          -1.218528614398704,
          -0.4894380522211671,
          -0.36045514146375646,
          0.7789455430795442,
          -0.4558802772741084,
          -0.0535386360965594,
          -0.7383487270368726,
          -1.6091458762187543,
          -2.1879955409831697,
          -2.4995480731105424,
          -2.443382730880797,
          -3.6085325716641536,
          -2.7077060847099665,
          -2.242043644979507,
          -3.7782873312567307,
          -2.290035137461131,
          -0.3941459614305478,
          0.7846336097291029,
          0.604708773916752,
          -0.4660438475937905,
          0.5884078793373462,
          0.18523093236416655,
          1.407676002746594,
          1.6159509808234542,
          2.5925900173071668,
          2.9489564144815685,
          3.6555295826735166,
          3.666029603394337,
          5.4519000973001726,
          5.578812190003792,
          5.980801553448494
         ]
        }
       ],
       "layout": {
        "template": {
         "data": {
          "bar": [
           {
            "error_x": {
             "color": "#2a3f5f"
            },
            "error_y": {
             "color": "#2a3f5f"
            },
            "marker": {
             "line": {
              "color": "#E5ECF6",
              "width": 0.5
             },
             "pattern": {
              "fillmode": "overlay",
              "size": 10,
              "solidity": 0.2
             }
            },
            "type": "bar"
           }
          ],
          "barpolar": [
           {
            "marker": {
             "line": {
              "color": "#E5ECF6",
              "width": 0.5
             },
             "pattern": {
              "fillmode": "overlay",
              "size": 10,
              "solidity": 0.2
             }
            },
            "type": "barpolar"
           }
          ],
          "carpet": [
           {
            "aaxis": {
             "endlinecolor": "#2a3f5f",
             "gridcolor": "white",
             "linecolor": "white",
             "minorgridcolor": "white",
             "startlinecolor": "#2a3f5f"
            },
            "baxis": {
             "endlinecolor": "#2a3f5f",
             "gridcolor": "white",
             "linecolor": "white",
             "minorgridcolor": "white",
             "startlinecolor": "#2a3f5f"
            },
            "type": "carpet"
           }
          ],
          "choropleth": [
           {
            "colorbar": {
             "outlinewidth": 0,
             "ticks": ""
            },
            "type": "choropleth"
           }
          ],
          "contour": [
           {
            "colorbar": {
             "outlinewidth": 0,
             "ticks": ""
            },
            "colorscale": [
             [
              0,
              "#0d0887"
             ],
             [
              0.1111111111111111,
              "#46039f"
             ],
             [
              0.2222222222222222,
              "#7201a8"
             ],
             [
              0.3333333333333333,
              "#9c179e"
             ],
             [
              0.4444444444444444,
              "#bd3786"
             ],
             [
              0.5555555555555556,
              "#d8576b"
             ],
             [
              0.6666666666666666,
              "#ed7953"
             ],
             [
              0.7777777777777778,
              "#fb9f3a"
             ],
             [
              0.8888888888888888,
              "#fdca26"
             ],
             [
              1,
              "#f0f921"
             ]
            ],
            "type": "contour"
           }
          ],
          "contourcarpet": [
           {
            "colorbar": {
             "outlinewidth": 0,
             "ticks": ""
            },
            "type": "contourcarpet"
           }
          ],
          "heatmap": [
           {
            "colorbar": {
             "outlinewidth": 0,
             "ticks": ""
            },
            "colorscale": [
             [
              0,
              "#0d0887"
             ],
             [
              0.1111111111111111,
              "#46039f"
             ],
             [
              0.2222222222222222,
              "#7201a8"
             ],
             [
              0.3333333333333333,
              "#9c179e"
             ],
             [
              0.4444444444444444,
              "#bd3786"
             ],
             [
              0.5555555555555556,
              "#d8576b"
             ],
             [
              0.6666666666666666,
              "#ed7953"
             ],
             [
              0.7777777777777778,
              "#fb9f3a"
             ],
             [
              0.8888888888888888,
              "#fdca26"
             ],
             [
              1,
              "#f0f921"
             ]
            ],
            "type": "heatmap"
           }
          ],
          "heatmapgl": [
           {
            "colorbar": {
             "outlinewidth": 0,
             "ticks": ""
            },
            "colorscale": [
             [
              0,
              "#0d0887"
             ],
             [
              0.1111111111111111,
              "#46039f"
             ],
             [
              0.2222222222222222,
              "#7201a8"
             ],
             [
              0.3333333333333333,
              "#9c179e"
             ],
             [
              0.4444444444444444,
              "#bd3786"
             ],
             [
              0.5555555555555556,
              "#d8576b"
             ],
             [
              0.6666666666666666,
              "#ed7953"
             ],
             [
              0.7777777777777778,
              "#fb9f3a"
             ],
             [
              0.8888888888888888,
              "#fdca26"
             ],
             [
              1,
              "#f0f921"
             ]
            ],
            "type": "heatmapgl"
           }
          ],
          "histogram": [
           {
            "marker": {
             "pattern": {
              "fillmode": "overlay",
              "size": 10,
              "solidity": 0.2
             }
            },
            "type": "histogram"
           }
          ],
          "histogram2d": [
           {
            "colorbar": {
             "outlinewidth": 0,
             "ticks": ""
            },
            "colorscale": [
             [
              0,
              "#0d0887"
             ],
             [
              0.1111111111111111,
              "#46039f"
             ],
             [
              0.2222222222222222,
              "#7201a8"
             ],
             [
              0.3333333333333333,
              "#9c179e"
             ],
             [
              0.4444444444444444,
              "#bd3786"
             ],
             [
              0.5555555555555556,
              "#d8576b"
             ],
             [
              0.6666666666666666,
              "#ed7953"
             ],
             [
              0.7777777777777778,
              "#fb9f3a"
             ],
             [
              0.8888888888888888,
              "#fdca26"
             ],
             [
              1,
              "#f0f921"
             ]
            ],
            "type": "histogram2d"
           }
          ],
          "histogram2dcontour": [
           {
            "colorbar": {
             "outlinewidth": 0,
             "ticks": ""
            },
            "colorscale": [
             [
              0,
              "#0d0887"
             ],
             [
              0.1111111111111111,
              "#46039f"
             ],
             [
              0.2222222222222222,
              "#7201a8"
             ],
             [
              0.3333333333333333,
              "#9c179e"
             ],
             [
              0.4444444444444444,
              "#bd3786"
             ],
             [
              0.5555555555555556,
              "#d8576b"
             ],
             [
              0.6666666666666666,
              "#ed7953"
             ],
             [
              0.7777777777777778,
              "#fb9f3a"
             ],
             [
              0.8888888888888888,
              "#fdca26"
             ],
             [
              1,
              "#f0f921"
             ]
            ],
            "type": "histogram2dcontour"
           }
          ],
          "mesh3d": [
           {
            "colorbar": {
             "outlinewidth": 0,
             "ticks": ""
            },
            "type": "mesh3d"
           }
          ],
          "parcoords": [
           {
            "line": {
             "colorbar": {
              "outlinewidth": 0,
              "ticks": ""
             }
            },
            "type": "parcoords"
           }
          ],
          "pie": [
           {
            "automargin": true,
            "type": "pie"
           }
          ],
          "scatter": [
           {
            "fillpattern": {
             "fillmode": "overlay",
             "size": 10,
             "solidity": 0.2
            },
            "type": "scatter"
           }
          ],
          "scatter3d": [
           {
            "line": {
             "colorbar": {
              "outlinewidth": 0,
              "ticks": ""
             }
            },
            "marker": {
             "colorbar": {
              "outlinewidth": 0,
              "ticks": ""
             }
            },
            "type": "scatter3d"
           }
          ],
          "scattercarpet": [
           {
            "marker": {
             "colorbar": {
              "outlinewidth": 0,
              "ticks": ""
             }
            },
            "type": "scattercarpet"
           }
          ],
          "scattergeo": [
           {
            "marker": {
             "colorbar": {
              "outlinewidth": 0,
              "ticks": ""
             }
            },
            "type": "scattergeo"
           }
          ],
          "scattergl": [
           {
            "marker": {
             "colorbar": {
              "outlinewidth": 0,
              "ticks": ""
             }
            },
            "type": "scattergl"
           }
          ],
          "scattermapbox": [
           {
            "marker": {
             "colorbar": {
              "outlinewidth": 0,
              "ticks": ""
             }
            },
            "type": "scattermapbox"
           }
          ],
          "scatterpolar": [
           {
            "marker": {
             "colorbar": {
              "outlinewidth": 0,
              "ticks": ""
             }
            },
            "type": "scatterpolar"
           }
          ],
          "scatterpolargl": [
           {
            "marker": {
             "colorbar": {
              "outlinewidth": 0,
              "ticks": ""
             }
            },
            "type": "scatterpolargl"
           }
          ],
          "scatterternary": [
           {
            "marker": {
             "colorbar": {
              "outlinewidth": 0,
              "ticks": ""
             }
            },
            "type": "scatterternary"
           }
          ],
          "surface": [
           {
            "colorbar": {
             "outlinewidth": 0,
             "ticks": ""
            },
            "colorscale": [
             [
              0,
              "#0d0887"
             ],
             [
              0.1111111111111111,
              "#46039f"
             ],
             [
              0.2222222222222222,
              "#7201a8"
             ],
             [
              0.3333333333333333,
              "#9c179e"
             ],
             [
              0.4444444444444444,
              "#bd3786"
             ],
             [
              0.5555555555555556,
              "#d8576b"
             ],
             [
              0.6666666666666666,
              "#ed7953"
             ],
             [
              0.7777777777777778,
              "#fb9f3a"
             ],
             [
              0.8888888888888888,
              "#fdca26"
             ],
             [
              1,
              "#f0f921"
             ]
            ],
            "type": "surface"
           }
          ],
          "table": [
           {
            "cells": {
             "fill": {
              "color": "#EBF0F8"
             },
             "line": {
              "color": "white"
             }
            },
            "header": {
             "fill": {
              "color": "#C8D4E3"
             },
             "line": {
              "color": "white"
             }
            },
            "type": "table"
           }
          ]
         },
         "layout": {
          "annotationdefaults": {
           "arrowcolor": "#2a3f5f",
           "arrowhead": 0,
           "arrowwidth": 1
          },
          "autotypenumbers": "strict",
          "coloraxis": {
           "colorbar": {
            "outlinewidth": 0,
            "ticks": ""
           }
          },
          "colorscale": {
           "diverging": [
            [
             0,
             "#8e0152"
            ],
            [
             0.1,
             "#c51b7d"
            ],
            [
             0.2,
             "#de77ae"
            ],
            [
             0.3,
             "#f1b6da"
            ],
            [
             0.4,
             "#fde0ef"
            ],
            [
             0.5,
             "#f7f7f7"
            ],
            [
             0.6,
             "#e6f5d0"
            ],
            [
             0.7,
             "#b8e186"
            ],
            [
             0.8,
             "#7fbc41"
            ],
            [
             0.9,
             "#4d9221"
            ],
            [
             1,
             "#276419"
            ]
           ],
           "sequential": [
            [
             0,
             "#0d0887"
            ],
            [
             0.1111111111111111,
             "#46039f"
            ],
            [
             0.2222222222222222,
             "#7201a8"
            ],
            [
             0.3333333333333333,
             "#9c179e"
            ],
            [
             0.4444444444444444,
             "#bd3786"
            ],
            [
             0.5555555555555556,
             "#d8576b"
            ],
            [
             0.6666666666666666,
             "#ed7953"
            ],
            [
             0.7777777777777778,
             "#fb9f3a"
            ],
            [
             0.8888888888888888,
             "#fdca26"
            ],
            [
             1,
             "#f0f921"
            ]
           ],
           "sequentialminus": [
            [
             0,
             "#0d0887"
            ],
            [
             0.1111111111111111,
             "#46039f"
            ],
            [
             0.2222222222222222,
             "#7201a8"
            ],
            [
             0.3333333333333333,
             "#9c179e"
            ],
            [
             0.4444444444444444,
             "#bd3786"
            ],
            [
             0.5555555555555556,
             "#d8576b"
            ],
            [
             0.6666666666666666,
             "#ed7953"
            ],
            [
             0.7777777777777778,
             "#fb9f3a"
            ],
            [
             0.8888888888888888,
             "#fdca26"
            ],
            [
             1,
             "#f0f921"
            ]
           ]
          },
          "colorway": [
           "#636efa",
           "#EF553B",
           "#00cc96",
           "#ab63fa",
           "#FFA15A",
           "#19d3f3",
           "#FF6692",
           "#B6E880",
           "#FF97FF",
           "#FECB52"
          ],
          "font": {
           "color": "#2a3f5f"
          },
          "geo": {
           "bgcolor": "white",
           "lakecolor": "white",
           "landcolor": "#E5ECF6",
           "showlakes": true,
           "showland": true,
           "subunitcolor": "white"
          },
          "hoverlabel": {
           "align": "left"
          },
          "hovermode": "closest",
          "mapbox": {
           "style": "light"
          },
          "paper_bgcolor": "white",
          "plot_bgcolor": "#E5ECF6",
          "polar": {
           "angularaxis": {
            "gridcolor": "white",
            "linecolor": "white",
            "ticks": ""
           },
           "bgcolor": "#E5ECF6",
           "radialaxis": {
            "gridcolor": "white",
            "linecolor": "white",
            "ticks": ""
           }
          },
          "scene": {
           "xaxis": {
            "backgroundcolor": "#E5ECF6",
            "gridcolor": "white",
            "gridwidth": 2,
            "linecolor": "white",
            "showbackground": true,
            "ticks": "",
            "zerolinecolor": "white"
           },
           "yaxis": {
            "backgroundcolor": "#E5ECF6",
            "gridcolor": "white",
            "gridwidth": 2,
            "linecolor": "white",
            "showbackground": true,
            "ticks": "",
            "zerolinecolor": "white"
           },
           "zaxis": {
            "backgroundcolor": "#E5ECF6",
            "gridcolor": "white",
            "gridwidth": 2,
            "linecolor": "white",
            "showbackground": true,
            "ticks": "",
            "zerolinecolor": "white"
           }
          },
          "shapedefaults": {
           "line": {
            "color": "#2a3f5f"
           }
          },
          "ternary": {
           "aaxis": {
            "gridcolor": "white",
            "linecolor": "white",
            "ticks": ""
           },
           "baxis": {
            "gridcolor": "white",
            "linecolor": "white",
            "ticks": ""
           },
           "bgcolor": "#E5ECF6",
           "caxis": {
            "gridcolor": "white",
            "linecolor": "white",
            "ticks": ""
           }
          },
          "title": {
           "x": 0.05
          },
          "xaxis": {
           "automargin": true,
           "gridcolor": "white",
           "linecolor": "white",
           "ticks": "",
           "title": {
            "standoff": 15
           },
           "zerolinecolor": "white",
           "zerolinewidth": 2
          },
          "yaxis": {
           "automargin": true,
           "gridcolor": "white",
           "linecolor": "white",
           "ticks": "",
           "title": {
            "standoff": 15
           },
           "zerolinecolor": "white",
           "zerolinewidth": 2
          }
         }
        },
        "title": {
         "text": "Simple Line Plot"
        },
        "xaxis": {
         "title": {
          "text": "X-axis"
         }
        },
        "yaxis": {
         "title": {
          "text": "Y-axis"
         }
        }
       }
      }
     },
     "metadata": {},
     "output_type": "display_data"
    }
   ],
   "source": [
    "\"\"\"Q20. Using Plotly, create a basic line plot of a randomly generated dataset, label the axes, and set the title as\n",
    "'Simple Line Plot'\"\"\"\n",
    "\n",
    "import numpy as np\n",
    "import plotly.graph_objects as go\n",
    "\n",
    "# Generate random dataset\n",
    "np.random.seed(0)  # For reproducibility\n",
    "x = np.linspace(0, 10, 100)\n",
    "y = np.random.randn(100).cumsum()\n",
    "\n",
    "# Create a line plot\n",
    "fig = go.Figure()\n",
    "\n",
    "fig.add_trace(go.Scatter(x=x, y=y, mode='lines', name='Random Data'))\n",
    "\n",
    "# Label the axes\n",
    "fig.update_layout(\n",
    "    title='Simple Line Plot',\n",
    "    xaxis_title='X-axis',\n",
    "    yaxis_title='Y-axis'\n",
    ")\n",
    "\n",
    "# Show the plot\n",
    "fig.show()\n"
   ]
  },
  {
   "cell_type": "code",
   "execution_count": 5,
   "metadata": {},
   "outputs": [
    {
     "data": {
      "application/vnd.plotly.v1+json": {
       "config": {
        "plotlyServerURL": "https://plot.ly"
       },
       "data": [
        {
         "insidetextorientation": "radial",
         "labels": [
          "Category A",
          "Category B",
          "Category C",
          "Category D",
          "Category E"
         ],
         "textinfo": "label+percent",
         "type": "pie",
         "values": [
          54,
          57,
          74,
          77,
          77
         ]
        }
       ],
       "layout": {
        "template": {
         "data": {
          "bar": [
           {
            "error_x": {
             "color": "#2a3f5f"
            },
            "error_y": {
             "color": "#2a3f5f"
            },
            "marker": {
             "line": {
              "color": "#E5ECF6",
              "width": 0.5
             },
             "pattern": {
              "fillmode": "overlay",
              "size": 10,
              "solidity": 0.2
             }
            },
            "type": "bar"
           }
          ],
          "barpolar": [
           {
            "marker": {
             "line": {
              "color": "#E5ECF6",
              "width": 0.5
             },
             "pattern": {
              "fillmode": "overlay",
              "size": 10,
              "solidity": 0.2
             }
            },
            "type": "barpolar"
           }
          ],
          "carpet": [
           {
            "aaxis": {
             "endlinecolor": "#2a3f5f",
             "gridcolor": "white",
             "linecolor": "white",
             "minorgridcolor": "white",
             "startlinecolor": "#2a3f5f"
            },
            "baxis": {
             "endlinecolor": "#2a3f5f",
             "gridcolor": "white",
             "linecolor": "white",
             "minorgridcolor": "white",
             "startlinecolor": "#2a3f5f"
            },
            "type": "carpet"
           }
          ],
          "choropleth": [
           {
            "colorbar": {
             "outlinewidth": 0,
             "ticks": ""
            },
            "type": "choropleth"
           }
          ],
          "contour": [
           {
            "colorbar": {
             "outlinewidth": 0,
             "ticks": ""
            },
            "colorscale": [
             [
              0,
              "#0d0887"
             ],
             [
              0.1111111111111111,
              "#46039f"
             ],
             [
              0.2222222222222222,
              "#7201a8"
             ],
             [
              0.3333333333333333,
              "#9c179e"
             ],
             [
              0.4444444444444444,
              "#bd3786"
             ],
             [
              0.5555555555555556,
              "#d8576b"
             ],
             [
              0.6666666666666666,
              "#ed7953"
             ],
             [
              0.7777777777777778,
              "#fb9f3a"
             ],
             [
              0.8888888888888888,
              "#fdca26"
             ],
             [
              1,
              "#f0f921"
             ]
            ],
            "type": "contour"
           }
          ],
          "contourcarpet": [
           {
            "colorbar": {
             "outlinewidth": 0,
             "ticks": ""
            },
            "type": "contourcarpet"
           }
          ],
          "heatmap": [
           {
            "colorbar": {
             "outlinewidth": 0,
             "ticks": ""
            },
            "colorscale": [
             [
              0,
              "#0d0887"
             ],
             [
              0.1111111111111111,
              "#46039f"
             ],
             [
              0.2222222222222222,
              "#7201a8"
             ],
             [
              0.3333333333333333,
              "#9c179e"
             ],
             [
              0.4444444444444444,
              "#bd3786"
             ],
             [
              0.5555555555555556,
              "#d8576b"
             ],
             [
              0.6666666666666666,
              "#ed7953"
             ],
             [
              0.7777777777777778,
              "#fb9f3a"
             ],
             [
              0.8888888888888888,
              "#fdca26"
             ],
             [
              1,
              "#f0f921"
             ]
            ],
            "type": "heatmap"
           }
          ],
          "heatmapgl": [
           {
            "colorbar": {
             "outlinewidth": 0,
             "ticks": ""
            },
            "colorscale": [
             [
              0,
              "#0d0887"
             ],
             [
              0.1111111111111111,
              "#46039f"
             ],
             [
              0.2222222222222222,
              "#7201a8"
             ],
             [
              0.3333333333333333,
              "#9c179e"
             ],
             [
              0.4444444444444444,
              "#bd3786"
             ],
             [
              0.5555555555555556,
              "#d8576b"
             ],
             [
              0.6666666666666666,
              "#ed7953"
             ],
             [
              0.7777777777777778,
              "#fb9f3a"
             ],
             [
              0.8888888888888888,
              "#fdca26"
             ],
             [
              1,
              "#f0f921"
             ]
            ],
            "type": "heatmapgl"
           }
          ],
          "histogram": [
           {
            "marker": {
             "pattern": {
              "fillmode": "overlay",
              "size": 10,
              "solidity": 0.2
             }
            },
            "type": "histogram"
           }
          ],
          "histogram2d": [
           {
            "colorbar": {
             "outlinewidth": 0,
             "ticks": ""
            },
            "colorscale": [
             [
              0,
              "#0d0887"
             ],
             [
              0.1111111111111111,
              "#46039f"
             ],
             [
              0.2222222222222222,
              "#7201a8"
             ],
             [
              0.3333333333333333,
              "#9c179e"
             ],
             [
              0.4444444444444444,
              "#bd3786"
             ],
             [
              0.5555555555555556,
              "#d8576b"
             ],
             [
              0.6666666666666666,
              "#ed7953"
             ],
             [
              0.7777777777777778,
              "#fb9f3a"
             ],
             [
              0.8888888888888888,
              "#fdca26"
             ],
             [
              1,
              "#f0f921"
             ]
            ],
            "type": "histogram2d"
           }
          ],
          "histogram2dcontour": [
           {
            "colorbar": {
             "outlinewidth": 0,
             "ticks": ""
            },
            "colorscale": [
             [
              0,
              "#0d0887"
             ],
             [
              0.1111111111111111,
              "#46039f"
             ],
             [
              0.2222222222222222,
              "#7201a8"
             ],
             [
              0.3333333333333333,
              "#9c179e"
             ],
             [
              0.4444444444444444,
              "#bd3786"
             ],
             [
              0.5555555555555556,
              "#d8576b"
             ],
             [
              0.6666666666666666,
              "#ed7953"
             ],
             [
              0.7777777777777778,
              "#fb9f3a"
             ],
             [
              0.8888888888888888,
              "#fdca26"
             ],
             [
              1,
              "#f0f921"
             ]
            ],
            "type": "histogram2dcontour"
           }
          ],
          "mesh3d": [
           {
            "colorbar": {
             "outlinewidth": 0,
             "ticks": ""
            },
            "type": "mesh3d"
           }
          ],
          "parcoords": [
           {
            "line": {
             "colorbar": {
              "outlinewidth": 0,
              "ticks": ""
             }
            },
            "type": "parcoords"
           }
          ],
          "pie": [
           {
            "automargin": true,
            "type": "pie"
           }
          ],
          "scatter": [
           {
            "fillpattern": {
             "fillmode": "overlay",
             "size": 10,
             "solidity": 0.2
            },
            "type": "scatter"
           }
          ],
          "scatter3d": [
           {
            "line": {
             "colorbar": {
              "outlinewidth": 0,
              "ticks": ""
             }
            },
            "marker": {
             "colorbar": {
              "outlinewidth": 0,
              "ticks": ""
             }
            },
            "type": "scatter3d"
           }
          ],
          "scattercarpet": [
           {
            "marker": {
             "colorbar": {
              "outlinewidth": 0,
              "ticks": ""
             }
            },
            "type": "scattercarpet"
           }
          ],
          "scattergeo": [
           {
            "marker": {
             "colorbar": {
              "outlinewidth": 0,
              "ticks": ""
             }
            },
            "type": "scattergeo"
           }
          ],
          "scattergl": [
           {
            "marker": {
             "colorbar": {
              "outlinewidth": 0,
              "ticks": ""
             }
            },
            "type": "scattergl"
           }
          ],
          "scattermapbox": [
           {
            "marker": {
             "colorbar": {
              "outlinewidth": 0,
              "ticks": ""
             }
            },
            "type": "scattermapbox"
           }
          ],
          "scatterpolar": [
           {
            "marker": {
             "colorbar": {
              "outlinewidth": 0,
              "ticks": ""
             }
            },
            "type": "scatterpolar"
           }
          ],
          "scatterpolargl": [
           {
            "marker": {
             "colorbar": {
              "outlinewidth": 0,
              "ticks": ""
             }
            },
            "type": "scatterpolargl"
           }
          ],
          "scatterternary": [
           {
            "marker": {
             "colorbar": {
              "outlinewidth": 0,
              "ticks": ""
             }
            },
            "type": "scatterternary"
           }
          ],
          "surface": [
           {
            "colorbar": {
             "outlinewidth": 0,
             "ticks": ""
            },
            "colorscale": [
             [
              0,
              "#0d0887"
             ],
             [
              0.1111111111111111,
              "#46039f"
             ],
             [
              0.2222222222222222,
              "#7201a8"
             ],
             [
              0.3333333333333333,
              "#9c179e"
             ],
             [
              0.4444444444444444,
              "#bd3786"
             ],
             [
              0.5555555555555556,
              "#d8576b"
             ],
             [
              0.6666666666666666,
              "#ed7953"
             ],
             [
              0.7777777777777778,
              "#fb9f3a"
             ],
             [
              0.8888888888888888,
              "#fdca26"
             ],
             [
              1,
              "#f0f921"
             ]
            ],
            "type": "surface"
           }
          ],
          "table": [
           {
            "cells": {
             "fill": {
              "color": "#EBF0F8"
             },
             "line": {
              "color": "white"
             }
            },
            "header": {
             "fill": {
              "color": "#C8D4E3"
             },
             "line": {
              "color": "white"
             }
            },
            "type": "table"
           }
          ]
         },
         "layout": {
          "annotationdefaults": {
           "arrowcolor": "#2a3f5f",
           "arrowhead": 0,
           "arrowwidth": 1
          },
          "autotypenumbers": "strict",
          "coloraxis": {
           "colorbar": {
            "outlinewidth": 0,
            "ticks": ""
           }
          },
          "colorscale": {
           "diverging": [
            [
             0,
             "#8e0152"
            ],
            [
             0.1,
             "#c51b7d"
            ],
            [
             0.2,
             "#de77ae"
            ],
            [
             0.3,
             "#f1b6da"
            ],
            [
             0.4,
             "#fde0ef"
            ],
            [
             0.5,
             "#f7f7f7"
            ],
            [
             0.6,
             "#e6f5d0"
            ],
            [
             0.7,
             "#b8e186"
            ],
            [
             0.8,
             "#7fbc41"
            ],
            [
             0.9,
             "#4d9221"
            ],
            [
             1,
             "#276419"
            ]
           ],
           "sequential": [
            [
             0,
             "#0d0887"
            ],
            [
             0.1111111111111111,
             "#46039f"
            ],
            [
             0.2222222222222222,
             "#7201a8"
            ],
            [
             0.3333333333333333,
             "#9c179e"
            ],
            [
             0.4444444444444444,
             "#bd3786"
            ],
            [
             0.5555555555555556,
             "#d8576b"
            ],
            [
             0.6666666666666666,
             "#ed7953"
            ],
            [
             0.7777777777777778,
             "#fb9f3a"
            ],
            [
             0.8888888888888888,
             "#fdca26"
            ],
            [
             1,
             "#f0f921"
            ]
           ],
           "sequentialminus": [
            [
             0,
             "#0d0887"
            ],
            [
             0.1111111111111111,
             "#46039f"
            ],
            [
             0.2222222222222222,
             "#7201a8"
            ],
            [
             0.3333333333333333,
             "#9c179e"
            ],
            [
             0.4444444444444444,
             "#bd3786"
            ],
            [
             0.5555555555555556,
             "#d8576b"
            ],
            [
             0.6666666666666666,
             "#ed7953"
            ],
            [
             0.7777777777777778,
             "#fb9f3a"
            ],
            [
             0.8888888888888888,
             "#fdca26"
            ],
            [
             1,
             "#f0f921"
            ]
           ]
          },
          "colorway": [
           "#636efa",
           "#EF553B",
           "#00cc96",
           "#ab63fa",
           "#FFA15A",
           "#19d3f3",
           "#FF6692",
           "#B6E880",
           "#FF97FF",
           "#FECB52"
          ],
          "font": {
           "color": "#2a3f5f"
          },
          "geo": {
           "bgcolor": "white",
           "lakecolor": "white",
           "landcolor": "#E5ECF6",
           "showlakes": true,
           "showland": true,
           "subunitcolor": "white"
          },
          "hoverlabel": {
           "align": "left"
          },
          "hovermode": "closest",
          "mapbox": {
           "style": "light"
          },
          "paper_bgcolor": "white",
          "plot_bgcolor": "#E5ECF6",
          "polar": {
           "angularaxis": {
            "gridcolor": "white",
            "linecolor": "white",
            "ticks": ""
           },
           "bgcolor": "#E5ECF6",
           "radialaxis": {
            "gridcolor": "white",
            "linecolor": "white",
            "ticks": ""
           }
          },
          "scene": {
           "xaxis": {
            "backgroundcolor": "#E5ECF6",
            "gridcolor": "white",
            "gridwidth": 2,
            "linecolor": "white",
            "showbackground": true,
            "ticks": "",
            "zerolinecolor": "white"
           },
           "yaxis": {
            "backgroundcolor": "#E5ECF6",
            "gridcolor": "white",
            "gridwidth": 2,
            "linecolor": "white",
            "showbackground": true,
            "ticks": "",
            "zerolinecolor": "white"
           },
           "zaxis": {
            "backgroundcolor": "#E5ECF6",
            "gridcolor": "white",
            "gridwidth": 2,
            "linecolor": "white",
            "showbackground": true,
            "ticks": "",
            "zerolinecolor": "white"
           }
          },
          "shapedefaults": {
           "line": {
            "color": "#2a3f5f"
           }
          },
          "ternary": {
           "aaxis": {
            "gridcolor": "white",
            "linecolor": "white",
            "ticks": ""
           },
           "baxis": {
            "gridcolor": "white",
            "linecolor": "white",
            "ticks": ""
           },
           "bgcolor": "#E5ECF6",
           "caxis": {
            "gridcolor": "white",
            "linecolor": "white",
            "ticks": ""
           }
          },
          "title": {
           "x": 0.05
          },
          "xaxis": {
           "automargin": true,
           "gridcolor": "white",
           "linecolor": "white",
           "ticks": "",
           "title": {
            "standoff": 15
           },
           "zerolinecolor": "white",
           "zerolinewidth": 2
          },
          "yaxis": {
           "automargin": true,
           "gridcolor": "white",
           "linecolor": "white",
           "ticks": "",
           "title": {
            "standoff": 15
           },
           "zerolinecolor": "white",
           "zerolinewidth": 2
          }
         }
        },
        "title": {
         "text": "Interactive Pie Chart"
        }
       }
      }
     },
     "metadata": {},
     "output_type": "display_data"
    }
   ],
   "source": [
    "\"\"\"Q21. Using Plotly, create an interactive pie chart of randomly generated data, add labels and percentages, set\n",
    "the title as 'Interactive Pie Chart\"\"\"\n",
    "\n",
    "import numpy as np\n",
    "import plotly.graph_objects as go\n",
    "\n",
    "# Generate random data\n",
    "np.random.seed(0)  # For reproducibility\n",
    "categories = ['Category A', 'Category B', 'Category C', 'Category D', 'Category E']\n",
    "values = np.random.randint(10, 100, size=len(categories))\n",
    "\n",
    "# Create a pie chart\n",
    "fig = go.Figure()\n",
    "\n",
    "fig.add_trace(go.Pie(labels=categories, values=values, \n",
    "                     textinfo='label+percent', \n",
    "                     insidetextorientation='radial'))\n",
    "\n",
    "# Set the title\n",
    "fig.update_layout(title='Interactive Pie Chart')\n",
    "\n",
    "# Show the plot\n",
    "fig.show()\n",
    "\n"
   ]
  }
 ],
 "metadata": {
  "kernelspec": {
   "display_name": "Python 3",
   "language": "python",
   "name": "python3"
  },
  "language_info": {
   "codemirror_mode": {
    "name": "ipython",
    "version": 3
   },
   "file_extension": ".py",
   "mimetype": "text/x-python",
   "name": "python",
   "nbconvert_exporter": "python",
   "pygments_lexer": "ipython3",
   "version": "3.11.7"
  }
 },
 "nbformat": 4,
 "nbformat_minor": 2
}
