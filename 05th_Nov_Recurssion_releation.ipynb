{
 "cells": [
  {
   "cell_type": "markdown",
   "metadata": {},
   "source": [
    "<h1><center>Recursssion Releation</center></h1>\n",
    "\n",
    "<ol type='1'>\n",
    "\n",
    "<li>Find the value of T(2) for the recurrence relation T(n) = 3T(n-1) + 12n, given that T(0)=5.</li>\n",
    "\n",
    "<li>Given a recurrence relation, solve it using the substitution method:\n",
    "<ol type='a'>\n",
    "<li>T(n) = T(n-1) + c</li>\n",
    "<li>T(n) = 2T(n/2) + n</li>\n",
    "<li>T(n) = 2T(n/2) + c</li>\n",
    "<li>T(n) = T(n/2) + c</li>\n",
    "</ol>\n",
    "</li>\n",
    "\n",
    "<li>Given a recurrence relation, solve it using the recursive tree approach:\n",
    "<ol type='a'>\n",
    "<li>T(n) = 2T(n-1) +1</li>\n",
    "<li>T(n) = 2T(n/2) + n</li>\n",
    "</ol>\n",
    "</li>\n",
    "</ol>"
   ]
  },
  {
   "cell_type": "markdown",
   "metadata": {},
   "source": [
    "<h4>2. Given a recurrence relation, solve it using the substitution method:</h4>"
   ]
  },
  {
   "cell_type": "markdown",
   "metadata": {},
   "source": [
    "<h5>2(a). T(n) = T(n-1) + c</h5>\n",
    "\n",
    "<p>Given: - T(n) = T(n-1) + c, where c is constant. eq.1<br>\n",
    "Solution: - By substitution method.<br>\n",
    "let's T(n) = f(n), where f(n) is unknown function.<br>\n",
    "put f(n) as T(n) in eq.1<br>\n",
    "we get<br>\n",
    "f(n) = f(n-1) + c<br>\n",
    " let's expand f(n−1)<br>\n",
    "f(n) = f(n-2) + c + c<br>\n",
    "again expant till k steps.<br>\n",
    "f(n) = f(n-k) + k.c   eq.2<br>\n",
    "let (n-k)=1, as base condition.<br>\n",
    "n-k=1 => k=n-1,    eq.3<br>\n",
    "put value of k in eq.2<br>\n",
    "f(n) = f(1) + (n-1).c<br>\n",
    " If n=1, then f(1)=T(1)<br>\n",
    "T(n) = T(1) + (n-1).c  is the required relation.<br>\n",
    "Hence, we can say this is a linear  recurrence relation with respect to n.</p>\n",
    "<br>\n",
    "<h5>2(b). T(n) = 2T(n/2) + n</h5>\n",
    "\n",
    "\n"
   ]
  }
 ],
 "metadata": {
  "kernelspec": {
   "display_name": "Python 3",
   "language": "python",
   "name": "python3"
  },
  "language_info": {
   "name": "python",
   "version": "3.11.6"
  }
 },
 "nbformat": 4,
 "nbformat_minor": 2
}
