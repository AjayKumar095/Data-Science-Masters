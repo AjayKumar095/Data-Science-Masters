{
 "cells": [
  {
   "cell_type": "markdown",
   "metadata": {},
   "source": [
    "<h1><center>Recursssion Releation</center></h1>\n",
    "\n",
    "<ol type='1'>\n",
    "\n",
    "<li>Find the value of T(2) for the recurrence relation T(n) = 3T(n-1) + 12n, given that T(0)=5.</li>\n",
    "\n",
    "<li>Given a recurrence relation, solve it using the substitution method:\n",
    "<ol type='a'>\n",
    "<li>T(n) = T(n-1) + c</li>\n",
    "<li>T(n) = 2T(n/2) + n</li>\n",
    "<li>T(n) = 2T(n/2) + c</li>\n",
    "<li>T(n) = T(n/2) + c</li>\n",
    "</ol>\n",
    "</li>\n",
    "\n",
    "<li>Given a recurrence relation, solve it using the recursive tree approach:\n",
    "<ol type='a'>\n",
    "<li>T(n) = 2T(n-1) +1</li>\n",
    "<li>T(n) = 2T(n/2) + n</li>\n",
    "</ol>\n",
    "</li>\n",
    "</ol>"
   ]
  },
  {
   "cell_type": "markdown",
   "metadata": {},
   "source": [
    "<h4>2. Given a recurrence relation, solve it using the substitution method:</h4>"
   ]
  },
  {
   "cell_type": "markdown",
   "metadata": {},
   "source": [
    "<h5>2(a). T(n) = T(n-1) + c</h5>\n",
    "\n",
    "<p>Given: - T(n) = T(n-1) + c, where c is constant. eq.1</p>\n",
    "<p>Solution: - By substitution method.</p>\n",
    "<p>let's T(n) = f(n), where f(n) is unknown function.</p>\n",
    "<p>put f(n) as T(n) in eq.1</p>\n",
    "<p>we get</p>\n",
    "<p>f(n) = f(n-1) + c</p>\n",
    "<p> let's expand f(n−1)</p>\n",
    "<p>f(n) = f(n-2) + c + c</p>\n",
    "<p>again expant till k steps.</p>\n",
    "<p>f(n) = f(n-k) + k.c   eq.2</p>\n",
    "<p>let (n-k)=1, as base condition.</p>\n",
    "<p>n-k=1 => k=n-1,    eq.3</p>\n",
    "<p>put value of k in eq.2</p>\n",
    "<p>f(n) = f(1) + (n-1).c</p>\n",
    "<p> If n=1, then f(1)=T(1)</p>\n",
    "<p>T(n) = T(1) + (n-1).c  is the required relation.</p>\n",
    "<p>Hence, we can say this is a linear  recurrence relation with respect to n.</p>\n",
    "\n",
    "\n"
   ]
  }
 ],
 "metadata": {
  "kernelspec": {
   "display_name": "Python 3",
   "language": "python",
   "name": "python3"
  },
  "language_info": {
   "name": "python",
   "version": "3.11.6"
  }
 },
 "nbformat": 4,
 "nbformat_minor": 2
}
