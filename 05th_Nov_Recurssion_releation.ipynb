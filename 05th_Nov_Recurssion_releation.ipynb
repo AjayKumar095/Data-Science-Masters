{
 "cells": [
  {
   "cell_type": "markdown",
   "metadata": {},
   "source": [
    "<h1><center>Recursssion Releation</center></h1>\n",
    "\n",
    "<ol type='1'>\n",
    "\n",
    "<li>Find the value of T(2) for the recurrence relation T(n) = 3T(n-1) + 12n, given that T(0)=5.</li>\n",
    "\n",
    "<li>Given a recurrence relation, solve it using the substitution method:\n",
    "<ol type='a'>\n",
    "<li>T(n) = T(n-1) + c</li>\n",
    "<li>T(n) = 2T(n/2) + n</li>\n",
    "<li>T(n) = 2T(n/2) + c</li>\n",
    "<li>T(n) = T(n/2) + c</li>\n",
    "</ol>\n",
    "</li>\n",
    "\n",
    "<li>Given a recurrence relation, solve it using the recursive tree approach:\n",
    "<ol type='a'>\n",
    "<li>T(n) = 2T(n-1) +1</li>\n",
    "<li>T(n) = 2T(n/2) + n</li>\n",
    "</ol>\n",
    "</li>\n",
    "</ol>"
   ]
  }
 ],
 "metadata": {
  "kernelspec": {
   "display_name": "Python 3",
   "language": "python",
   "name": "python3"
  },
  "language_info": {
   "name": "python",
   "version": "3.11.6"
  }
 },
 "nbformat": 4,
 "nbformat_minor": 2
}
