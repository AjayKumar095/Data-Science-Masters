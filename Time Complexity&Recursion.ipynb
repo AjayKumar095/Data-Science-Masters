{
 "cells": [
  {
   "cell_type": "markdown",
   "metadata": {},
   "source": [
    "<h1><center>Time Complexity & Recursion</center></h1>"
   ]
  },
  {
   "cell_type": "markdown",
   "metadata": {},
   "source": [
    "<h3>Solve the following problems on recursion</h3>"
   ]
  },
  {
   "cell_type": "code",
   "execution_count": null,
   "metadata": {},
   "outputs": [],
   "source": [
    "# Problem 6 : Sum of Digits\n",
    "\n",
    "\"\"\"Write a recursive function to calculate the sum of digits of a given positive integer.\n",
    "sum_of_digits(123) -> 6\"\"\"\n",
    "\n",
    "# function to find sum of digits of number\n",
    "def digits_sum(n):\n",
    "    sum=0\n",
    "    # base condition\n",
    "    if n<0 or n<10:\n",
    "        return n\n",
    "  # recursive step\n",
    "    r = n % 10\n",
    "    return r + digits_sum(n // 10)\n",
    "\n",
    "num=123\n",
    "find_sum=digits_sum(num)\n",
    "print(f\"Sum of digits of number {num} is {find_sum}.\")"
   ]
  },
  {
   "cell_type": "code",
   "execution_count": null,
   "metadata": {},
   "outputs": [],
   "source": [
    "# Problem 7: Fibonacci Series\n",
    "\n",
    "\"\"\"Write a recursive function to generate the first n numbers of the Fibonacci series.\n",
    "fibonacci_series(6) -> [0, 1, 1, 2, 3, 5]\"\"\"\n",
    "\n",
    "def Fibonacci(n):\n",
    "    \n",
    "    series=[]\n",
    "      # Base condition\n",
    "    if n <= 0:\n",
    "        return series\n",
    "\n",
    "    # Recursive step\n",
    "    if n == 1:\n",
    "        series.append(0)\n",
    "        return series\n",
    "    elif n == 2:\n",
    "        series.extend([0, 1])\n",
    "        return series\n",
    "    else:\n",
    "        series = Fibonacci(n - 1)\n",
    "        series.append(series[-1] + series[-2])\n",
    "        return series\n",
    "\n",
    "\n",
    "num=6\n",
    "find_series=Fibonacci(num)\n",
    "print(f\"fibonacci_series(6) -> {find_series}\")"
   ]
  },
  {
   "cell_type": "code",
   "execution_count": null,
   "metadata": {},
   "outputs": [],
   "source": [
    "# Problem 8 : Subset Sum\n",
    "\n",
    "\"\"\"Given a set of positive integers and a target sum, write a recursive function to determine if there exists a subset\n",
    "of the integers that adds up to the target sum.\n",
    "subset_sum([3, 34, 4, 12, 5, 2], 9) -> True\"\"\"\n",
    "\n"
   ]
  }
 ],
 "metadata": {
  "kernelspec": {
   "display_name": "Python 3",
   "language": "python",
   "name": "python3"
  },
  "language_info": {
   "codemirror_mode": {
    "name": "ipython",
    "version": 3
   },
   "file_extension": ".py",
   "mimetype": "text/x-python",
   "name": "python",
   "nbconvert_exporter": "python",
   "pygments_lexer": "ipython3",
   "version": "3.11.6"
  }
 },
 "nbformat": 4,
 "nbformat_minor": 2
}
