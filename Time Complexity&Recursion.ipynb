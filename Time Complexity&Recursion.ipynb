{
 "cells": [
  {
   "cell_type": "markdown",
   "metadata": {},
   "source": [
    "<h1><center>Time Complexity & Recursion</center></h1>"
   ]
  },
  {
   "cell_type": "markdown",
   "metadata": {},
   "source": [
    "<h3>Find time complexity of below code blocks </h3>\n"
   ]
  },
  {
   "cell_type": "markdown",
   "metadata": {},
   "source": [
    "<h3>Problem 1 :</h3>\n",
    "<pre><code>\n",
    "def quicksort(arr):\n",
    "if len(arr) <= 1:\n",
    "return arr\n",
    "pivot = arr[len(arr) // 2]\n",
    "left = [x for x in arr if x < pivot]\n",
    "middle = [x for x in arr if x == pivot]\n",
    "right = [x for x in arr if x > pivot]\n",
    "return quicksort(left) + middle + quicksort(right)\n",
    "</code></pre>\n",
    "\n",
    "<p><b>Answer.</b></p>\n",
    "<p><b>The average time complexity of quicksort algorithum: O(n log n)</b></p>\n",
    "<p><b>Explanation</b></p>\n",
    "<p>As we see in the above code block, the given array became half in every recursive call and make a serise of n, n/2, n/3, n/4, ..... Hence we say that the average time complexity of quicksort algorithum: O(n log n)</p>"
   ]
  },
  {
   "cell_type": "markdown",
   "metadata": {},
   "source": [
    "<h3>Problem 2 :</h3>\n",
    "<pre>\n",
    "<code>\n",
    "def nested_loop_example(matrix):\n",
    "rows, cols = len(matrix), len(matrix[0])\n",
    "total = 0\n",
    "for i in range(rows):\n",
    "for j in range(cols):\n",
    "total += matrix[i][j]\n",
    "return total\n",
    "</code>\n",
    "</pre>\n",
    "<p><b>Answer.</b></p>\n",
    "<p><b>The time complexity of this algorithum: O(n^2)</b></p>\n",
    "<p><b>Explanation</b></p>\n",
    "<p>As we see in the above code block, there are two for loops, for each element of outer for loop the inner for loop runs to its maximum times. Hence we say that the average time complexity of this algorithum: O(n^2)</p>"
   ]
  },
  {
   "cell_type": "markdown",
   "metadata": {},
   "source": [
    "<h3>Problem 3 :</h3>\n",
    "<pre>\n",
    "<code>\n",
    "def example_function(arr):\n",
    "result = 0\n",
    "for element in arr:\n",
    "result += element\n",
    "return result</code>\n",
    "</pre>\n",
    "<p><b>Answer.</b></p>\n",
    "<p><b>The time complexity of this algorithum: O(n), (Linear time complexity)</b></p>\n",
    "<p><b>Explanation</b></p>\n",
    "<p>As we see in the above code block, There are one loop and a variable result, the loop runs with the range of array, means loop intrate each element one by one. Hence we say that the average time complexity of this algorithum: O(n), (Linear time complexity)</p>\n"
   ]
  },
  {
   "cell_type": "markdown",
   "metadata": {},
   "source": [
    "<h3>Problem 4 :</h3>\n",
    "<pre><code>\n",
    "def longest_increasing_subsequence(nums):\n",
    "n = len(nums)\n",
    "lis = [1] * n\n",
    "for i in range(1, n):\n",
    "for j in range(0, i):\n",
    "if nums[i] > nums[j] and lis[i] < lis[j] + 1:\n",
    "lis[i] = lis[j] + 1\n",
    "return max(lis)</code></pre>\n",
    "<p><b>Answer.</b></p>\n",
    "<p><b>The time complexity of this algorithum: O(n^2)</b></p>\n",
    "<p><b>Explanation</b></p>\n",
    "<p>As we see in the above code block, the dominant factor in the time complexity is the nested loop structure, resulting in O(n^2). Hence we say that the average time complexity of this algorithum: O(n^2)</p>\n"
   ]
  },
  {
   "cell_type": "markdown",
   "metadata": {},
   "source": [
    "<h3>Problem 5 :</h3>\n",
    "<pre><code>\n",
    "def mysterious_function(arr):\n",
    "n = len(arr)\n",
    "result = 0\n",
    "for i in range(n):\n",
    "for j in range(i, n):\n",
    "result += arr[i] * arr[j]\n",
    "return result</code></pre>\n",
    "<p><b>Answer.</b></p>\n",
    "<p><b>The time complexity of this algorithum: O(n^2)</b></p>\n",
    "<p><b>Explanation</b></p>\n",
    "<p>As we see in the above code block, the dominant factor in the time complexity is the nested loop structure, resulting in O(n^2). Hence we say that the average time complexity of this algorithum: O(n^2)</p>"
   ]
  },
  {
   "cell_type": "markdown",
   "metadata": {},
   "source": [
    "<h3>Solve the following problems on recursion</h3>"
   ]
  },
  {
   "cell_type": "code",
   "execution_count": null,
   "metadata": {},
   "outputs": [],
   "source": [
    "# Problem 6 : Sum of Digits\n",
    "\n",
    "\"\"\"Write a recursive function to calculate the sum of digits of a given positive integer.\n",
    "sum_of_digits(123) -> 6\"\"\"\n",
    "\n",
    "# function to find sum of digits of number\n",
    "def digits_sum(n):\n",
    "    sum=0\n",
    "    # base condition\n",
    "    if n<0 or n<10:\n",
    "        return n\n",
    "  # recursive step\n",
    "    r = n % 10\n",
    "    return r + digits_sum(n // 10)\n",
    "\n",
    "num=123\n",
    "find_sum=digits_sum(num)\n",
    "print(f\"Sum of digits of number {num} is {find_sum}.\")"
   ]
  },
  {
   "cell_type": "code",
   "execution_count": null,
   "metadata": {},
   "outputs": [],
   "source": [
    "# Problem 7: Fibonacci Series\n",
    "\n",
    "\"\"\"Write a recursive function to generate the first n numbers of the Fibonacci series.\n",
    "fibonacci_series(6) -> [0, 1, 1, 2, 3, 5]\"\"\"\n",
    "\n",
    "def Fibonacci(n):\n",
    "    \n",
    "    series=[]\n",
    "      # Base condition\n",
    "    if n <= 0:\n",
    "        return series\n",
    "\n",
    "    # Recursive step\n",
    "    if n == 1:\n",
    "        series.append(0)\n",
    "        return series\n",
    "    elif n == 2:\n",
    "        series.extend([0, 1])\n",
    "        return series\n",
    "    else:\n",
    "        series = Fibonacci(n - 1)\n",
    "        series.append(series[-1] + series[-2])\n",
    "        return series\n",
    "\n",
    "\n",
    "num=6\n",
    "find_series=Fibonacci(num)\n",
    "print(f\"fibonacci_series(6) -> {find_series}\")"
   ]
  },
  {
   "cell_type": "code",
   "execution_count": null,
   "metadata": {},
   "outputs": [],
   "source": [
    "# Problem 8 : Subset Sum\n",
    "\n",
    "\"\"\"Given a set of positive integers and a target sum, write a recursive function to determine if there exists a subset\n",
    "of the integers that adds up to the target sum.\n",
    "subset_sum([3, 34, 4, 12, 5, 2], 9) -> True\"\"\"\n",
    "\n",
    "def subset_sum(nums, target):\n",
    "    # Base cases\n",
    "    if target == 0:\n",
    "        return True\n",
    "    if not nums or target < 0:\n",
    "        return False\n",
    "    \n",
    "    # Recursive case\n",
    "    # Check if the subset sum is possible either by including or excluding the current element\n",
    "    return subset_sum(nums[:-1], target - nums[-1]) or subset_sum(nums[:-1], target)\n",
    "\n",
    "# Example usage:\n",
    "nums = [3, 34, 4, 12, 5, 2]\n",
    "target_sum = 9\n",
    "result = subset_sum(nums, target_sum)\n",
    "print(result)\n"
   ]
  },
  {
   "cell_type": "code",
   "execution_count": null,
   "metadata": {},
   "outputs": [],
   "source": [
    "# Problem 9:\n",
    "\n",
    "\"\"\"Given a non-empty string and a dictionary of words, write a recursive function to determine if the string can be\n",
    "segmented into a space-separated sequence of dictionary words.\n",
    "word_break( leetcode , [ leet , code ]) -> True\"\"\"\n",
    "\n",
    "def word_break(s, word_dict):\n",
    "    # Base case\n",
    "    if not s:\n",
    "        return True\n",
    "    \n",
    "    # Check if the string can be segmented by iterating through its prefixes\n",
    "    for i in range(1, len(s) + 1):\n",
    "        prefix = s[:i]\n",
    "        if prefix in word_dict and word_break(s[i:], word_dict):\n",
    "            return True\n",
    "    return False\n",
    "\n",
    "input_string = \"leetcode\"\n",
    "word_dictionary = [\"leet\", \"code\"]\n",
    "result = word_break(input_string, word_dictionary)\n",
    "print(result)"
   ]
  }
 ],
 "metadata": {
  "kernelspec": {
   "display_name": "Python 3",
   "language": "python",
   "name": "python3"
  },
  "language_info": {
   "codemirror_mode": {
    "name": "ipython",
    "version": 3
   },
   "file_extension": ".py",
   "mimetype": "text/x-python",
   "name": "python",
   "nbconvert_exporter": "python",
   "pygments_lexer": "ipython3",
   "version": "3.11.6"
  }
 },
 "nbformat": 4,
 "nbformat_minor": 2
}
