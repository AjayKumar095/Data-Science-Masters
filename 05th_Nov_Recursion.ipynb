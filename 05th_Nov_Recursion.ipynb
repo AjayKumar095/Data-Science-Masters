{
 "cells": [
  {
   "cell_type": "markdown",
   "metadata": {},
   "source": [
    "<h1><center><u>Recursion Assignment</u></center></h1>\n",
    "Q.1 Can you explain the logic and working of the Tower of Hanoi algorithm by writing a Java program?\n",
    "How does the recursion work, and how are the movements of disks between rods accomplished?<br>\n",
    "Q.2 Given two strings word1 and word2, return the minimum number of operations required to convert word1\n",
    "to word2.<br>\n",
    "Q. 3 Print the max value of the array [ 13, 1, -3, 22, 5].<br>\n",
    "Q.4 Find the sum of the values of the array [92, 23, 15, -20, 10].<br>\n",
    "Q.5 Given a number n. Print if it is an armstrong number or not.An armstrong number is a number if the sum\n",
    "of every digit in that number raised to the power of total digits in that number is equal to the number."
   ]
  },
  {
   "cell_type": "code",
   "execution_count": null,
   "metadata": {},
   "outputs": [],
   "source": [
    "\"\"\"Q. 3 Print the max value of the array [ 13, 1, -3, 22, 5].\"\"\"\n",
    "\n",
    "#Function to find maximum value in array.\n",
    "def find_max(arr, index):\n",
    "    #Base case: If the index is at the last element, return that element\n",
    "    if index == len(arr) - 1:\n",
    "        return arr[index]\n",
    "    \n",
    "    #Recursively find the maximum value\n",
    "    max_in_rest = find_max(arr, index + 1)\n",
    "    \n",
    "    #Comparing the maximum value\n",
    "    return max_in_rest if max_in_rest > arr[index] else arr[index]\n",
    "\n",
    "#Input array\n",
    "arr = [13, 1, -3, 22, 5]\n",
    "\n",
    "#Passing arr to function\n",
    "max_value = find_max(arr, 0)\n",
    "\n",
    "#Printing the result\n",
    "print(f\"The maximum value in the array is: {max_value}\")\n"
   ]
  },
  {
   "cell_type": "markdown",
   "metadata": {},
   "source": [
    " <h1><center><u>Code Explanation</u></center></h1>\n",
    " <ul>\n",
    "    <li>The code defines a function named <code>find_max</code> that takes an array <code>arr</code> and an index <code>index</code> as parameters.</li>\n",
    "    <li>The base case checks if the index is at the last element of the array. If true, it returns that element as it is the maximum in this case.</li>\n",
    "    <li>If the base case is not met, the function recursively finds the maximum value in the rest of the array by calling itself with an incremented index.</li>\n",
    "    <li>The result is compared with the current element at the given index, and the greater of the two is returned.</li>\n",
    "    <li>The sample array <code>[13, 1, -3, 22, 5]</code> is provided, and the recursive function is called with an initial index of 0 to find the maximum value in the array.</li>\n",
    "    <li>The result is printed as \"The maximum value in the array is: [max_value]\".</li>\n",
    "  </ul>"
   ]
  },
  {
   "cell_type": "code",
   "execution_count": 15,
   "metadata": {},
   "outputs": [
    {
     "name": "stdout",
     "output_type": "stream",
     "text": [
      "Sum of elements of array is 120.\n"
     ]
    }
   ],
   "source": [
    "\"\"\"Q.4 Find the sum of the values of the array [92, 23, 15, -20, 10].\"\"\"\n",
    "\n",
    "#Function to calculate the sum of elements (numbers) in array.\n",
    "\n",
    "def calculate_sum(number_list):\n",
    "    sum=0\n",
    "    for i in number_list:\n",
    "        sum+=i\n",
    "    return sum\n",
    "#try block to manage error.\n",
    "try:\n",
    "    #Taking a sample array\n",
    "    arr=[92, 23, 15, -20, 10,]\n",
    "    #passing the array to the function.\n",
    "    sum=calculate_sum(arr)\n",
    "    #printing the result\n",
    "    print(f\"Sum of elements of array is {sum}.\")\n",
    "except Exception:\n",
    "    print(\"List contains number only.\")\n",
    "\n",
    "    "
   ]
  },
  {
   "cell_type": "markdown",
   "metadata": {},
   "source": [
    "<h1><center><u>Code Explanation</u></center></h1>\n",
    "<ul>\n",
    "    <li>The code defines a function named <code>calculate_sum</code> that takes an array (<code>number_list</code>) as input and calculates the sum of its elements.</li>\n",
    "    <li>Inside the function:\n",
    "      <ul>\n",
    "        <li>It initializes the sum to 0.</li>\n",
    "        <li>Iterates through each element in the array, adding it to the sum.</li>\n",
    "        <li>Returns the calculated sum.</li>\n",
    "      </ul>\n",
    "    </li>\n",
    "    <li>The try block:\n",
    "      <ul>\n",
    "        <li>Includes a sample array (<code>arr</code>).</li>\n",
    "        <li>Calls the <code>calculate_sum</code> function with the array and stores the result in <code>sum_result</code>.</li>\n",
    "        <li>Prints the result as \"Sum of elements of the array is [result].\"</li>\n",
    "        <li>Includes error handling to manage potential exceptions, such as if the array contains non-numeric elements.</li>\n",
    "        <ul>\n",
    "          <li>If an exception occurs, it prints an error message: \"The list should contain numbers only.\"</li>\n",
    "        </ul>\n",
    "      </ul>\n",
    "    </li>\n",
    "  </ul>\n"
   ]
  },
  {
   "cell_type": "code",
   "execution_count": 3,
   "metadata": {},
   "outputs": [
    {
     "name": "stdout",
     "output_type": "stream",
     "text": [
      "153 is armstrong number.\n"
     ]
    }
   ],
   "source": [
    "\"\"\"Q.5 Given a number n. Print if it is an armstrong number or not.An armstrong number is a number if the sum\n",
    "of every digit in that number raised to the power of total digits in that number is equal to the number.\"\"\"\n",
    "\n",
    "#Example : 153 = 1^3 + 5^3 + 3^3 = 1 + 125 + 27 = 153 hence 153 is an armstrong number.\n",
    "\n",
    "#Function to check given number is armstrong or not.\n",
    "\n",
    "def check_armstrong(num):\n",
    "    sum=0\n",
    "    str_num=str(num)\n",
    "    if num>0:\n",
    "      for i in str_num:\n",
    "        j=int(i)**len(str_num)\n",
    "        sum+=j\n",
    "      if sum==(num):\n",
    "         return num\n",
    "    else:\n",
    "        return None\n",
    "\n",
    "#Try block to manage error.\n",
    "try:\n",
    "    \n",
    "    #Taking user input\n",
    "    number=int(input(\"enter any number\"))\n",
    "    #passing value to the function.\n",
    "    if check_armstrong(number):\n",
    "        print(f\"{number} is armstrong number.\")\n",
    "    else:\n",
    "       print(\"Given number is not armstrong.\") \n",
    "\n",
    "except Exception:\n",
    "    print(\"Enter number only\")            "
   ]
  },
  {
   "cell_type": "markdown",
   "metadata": {},
   "source": [
    "<h1><center><u>Code Explanation</u></center></h1>\n",
    " <ul>\n",
    "    <li>The code defines a function <code>check_armstrong</code> that takes an integer <code>num</code> as input.</li>\n",
    "    <li>It initializes a sum to 0 and converts the input number to a string for digit iteration.</li>\n",
    "    <li>If the number is positive, it iterates through each digit, raising it to the power of the total number of digits, and adds it to the sum.</li>\n",
    "    <li>If the sum equals the original number, the function returns the number; otherwise, it returns <code>None</code> for non-positive numbers.</li>\n",
    "    <li>The <code>try</code> block takes an integer input from the user, calls the <code>check_armstrong</code> function, and prints whether the entered number is an Armstrong number or not.</li>\n",
    "    <li>It includes error handling to manage a <code>ValueError</code> if the user enters a non-numeric value.</li>\n",
    "  </ul>"
   ]
  }
 ],
 "metadata": {
  "kernelspec": {
   "display_name": "Python 3",
   "language": "python",
   "name": "python3"
  },
  "language_info": {
   "codemirror_mode": {
    "name": "ipython",
    "version": 3
   },
   "file_extension": ".py",
   "mimetype": "text/x-python",
   "name": "python",
   "nbconvert_exporter": "python",
   "pygments_lexer": "ipython3",
   "version": "3.11.6"
  }
 },
 "nbformat": 4,
 "nbformat_minor": 2
}
