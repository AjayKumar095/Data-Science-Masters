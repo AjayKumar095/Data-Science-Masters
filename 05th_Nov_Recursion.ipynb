{
 "cells": [
  {
   "cell_type": "markdown",
   "metadata": {},
   "source": [
    "<h1><center><u>Recursion Assignment</u></center></h1>\n",
    "Q.1 Can you explain the logic and working of the Tower of Hanoi algorithm by writing a Java program?\n",
    "How does the recursion work, and how are the movements of disks between rods accomplished?<br>\n",
    "Q.2 Given two strings word1 and word2, return the minimum number of operations required to convert word1\n",
    "to word2.<br>\n",
    "Q. 3 Print the max value of the array [ 13, 1, -3, 22, 5].<br>\n",
    "Q.4 Find the sum of the values of the array [92, 23, 15, -20, 10].<br>\n",
    "Q.5 Given a number n. Print if it is an armstrong number or not.An armstrong number is a number if the sum\n",
    "of every digit in that number raised to the power of total digits in that number is equal to the number."
   ]
  },
  {
   "cell_type": "code",
   "execution_count": null,
   "metadata": {},
   "outputs": [],
   "source": [
    "\"\"\"Q. 3 Print the max value of the array [ 13, 1, -3, 22, 5].\"\"\"\n",
    "\n"
   ]
  },
  {
   "cell_type": "code",
   "execution_count": null,
   "metadata": {},
   "outputs": [],
   "source": [
    "\"\"\"Q.4 Find the sum of the values of the array [92, 23, 15, -20, 10].\"\"\"\n",
    "\n",
    "#Function to calculate the sum of elements (numbers) in array.\n",
    "\n",
    "def calculate_sum(number_list):\n",
    "    pass\n",
    "\n",
    "try:\n",
    "    "
   ]
  },
  {
   "cell_type": "code",
   "execution_count": 3,
   "metadata": {},
   "outputs": [
    {
     "name": "stdout",
     "output_type": "stream",
     "text": [
      "153 is armstrong number.\n"
     ]
    }
   ],
   "source": [
    "\"\"\"Q.5 Given a number n. Print if it is an armstrong number or not.An armstrong number is a number if the sum\n",
    "of every digit in that number raised to the power of total digits in that number is equal to the number.\"\"\"\n",
    "\n",
    "#Example : 153 = 1^3 + 5^3 + 3^3 = 1 + 125 + 27 = 153 hence 153 is an armstrong number.\n",
    "\n",
    "#Function to check given number is armstrong or not.\n",
    "\n",
    "def check_armstrong(num):\n",
    "    sum=0\n",
    "    str_num=str(num)\n",
    "    if num>0:\n",
    "      for i in str_num:\n",
    "        j=int(i)**len(str_num)\n",
    "        sum+=j\n",
    "      if sum==(num):\n",
    "         return num\n",
    "    else:\n",
    "        return None\n",
    "\n",
    "#Try block to manage error.\n",
    "try:\n",
    "    \n",
    "    #Taking user input\n",
    "    number=int(input(\"enter any number\"))\n",
    "    #passing value to the function.\n",
    "    if check_armstrong(number):\n",
    "        print(f\"{number} is armstrong number.\")\n",
    "    else:\n",
    "       print(\"Given number is not armstrong.\") \n",
    "\n",
    "except Exception:\n",
    "    print(\"Enter number only\")            "
   ]
  },
  {
   "cell_type": "markdown",
   "metadata": {},
   "source": [
    "<h1><center><u>Code Explanation</u></center></h1>\n",
    " <ul>\n",
    "    <li>The code defines a function <code>check_armstrong</code> that takes an integer <code>num</code> as input.</li>\n",
    "    <li>It initializes a sum to 0 and converts the input number to a string for digit iteration.</li>\n",
    "    <li>If the number is positive, it iterates through each digit, raising it to the power of the total number of digits, and adds it to the sum.</li>\n",
    "    <li>If the sum equals the original number, the function returns the number; otherwise, it returns <code>None</code> for non-positive numbers.</li>\n",
    "    <li>The <code>try</code> block takes an integer input from the user, calls the <code>check_armstrong</code> function, and prints whether the entered number is an Armstrong number or not.</li>\n",
    "    <li>It includes error handling to manage a <code>ValueError</code> if the user enters a non-numeric value.</li>\n",
    "  </ul>"
   ]
  }
 ],
 "metadata": {
  "kernelspec": {
   "display_name": "Python 3",
   "language": "python",
   "name": "python3"
  },
  "language_info": {
   "codemirror_mode": {
    "name": "ipython",
    "version": 3
   },
   "file_extension": ".py",
   "mimetype": "text/x-python",
   "name": "python",
   "nbconvert_exporter": "python",
   "pygments_lexer": "ipython3",
   "version": "3.11.6"
  }
 },
 "nbformat": 4,
 "nbformat_minor": 2
}
