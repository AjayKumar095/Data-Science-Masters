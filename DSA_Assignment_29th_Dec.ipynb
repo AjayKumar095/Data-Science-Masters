{
 "cells": [
  {
   "cell_type": "markdown",
   "metadata": {},
   "source": [
    "<h1><center>DSA<br>Assignment Questions</center></h1>"
   ]
  },
  {
   "cell_type": "code",
   "execution_count": null,
   "metadata": {},
   "outputs": [],
   "source": [
    "\"\"\"Problem 14: Given a sorted array and a target value, return the index if the target is found. If not, return the\n",
    "index where it would be inserted.\"\"\"\n",
    "\n",
    "# declaring a sorted array\n",
    "sorted_arr=[1,3,5,6]\n",
    "\n",
    "# Target value to find if present in array\n",
    "target=5\n",
    "\n",
    "for i in range(len(sorted_arr)):\n",
    "    if sorted_arr[i]==target:\n",
    "        print(f\"Element found in array at index {i}\")\n",
    "        break"
   ]
  },
  {
   "cell_type": "code",
   "execution_count": null,
   "metadata": {},
   "outputs": [],
   "source": [
    "\"\"\"Problem 15: Find the minimum element in a rotated sorted array.\"\"\"\n",
    "\n",
    "# Declaring a rotated array\n",
    "array=[4, 5, 6, 7, 0, 1, 2]\n",
    "\n",
    "# Finding the minimun element in the array.\n",
    "def find_min(arr):\n",
    "    n = len(arr)\n",
    "    # Traverse through all array elements\n",
    "    for i in range(n):\n",
    "        for j in range(0, n-1):\n",
    "            # Swap if the element found is greater than the next element\n",
    "            if arr[j] > arr[j+1]:\n",
    "               arr[j], arr[j+1] = arr[j+1], arr[j]\n",
    "               \n",
    "    return arr[0]\n",
    "\n",
    "# Function calling\n",
    "min_num=find_min(array)\n",
    "\n",
    "# Result\n",
    "print(\"Minimum element in the given sorted array:\", min_num)"
   ]
  },
  {
   "cell_type": "code",
   "execution_count": null,
   "metadata": {},
   "outputs": [],
   "source": [
    "\"\"\"Problem 16: Search for a target value in a rotated sorted array.\"\"\"\n",
    "\n",
    "# declaring the rotated sorted array\n",
    "nums = [4, 5, 6, 7, 0, 1, 2]\n",
    "# Elemenet to find\n",
    "target = 0\n",
    "\n",
    "for i in range(len(nums)):\n",
    "    if nums[i]==target:\n",
    "        print(f\"Element found in array at index {i}\")\n",
    "        break"
   ]
  },
  {
   "cell_type": "code",
   "execution_count": null,
   "metadata": {},
   "outputs": [],
   "source": [
    "\"\"\"Problem 17: Find the peak element in an array. A peak element is greater than its neighbors.\"\"\"\n",
    "\n",
    "# Declaring a array\n",
    "arr=[1,2,3,4,5,3,0,7]\n",
    "\n",
    "# Finding the peak element in an array.\n",
    "for i in range(len(arr)):\n",
    "     if arr[i] < arr[i+1] and (i == len(arr)-2 or arr[i+1] > arr[i+2]):\n",
    "        print(f\" Peak element found at index {i+1} which is greater than its neighbors {arr[i]+1}\")\n",
    "        break"
   ]
  },
  {
   "cell_type": "code",
   "execution_count": null,
   "metadata": {},
   "outputs": [],
   "source": [
    "\"\"\"Problem 18: Given a m x n matrix where each row and column is sorted in ascending order, count the number\n",
    "of negative numbers.\"\"\"\n",
    "\n",
    "# Declaring a m x n matrix\n",
    "grid = [[4, 3, 2, -1], [3, 2, 1, -1], [1, 1, -1, -2], [-1, -1, -2, -3]]\n",
    "\n",
    "# counter \n",
    "negative_count=0\n",
    "\n",
    "# Counting the negative numbers\n",
    "for i in grid:\n",
    "    if isinstance(i, list):\n",
    "        for j in i:\n",
    "            if j<0:\n",
    "                negative_count+=1\n",
    "print(\"Count of negative number in given 2-D array:\", negative_count)               "
   ]
  },
  {
   "cell_type": "code",
   "execution_count": null,
   "metadata": {},
   "outputs": [],
   "source": [
    "\"\"\"Problem 19: Given a 2D matrix sorted in ascending order in each row, and the first integer of each row is\n",
    "greater than the last integer of the previous row, determine if a target value is present in the matrix.\"\"\"\n",
    "\n",
    "# Declaring a 2-D array and target value to find.\n",
    "matrix = [[1, 3, 5, 7], [10, 11, 16, 20], [23, 30, 34, 60]]\n",
    "target = 3\n",
    "\n",
    "for i in matrix:\n",
    "    if isinstance(i, list):\n",
    "        for j in i:\n",
    "            if j==target:\n",
    "               print(True, ',Target element found in array.')"
   ]
  },
  {
   "cell_type": "code",
   "execution_count": null,
   "metadata": {},
   "outputs": [],
   "source": [
    "\"\"\"Problem 20: Find Median in Two Sorted Arrays\n",
    "   Problem: Given two sorted arrays, find the median of the combined sorted array.\"\"\"\n",
    "\n",
    "# function to find the median.\n",
    "def findMedian(nums1, nums2):\n",
    "    merged_array = sorted(nums1 + nums2)\n",
    "    length = len(merged_array)\n",
    "    if length % 2 == 0:\n",
    "        median = (merged_array[length // 2 - 1] + merged_array[length // 2]) / 2\n",
    "    else:\n",
    "        median = merged_array[length // 2]\n",
    "\n",
    "    return median\n",
    "\n",
    "# Example\n",
    "nums1 = [1, 3]\n",
    "nums2 = [2]\n",
    "\n",
    "result = findMedian(nums1, nums2)\n",
    "print(\"Median of the combined sorted array:\", float(result))"
   ]
  },
  {
   "cell_type": "code",
   "execution_count": null,
   "metadata": {},
   "outputs": [],
   "source": [
    "\"\"\"Problem 21: Given a sorted character array and a target letter, find the smallest letter in the array that is\n",
    "greater than the target.\"\"\"\n",
    "\n",
    "# function to find smallest letter greater than the target\n",
    "def find(letters, target):\n",
    "    for letter in letters:\n",
    "        if letter > target:\n",
    "            return letter\n",
    "    return letters[0]\n",
    "\n",
    "# Example \n",
    "letters_array = ['c', 'f', 'j']\n",
    "target_letter = 'a'\n",
    "result = find(letters_array, target_letter)\n",
    "print(\"Smallest letter greater than\", target_letter, \"is\", result)\n"
   ]
  },
  {
   "cell_type": "code",
   "execution_count": null,
   "metadata": {},
   "outputs": [],
   "source": [
    "\"\"\"Problem 22: Given an array with n objects colored red, white, or blue, sort them in-place so that objects of\n",
    "the same color are adjacent, with the colors in the order red, white, and blue.\"\"\"\n",
    "\n",
    "# Arranging the objects\n",
    "def arrange(arr):\n",
    "    n = len(arr)\n",
    "    # Traverse through all array elements\n",
    "    for i in range(n):\n",
    "        for j in range(0, n-1):\n",
    "            # Swap if the element found is greater than the next element\n",
    "            if arr[j] > arr[j+1]:\n",
    "               arr[j], arr[j+1] = arr[j+1], arr[j]\n",
    "               \n",
    "    return arr\n",
    "# Declaring a arrya\n",
    "nums = [2, 0, 2, 1, 1, 0]\n",
    "arrange(nums)"
   ]
  },
  {
   "cell_type": "code",
   "execution_count": null,
   "metadata": {},
   "outputs": [],
   "source": [
    "\"\"\"Problem 23: Find the kth largest element in an unsorted array.\"\"\"\n",
    "\n",
    "def arrange(arr,k):\n",
    "    n = len(arr)\n",
    "    # Traverse through all array elements\n",
    "    for i in range(n):\n",
    "        for j in range(0, n-1):\n",
    "            # Swap if the element found is greater than the next element\n",
    "            if arr[j] < arr[j+1]:\n",
    "               arr[j], arr[j+1] = arr[j+1], arr[j]\n",
    "               \n",
    "    return arr[k-1]\n",
    "# Example usage\n",
    "k=2\n",
    "unsorted_array = [3, 1, 4, 2, 5]\n",
    "result = arrange(unsorted_array,k)\n",
    "print(f\"The k_th largest element is:\", result)\n"
   ]
  },
  {
   "cell_type": "code",
   "execution_count": null,
   "metadata": {},
   "outputs": [],
   "source": [
    "\"\"\"Problem 24: Given an unsorted array, reorder it in-place such that nums[0] <= nums[1] >= nums[2] <=\n",
    "nums[3]...\"\"\"\n",
    "\n",
    "# Declaring a array.\n",
    "nums = [3, 5, 2, 1, 6, 4]\n",
    "\n",
    "# Rearrange the elements\n",
    "for i in range(1, len(nums), 2):\n",
    "    if nums[i] > nums[i - 1]:\n",
    "        nums[i], nums[i - 1] = nums[i - 1], nums[i]\n",
    "\n",
    "print(nums)\n"
   ]
  },
  {
   "cell_type": "code",
   "execution_count": null,
   "metadata": {},
   "outputs": [],
   "source": [
    "\"\"\"Problem 25: Given an array of integers, calculate the sum of all its elements.\"\"\"\n",
    "\n",
    "# Declaring a array.\n",
    "Input= [1, 2, 3, 4, 5]\n",
    "\n",
    "# Calculating the sum of all its elements.\n",
    "sum=0\n",
    "for i in Input:\n",
    "    sum+=i\n",
    "\n",
    "print(\"Sum of all elements is\",sum)    "
   ]
  },
  {
   "cell_type": "code",
   "execution_count": null,
   "metadata": {},
   "outputs": [],
   "source": [
    "\"\"\"Problem 26: Find the maximum element in an array of integers.\"\"\"\n",
    "\n",
    "# Declaring a array\n",
    "arr=[1,2,3,4,5,3,0,7]\n",
    "\n",
    "if len(arr) >= 2:\n",
    "    left = arr[0]\n",
    "    right = arr[1]\n",
    "\n",
    "    for i in range(1, len(arr)-1):\n",
    "        if arr[i] > right:\n",
    "            max_num = arr[i]\n",
    "            left = arr[i]\n",
    "            right = arr[i+1]\n",
    "        elif arr[i+1] > right:\n",
    "            max_num = arr[i+1]\n",
    "            left = arr[i]\n",
    "            right = arr[i+1]\n",
    "\n",
    "print(max_num)"
   ]
  },
  {
   "cell_type": "code",
   "execution_count": null,
   "metadata": {},
   "outputs": [],
   "source": [
    "\"\"\"Problem 27: Implement linear search to find the index of a target element in an array.\"\"\"\n",
    "\n",
    "# declaring the rotated sorted array\n",
    "nums = [4, 5, 6, 7, 0, 1, 2]\n",
    "# Elemenet to find\n",
    "target = 5\n",
    "\n",
    "for i in range(len(nums)):\n",
    "    if nums[i]==target:\n",
    "        print(f\"Element found in array at index {i}\")\n",
    "        break"
   ]
  },
  {
   "cell_type": "code",
   "execution_count": null,
   "metadata": {},
   "outputs": [],
   "source": [
    "\"\"\"Problem 28 Calculate the factorial of a given number.\"\"\"\n",
    "\n",
    "# Function to find factorial\n",
    "def fact(num):\n",
    "    if num<=1:\n",
    "        return num\n",
    "    return num*fact(num-1)\n",
    "\n",
    "num=5\n",
    "fact(num)  "
   ]
  },
  {
   "cell_type": "code",
   "execution_count": null,
   "metadata": {},
   "outputs": [],
   "source": [
    "\"\"\"Problem 29: Check if a given number is a prime number.\"\"\"\n",
    "\n",
    "# declacring a number\n",
    "num = 7\n",
    "\n",
    "if num > 1:\n",
    "    # Check for factors from 2 to the square root of the number.\n",
    "    for i in range(2, int(num**0.5) + 1):\n",
    "     if num % i == 0:\n",
    "        print(f\"{num} is not a prime number.\")\n",
    "        break\n",
    "    else:\n",
    "     print(f\"{num} is a prime number.\")\n",
    "    \n",
    "else:\n",
    "    print(f\"{num} is not a prime number.\")"
   ]
  },
  {
   "cell_type": "code",
   "execution_count": null,
   "metadata": {},
   "outputs": [],
   "source": [
    "\"\"\"Problem 30: Generate the Fibonacci series up to a given number n.\"\"\"\n",
    "\n",
    "#Taking 'n' as arrgunment from user\n",
    "n=8\n",
    "\n",
    "#Delcaring first two terms of series\n",
    "fib_seri=[0,1]\n",
    "\n",
    "for _ in range(2, n):\n",
    "    next_seri=fib_seri[-1]+fib_seri[-2]\n",
    "    fib_seri.append(next_seri)\n",
    "\n",
    "print(fib_seri)"
   ]
  },
  {
   "cell_type": "code",
   "execution_count": null,
   "metadata": {},
   "outputs": [],
   "source": [
    "\"\"\"Problem 31: Calculate the power of a number using recursion.\"\"\"\n",
    "\n",
    "# function to find the power\n",
    "def power(base, exponent):\n",
    "    if exponent == 0:\n",
    "        return 1\n",
    "    else:\n",
    "        return base * power(base, exponent - 1)\n",
    "\n",
    "# exapmle\n",
    "base_number = 2\n",
    "exponent_value = 3\n",
    "result = power(base_number, exponent_value)\n",
    "\n",
    "print(f\"{base_number} raised to the power of {exponent_value} is {result}\")"
   ]
  },
  {
   "cell_type": "code",
   "execution_count": null,
   "metadata": {},
   "outputs": [],
   "source": [
    "\"\"\"Problem 32: Reverse a given string.\"\"\"\n",
    "\n",
    "# Decalaring a string\n",
    "string='hello'\n",
    "reversed_string=string[::-1]\n",
    "reversed_string"
   ]
  }
 ],
 "metadata": {
  "kernelspec": {
   "display_name": "Python 3",
   "language": "python",
   "name": "python3"
  },
  "language_info": {
   "codemirror_mode": {
    "name": "ipython",
    "version": 3
   },
   "file_extension": ".py",
   "mimetype": "text/x-python",
   "name": "python",
   "nbconvert_exporter": "python",
   "pygments_lexer": "ipython3",
   "version": "3.11.6"
  }
 },
 "nbformat": 4,
 "nbformat_minor": 2
}
