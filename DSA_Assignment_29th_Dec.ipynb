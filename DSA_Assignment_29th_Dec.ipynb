{
 "cells": [
  {
   "cell_type": "markdown",
   "metadata": {},
   "source": [
    "<h1><center>DSA<br>Assignment Questions</center></h1>"
   ]
  },
  {
   "cell_type": "code",
   "execution_count": null,
   "metadata": {},
   "outputs": [],
   "source": [
    "\"\"\"Problem 14: Given a sorted array and a target value, return the index if the target is found. If not, return the\n",
    "index where it would be inserted.\"\"\"\n",
    "\n",
    "# declaring a sorted array\n",
    "sorted_arr=[1,3,5,6]\n",
    "\n",
    "# Target value to find if present in array\n",
    "target=5\n",
    "\n",
    "for i in range(len(sorted_arr)):\n",
    "    if sorted_arr[i]==target:\n",
    "        print(f\"Element found in array at index {i}\")\n",
    "        break"
   ]
  },
  {
   "cell_type": "code",
   "execution_count": null,
   "metadata": {},
   "outputs": [],
   "source": [
    "\"\"\"Problem 15: Find the minimum element in a rotated sorted array.\"\"\"\n",
    "\n",
    "# Declaring a rotated array\n",
    "array=[4, 5, 6, 7, 0, 1, 2]\n",
    "\n",
    "# Finding the minimun element in the array.\n",
    "def find_min(arr):\n",
    "    n = len(arr)\n",
    "    # Traverse through all array elements\n",
    "    for i in range(n):\n",
    "        for j in range(0, n-1):\n",
    "            # Swap if the element found is greater than the next element\n",
    "            if arr[j] > arr[j+1]:\n",
    "               arr[j], arr[j+1] = arr[j+1], arr[j]\n",
    "               \n",
    "    return arr[0]\n",
    "\n",
    "# Function calling\n",
    "min_num=find_min(array)\n",
    "\n",
    "# Result\n",
    "print(\"Minimum element in the given sorted array:\", min_num)"
   ]
  }
 ],
 "metadata": {
  "kernelspec": {
   "display_name": "Python 3",
   "language": "python",
   "name": "python3"
  },
  "language_info": {
   "codemirror_mode": {
    "name": "ipython",
    "version": 3
   },
   "file_extension": ".py",
   "mimetype": "text/x-python",
   "name": "python",
   "nbconvert_exporter": "python",
   "pygments_lexer": "ipython3",
   "version": "3.11.6"
  }
 },
 "nbformat": 4,
 "nbformat_minor": 2
}
