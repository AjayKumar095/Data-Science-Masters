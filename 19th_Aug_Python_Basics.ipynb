{
 "cells": [
  {
   "cell_type": "code",
   "execution_count": 13,
   "metadata": {},
   "outputs": [
    {
     "name": "stdout",
     "output_type": "stream",
     "text": [
      "Before Swaping x= 10 y= 15\n",
      "After Swaping x= 15 y= 10\n"
     ]
    }
   ],
   "source": [
    "#Q1 (Python Basics Variable)\n",
    "\"\"\"1. Declare two variables, `x` and `y`, and assign them integer values. Swap the\n",
    "values of these variables without using any temporary variable.\"\"\"\n",
    "\n",
    "#Declaring variable x and y\n",
    "x,y= 10,15\n",
    "\n",
    "#Printing variable brfore swaping\n",
    "print(\"Before Swaping x=\", x, \"y=\",y)\n",
    "\n",
    "#Swaping variables\n",
    "x,y= y,x\n",
    "\n",
    "#Printing result\n",
    "print(\"After Swaping x=\", x, \"y=\",y)\n"
   ]
  },
  {
   "cell_type": "code",
   "execution_count": 18,
   "metadata": {},
   "outputs": [
    {
     "name": "stdout",
     "output_type": "stream",
     "text": [
      "12 Sq.Units\n"
     ]
    }
   ],
   "source": [
    "#Q2 (Python Basics Variable)\n",
    "\"\"\"2. Create a program that calculates the area of a rectangle. Take the length and\n",
    "width as inputs from the user and store them in variables. Calculate and\n",
    "display the area.\"\"\"\n",
    "\n",
    "#Taking length and width as input from user\n",
    "le= float(input(\"Enter the length of rectangle: \"))\n",
    "wi= float(input(\"Enter the length of rectangle: \"))\n",
    "\n",
    "#Calculating area of rectangle\n",
    "rect_area=le*wi\n",
    "\n",
    "#Printing area of rectangle as result\n",
    "print(rect_area, \"Sq.Units\")\n"
   ]
  },
  {
   "cell_type": "code",
   "execution_count": 19,
   "metadata": {},
   "outputs": [
    {
     "name": "stdout",
     "output_type": "stream",
     "text": [
      "36.0 degree celsius is equal to 96.8 Fahrenheit\n"
     ]
    }
   ],
   "source": [
    "#Q3 (Python Basics Variable)\n",
    "\"\"\"3. Write a Python program that converts temperatures from Celsius to\n",
    "Fahrenheit. Take the temperature in Celsius as input, store it in a variable,\n",
    "convert it to Fahrenheit, and display the result.\"\"\"\n",
    "#Declaring variable to store temperature in celsius\n",
    "temp=float(input(\"Enter the temperature in Celsius \"))\n",
    "\n",
    "#Declaring second variable to store the result as fahrenheit and calulating temperature\n",
    "fahr= 9/5*temp+32\n",
    "\n",
    "#Printing the conversion\n",
    "print(temp,\"degree celsius is equal to\",fahr,\"Fahrenheit\")\n",
    "\n"
   ]
  },
  {
   "cell_type": "code",
   "execution_count": 4,
   "metadata": {},
   "outputs": [
    {
     "name": "stdout",
     "output_type": "stream",
     "text": [
      "13\n"
     ]
    }
   ],
   "source": [
    "#Q1 (String Based Questions)\n",
    "\"\"\"1. Write a Python program that takes a string as input and prints the length of\n",
    "the string.\"\"\"\n",
    "\n",
    "#Taking string as input from user\n",
    "string = input(\"Enter a string: \")\n",
    "\n",
    "#Calulating the length of string and store in a variable\n",
    "str_len= len(string)\n",
    "\n",
    "#Printing the length of entered string\n",
    "#example: Hello, World!\n",
    "print(str_len)\n"
   ]
  },
  {
   "cell_type": "code",
   "execution_count": 16,
   "metadata": {},
   "outputs": [
    {
     "name": "stdout",
     "output_type": "stream",
     "text": [
      "1\n"
     ]
    }
   ],
   "source": [
    "#Q2 (String Based Questions)\n",
    "\"\"\"2. Create a program that takes a sentence from the user and counts the number\n",
    "of vowels (a, e, i, o, u) in the string.\"\"\"\n",
    "\n",
    "#Taking string as input from user\n",
    "string = input(\"Enter a string\")\n",
    "\n",
    "#Define vowels in a variable\n",
    "vow=\"aeiouAEIOU\"\n",
    "\n",
    "# Using sum(), map(), and in to count vowels\n",
    "cout_vow= sum(map(string.count, vow))\n",
    "\n",
    "#Printing count of vowels \n",
    "print(cout_vow)\n",
    "\n"
   ]
  },
  {
   "cell_type": "code",
   "execution_count": 17,
   "metadata": {},
   "outputs": [
    {
     "name": "stdout",
     "output_type": "stream",
     "text": [
      "gnirts fo redro eht esrever fo dohtem eht si sihT\n"
     ]
    }
   ],
   "source": [
    "#Q3 (String Based Questions)\n",
    "\"\"\"3. Given a string, reverse the order of characters using string slicing and print\n",
    "the reversed string.\"\"\"\n",
    "\n",
    "#Declaring a string\n",
    "s=\"This is the method of reverse the order of string\"\n",
    "\n",
    "#Reversing the string order\n",
    "rev=s[::-1]\n",
    "\n",
    "#Printing the reversed string\n",
    "print(rev)"
   ]
  },
  {
   "cell_type": "code",
   "execution_count": 24,
   "metadata": {},
   "outputs": [
    {
     "data": {
      "text/plain": [
       "True"
      ]
     },
     "execution_count": 24,
     "metadata": {},
     "output_type": "execute_result"
    }
   ],
   "source": [
    "#Q4 (String Based Questions)\n",
    "\"\"\"4. Write a program that takes a string as input and checks if it is a palindrome\n",
    "(reads the same forwards and backwards).\"\"\"\n",
    "\n",
    "#Taking string as input from user\n",
    "User_string=input(\"Enter a string to check it is a palindrome or not\")\n",
    "\n",
    "#Reversing the User_string\n",
    "reversed_string = User_string[::-1]\n",
    "\n",
    "#Checking the input string or reversed string is equal or not\n",
    "reversed_string == User_string\n",
    "\n",
    "# return True if sting is palindrome or False if not palindrome\n",
    "# taking \"level\" as input \n",
    "\n"
   ]
  },
  {
   "cell_type": "code",
   "execution_count": 40,
   "metadata": {},
   "outputs": [
    {
     "name": "stdout",
     "output_type": "stream",
     "text": [
      "DataScienceMasters\n"
     ]
    }
   ],
   "source": [
    "#Q5 (String Based Questions)\n",
    "\"\"\"5. Create a program that takes a string as input and removes all the spaces from\n",
    "it. Print the modified string without spaces.\"\"\"\n",
    "#Taking string as input from user\n",
    "string=input(\"Enter a string: \")\n",
    "\n",
    "#After removing spaces\n",
    "result=''.join(string.split())\n",
    "\n",
    "#Printing result\n",
    "#Example: Data Science Masters\n",
    "print(result)"
   ]
  }
 ],
 "metadata": {
  "kernelspec": {
   "display_name": "Python 3",
   "language": "python",
   "name": "python3"
  },
  "language_info": {
   "codemirror_mode": {
    "name": "ipython",
    "version": 3
   },
   "file_extension": ".py",
   "mimetype": "text/x-python",
   "name": "python",
   "nbconvert_exporter": "python",
   "pygments_lexer": "ipython3",
   "version": "3.11.6"
  }
 },
 "nbformat": 4,
 "nbformat_minor": 2
}
