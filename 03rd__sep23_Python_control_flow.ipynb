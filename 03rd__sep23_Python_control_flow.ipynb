{
 "cells": [
  {
   "cell_type": "markdown",
   "metadata": {},
   "source": [
    "<h1><center><u>Basic If-Else Statements:</u></center></h1>\n",
    "<p>1. Write a Python program to check if a given number is positive or negative.<br>\n",
    "2. Create a program that determines if a person is eligible to vote based on their age.<br>\n",
    "3. Develop a program to find the maximum of two numbers using if-else statements.<br>\n",
    "4. Write a Python script to classify a given year as a leap year or not.<br>\n",
    "5. Create a program that checks whether a character is a vowel or a consonant.<br>\n",
    "6. Implement a program to determine whether a given number is even or odd.<br>\n",
    "7. Write a Python function to calculate the absolute value of a number without using the `abs()` function.<br>\n",
    "8. Develop a program that determines the largest of three given numbers using if-else statements.<br>\n",
    "9. Create a program that checks if a given string is a palindrome.<br>\n",
    "10. Write a Python program to calculate the grade based on a student's score.</p>"
   ]
  },
  {
   "cell_type": "code",
   "execution_count": 9,
   "metadata": {},
   "outputs": [
    {
     "name": "stdout",
     "output_type": "stream",
     "text": [
      "5 is Positive.\n"
     ]
    }
   ],
   "source": [
    "\"\"\"1. Write a Python program to check if a given number is positive or negative.\"\"\"\n",
    "\n",
    "#try block to manage errors.\n",
    "try:\n",
    "    \n",
    "    #Taking user input\n",
    "    number=int(input(\"Enter any number:\"))\n",
    "    \n",
    "    #Conditions to check number is positive or negetive.\n",
    "    if number<0:\n",
    "        print(f\"{number} is Negative.\")\n",
    "    if number>0:\n",
    "        print(f\"{number} is Positive.\")\n",
    "   \n",
    "   #This is because 0 can't be positive or negetive.     \n",
    "    if number==0:\n",
    "        print(\"Don't enter zero.\")\n",
    "            \n",
    "except Exception:\n",
    "    print(\"Please enter number only.\")\n",
    "    \n",
    "                   "
   ]
  },
  {
   "cell_type": "code",
   "execution_count": 17,
   "metadata": {},
   "outputs": [
    {
     "name": "stdout",
     "output_type": "stream",
     "text": [
      "Person is eligible to vote.\n"
     ]
    }
   ],
   "source": [
    "\"\"\"2. Create a program that determines if a person is eligible to vote based on their age.\"\"\"\n",
    "\n",
    "#try block to manage errors.\n",
    "\n",
    "try:\n",
    "    \n",
    "    #Taking user age as input.\n",
    "    age=int(input(\"enter your age:\"))\n",
    "    \n",
    "    #condtion for voting.\n",
    "    if age>18 and age<=100:\n",
    "        print(\"Person is eligible to vote.\")\n",
    "        \n",
    "    if age<18:\n",
    "        print(\"Person is not eligible to vote.\")\n",
    "        \n",
    "    if age>100:\n",
    "          print(\"Please enter a valid age.\")  \n",
    "\n",
    "except Exception:\n",
    "    print(\"Please enter number only.\")       "
   ]
  },
  {
   "cell_type": "code",
   "execution_count": 19,
   "metadata": {},
   "outputs": [
    {
     "name": "stdout",
     "output_type": "stream",
     "text": [
      "7 is maximum.\n"
     ]
    }
   ],
   "source": [
    "\"\"\"3. Develop a program to find the maximum of two numbers using if-else statements.\"\"\"\n",
    "\n",
    "#try block to manage errors.\n",
    "\n",
    "try:\n",
    "    #Taking user age as input.\n",
    "    num1=int(input(\"Enter first number:\"))\n",
    "    num2=int(input(\"Enter second number:\"))\n",
    "    \n",
    "    #condtion for checking maximum number.\n",
    "    if num1>num2:\n",
    "        print(f\"{num1} is maximum.\")\n",
    "     \n",
    "    else:\n",
    "        print(f\"{num2} is maximum.\")    \n",
    "    \n",
    "except Exception:\n",
    "    print(\"Please enter number only.\")   \n",
    "    \n"
   ]
  },
  {
   "cell_type": "code",
   "execution_count": 24,
   "metadata": {},
   "outputs": [
    {
     "name": "stdout",
     "output_type": "stream",
     "text": [
      "2013 is not a leap year.\n"
     ]
    }
   ],
   "source": [
    "\"\"\"4. Write a Python script to classify a given year as a leap year or not.\"\"\"\n",
    "\n",
    "#try block to manage errors.\n",
    "\n",
    "try:\n",
    "    #Taking user input.\n",
    "    year=int(input(\"Enter any year:\"))\n",
    "    \n",
    "    #Checking number is leap or not.\n",
    "    if (year % 4 == 0 and year % 100 != 0) or (year % 400 == 0):\n",
    "        print(f\"{year} is leap year.\")\n",
    "    else:\n",
    "        print(f\"{year} is not a leap year.\")\n",
    "      \n",
    "except Exception:\n",
    "    print(\"Please enter number only.\")   "
   ]
  },
  {
   "cell_type": "code",
   "execution_count": 33,
   "metadata": {},
   "outputs": [
    {
     "name": "stdout",
     "output_type": "stream",
     "text": [
      "Entered character is consonant.\n"
     ]
    }
   ],
   "source": [
    "\"\"\"5. Create a program that checks whether a character is a vowel or a consonant.\"\"\"\n",
    "#try block to manage errors.\n",
    "try:\n",
    "    #Taking user input.\n",
    "    chr=input(\"Enter any character\")\n",
    "    char=chr.lower()\n",
    "    \n",
    "    #Checking whether a character is a vowel or a consonant. \n",
    "    if (char=='a' or char=='e' or char=='i' or char=='o' or char=='u'):\n",
    "        print(\"Entered character is vowel.\")\n",
    "     \n",
    "    else:\n",
    "         print(\"Entered character is consonant.\")   \n",
    "\n",
    "except Exception:\n",
    "    print(\"Enter single charater only.\")         \n"
   ]
  },
  {
   "cell_type": "code",
   "execution_count": 36,
   "metadata": {},
   "outputs": [
    {
     "name": "stdout",
     "output_type": "stream",
     "text": [
      "2 is even.\n"
     ]
    }
   ],
   "source": [
    "\"\"\"6. Implement a program to determine whether a given number is even or odd.\"\"\"\n",
    "\n",
    "#try block to manage errors.\n",
    "try:\n",
    "    \n",
    "    #Taking user input\n",
    "    number=int(input(\"Enter any number:\"))\n",
    "    \n",
    "    #Checking whether a given number is even or odd.\n",
    "    if number%2==0:\n",
    "         print(f\"{number} is even.\") \n",
    "    else:\n",
    "        print(f\"{number} is odd.\")\n",
    "\n",
    "except Exception:\n",
    "    print(\"Please enter number only.\")         "
   ]
  },
  {
   "cell_type": "code",
   "execution_count": 40,
   "metadata": {},
   "outputs": [
    {
     "name": "stdout",
     "output_type": "stream",
     "text": [
      "The absolute value of -8 is 8\n"
     ]
    }
   ],
   "source": [
    "\"\"\"7. Write a Python function to calculate the absolute value of a number without using the `abs()` function.\"\"\"\n",
    "\n",
    "#Function calculate the absolute value.\n",
    "def ABS_value(n):\n",
    "    if n<0:\n",
    "        return -n\n",
    "    else:\n",
    "        return n\n",
    "\n",
    "#Taking user input.\n",
    "number=int(input(\"Enter a\")) \n",
    "\n",
    "#Printing absolute value.\n",
    "absolute=ABS_value(number)\n",
    "print(f\"The absolute value of {number} is {absolute}\")\n",
    "   \n"
   ]
  },
  {
   "cell_type": "code",
   "execution_count": 45,
   "metadata": {},
   "outputs": [
    {
     "name": "stdout",
     "output_type": "stream",
     "text": [
      "5 is maximum.\n"
     ]
    }
   ],
   "source": [
    "\"\"\"8. Develop a program that determines the largest of three given numbers using if-else statements.\"\"\"\n",
    "\n",
    "#try block to manage errors.\n",
    "\n",
    "try:\n",
    "    #Taking user age as input.\n",
    "    num1=int(input(\"Enter first number:\"))\n",
    "    num2=int(input(\"Enter second number:\"))\n",
    "    num3=int(input(\"Enter third number:\"))\n",
    "    \n",
    "    #condtion for checking maximum number.\n",
    "    if num1>num2 and num1>num3:\n",
    "        print(f\"{num1} is maximum.\")\n",
    "    if num2>num1 and num2>num3:\n",
    "        print(f\"{num2} is maximum.\")\n",
    "    if num3>num1 and num3>num2:\n",
    "        print(f\"{num3} is maximum.\")   \n",
    "    \n",
    "except Exception:\n",
    "    print(\"Please enter number only.\")   \n",
    "    \n",
    " # user input 2,4,5   "
   ]
  },
  {
   "cell_type": "code",
   "execution_count": 51,
   "metadata": {},
   "outputs": [
    {
     "name": "stdout",
     "output_type": "stream",
     "text": [
      "121 is palindrome number.\n"
     ]
    }
   ],
   "source": [
    "\"\"\"9. Create a program that checks if a given string is a palindrome.\"\"\"\n",
    "\n",
    "#try block for manage error.\n",
    "\n",
    "try:\n",
    "    #Taking user input.\n",
    "    num=int(input(\"Enter any number:\"))\n",
    "    \n",
    "    #Type casting integer value to string.\n",
    "    str_num=str(num)\n",
    "    \n",
    "    #Checking number is palindrome or not.\n",
    "    if str_num==str_num[::-1]:\n",
    "        print(f\"{num} is palindrome number.\")\n",
    "    \n",
    "    else:\n",
    "        print(f\"{num} is not palindrome number.\")    \n",
    "\n",
    "\n",
    "except Exception:\n",
    "    print(\"Please enter number only.\")   \n",
    "    \n",
    "    # user input 121"
   ]
  },
  {
   "cell_type": "code",
   "execution_count": 55,
   "metadata": {},
   "outputs": [
    {
     "name": "stdout",
     "output_type": "stream",
     "text": [
      "Grade A\n"
     ]
    }
   ],
   "source": [
    "\"\"\"10. Write a Python program to calculate the grade based on a student's score.\"\"\"\n",
    "\n",
    "# try block for mangae error.\n",
    "try:\n",
    "     \n",
    "     # Taking student marks as user input.\n",
    "     marks=int(input(\"Enter your marks:\"))\n",
    "     \n",
    "     #Calculating grade based on marks.\n",
    "     if marks>90:\n",
    "         print(\"Grade A\")\n",
    "     if marks>75 and marks<=90:\n",
    "         print(\"Grade B\")\n",
    "     if marks>60 and marks<=75:\n",
    "         print(\"Grade C\")\n",
    "     if marks>=45 and marks<=60:\n",
    "         print(\"Grade D\")  \n",
    "     if marks<45:\n",
    "         print(\"Fale\")       \n",
    "                 \n",
    "         \n",
    "except Exception:\n",
    "    print(\"Please enter number only.\")   \n",
    "    \n",
    "    # user input 89     "
   ]
  },
  {
   "cell_type": "markdown",
   "metadata": {},
   "source": [
    "<h1><center><u>Nested If-Else Statements:</u></center></h1>\n",
    "<p>11. Write a program to find the largest among three numbers using nested if-else statements.<br>\n",
    "12. Implement a program to determine if a triangle is equilateral, isosceles, or scalene.<br>\n",
    "13. Develop a program that checks if a year is a leap year and also if it is a century year.<br>\n",
    "14. Write a Python script to determine if a number is positive, negative, or zero.<br>\n",
    "15. Create a program to check if a person is a teenager (between 13 and 19 years old).<br>\n",
    "16. Develop a program that determines the type of angle based on its measure (acute, obtuse, or right).<br>\n",
    "17. Write a Python program to calculate the roots of a quadratic equation.<br>\n",
    "18. Implement a program to determine the day of the week based on a user-provided number (1 for Monday, 2\n",
    "for Tuesday, etc.).<br>\n",
    "19. Create a program that determines if a year is a leap year and also if it is evenly divisible by 400.<br>\n",
    "20. Develop a program that checks if a given number is prime or not using nested if-else statements.</p>"
   ]
  },
  {
   "cell_type": "code",
   "execution_count": 62,
   "metadata": {},
   "outputs": [
    {
     "name": "stdout",
     "output_type": "stream",
     "text": [
      "Numbers: 45 67 34\n",
      "67 is larger.\n"
     ]
    }
   ],
   "source": [
    "\"\"\"11. Write a program to find the largest among three numbers using nested if-else statements.\"\"\"\n",
    "\n",
    "#try block to manage errors.\n",
    "\n",
    "try:\n",
    "    #Taking user age as input.\n",
    "    num1=int(input(\"Enter first number:\"))\n",
    "    num2=int(input(\"Enter second number:\"))\n",
    "    num3=int(input(\"Enter third number:\"))\n",
    "    \n",
    "    print('Numbers:',num1,num2,num3)\n",
    "    #condtion for checking maximum number.\n",
    "    if num1>num2 and num1>num3:\n",
    "        print(f'{num1} is larger.')\n",
    "    else:\n",
    "        if num2>num1 and num2>num3:\n",
    "            print(f'{num2} is larger.')\n",
    "        else:\n",
    "            print(f'{num3} is larger.')     \n",
    "    \n",
    "except Exception:\n",
    "    print(\"Please enter number only.\")   \n",
    "    "
   ]
  },
  {
   "cell_type": "code",
   "execution_count": 79,
   "metadata": {},
   "outputs": [
    {
     "name": "stdout",
     "output_type": "stream",
     "text": [
      "Triangle is isosceles.\n"
     ]
    }
   ],
   "source": [
    "\"\"\"12. Implement a program to determine if a triangle is equilateral, isosceles, or scalene.\"\"\"\n",
    "\n",
    "\n",
    "#try block to manage errors.\n",
    "\n",
    "try:\n",
    "    #Taking user age as input.\n",
    "    side_a=int(input(\"Enter side a:\"))\n",
    "    side_b=int(input(\"Enter side b:\"))\n",
    "    side_c=int(input(\"Enter side c:\"))\n",
    "\n",
    "    #condtion to determine if a triangle is equilateral, isosceles, or scalene.\n",
    "    \n",
    "    if side_a!=0 and side_b!=0 and side_c!=0:\n",
    "        if side_a==side_b and side_b==side_c:\n",
    "          print(\"Triangle is equilateral\")  \n",
    "        else:\n",
    "            if side_a == side_b or side_a == side_c or side_b == side_c:\n",
    "              print(\"Triangle is isosceles.\") \n",
    "            else:\n",
    "               print(\"Triangle is scalene.\") \n",
    "    else:\n",
    "        print(\"Enter non zero value.\")\n",
    "        \n",
    "        \n",
    "except Exception:\n",
    "    print(\"Please enter number only.\")  "
   ]
  },
  {
   "cell_type": "code",
   "execution_count": null,
   "metadata": {},
   "outputs": [],
   "source": []
  }
 ],
 "metadata": {
  "kernelspec": {
   "display_name": "Python 3",
   "language": "python",
   "name": "python3"
  },
  "language_info": {
   "codemirror_mode": {
    "name": "ipython",
    "version": 3
   },
   "file_extension": ".py",
   "mimetype": "text/x-python",
   "name": "python",
   "nbconvert_exporter": "python",
   "pygments_lexer": "ipython3",
   "version": "3.11.6"
  }
 },
 "nbformat": 4,
 "nbformat_minor": 2
}
