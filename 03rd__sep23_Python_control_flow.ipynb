{
 "cells": [
  {
   "cell_type": "markdown",
   "metadata": {},
   "source": [
    "<h1><center><u>Basic If-Else Statements:</u></center></h1>\n",
    "<p>1. Write a Python program to check if a given number is positive or negative.<br>\n",
    "2. Create a program that determines if a person is eligible to vote based on their age.<br>\n",
    "3. Develop a program to find the maximum of two numbers using if-else statements.<br>\n",
    "4. Write a Python script to classify a given year as a leap year or not.<br>\n",
    "5. Create a program that checks whether a character is a vowel or a consonant.<br>\n",
    "6. Implement a program to determine whether a given number is even or odd.<br>\n",
    "7. Write a Python function to calculate the absolute value of a number without using the `abs()` function.<br>\n",
    "8. Develop a program that determines the largest of three given numbers using if-else statements.<br>\n",
    "9. Create a program that checks if a given string is a palindrome.<br>\n",
    "10. Write a Python program to calculate the grade based on a student's score.</p>"
   ]
  },
  {
   "cell_type": "code",
   "execution_count": 9,
   "metadata": {},
   "outputs": [
    {
     "name": "stdout",
     "output_type": "stream",
     "text": [
      "5 is Positive.\n"
     ]
    }
   ],
   "source": [
    "\"\"\"1. Write a Python program to check if a given number is positive or negative.\"\"\"\n",
    "\n",
    "#try block to manage errors.\n",
    "try:\n",
    "    \n",
    "    #Taking user input\n",
    "    number=int(input(\"Enter any number:\"))\n",
    "    \n",
    "    #Conditions to check number is positive or negetive.\n",
    "    if number<0:\n",
    "        print(f\"{number} is Negative.\")\n",
    "    if number>0:\n",
    "        print(f\"{number} is Positive.\")\n",
    "   \n",
    "   #This is because 0 can't be positive or negetive.     \n",
    "    if number==0:\n",
    "        print(\"Don't enter zero.\")\n",
    "            \n",
    "except Exception:\n",
    "    print(\"Please enter number only.\")\n",
    "    \n",
    "                   "
   ]
  },
  {
   "cell_type": "code",
   "execution_count": 17,
   "metadata": {},
   "outputs": [
    {
     "name": "stdout",
     "output_type": "stream",
     "text": [
      "Person is eligible to vote.\n"
     ]
    }
   ],
   "source": [
    "\"\"\"2. Create a program that determines if a person is eligible to vote based on their age.\"\"\"\n",
    "\n",
    "#try block to manage errors.\n",
    "\n",
    "try:\n",
    "    \n",
    "    #Taking user age as input.\n",
    "    age=int(input(\"enter your age:\"))\n",
    "    \n",
    "    #condtion for voting.\n",
    "    if age>18 and age<=100:\n",
    "        print(\"Person is eligible to vote.\")\n",
    "        \n",
    "    if age<18:\n",
    "        print(\"Person is not eligible to vote.\")\n",
    "        \n",
    "    if age>100:\n",
    "          print(\"Please enter a valid age.\")  \n",
    "\n",
    "except Exception:\n",
    "    print(\"Please enter number only.\")       "
   ]
  },
  {
   "cell_type": "code",
   "execution_count": 19,
   "metadata": {},
   "outputs": [
    {
     "name": "stdout",
     "output_type": "stream",
     "text": [
      "7 is maximum.\n"
     ]
    }
   ],
   "source": [
    "\"\"\"3. Develop a program to find the maximum of two numbers using if-else statements.\"\"\"\n",
    "\n",
    "#try block to manage errors.\n",
    "\n",
    "try:\n",
    "    #Taking user age as input.\n",
    "    num1=int(input(\"Enter first number:\"))\n",
    "    num2=int(input(\"Enter second number:\"))\n",
    "    \n",
    "    #condtion for checking maximum number.\n",
    "    if num1>num2:\n",
    "        print(f\"{num1} is maximum.\")\n",
    "     \n",
    "    else:\n",
    "        print(f\"{num2} is maximum.\")    \n",
    "    \n",
    "except Exception:\n",
    "    print(\"Please enter number only.\")   \n",
    "    \n"
   ]
  },
  {
   "cell_type": "code",
   "execution_count": 24,
   "metadata": {},
   "outputs": [
    {
     "name": "stdout",
     "output_type": "stream",
     "text": [
      "2013 is not a leap year.\n"
     ]
    }
   ],
   "source": [
    "\"\"\"4. Write a Python script to classify a given year as a leap year or not.\"\"\"\n",
    "\n",
    "#try block to manage errors.\n",
    "\n",
    "try:\n",
    "    #Taking user input.\n",
    "    year=int(input(\"Enter any year:\"))\n",
    "    \n",
    "    #Checking number is leap or not.\n",
    "    if (year % 4 == 0 and year % 100 != 0) or (year % 400 == 0):\n",
    "        print(f\"{year} is leap year.\")\n",
    "    else:\n",
    "        print(f\"{year} is not a leap year.\")\n",
    "      \n",
    "except Exception:\n",
    "    print(\"Please enter number only.\")   "
   ]
  },
  {
   "cell_type": "code",
   "execution_count": 33,
   "metadata": {},
   "outputs": [
    {
     "name": "stdout",
     "output_type": "stream",
     "text": [
      "Entered character is consonant.\n"
     ]
    }
   ],
   "source": [
    "\"\"\"5. Create a program that checks whether a character is a vowel or a consonant.\"\"\"\n",
    "#try block to manage errors.\n",
    "try:\n",
    "    #Taking user input.\n",
    "    chr=input(\"Enter any character\")\n",
    "    char=chr.lower()\n",
    "    \n",
    "    #Checking whether a character is a vowel or a consonant. \n",
    "    if (char=='a' or char=='e' or char=='i' or char=='o' or char=='u'):\n",
    "        print(\"Entered character is vowel.\")\n",
    "     \n",
    "    else:\n",
    "         print(\"Entered character is consonant.\")   \n",
    "\n",
    "except Exception:\n",
    "    print(\"Enter single charater only.\")         \n"
   ]
  },
  {
   "cell_type": "code",
   "execution_count": 36,
   "metadata": {},
   "outputs": [
    {
     "name": "stdout",
     "output_type": "stream",
     "text": [
      "2 is even.\n"
     ]
    }
   ],
   "source": [
    "\"\"\"6. Implement a program to determine whether a given number is even or odd.\"\"\"\n",
    "\n",
    "#try block to manage errors.\n",
    "try:\n",
    "    \n",
    "    #Taking user input\n",
    "    number=int(input(\"Enter any number:\"))\n",
    "    \n",
    "    #Checking whether a given number is even or odd.\n",
    "    if number%2==0:\n",
    "         print(f\"{number} is even.\") \n",
    "    else:\n",
    "        print(f\"{number} is odd.\")\n",
    "\n",
    "except Exception:\n",
    "    print(\"Please enter number only.\")         "
   ]
  },
  {
   "cell_type": "code",
   "execution_count": 40,
   "metadata": {},
   "outputs": [
    {
     "name": "stdout",
     "output_type": "stream",
     "text": [
      "The absolute value of -8 is 8\n"
     ]
    }
   ],
   "source": [
    "\"\"\"7. Write a Python function to calculate the absolute value of a number without using the `abs()` function.\"\"\"\n",
    "\n",
    "#Function calculate the absolute value.\n",
    "def ABS_value(n):\n",
    "    if n<0:\n",
    "        return -n\n",
    "    else:\n",
    "        return n\n",
    "\n",
    "#Taking user input.\n",
    "number=int(input(\"Enter a\")) \n",
    "\n",
    "#Printing absolute value.\n",
    "absolute=ABS_value(number)\n",
    "print(f\"The absolute value of {number} is {absolute}\")\n",
    "   \n"
   ]
  },
  {
   "cell_type": "code",
   "execution_count": 45,
   "metadata": {},
   "outputs": [
    {
     "name": "stdout",
     "output_type": "stream",
     "text": [
      "5 is maximum.\n"
     ]
    }
   ],
   "source": [
    "\"\"\"8. Develop a program that determines the largest of three given numbers using if-else statements.\"\"\"\n",
    "\n",
    "#try block to manage errors.\n",
    "\n",
    "try:\n",
    "    #Taking user age as input.\n",
    "    num1=int(input(\"Enter first number:\"))\n",
    "    num2=int(input(\"Enter second number:\"))\n",
    "    num3=int(input(\"Enter third number:\"))\n",
    "    \n",
    "    #condtion for checking maximum number.\n",
    "    if num1>num2 and num1>num3:\n",
    "        print(f\"{num1} is maximum.\")\n",
    "    if num2>num1 and num2>num3:\n",
    "        print(f\"{num2} is maximum.\")\n",
    "    if num3>num1 and num3>num2:\n",
    "        print(f\"{num3} is maximum.\")   \n",
    "    \n",
    "except Exception:\n",
    "    print(\"Please enter number only.\")   \n",
    "    \n",
    " # user input 2,4,5   "
   ]
  },
  {
   "cell_type": "code",
   "execution_count": 51,
   "metadata": {},
   "outputs": [
    {
     "name": "stdout",
     "output_type": "stream",
     "text": [
      "121 is palindrome number.\n"
     ]
    }
   ],
   "source": [
    "\"\"\"9. Create a program that checks if a given string is a palindrome.\"\"\"\n",
    "\n",
    "#try block for manage error.\n",
    "\n",
    "try:\n",
    "    #Taking user input.\n",
    "    num=int(input(\"Enter any number:\"))\n",
    "    \n",
    "    #Type casting integer value to string.\n",
    "    str_num=str(num)\n",
    "    \n",
    "    #Checking number is palindrome or not.\n",
    "    if str_num==str_num[::-1]:\n",
    "        print(f\"{num} is palindrome number.\")\n",
    "    \n",
    "    else:\n",
    "        print(f\"{num} is not palindrome number.\")    \n",
    "\n",
    "\n",
    "except Exception:\n",
    "    print(\"Please enter number only.\")   \n",
    "    \n",
    "    # user input 121"
   ]
  },
  {
   "cell_type": "code",
   "execution_count": 55,
   "metadata": {},
   "outputs": [
    {
     "name": "stdout",
     "output_type": "stream",
     "text": [
      "Grade A\n"
     ]
    }
   ],
   "source": [
    "\"\"\"10. Write a Python program to calculate the grade based on a student's score.\"\"\"\n",
    "\n",
    "# try block for mangae error.\n",
    "try:\n",
    "     \n",
    "     # Taking student marks as user input.\n",
    "     marks=int(input(\"Enter your marks:\"))\n",
    "     \n",
    "     #Calculating grade based on marks.\n",
    "     if marks>90:\n",
    "         print(\"Grade A\")\n",
    "     if marks>75 and marks<=90:\n",
    "         print(\"Grade B\")\n",
    "     if marks>60 and marks<=75:\n",
    "         print(\"Grade C\")\n",
    "     if marks>=45 and marks<=60:\n",
    "         print(\"Grade D\")  \n",
    "     if marks<45:\n",
    "         print(\"Fale\")       \n",
    "                 \n",
    "         \n",
    "except Exception:\n",
    "    print(\"Please enter number only.\")   \n",
    "    \n",
    "    # user input 89     "
   ]
  },
  {
   "cell_type": "markdown",
   "metadata": {},
   "source": [
    "<h1><center><u>Nested If-Else Statements:</u></center></h1>\n",
    "<p>11. Write a program to find the largest among three numbers using nested if-else statements.<br>\n",
    "12. Implement a program to determine if a triday is equilateral, isosceles, or scalene.<br>\n",
    "13. Develop a program that checks if a year is a leap year and also if it is a century year.<br>\n",
    "14. Write a Python script to determine if a number is positive, negative, or zero.<br>\n",
    "15. Create a program to check if a person is a teenager (between 13 and 19 years old).<br>\n",
    "16. Develop a program that determines the type of day based on its measure (acute, obtuse, or right).<br>\n",
    "17. Write a Python program to calculate the roots of a quadratic equation.<br>\n",
    "18. Implement a program to determine the day of the week based on a user-provided number (1 for Monday, 2\n",
    "for Tuesday, etc.).<br>\n",
    "19. Create a program that determines if a year is a leap year and also if it is evenly divisible by 400.<br>\n",
    "20. Develop a program that checks if a given number is prime or not using nested if-else statements.</p>"
   ]
  },
  {
   "cell_type": "code",
   "execution_count": 62,
   "metadata": {},
   "outputs": [
    {
     "name": "stdout",
     "output_type": "stream",
     "text": [
      "Numbers: 45 67 34\n",
      "67 is larger.\n"
     ]
    }
   ],
   "source": [
    "\"\"\"11. Write a program to find the largest among three numbers using nested if-else statements.\"\"\"\n",
    "\n",
    "#try block to manage errors.\n",
    "\n",
    "try:\n",
    "    #Taking user age as input.\n",
    "    num1=int(input(\"Enter first number:\"))\n",
    "    num2=int(input(\"Enter second number:\"))\n",
    "    num3=int(input(\"Enter third number:\"))\n",
    "    \n",
    "    print('Numbers:',num1,num2,num3)\n",
    "    #condtion for checking maximum number.\n",
    "    if num1>num2 and num1>num3:\n",
    "        print(f'{num1} is larger.')\n",
    "    else:\n",
    "        if num2>num1 and num2>num3:\n",
    "            print(f'{num2} is larger.')\n",
    "        else:\n",
    "            print(f'{num3} is larger.')     \n",
    "    \n",
    "except Exception:\n",
    "    print(\"Please enter number only.\")   \n",
    "    "
   ]
  },
  {
   "cell_type": "code",
   "execution_count": 79,
   "metadata": {},
   "outputs": [
    {
     "name": "stdout",
     "output_type": "stream",
     "text": [
      "Triangle is isosceles.\n"
     ]
    }
   ],
   "source": [
    "\"\"\"12. Implement a program to determine if a triday is equilateral, isosceles, or scalene.\"\"\"\n",
    "\n",
    "\n",
    "#try block to manage errors.\n",
    "\n",
    "try:\n",
    "    #Taking user age as input.\n",
    "    side_a=int(input(\"Enter side a:\"))\n",
    "    side_b=int(input(\"Enter side b:\"))\n",
    "    side_c=int(input(\"Enter side c:\"))\n",
    "\n",
    "    #condtion to determine if a triday is equilateral, isosceles, or scalene.\n",
    "    \n",
    "    if side_a!=0 and side_b!=0 and side_c!=0:\n",
    "        if side_a==side_b and side_b==side_c:\n",
    "          print(\"Triday is equilateral\")  \n",
    "        else:\n",
    "            if side_a == side_b or side_a == side_c or side_b == side_c:\n",
    "              print(\"Triday is isosceles.\") \n",
    "            else:\n",
    "               print(\"Triday is scalene.\") \n",
    "    else:\n",
    "        print(\"Enter non zero value.\")\n",
    "        \n",
    "        \n",
    "except Exception:\n",
    "    print(\"Please enter number only.\")  "
   ]
  },
  {
   "cell_type": "code",
   "execution_count": 15,
   "metadata": {},
   "outputs": [
    {
     "name": "stdout",
     "output_type": "stream",
     "text": [
      "2000 is leap year.\n",
      "2000 is century year.\n"
     ]
    }
   ],
   "source": [
    "\"\"\"13. Develop a program that checks if a year is a leap year and also if it is a century year.\"\"\"\n",
    "\n",
    "#try block to manage errors.\n",
    "\n",
    "try:\n",
    "    #Taking user input.\n",
    "    year=int(input(\"Enter any year:\"))\n",
    "    \n",
    "    #Checking number is leap or not.\n",
    "    if (year % 4 == 0 and year % 100 != 0) or (year % 400 == 0):\n",
    "        print(f\"{year} is leap year.\")\n",
    "    else:\n",
    "        print(f\"{year} is not a leap year.\")\n",
    "    \n",
    "    if year%100==0:\n",
    "        print(f\"{year} is century year.\")  \n",
    "except Exception:\n",
    "    print(\"Please enter number only.\")  "
   ]
  },
  {
   "cell_type": "code",
   "execution_count": 18,
   "metadata": {},
   "outputs": [
    {
     "name": "stdout",
     "output_type": "stream",
     "text": [
      "Number is Positive.\n"
     ]
    }
   ],
   "source": [
    "\"\"\"14. Write a Python script to determine if a number is positive, negative, or zero.\"\"\"\n",
    "\n",
    "#try block to manage errors.\n",
    "try:\n",
    "    \n",
    "    #Taking user input\n",
    "    number=int(input(\"Enter any number:\"))\n",
    "    \n",
    "    #Conditions to check number is positive or negetive.\n",
    "    if number<0:\n",
    "        print(\"Numberis Negative.\")\n",
    "    else:\n",
    "         if number>0:\n",
    "            print(\"Number is Positive.\")\n",
    "    if number==0:\n",
    "         print(\"Number is Zero.\")\n",
    "         \n",
    "except Exception:\n",
    "    print(\"Please enter number only.\")\n"
   ]
  },
  {
   "cell_type": "code",
   "execution_count": 3,
   "metadata": {},
   "outputs": [
    {
     "name": "stdout",
     "output_type": "stream",
     "text": [
      "Person is teenager.\n"
     ]
    }
   ],
   "source": [
    "\"\"\"15. Create a program to check if a person is a teenager (between 13 and 19 years old).\"\"\"\n",
    "\n",
    "#try block to manage errors.\n",
    "try:\n",
    "    \n",
    "    #Taking user input\n",
    "    age=int(input(\"Enter your age:\"))\n",
    "    \n",
    "    #Conditions to check if a person is a teenager.\n",
    "    if age>13 and age<=19:\n",
    "        print(\"Person is teenager.\")\n",
    "    else:\n",
    "         if age>19:\n",
    "           print(\"Person is adult.\")\n",
    "    if age<=13 and age>0:\n",
    "         print(\"Person is child.\")\n",
    "         \n",
    "except Exception:\n",
    "    print(\"Please enter number only.\")\n",
    "\n"
   ]
  },
  {
   "cell_type": "code",
   "execution_count": 23,
   "metadata": {},
   "outputs": [
    {
     "name": "stdout",
     "output_type": "stream",
     "text": [
      "23 is Acute Angle.\n"
     ]
    }
   ],
   "source": [
    "\"\"\"16. Develop a program that determines the type of angle based on its measure (acute, obtuse, or right).\"\"\"\n",
    "\n",
    "#try block to manage errors.\n",
    "try:\n",
    "    \n",
    "    #Taking user input\n",
    "    angle=int(input(\"Enter any angle ():\"))\n",
    "    \n",
    "    #Conditions to check if a person is a teenager.\n",
    "    if angle>0 and angle<90:\n",
    "        print(f\"{angle} is Acute Angle.\")\n",
    "    else:\n",
    "        if angle==90:\n",
    "           print(f\"{angle} is Right Angle.\")  \n",
    "        else:\n",
    "             if angle>90 and angle<180:\n",
    "               print(f\"{angle} is Obtuse Angle.\")\n",
    "             else:\n",
    "                 if angle>=180:\n",
    "                    print(f\"{angle} Enter value between(0 and 180).\") \n",
    "                  \n",
    "       \n",
    "except Exception:\n",
    "    print(\"Please enter number only.\")"
   ]
  },
  {
   "cell_type": "code",
   "execution_count": 14,
   "metadata": {},
   "outputs": [
    {
     "name": "stdout",
     "output_type": "stream",
     "text": [
      "Roots: (-1.0,)\n"
     ]
    }
   ],
   "source": [
    "\"\"\"17. Write a Python program to calculate the roots of a quadratic equation.\"\"\"\n",
    "\n",
    "import cmath  # Import the complex math module for handling complex roots\n",
    "\n",
    "#try block to manage error.\n",
    "try:\n",
    " def find_roots(a, b, c):\n",
    "    # Calculate the discriminant\n",
    "    discriminant = b**2 - 4*a*c\n",
    "    \n",
    "    # Check the nature of the roots\n",
    "    if discriminant > 0:\n",
    "        # Two distinct real roots\n",
    "        root1 = (-b + (discriminant)**0.5) / (2*a)\n",
    "        root2 = (-b - (discriminant)**0.5) / (2*a)\n",
    "        return root1, root2\n",
    "    \n",
    "    else:\n",
    "     \n",
    "         if discriminant == 0:\n",
    "        # One real root (repeated root or double root)\n",
    "          root = -b / (2*a)\n",
    "          return root,\n",
    "      \n",
    "         else:\n",
    "        # Two complex roots\n",
    "          root1 = (-b + cmath.sqrt(discriminant)) / (2*a)\n",
    "          root2 = (-b - cmath.sqrt(discriminant)) / (2*a)\n",
    "          return root1, root2\n",
    "\n",
    "except Exception:\n",
    "    print(f\"{Exception}Check your values.\")\n",
    "    \n",
    "# Taking user input for the values of a,b,c\n",
    "a = int(input(\"Enter value of a:\"))\n",
    "b = int(input(\"Enter value of b:\"))\n",
    "c = int(input(\"Enter value of c:\"))\n",
    "\n",
    "roots = find_roots(a, b, c)\n",
    "print(\"Roots:\", roots)\n"
   ]
  },
  {
   "cell_type": "code",
   "execution_count": 20,
   "metadata": {},
   "outputs": [
    {
     "name": "stdout",
     "output_type": "stream",
     "text": [
      "Monday\n"
     ]
    }
   ],
   "source": [
    "\"\"\"18. Implement a program to determine the day of the week based on a user-provided number (1 for Monday, 2\n",
    "for Tuesday, etc.).\"\"\"\n",
    "\n",
    "#try block to manage errors.\n",
    "try:\n",
    "    \n",
    "    #Taking user input\n",
    "    day=int(input(\"Enter number from (1 to 7):\"))\n",
    "    \n",
    "    #Conditions to check day based on number.\n",
    "    if day==1:\n",
    "        print(\"Monday\")\n",
    "    else:\n",
    "        if day==2:\n",
    "            print(\"Tuseday\")\n",
    "        else:\n",
    "            if day==3:\n",
    "                print(\"Wednesday\")   \n",
    "            else:\n",
    "                if day==4:\n",
    "                    print(\"Thrusday\")  \n",
    "                else:\n",
    "                    if day==5:\n",
    "                        print(\"Friday\")  \n",
    "                    else:\n",
    "                        if day==6:\n",
    "                            print(\"Saturday\")    \n",
    "                        else:\n",
    "                            if day==7:\n",
    "                                print(\"Sunday\")        \n",
    "                            else:\n",
    "                                print(\"Enter number from 1 to 7.\")\n",
    "except Exception:\n",
    "    print(\"Please enter number only.\")"
   ]
  },
  {
   "cell_type": "code",
   "execution_count": 93,
   "metadata": {},
   "outputs": [
    {
     "name": "stdout",
     "output_type": "stream",
     "text": [
      "1700 is not a leap year.\n"
     ]
    }
   ],
   "source": [
    "\"\"\"19. Create a program that determines if a year is a leap year and also if it is evenly divisible by 400.\"\"\"\n",
    "\n",
    "#try block to manage errors.\n",
    "\n",
    "try:\n",
    "    #Taking user input.\n",
    "    year=int(input(\"Enter any year:\"))\n",
    "    \n",
    "    #Checking number is leap or not.\n",
    "    if (year % 4 == 0 and year % 100 != 0) or (year % 400 == 0):\n",
    "        print(f\"{year} is leap year.\")\n",
    "    else:\n",
    "        print(f\"{year} is not a leap year.\")\n",
    "      \n",
    "except Exception:\n",
    "    print(\"Please enter number only.\")  "
   ]
  },
  {
   "cell_type": "code",
   "execution_count": 4,
   "metadata": {},
   "outputs": [
    {
     "name": "stdout",
     "output_type": "stream",
     "text": [
      "17 is a prime number.\n"
     ]
    }
   ],
   "source": [
    "\"\"\"20. Develop a program that checks if a given number is prime or not using nested if-else statements.\"\"\"\n",
    "\n",
    "#try block to manage errors.\n",
    "try:\n",
    "    \n",
    "    num = int(input(\"Enter any number:\"))\n",
    "\n",
    "    if num > 1:\n",
    "    # Check for factors from 2 to the square root of the number.\n",
    "      for i in range(2, int(num**0.5) + 1):\n",
    "        if num % i == 0:\n",
    "            print(f\"{num} is not a prime number.\")\n",
    "            break\n",
    "    \n",
    "      print(f\"{num} is a prime number.\")\n",
    "    \n",
    "    else:\n",
    "       print(f\"{num} is not a prime number.\")\n",
    "\n",
    "except Exception:\n",
    "    print(\"Please enter number only.\")"
   ]
  },
  {
   "cell_type": "markdown",
   "metadata": {},
   "source": [
    "<h1><center><u>Elif Statements:</u></center></h1>\n",
    "21. Write a Python program to assign grades based on different ranges of scores using elif statements.<br>\n",
    "22. Implement a program to determine the type of a triangle based on its angles.<br>\n",
    "23. Develop a program to categorize a given person's BMI into underweight, normal, overweight, or obese using\n",
    "elif statements.<br>\n",
    "24. Create a program that determines whether a given number is positive, negative, or zero using elif\n",
    "statements.<br>\n",
    "25. Write a Python script to determine the type of a character (uppercase, lowercase, or special) using elif\n",
    "statements.<br>\n",
    "26. Implement a program to calculate the discounted price based on different purchase amounts using elif\n",
    "statements.<br>\n",
    "27. Develop a program to calculate the electricity bill based on different consumption slabs using elif\n",
    "statements.<br>\n",
    "28. Create a program to determine the type of quadrilateral based on its angles and sides using elif\n",
    "statements.<br>\n",
    "29. Write a Python script to determine the season based on a user-provided month using elif statements.<br>\n",
    "30. Implement a program to determine the type of a year (leap or common) and month (30 or 31 days) using\n",
    "elif statements."
   ]
  },
  {
   "cell_type": "code",
   "execution_count": 24,
   "metadata": {},
   "outputs": [
    {
     "name": "stdout",
     "output_type": "stream",
     "text": [
      "Grade B\n"
     ]
    }
   ],
   "source": [
    "\"\"\"21. Write a Python program to assign grades based on different ranges of scores using elif statements.\"\"\"\n",
    "\n",
    "# try block for mangae error.\n",
    "try:\n",
    "     \n",
    "     # Taking student marks as user input.\n",
    "     marks=int(input(\"Enter your marks:\"))\n",
    "     \n",
    "     #Calculating grade based on marks.\n",
    "     if marks>90:\n",
    "         print(\"Grade A\")\n",
    "     elif marks>75 and marks<=90:\n",
    "         print(\"Grade B\")\n",
    "     elif marks>60 and marks<=75:\n",
    "         print(\"Grade C\")\n",
    "     elif marks>=45 and marks<=60:\n",
    "         print(\"Grade D\")  \n",
    "     else:\n",
    "         print(\"Fale\")       \n",
    "                 \n",
    "         \n",
    "except Exception:\n",
    "    print(\"Please enter number only.\")   \n",
    "    \n",
    "    # user input 89 "
   ]
  },
  {
   "cell_type": "code",
   "execution_count": 59,
   "metadata": {},
   "outputs": [
    {
     "name": "stdout",
     "output_type": "stream",
     "text": [
      "Triangle is equilateral\n"
     ]
    }
   ],
   "source": [
    "\"\"\"22. Implement a program to determine the type of a triangle based on its angles.\"\"\"\n",
    "\n",
    "#try block to manage errors.\n",
    "\n",
    "try:\n",
    "    #Taking user age as input.\n",
    "    side_a=int(input(\"Enter side a:\"))\n",
    "    side_b=int(input(\"Enter side b:\"))\n",
    "    side_c=int(input(\"Enter side c:\"))\n",
    "\n",
    "    #condtion to determine if a triangle is equilateral, isosceles, or scalene.\n",
    "    \n",
    "    if side_a!=0 and side_b!=0 and side_c!=0:\n",
    "        if side_a==side_b and side_b==side_c:\n",
    "          print(\"Triangle is equilateral\")  \n",
    "        \n",
    "        elif side_a == side_b or side_a == side_c or side_b == side_c:\n",
    "              print(\"Triangle is isosceles.\") \n",
    "        else:\n",
    "               print(\"Triangle is scalene.\") \n",
    "    else:\n",
    "        print(\"Enter non zero value.\")\n",
    "        \n",
    "        \n",
    "except Exception:\n",
    "    print(\"Please enter number only.\") "
   ]
  },
  {
   "cell_type": "code",
   "execution_count": 69,
   "metadata": {},
   "outputs": [
    {
     "name": "stdout",
     "output_type": "stream",
     "text": [
      "Normal weight, Your BMI 19.904\n"
     ]
    }
   ],
   "source": [
    "\"\"\"23. Develop a program to categorize a given person's BMI into underweight, normal, overweight, or obese using\n",
    "elif statements.\"\"\"\n",
    "\n",
    "#try block to manage errors.\n",
    "\n",
    "try:\n",
    "    #Taking user height(in meter) and weight(in kg) as input.\n",
    "    weight=float(input(\"Enter your weight (in kg)\"))\n",
    "    height=float(input(\"Enter your height (in m)\"))\n",
    "    \n",
    "    # This the avarage measurment for a human body from lowest to heighest value for weight and height. \n",
    "    if height>0.5 and height<2.4384 and weight>3 and weight<500:\n",
    "        \n",
    "        if (weight/(height**2))<18.5:\n",
    "            bmi=(weight/(height**2))\n",
    "            print(\"Underweight, Your BMI {:.3f}\".format(bmi))\n",
    "        elif (weight/(height**2))>=18.5 and (weight/(height**2))<=24.9:\n",
    "            bmi=(weight/(height**2))\n",
    "            print(\"Normal weight, Your BMI {:.3f}\".format(bmi))\n",
    "        elif (weight/(height**2))>=25 and (weight/(height**2))<=29.9:\n",
    "            bmi=(weight/(height**2))\n",
    "            print(\"Overweight, Your BMI {:.3f}\".format(bmi))\n",
    "        elif(weight/(height**2))>30:\n",
    "            bmi=(weight/(height**2))\n",
    "            print(\"Obesity, Your BMI {:.3f}\".format(bmi))\n",
    "    else:\n",
    "        print(\"Seem you are trying to entered 0 or negetive number.\")      \n",
    "        \n",
    "except Exception:\n",
    "    print(\"Please enter number only.\") "
   ]
  },
  {
   "cell_type": "code",
   "execution_count": 31,
   "metadata": {},
   "outputs": [
    {
     "name": "stdout",
     "output_type": "stream",
     "text": [
      "Number is Positive.\n"
     ]
    }
   ],
   "source": [
    "\"\"\"24. Create a program that determines whether a given number is positive, negative, or zero using elif\n",
    "statements.\"\"\"\n",
    "\n",
    "#try block to manage errors.\n",
    "try:\n",
    "    \n",
    "    #Taking user input\n",
    "    number=int(input(\"Enter any number:\"))\n",
    "    \n",
    "    #Conditions to check number is positive or negetive.\n",
    "    if number<0:\n",
    "        print(\"Number is Negative.\")\n",
    "    elif number>0:\n",
    "            print(\"Number is Positive.\")\n",
    "    elif number==0:\n",
    "         print(\"Number is Zero.\")\n",
    "         \n",
    "except Exception:\n",
    "    print(\"Please enter number only.\")"
   ]
  },
  {
   "cell_type": "code",
   "execution_count": 38,
   "metadata": {},
   "outputs": [
    {
     "name": "stdout",
     "output_type": "stream",
     "text": [
      "UPPERCASE\n"
     ]
    }
   ],
   "source": [
    "\"\"\"25. Write a Python script to determine the type of a character (uppercase, lowercase, or special) using elif\n",
    "statements.\"\"\"\n",
    "\n",
    "#try block to manage errors.\n",
    "try:\n",
    "    \n",
    "    #Taking user input\n",
    "    char=str(input(\"Enter any number:\"))\n",
    "    \n",
    "    #Conditions to check type of character.\n",
    "    if char.isupper():\n",
    "        print(\"UPPERCASE\")\n",
    "    elif char.islower():\n",
    "            print(\"lower\")\n",
    "    else:\n",
    "         print(\"special\")\n",
    "         \n",
    "except Exception:\n",
    "    print(\"Please enter charater only.\")"
   ]
  },
  {
   "cell_type": "code",
   "execution_count": 49,
   "metadata": {},
   "outputs": [
    {
     "name": "stdout",
     "output_type": "stream",
     "text": [
      "You gets discount of 20%\n"
     ]
    }
   ],
   "source": [
    "\"\"\"26. Implement a program to calculate the discounted price based on different purchase amounts using elif\n",
    "statements.\"\"\"\n",
    "\n",
    "# try block for mangae error.\n",
    "try:\n",
    "     \n",
    "     # Taking amount of purchase as user input.\n",
    "     amount =int(input(\"Enter your marks:\"))\n",
    "     \n",
    "     #Calculating discount based on purcahse.\n",
    "     if amount>=20000:\n",
    "         print(\"You gets discount of 20%\")\n",
    "     elif amount<20000 and amount>=15000:\n",
    "         print(\"You gets discount of 10%\")\n",
    "     elif amount>=7500 and amount<15000:\n",
    "         print(\"You gets discount of 7%\")\n",
    "     elif amount>=5000 and amount<7500:\n",
    "         print(\"You gets discount of 5%\")  \n",
    "     else:\n",
    "         print(\"No discount avaliable under 5000  purchase value.\")       \n",
    "                 \n",
    "         \n",
    "except Exception:\n",
    "    print(\"Please enter number only.\") "
   ]
  },
  {
   "cell_type": "code",
   "execution_count": 58,
   "metadata": {},
   "outputs": [
    {
     "name": "stdout",
     "output_type": "stream",
     "text": [
      "Electric bill $ 33.75\n"
     ]
    }
   ],
   "source": [
    "\"\"\"27. Develop a program to calculate the electricity bill based on different consumption slabs using elif\n",
    "statements.\"\"\"\n",
    "\n",
    "# try block for mangae error.\n",
    "try:\n",
    "     \n",
    "     # Taking electric units as user input.\n",
    "     unit =int(input(\"Enter your marks:\"))\n",
    "     \n",
    "     #Calculating electric bill based on unit used.\n",
    "     if unit>=1000:\n",
    "         print(\"Electric bill $\", unit*1.75)\n",
    "     elif unit<1000 and unit>=700:\n",
    "         print(\"Electric bill $\", unit*1.50)\n",
    "     elif unit>=400 and unit<700:\n",
    "         print(\"Electric bill $\", unit*1.25)\n",
    "     elif unit>=100 and unit<400:\n",
    "         print(\"Electric bill $\", unit*1) \n",
    "     elif unit>=1 and unit<100:\n",
    "         print(\"Electric bill $\", unit*0.75)     \n",
    "     else:\n",
    "         print(\"Seem you are trying to entered 0 or negetive number.\")       \n",
    "         \n",
    "except Exception:\n",
    "    print(\"Please enter number only.\") "
   ]
  },
  {
   "cell_type": "code",
   "execution_count": 82,
   "metadata": {},
   "outputs": [
    {
     "name": "stdout",
     "output_type": "stream",
     "text": [
      "It is a rectangle.\n"
     ]
    }
   ],
   "source": [
    "\"\"\"28. Create a program to determine the type of quadrilateral based on its angles and sides using elif\n",
    "statements.\"\"\"\n",
    "\n",
    "# try block for mangae error.\n",
    "try:\n",
    "     \n",
    "     sides = [4, 4, 6, 6]  \n",
    "     angles = [90, 90, 90, 90]\n",
    "     \n",
    "     #determine the type of quadrilateral\n",
    "     if all(angle == 90 for angle in angles):\n",
    "        if all(side1 == side2 for side1, side2 in zip(sides, sides[1:])):\n",
    "            print(\"It is a square.\")\n",
    "        else:\n",
    "            print(\"It is a rectangle.\")\n",
    "     elif all(angle == 180 for angle in angles):\n",
    "        print(\"It is a straight line.\")\n",
    "     elif sum(angles) == 360:\n",
    "        if all(angle < 90 for angle in angles):\n",
    "            print(\"It is a convex quadrilateral.\")\n",
    "        else:\n",
    "            print(\"It is a concave quadrilateral.\")\n",
    "     else:\n",
    "        print(\"It is a general quadrilateral.\")      \n",
    "         \n",
    "except Exception:\n",
    "    print(\"Please enter number only.\") "
   ]
  },
  {
   "cell_type": "code",
   "execution_count": 92,
   "metadata": {},
   "outputs": [
    {
     "name": "stdout",
     "output_type": "stream",
     "text": [
      "Winter\n"
     ]
    }
   ],
   "source": [
    "\"\"\"29. Write a Python script to determine the season based on a user-provided month using elif statements.\"\"\"\n",
    "\n",
    "# try block for mangae error.\n",
    "try:\n",
    "     \n",
    "     # Taking month number as user input.\n",
    "    month =int(input(\"Enter your marks:\"))\n",
    "     \n",
    "     #Calculating electric bill based on unit used.\n",
    "    if month in [12, 1, 2]:\n",
    "        print(\"Winter\")\n",
    "    elif month in [3, 4, 5]:\n",
    "        print(\"Spring\")\n",
    "    elif month in [6, 7, 8]:\n",
    "        print(\"Summer\")\n",
    "    elif month in [9, 10, 11]:\n",
    "        print(\"Fall\")\n",
    "    else:\n",
    "        print(\"Invalid month\")     \n",
    "         \n",
    "         \n",
    "except Exception:\n",
    "    print(\"Please enter number only.\")"
   ]
  },
  {
   "cell_type": "code",
   "execution_count": null,
   "metadata": {},
   "outputs": [],
   "source": [
    "\"\"\"30. Implement a program to determine the type of a year (leap or common) and month (30 or 31 days) using\n",
    "elif statements.\"\"\"\n",
    "\n",
    "#try block for manage error.\n",
    "try:\n",
    " def leap_year(year):\n",
    "    if (year % 4 == 0 and year % 100 != 0) or (year % 400 == 0):\n",
    "        return True\n",
    "    else:\n",
    "        return False\n",
    "\n",
    " def days_in_month(month, leap_year):\n",
    "    if month in [1, 3, 5, 7, 8, 10, 12]:\n",
    "        return 31\n",
    "    elif month in [4, 6, 9, 11]:\n",
    "        return 30\n",
    "    elif month == 2:\n",
    "        return 29 if leap_year else 28\n",
    "    else:\n",
    "        return -1  # Invalid month\n",
    "\n",
    "# Get user input for the year and month\n",
    " user_year = int(input(\"Enter the year: \"))\n",
    " user_month = int(input(\"Enter the month (1-12): \"))\n",
    "\n",
    "# Determine if it's a leap year\n",
    " check_year = leap_year(user_year)\n",
    "\n",
    "# Determine the number of days in the month\n",
    " days = days_in_month(user_month, check_year)\n",
    "\n",
    "# Display the result\n",
    " if days == -1:\n",
    "    print(\"Invalid month.\")\n",
    " else:\n",
    "    print(f\"The year {user_year} is {'leap' if leap_year else 'common'}.\")\n",
    "    print(f\"The month {user_month} has {days} days.\")\n",
    "\n",
    "except Exception:\n",
    "   print( Exception)"
   ]
  },
  {
   "cell_type": "markdown",
   "metadata": {},
   "source": [
    "<h1><center><u>Basic Level:</u></center></h1>\n",
    "1. Write a Python program that checks if a given number is positive, negative, or zero.<br>\n",
    "2. Create a program to determine if a person is eligible to vote based on their age.<br>\n",
    "3. Write a program to find the maximum of two given numbers using conditional statements.<br>\n",
    "4. Develop a program that calculates the grade of a student based on their exam score.<br>\n",
    "5. Create a program that checks if a year is a leap year or not.<br>\n",
    "6. Write a program to classify a triangle based on its sides' lengths.<br>\n",
    "7. Build a program that determines the largest of three given numbers.<br>\n",
    "8. Develop a program that checks whether a character is a vowel or a consonant.<br>\n",
    "9. Create a program to calculate the total cost of a shopping cart based on discounts.<br>\n",
    "10. Write a program that checks if a given number is even or odd."
   ]
  },
  {
   "cell_type": "code",
   "execution_count": null,
   "metadata": {},
   "outputs": [],
   "source": [
    "\"\"\"1. Write a Python program that checks if a given number is positive, negative, or zero.\"\"\"\n",
    "\n",
    "#try block to manage errors.\n",
    "try:\n",
    "    \n",
    "    #Taking user input\n",
    "    number=int(input(\"Enter any number:\"))\n",
    "    \n",
    "    #Conditions to check number is positive or negetive.\n",
    "    if number<0:\n",
    "        print(\"Number is Negative.\")\n",
    "    elif number>0:\n",
    "            print(\"Number is Positive.\")\n",
    "    elif number==0:\n",
    "         print(\"Number is Zero.\")\n",
    "         \n",
    "except Exception:\n",
    "    print(\"Please enter number only.\")"
   ]
  },
  {
   "cell_type": "code",
   "execution_count": null,
   "metadata": {},
   "outputs": [],
   "source": [
    "\"\"\"2. Create a program to determine if a person is eligible to vote based on their age.\"\"\"\n",
    "\n",
    "#try block to manage errors.\n",
    "\n",
    "try:\n",
    "    \n",
    "    #Taking user age as input.\n",
    "    age=int(input(\"enter your age:\"))\n",
    "    \n",
    "    #condtion for voting.\n",
    "    if age>18 and age<=100:\n",
    "        print(\"Person is eligible to vote.\")\n",
    "        \n",
    "    else:\n",
    "        if age<18:\n",
    "          print(\"Person is not eligible to vote.\")\n",
    "        else:\n",
    "             if age>100:\n",
    "               print(\"Please enter a valid age.\")    \n",
    "        \n",
    "except Exception:\n",
    "    print(\"Please enter number only.\") "
   ]
  },
  {
   "cell_type": "code",
   "execution_count": null,
   "metadata": {},
   "outputs": [],
   "source": [
    "\"\"\"3. Write a program to find the maximum of two given numbers using conditional statements.\"\"\"\n",
    "\n",
    "#try block to manage errors.\n",
    "\n",
    "try:\n",
    "    #Taking user age as input.\n",
    "    num1=int(input(\"Enter first number:\"))\n",
    "    num2=int(input(\"Enter second number:\"))\n",
    "    \n",
    "    #condtion for checking maximum number.\n",
    "    if num1>num2:\n",
    "        print(f\"{num1} is maximum.\")\n",
    "     \n",
    "    else:\n",
    "        print(f\"{num2} is maximum.\")    \n",
    "    \n",
    "except Exception:\n",
    "    print(\"Please enter number only.\") "
   ]
  },
  {
   "cell_type": "code",
   "execution_count": null,
   "metadata": {},
   "outputs": [],
   "source": [
    "\"\"\"4. Develop a program that calculates the grade of a student based on their exam score.\"\"\"\n",
    "\n",
    "# try block for mangae error.\n",
    "try:\n",
    "     \n",
    "     # Taking student marks as user input.\n",
    "     marks=int(input(\"Enter your marks:\"))\n",
    "     \n",
    "     #Calculating grade based on marks.\n",
    "     if marks>90:\n",
    "         print(\"Grade A\")\n",
    "     elif marks>75 and marks<=90:\n",
    "         print(\"Grade B\")\n",
    "     elif marks>60 and marks<=75:\n",
    "         print(\"Grade C\")\n",
    "     elif marks>=45 and marks<=60:\n",
    "         print(\"Grade D\")  \n",
    "     else:\n",
    "         print(\"Fale\")       \n",
    "                 \n",
    "         \n",
    "except Exception:\n",
    "    print(\"Please enter number only.\") "
   ]
  },
  {
   "cell_type": "code",
   "execution_count": null,
   "metadata": {},
   "outputs": [],
   "source": [
    "\"\"\"5. Create a program that checks if a year is a leap year or not.\"\"\"\n",
    "\n",
    "#try block to manage errors.\n",
    "\n",
    "try:\n",
    "    #Taking user input.\n",
    "    year=int(input(\"Enter any year:\"))\n",
    "    \n",
    "    #Checking number is leap or not.\n",
    "    if (year % 4 == 0 and year % 100 != 0) or (year % 400 == 0):\n",
    "        print(f\"{year} is leap year.\")\n",
    "    else:\n",
    "        print(f\"{year} is not a leap year.\")\n",
    "      \n",
    "except Exception:\n",
    "    print(\"Please enter number only.\")  "
   ]
  },
  {
   "cell_type": "code",
   "execution_count": null,
   "metadata": {},
   "outputs": [],
   "source": [
    "\"\"\"6. Write a program to classify a triangle based on its sides' lengths.\"\"\"\n",
    "\n",
    "#try block to manage errors.\n",
    "\n",
    "try:\n",
    "    #Taking user age as input.\n",
    "    side_a=int(input(\"Enter side a:\"))\n",
    "    side_b=int(input(\"Enter side b:\"))\n",
    "    side_c=int(input(\"Enter side c:\"))\n",
    "\n",
    "    #condtion to determine if a triangle is equilateral, isosceles, or scalene.\n",
    "    \n",
    "    if side_a!=0 and side_b!=0 and side_c!=0:\n",
    "        if side_a==side_b and side_b==side_c:\n",
    "          print(\"Triangle is equilateral\")  \n",
    "        \n",
    "        elif side_a == side_b or side_a == side_c or side_b == side_c:\n",
    "              print(\"Triangle is isosceles.\") \n",
    "        else:\n",
    "               print(\"Triangle is scalene.\") \n",
    "    else:\n",
    "        print(\"Enter non zero value.\")\n",
    "        \n",
    "        \n",
    "except Exception:\n",
    "    print(\"Please enter number only.\")"
   ]
  },
  {
   "cell_type": "code",
   "execution_count": null,
   "metadata": {},
   "outputs": [],
   "source": [
    "\"\"\"7. Build a program that determines the largest of three given numbers.\"\"\"\n",
    "\n",
    "#try block to manage errors.\n",
    "\n",
    "try:\n",
    "    #Taking user age as input.\n",
    "    num1=int(input(\"Enter first number:\"))\n",
    "    num2=int(input(\"Enter second number:\"))\n",
    "    num3=int(input(\"Enter third number:\"))\n",
    "    \n",
    "    print('Numbers:',num1,num2,num3)\n",
    "    #condtion for checking maximum number.\n",
    "    if num1>num2 and num1>num3:\n",
    "        print(f'{num1} is larger.')\n",
    "    else:\n",
    "        if num2>num1 and num2>num3:\n",
    "            print(f'{num2} is larger.')\n",
    "        else:\n",
    "            print(f'{num3} is larger.')     \n",
    "    \n",
    "except Exception:\n",
    "    print(\"Please enter number only.\")"
   ]
  },
  {
   "cell_type": "code",
   "execution_count": null,
   "metadata": {},
   "outputs": [],
   "source": [
    "\"\"\"8. Develop a program that checks whether a character is a vowel or a consonant.\"\"\"\n",
    "\n",
    "#try block to manage errors.\n",
    "try:\n",
    "    #Taking user input.\n",
    "    chr=input(\"Enter any character\")\n",
    "    char=chr.lower()\n",
    "    \n",
    "    #Checking whether a character is a vowel or a consonant. \n",
    "    if (char=='a' or char=='e' or char=='i' or char=='o' or char=='u'):\n",
    "        print(\"Entered character is vowel.\")\n",
    "     \n",
    "    else:\n",
    "         print(\"Entered character is consonant.\")   \n",
    "\n",
    "except Exception:\n",
    "    print(\"Enter single charater only.\")  "
   ]
  },
  {
   "cell_type": "code",
   "execution_count": 97,
   "metadata": {},
   "outputs": [
    {
     "name": "stdout",
     "output_type": "stream",
     "text": [
      "The total cost of the shopping cart is: $301.5\n"
     ]
    }
   ],
   "source": [
    "\"\"\"9. Create a program to calculate the total cost of a shopping cart based on discounts.\"\"\"\n",
    "#try block to manage errors.\n",
    "try:\n",
    "    \n",
    "    shopping_cart = {\n",
    "    'item1': 250,\n",
    "    'item2': 30,\n",
    "    'item3': 40,\n",
    "    'item4': 15\n",
    "    }\n",
    "    total_cost = 0\n",
    "    for item, price in shopping_cart.items():\n",
    "        total_cost += price\n",
    "\n",
    "    # Apply discount based on total cost\n",
    "    if total_cost >= 100:\n",
    "        discount = 0.1  # 10% discount for total cost $100 or more\n",
    "        total_cost -= total_cost * discount\n",
    "        print(f\"The total cost of the shopping cart is: ${total_cost}\")\n",
    "\n",
    "except Exception:\n",
    "    print(Exception) \n"
   ]
  },
  {
   "cell_type": "code",
   "execution_count": null,
   "metadata": {},
   "outputs": [],
   "source": [
    "\"\"\"10. Write a program that checks if a given number is even or odd.\"\"\"\n",
    "\n",
    "#try block to manage errors.\n",
    "try:\n",
    "    \n",
    "    #Taking user input\n",
    "    number=int(input(\"Enter any number:\"))\n",
    "    \n",
    "    #Checking whether a given number is even or odd.\n",
    "    if number%2==0:\n",
    "         print(f\"{number} is even.\") \n",
    "    else:\n",
    "        print(f\"{number} is odd.\")\n",
    "\n",
    "except Exception:\n",
    "    print(\"Please enter number only.\") "
   ]
  },
  {
   "cell_type": "markdown",
   "metadata": {},
   "source": [
    "<h1><center><u>Intermediate Level:</u></center></h1>\n",
    "11. Write a program that calculates the roots of a quadratic equation .<br>\n",
    "12. Create a program that determines the day of the week based on the day number (1-7).<br>\n",
    "13. Develop a program that calculates the factorial of a given number using recursion.<br>\n",
    "14. Write a program to find the largest among three numbers without using the `max()` function.<br>\n",
    "15. Create a program that simulates a basic ATM transaction menu.<br>\n",
    "16. Build a program that checks if a given string is a palindrome or not.<br>\n",
    "17. Write a program that calculates the average of a list of numbers, excluding the smallest and largest values.<br>\n",
    "18. Develop a program that converts a given temperature from Celsius to Fahrenheit.<br>\n",
    "19. Create a program that simulates a basic calculator for addition, subtraction, multiplication, and division.<br>\n",
    "20. Write a program that determines the roots of a cubic equation using the Cardano formula."
   ]
  }
 ],
 "metadata": {
  "kernelspec": {
   "display_name": "Python 3",
   "language": "python",
   "name": "python3"
  },
  "language_info": {
   "codemirror_mode": {
    "name": "ipython",
    "version": 3
   },
   "file_extension": ".py",
   "mimetype": "text/x-python",
   "name": "python",
   "nbconvert_exporter": "python",
   "pygments_lexer": "ipython3",
   "version": "3.11.6"
  }
 },
 "nbformat": 4,
 "nbformat_minor": 2
}
