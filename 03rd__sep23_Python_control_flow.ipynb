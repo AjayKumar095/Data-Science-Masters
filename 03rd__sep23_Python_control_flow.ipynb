{
 "cells": [
  {
   "cell_type": "markdown",
   "metadata": {},
   "source": [
    "<h1><center><u>Basic If-Else Statements:</u></center></h1>\n",
    "<p>1. Write a Python program to check if a given number is positive or negative.<br>\n",
    "2. Create a program that determines if a person is eligible to vote based on their age.<br>\n",
    "3. Develop a program to find the maximum of two numbers using if-else statements.<br>\n",
    "4. Write a Python script to classify a given year as a leap year or not.<br>\n",
    "5. Create a program that checks whether a character is a vowel or a consonant.<br>\n",
    "6. Implement a program to determine whether a given number is even or odd.<br>\n",
    "7. Write a Python function to calculate the absolute value of a number without using the `abs()` function.<br>\n",
    "8. Develop a program that determines the largest of three given numbers using if-else statements.<br>\n",
    "9. Create a program that checks if a given string is a palindrome.<br>\n",
    "10. Write a Python program to calculate the grade based on a student's score.</p>"
   ]
  },
  {
   "cell_type": "code",
   "execution_count": 9,
   "metadata": {},
   "outputs": [
    {
     "name": "stdout",
     "output_type": "stream",
     "text": [
      "5 is Positive.\n"
     ]
    }
   ],
   "source": [
    "\"\"\"1. Write a Python program to check if a given number is positive or negative.\"\"\"\n",
    "\n",
    "#try block to manage errors.\n",
    "try:\n",
    "    \n",
    "    #Taking user input\n",
    "    number=int(input(\"Enter any number:\"))\n",
    "    \n",
    "    #Conditions to check number is positive or negetive.\n",
    "    if number<0:\n",
    "        print(f\"{number} is Negative.\")\n",
    "    if number>0:\n",
    "        print(f\"{number} is Positive.\")\n",
    "   \n",
    "   #This is because 0 can't be positive or negetive.     \n",
    "    if number==0:\n",
    "        print(\"Don't enter zero.\")\n",
    "            \n",
    "except Exception:\n",
    "    print(\"Please enter number only.\")\n",
    "    \n",
    "                   "
   ]
  },
  {
   "cell_type": "code",
   "execution_count": 17,
   "metadata": {},
   "outputs": [
    {
     "name": "stdout",
     "output_type": "stream",
     "text": [
      "Person is eligible to vote.\n"
     ]
    }
   ],
   "source": [
    "\"\"\"2. Create a program that determines if a person is eligible to vote based on their age.\"\"\"\n",
    "\n",
    "#try block to manage errors.\n",
    "\n",
    "try:\n",
    "    \n",
    "    #Taking user age as input.\n",
    "    age=int(input(\"enter your age:\"))\n",
    "    \n",
    "    #condtion for voting.\n",
    "    if age>18 and age<=100:\n",
    "        print(\"Person is eligible to vote.\")\n",
    "        \n",
    "    if age<18:\n",
    "        print(\"Person is not eligible to vote.\")\n",
    "        \n",
    "    if age>100:\n",
    "          print(\"Please enter a valid age.\")  \n",
    "\n",
    "except Exception:\n",
    "    print(\"Please enter number only.\")       "
   ]
  },
  {
   "cell_type": "code",
   "execution_count": 19,
   "metadata": {},
   "outputs": [
    {
     "name": "stdout",
     "output_type": "stream",
     "text": [
      "7 is maximum.\n"
     ]
    }
   ],
   "source": [
    "\"\"\"3. Develop a program to find the maximum of two numbers using if-else statements.\"\"\"\n",
    "\n",
    "#try block to manage errors.\n",
    "\n",
    "try:\n",
    "    #Taking user age as input.\n",
    "    num1=int(input(\"Enter first number:\"))\n",
    "    num2=int(input(\"Enter second number:\"))\n",
    "    \n",
    "    #condtion for checking maximum number.\n",
    "    if num1>num2:\n",
    "        print(f\"{num1} is maximum.\")\n",
    "     \n",
    "    else:\n",
    "        print(f\"{num2} is maximum.\")    \n",
    "    \n",
    "except Exception:\n",
    "    print(\"Please enter number only.\")   \n",
    "    \n"
   ]
  },
  {
   "cell_type": "code",
   "execution_count": 24,
   "metadata": {},
   "outputs": [
    {
     "name": "stdout",
     "output_type": "stream",
     "text": [
      "2013 is not a leap year.\n"
     ]
    }
   ],
   "source": [
    "\"\"\"4. Write a Python script to classify a given year as a leap year or not.\"\"\"\n",
    "\n",
    "#try block to manage errors.\n",
    "\n",
    "try:\n",
    "    #Taking user input.\n",
    "    year=int(input(\"Enter any year:\"))\n",
    "    \n",
    "    #Checking number is leap or not.\n",
    "    if (year % 4 == 0 and year % 100 != 0) or (year % 400 == 0):\n",
    "        print(f\"{year} is leap year.\")\n",
    "    else:\n",
    "        print(f\"{year} is not a leap year.\")\n",
    "      \n",
    "except Exception:\n",
    "    print(\"Please enter number only.\")   "
   ]
  },
  {
   "cell_type": "code",
   "execution_count": 33,
   "metadata": {},
   "outputs": [
    {
     "name": "stdout",
     "output_type": "stream",
     "text": [
      "Entered character is consonant.\n"
     ]
    }
   ],
   "source": [
    "\"\"\"5. Create a program that checks whether a character is a vowel or a consonant.\"\"\"\n",
    "#try block to manage errors.\n",
    "try:\n",
    "    #Taking user input.\n",
    "    chr=input(\"Enter any character\")\n",
    "    char=chr.lower()\n",
    "    \n",
    "    #Checking whether a character is a vowel or a consonant. \n",
    "    if (char=='a' or char=='e' or char=='i' or char=='o' or char=='u'):\n",
    "        print(\"Entered character is vowel.\")\n",
    "     \n",
    "    else:\n",
    "         print(\"Entered character is consonant.\")   \n",
    "\n",
    "except Exception:\n",
    "    print(\"Enter single charater only.\")         \n"
   ]
  },
  {
   "cell_type": "code",
   "execution_count": 36,
   "metadata": {},
   "outputs": [
    {
     "name": "stdout",
     "output_type": "stream",
     "text": [
      "2 is even.\n"
     ]
    }
   ],
   "source": [
    "\"\"\"6. Implement a program to determine whether a given number is even or odd.\"\"\"\n",
    "\n",
    "#try block to manage errors.\n",
    "try:\n",
    "    \n",
    "    #Taking user input\n",
    "    number=int(input(\"Enter any number:\"))\n",
    "    \n",
    "    #Checking whether a given number is even or odd.\n",
    "    if number%2==0:\n",
    "         print(f\"{number} is even.\") \n",
    "    else:\n",
    "        print(f\"{number} is odd.\")\n",
    "\n",
    "except Exception:\n",
    "    print(\"Please enter number only.\")         "
   ]
  },
  {
   "cell_type": "code",
   "execution_count": 40,
   "metadata": {},
   "outputs": [
    {
     "name": "stdout",
     "output_type": "stream",
     "text": [
      "The absolute value of -8 is 8\n"
     ]
    }
   ],
   "source": [
    "\"\"\"7. Write a Python function to calculate the absolute value of a number without using the `abs()` function.\"\"\"\n",
    "\n",
    "#Function calculate the absolute value.\n",
    "def ABS_value(n):\n",
    "    if n<0:\n",
    "        return -n\n",
    "    else:\n",
    "        return n\n",
    "\n",
    "#Taking user input.\n",
    "number=int(input(\"Enter a\")) \n",
    "\n",
    "#Printing absolute value.\n",
    "absolute=ABS_value(number)\n",
    "print(f\"The absolute value of {number} is {absolute}\")\n",
    "   \n"
   ]
  },
  {
   "cell_type": "code",
   "execution_count": 45,
   "metadata": {},
   "outputs": [
    {
     "name": "stdout",
     "output_type": "stream",
     "text": [
      "5 is maximum.\n"
     ]
    }
   ],
   "source": [
    "\"\"\"8. Develop a program that determines the largest of three given numbers using if-else statements.\"\"\"\n",
    "\n",
    "#try block to manage errors.\n",
    "\n",
    "try:\n",
    "    #Taking user age as input.\n",
    "    num1=int(input(\"Enter first number:\"))\n",
    "    num2=int(input(\"Enter second number:\"))\n",
    "    num3=int(input(\"Enter third number:\"))\n",
    "    \n",
    "    #condtion for checking maximum number.\n",
    "    if num1>num2 and num1>num3:\n",
    "        print(f\"{num1} is maximum.\")\n",
    "    if num2>num1 and num2>num3:\n",
    "        print(f\"{num2} is maximum.\")\n",
    "    if num3>num1 and num3>num2:\n",
    "        print(f\"{num3} is maximum.\")   \n",
    "    \n",
    "except Exception:\n",
    "    print(\"Please enter number only.\")   \n",
    "    \n",
    " # user input 2,4,5   "
   ]
  },
  {
   "cell_type": "code",
   "execution_count": 51,
   "metadata": {},
   "outputs": [
    {
     "name": "stdout",
     "output_type": "stream",
     "text": [
      "121 is palindrome number.\n"
     ]
    }
   ],
   "source": [
    "\"\"\"9. Create a program that checks if a given string is a palindrome.\"\"\"\n",
    "\n",
    "#try block for manage error.\n",
    "\n",
    "try:\n",
    "    #Taking user input.\n",
    "    num=int(input(\"Enter any number:\"))\n",
    "    \n",
    "    #Type casting integer value to string.\n",
    "    str_num=str(num)\n",
    "    \n",
    "    #Checking number is palindrome or not.\n",
    "    if str_num==str_num[::-1]:\n",
    "        print(f\"{num} is palindrome number.\")\n",
    "    \n",
    "    else:\n",
    "        print(f\"{num} is not palindrome number.\")    \n",
    "\n",
    "\n",
    "except Exception:\n",
    "    print(\"Please enter number only.\")   \n",
    "    \n",
    "    # user input 121"
   ]
  },
  {
   "cell_type": "code",
   "execution_count": 55,
   "metadata": {},
   "outputs": [
    {
     "name": "stdout",
     "output_type": "stream",
     "text": [
      "Grade A\n"
     ]
    }
   ],
   "source": [
    "\"\"\"10. Write a Python program to calculate the grade based on a student's score.\"\"\"\n",
    "\n",
    "# try block for mangae error.\n",
    "try:\n",
    "     \n",
    "     # Taking student marks as user input.\n",
    "     marks=int(input(\"Enter your marks:\"))\n",
    "     \n",
    "     #Calculating grade based on marks.\n",
    "     if marks>90:\n",
    "         print(\"Grade A\")\n",
    "     if marks>75 and marks<=90:\n",
    "         print(\"Grade B\")\n",
    "     if marks>60 and marks<=75:\n",
    "         print(\"Grade C\")\n",
    "     if marks>=45 and marks<=60:\n",
    "         print(\"Grade D\")  \n",
    "     if marks<45:\n",
    "         print(\"Fale\")       \n",
    "                 \n",
    "         \n",
    "except Exception:\n",
    "    print(\"Please enter number only.\")   \n",
    "    \n",
    "    # user input 89     "
   ]
  },
  {
   "cell_type": "markdown",
   "metadata": {},
   "source": [
    "<h1><center><u>Nested If-Else Statements:</u></center></h1>\n",
    "<p>11. Write a program to find the largest among three numbers using nested if-else statements.<br>\n",
    "12. Implement a program to determine if a triday is equilateral, isosceles, or scalene.<br>\n",
    "13. Develop a program that checks if a year is a leap year and also if it is a century year.<br>\n",
    "14. Write a Python script to determine if a number is positive, negative, or zero.<br>\n",
    "15. Create a program to check if a person is a teenager (between 13 and 19 years old).<br>\n",
    "16. Develop a program that determines the type of day based on its measure (acute, obtuse, or right).<br>\n",
    "17. Write a Python program to calculate the roots of a quadratic equation.<br>\n",
    "18. Implement a program to determine the day of the week based on a user-provided number (1 for Monday, 2\n",
    "for Tuesday, etc.).<br>\n",
    "19. Create a program that determines if a year is a leap year and also if it is evenly divisible by 400.<br>\n",
    "20. Develop a program that checks if a given number is prime or not using nested if-else statements.</p>"
   ]
  },
  {
   "cell_type": "code",
   "execution_count": 62,
   "metadata": {},
   "outputs": [
    {
     "name": "stdout",
     "output_type": "stream",
     "text": [
      "Numbers: 45 67 34\n",
      "67 is larger.\n"
     ]
    }
   ],
   "source": [
    "\"\"\"11. Write a program to find the largest among three numbers using nested if-else statements.\"\"\"\n",
    "\n",
    "#try block to manage errors.\n",
    "\n",
    "try:\n",
    "    #Taking user age as input.\n",
    "    num1=int(input(\"Enter first number:\"))\n",
    "    num2=int(input(\"Enter second number:\"))\n",
    "    num3=int(input(\"Enter third number:\"))\n",
    "    \n",
    "    print('Numbers:',num1,num2,num3)\n",
    "    #condtion for checking maximum number.\n",
    "    if num1>num2 and num1>num3:\n",
    "        print(f'{num1} is larger.')\n",
    "    else:\n",
    "        if num2>num1 and num2>num3:\n",
    "            print(f'{num2} is larger.')\n",
    "        else:\n",
    "            print(f'{num3} is larger.')     \n",
    "    \n",
    "except Exception:\n",
    "    print(\"Please enter number only.\")   \n",
    "    "
   ]
  },
  {
   "cell_type": "code",
   "execution_count": 79,
   "metadata": {},
   "outputs": [
    {
     "name": "stdout",
     "output_type": "stream",
     "text": [
      "Triangle is isosceles.\n"
     ]
    }
   ],
   "source": [
    "\"\"\"12. Implement a program to determine if a triday is equilateral, isosceles, or scalene.\"\"\"\n",
    "\n",
    "\n",
    "#try block to manage errors.\n",
    "\n",
    "try:\n",
    "    #Taking user age as input.\n",
    "    side_a=int(input(\"Enter side a:\"))\n",
    "    side_b=int(input(\"Enter side b:\"))\n",
    "    side_c=int(input(\"Enter side c:\"))\n",
    "\n",
    "    #condtion to determine if a triday is equilateral, isosceles, or scalene.\n",
    "    \n",
    "    if side_a!=0 and side_b!=0 and side_c!=0:\n",
    "        if side_a==side_b and side_b==side_c:\n",
    "          print(\"Triday is equilateral\")  \n",
    "        else:\n",
    "            if side_a == side_b or side_a == side_c or side_b == side_c:\n",
    "              print(\"Triday is isosceles.\") \n",
    "            else:\n",
    "               print(\"Triday is scalene.\") \n",
    "    else:\n",
    "        print(\"Enter non zero value.\")\n",
    "        \n",
    "        \n",
    "except Exception:\n",
    "    print(\"Please enter number only.\")  "
   ]
  },
  {
   "cell_type": "code",
   "execution_count": 15,
   "metadata": {},
   "outputs": [
    {
     "name": "stdout",
     "output_type": "stream",
     "text": [
      "2000 is leap year.\n",
      "2000 is century year.\n"
     ]
    }
   ],
   "source": [
    "\"\"\"13. Develop a program that checks if a year is a leap year and also if it is a century year.\"\"\"\n",
    "\n",
    "#try block to manage errors.\n",
    "\n",
    "try:\n",
    "    #Taking user input.\n",
    "    year=int(input(\"Enter any year:\"))\n",
    "    \n",
    "    #Checking number is leap or not.\n",
    "    if (year % 4 == 0 and year % 100 != 0) or (year % 400 == 0):\n",
    "        print(f\"{year} is leap year.\")\n",
    "    else:\n",
    "        print(f\"{year} is not a leap year.\")\n",
    "    \n",
    "    if year%100==0:\n",
    "        print(f\"{year} is century year.\")  \n",
    "except Exception:\n",
    "    print(\"Please enter number only.\")  "
   ]
  },
  {
   "cell_type": "code",
   "execution_count": 18,
   "metadata": {},
   "outputs": [
    {
     "name": "stdout",
     "output_type": "stream",
     "text": [
      "Number is Positive.\n"
     ]
    }
   ],
   "source": [
    "\"\"\"14. Write a Python script to determine if a number is positive, negative, or zero.\"\"\"\n",
    "\n",
    "#try block to manage errors.\n",
    "try:\n",
    "    \n",
    "    #Taking user input\n",
    "    number=int(input(\"Enter any number:\"))\n",
    "    \n",
    "    #Conditions to check number is positive or negetive.\n",
    "    if number<0:\n",
    "        print(\"Numberis Negative.\")\n",
    "    else:\n",
    "         if number>0:\n",
    "            print(\"Number is Positive.\")\n",
    "    if number==0:\n",
    "         print(\"Number is Zero.\")\n",
    "         \n",
    "except Exception:\n",
    "    print(\"Please enter number only.\")\n"
   ]
  },
  {
   "cell_type": "code",
   "execution_count": 3,
   "metadata": {},
   "outputs": [
    {
     "name": "stdout",
     "output_type": "stream",
     "text": [
      "Person is teenager.\n"
     ]
    }
   ],
   "source": [
    "\"\"\"15. Create a program to check if a person is a teenager (between 13 and 19 years old).\"\"\"\n",
    "\n",
    "#try block to manage errors.\n",
    "try:\n",
    "    \n",
    "    #Taking user input\n",
    "    age=int(input(\"Enter your age:\"))\n",
    "    \n",
    "    #Conditions to check if a person is a teenager.\n",
    "    if age>13 and age<=19:\n",
    "        print(\"Person is teenager.\")\n",
    "    else:\n",
    "         if age>19:\n",
    "           print(\"Person is adult.\")\n",
    "    if age<=13 and age>0:\n",
    "         print(\"Person is child.\")\n",
    "         \n",
    "except Exception:\n",
    "    print(\"Please enter number only.\")\n",
    "\n"
   ]
  },
  {
   "cell_type": "code",
   "execution_count": 23,
   "metadata": {},
   "outputs": [
    {
     "name": "stdout",
     "output_type": "stream",
     "text": [
      "23 is Acute Angle.\n"
     ]
    }
   ],
   "source": [
    "\"\"\"16. Develop a program that determines the type of angle based on its measure (acute, obtuse, or right).\"\"\"\n",
    "\n",
    "#try block to manage errors.\n",
    "try:\n",
    "    \n",
    "    #Taking user input\n",
    "    angle=int(input(\"Enter any angle ():\"))\n",
    "    \n",
    "    #Conditions to check if a person is a teenager.\n",
    "    if angle>0 and angle<90:\n",
    "        print(f\"{angle} is Acute Angle.\")\n",
    "    else:\n",
    "        if angle==90:\n",
    "           print(f\"{angle} is Right Angle.\")  \n",
    "        else:\n",
    "             if angle>90 and angle<180:\n",
    "               print(f\"{angle} is Obtuse Angle.\")\n",
    "             else:\n",
    "                 if angle>=180:\n",
    "                    print(f\"{angle} Enter value between(0 and 180).\") \n",
    "                  \n",
    "       \n",
    "except Exception:\n",
    "    print(\"Please enter number only.\")"
   ]
  },
  {
   "cell_type": "code",
   "execution_count": 14,
   "metadata": {},
   "outputs": [
    {
     "name": "stdout",
     "output_type": "stream",
     "text": [
      "Roots: (-1.0,)\n"
     ]
    }
   ],
   "source": [
    "\"\"\"17. Write a Python program to calculate the roots of a quadratic equation.\"\"\"\n",
    "\n",
    "import cmath  # Import the complex math module for handling complex roots\n",
    "\n",
    "#try block to manage error.\n",
    "try:\n",
    " def find_roots(a, b, c):\n",
    "    # Calculate the discriminant\n",
    "    discriminant = b**2 - 4*a*c\n",
    "    \n",
    "    # Check the nature of the roots\n",
    "    if discriminant > 0:\n",
    "        # Two distinct real roots\n",
    "        root1 = (-b + (discriminant)**0.5) / (2*a)\n",
    "        root2 = (-b - (discriminant)**0.5) / (2*a)\n",
    "        return root1, root2\n",
    "    \n",
    "    else:\n",
    "     \n",
    "         if discriminant == 0:\n",
    "        # One real root (repeated root or double root)\n",
    "          root = -b / (2*a)\n",
    "          return root,\n",
    "      \n",
    "         else:\n",
    "        # Two complex roots\n",
    "          root1 = (-b + cmath.sqrt(discriminant)) / (2*a)\n",
    "          root2 = (-b - cmath.sqrt(discriminant)) / (2*a)\n",
    "          return root1, root2\n",
    "\n",
    "except Exception:\n",
    "    print(f\"{Exception}Check your values.\")\n",
    "    \n",
    "# Taking user input for the values of a,b,c\n",
    "a = int(input(\"Enter value of a:\"))\n",
    "b = int(input(\"Enter value of b:\"))\n",
    "c = int(input(\"Enter value of c:\"))\n",
    "\n",
    "roots = find_roots(a, b, c)\n",
    "print(\"Roots:\", roots)\n"
   ]
  },
  {
   "cell_type": "code",
   "execution_count": 20,
   "metadata": {},
   "outputs": [
    {
     "name": "stdout",
     "output_type": "stream",
     "text": [
      "Monday\n"
     ]
    }
   ],
   "source": [
    "\"\"\"18. Implement a program to determine the day of the week based on a user-provided number (1 for Monday, 2\n",
    "for Tuesday, etc.).\"\"\"\n",
    "\n",
    "#try block to manage errors.\n",
    "try:\n",
    "    \n",
    "    #Taking user input\n",
    "    day=int(input(\"Enter number from (1 to 7):\"))\n",
    "    \n",
    "    #Conditions to check day based on number.\n",
    "    if day==1:\n",
    "        print(\"Monday\")\n",
    "    else:\n",
    "        if day==2:\n",
    "            print(\"Tuseday\")\n",
    "        else:\n",
    "            if day==3:\n",
    "                print(\"Wednesday\")   \n",
    "            else:\n",
    "                if day==4:\n",
    "                    print(\"Thrusday\")  \n",
    "                else:\n",
    "                    if day==5:\n",
    "                        print(\"Friday\")  \n",
    "                    else:\n",
    "                        if day==6:\n",
    "                            print(\"Saturday\")    \n",
    "                        else:\n",
    "                            if day==7:\n",
    "                                print(\"Sunday\")        \n",
    "                            else:\n",
    "                                print(\"Enter number from 1 to 7.\")\n",
    "except Exception:\n",
    "    print(\"Please enter number only.\")"
   ]
  },
  {
   "cell_type": "code",
   "execution_count": 93,
   "metadata": {},
   "outputs": [
    {
     "name": "stdout",
     "output_type": "stream",
     "text": [
      "1700 is not a leap year.\n"
     ]
    }
   ],
   "source": [
    "\"\"\"19. Create a program that determines if a year is a leap year and also if it is evenly divisible by 400.\"\"\"\n",
    "\n",
    "#try block to manage errors.\n",
    "\n",
    "try:\n",
    "    #Taking user input.\n",
    "    year=int(input(\"Enter any year:\"))\n",
    "    \n",
    "    #Checking number is leap or not.\n",
    "    if (year % 4 == 0 and year % 100 != 0) or (year % 400 == 0):\n",
    "        print(f\"{year} is leap year.\")\n",
    "    else:\n",
    "        print(f\"{year} is not a leap year.\")\n",
    "      \n",
    "except Exception:\n",
    "    print(\"Please enter number only.\")  "
   ]
  },
  {
   "cell_type": "code",
   "execution_count": 4,
   "metadata": {},
   "outputs": [
    {
     "name": "stdout",
     "output_type": "stream",
     "text": [
      "17 is a prime number.\n"
     ]
    }
   ],
   "source": [
    "\"\"\"20. Develop a program that checks if a given number is prime or not using nested if-else statements.\"\"\"\n",
    "\n",
    "#try block to manage errors.\n",
    "try:\n",
    "    \n",
    "    num = int(input(\"Enter any number:\"))\n",
    "\n",
    "    if num > 1:\n",
    "    # Check for factors from 2 to the square root of the number.\n",
    "      for i in range(2, int(num**0.5) + 1):\n",
    "        if num % i == 0:\n",
    "            print(f\"{num} is not a prime number.\")\n",
    "            break\n",
    "    \n",
    "      print(f\"{num} is a prime number.\")\n",
    "    \n",
    "    else:\n",
    "       print(f\"{num} is not a prime number.\")\n",
    "\n",
    "except Exception:\n",
    "    print(\"Please enter number only.\")"
   ]
  },
  {
   "cell_type": "markdown",
   "metadata": {},
   "source": [
    "<h1><center><u>Elif Statements:</u></center></h1>\n",
    "21. Write a Python program to assign grades based on different ranges of scores using elif statements.<br>\n",
    "22. Implement a program to determine the type of a triangle based on its angles.<br>\n",
    "23. Develop a program to categorize a given person's BMI into underweight, normal, overweight, or obese using\n",
    "elif statements.<br>\n",
    "24. Create a program that determines whether a given number is positive, negative, or zero using elif\n",
    "statements.<br>\n",
    "25. Write a Python script to determine the type of a character (uppercase, lowercase, or special) using elif\n",
    "statements.<br>\n",
    "26. Implement a program to calculate the discounted price based on different purchase amounts using elif\n",
    "statements.<br>\n",
    "27. Develop a program to calculate the electricity bill based on different consumption slabs using elif\n",
    "statements.<br>\n",
    "28. Create a program to determine the type of quadrilateral based on its angles and sides using elif\n",
    "statements.<br>\n",
    "29. Write a Python script to determine the season based on a user-provided month using elif statements.<br>\n",
    "30. Implement a program to determine the type of a year (leap or common) and month (30 or 31 days) using\n",
    "elif statements."
   ]
  },
  {
   "cell_type": "code",
   "execution_count": 24,
   "metadata": {},
   "outputs": [
    {
     "name": "stdout",
     "output_type": "stream",
     "text": [
      "Grade B\n"
     ]
    }
   ],
   "source": [
    "\"\"\"21. Write a Python program to assign grades based on different ranges of scores using elif statements.\"\"\"\n",
    "\n",
    "# try block for mangae error.\n",
    "try:\n",
    "     \n",
    "     # Taking student marks as user input.\n",
    "     marks=int(input(\"Enter your marks:\"))\n",
    "     \n",
    "     #Calculating grade based on marks.\n",
    "     if marks>90:\n",
    "         print(\"Grade A\")\n",
    "     elif marks>75 and marks<=90:\n",
    "         print(\"Grade B\")\n",
    "     elif marks>60 and marks<=75:\n",
    "         print(\"Grade C\")\n",
    "     elif marks>=45 and marks<=60:\n",
    "         print(\"Grade D\")  \n",
    "     else:\n",
    "         print(\"Fale\")       \n",
    "                 \n",
    "         \n",
    "except Exception:\n",
    "    print(\"Please enter number only.\")   \n",
    "    \n",
    "    # user input 89 "
   ]
  },
  {
   "cell_type": "code",
   "execution_count": 59,
   "metadata": {},
   "outputs": [
    {
     "name": "stdout",
     "output_type": "stream",
     "text": [
      "Triangle is equilateral\n"
     ]
    }
   ],
   "source": [
    "\"\"\"22. Implement a program to determine the type of a triangle based on its angles.\"\"\"\n",
    "\n",
    "#try block to manage errors.\n",
    "\n",
    "try:\n",
    "    #Taking user age as input.\n",
    "    side_a=int(input(\"Enter side a:\"))\n",
    "    side_b=int(input(\"Enter side b:\"))\n",
    "    side_c=int(input(\"Enter side c:\"))\n",
    "\n",
    "    #condtion to determine if a triangle is equilateral, isosceles, or scalene.\n",
    "    \n",
    "    if side_a!=0 and side_b!=0 and side_c!=0:\n",
    "        if side_a==side_b and side_b==side_c:\n",
    "          print(\"Triangle is equilateral\")  \n",
    "        \n",
    "        elif side_a == side_b or side_a == side_c or side_b == side_c:\n",
    "              print(\"Triangle is isosceles.\") \n",
    "        else:\n",
    "               print(\"Triangle is scalene.\") \n",
    "    else:\n",
    "        print(\"Enter non zero value.\")\n",
    "        \n",
    "        \n",
    "except Exception:\n",
    "    print(\"Please enter number only.\") "
   ]
  },
  {
   "cell_type": "code",
   "execution_count": 69,
   "metadata": {},
   "outputs": [
    {
     "name": "stdout",
     "output_type": "stream",
     "text": [
      "Normal weight, Your BMI 19.904\n"
     ]
    }
   ],
   "source": [
    "\"\"\"23. Develop a program to categorize a given person's BMI into underweight, normal, overweight, or obese using\n",
    "elif statements.\"\"\"\n",
    "\n",
    "#try block to manage errors.\n",
    "\n",
    "try:\n",
    "    #Taking user height(in meter) and weight(in kg) as input.\n",
    "    weight=float(input(\"Enter your weight (in kg)\"))\n",
    "    height=float(input(\"Enter your height (in m)\"))\n",
    "    \n",
    "    # This the avarage measurment for a human body from lowest to heighest value for weight and height. \n",
    "    if height>0.5 and height<2.4384 and weight>3 and weight<500:\n",
    "        \n",
    "        if (weight/(height**2))<18.5:\n",
    "            bmi=(weight/(height**2))\n",
    "            print(\"Underweight, Your BMI {:.3f}\".format(bmi))\n",
    "        elif (weight/(height**2))>=18.5 and (weight/(height**2))<=24.9:\n",
    "            bmi=(weight/(height**2))\n",
    "            print(\"Normal weight, Your BMI {:.3f}\".format(bmi))\n",
    "        elif (weight/(height**2))>=25 and (weight/(height**2))<=29.9:\n",
    "            bmi=(weight/(height**2))\n",
    "            print(\"Overweight, Your BMI {:.3f}\".format(bmi))\n",
    "        elif(weight/(height**2))>30:\n",
    "            bmi=(weight/(height**2))\n",
    "            print(\"Obesity, Your BMI {:.3f}\".format(bmi))\n",
    "    else:\n",
    "        print(\"Seem you are trying to entered 0 or negetive number.\")      \n",
    "        \n",
    "except Exception:\n",
    "    print(\"Please enter number only.\") "
   ]
  },
  {
   "cell_type": "code",
   "execution_count": 31,
   "metadata": {},
   "outputs": [
    {
     "name": "stdout",
     "output_type": "stream",
     "text": [
      "Number is Positive.\n"
     ]
    }
   ],
   "source": [
    "\"\"\"24. Create a program that determines whether a given number is positive, negative, or zero using elif\n",
    "statements.\"\"\"\n",
    "\n",
    "#try block to manage errors.\n",
    "try:\n",
    "    \n",
    "    #Taking user input\n",
    "    number=int(input(\"Enter any number:\"))\n",
    "    \n",
    "    #Conditions to check number is positive or negetive.\n",
    "    if number<0:\n",
    "        print(\"Number is Negative.\")\n",
    "    elif number>0:\n",
    "            print(\"Number is Positive.\")\n",
    "    elif number==0:\n",
    "         print(\"Number is Zero.\")\n",
    "         \n",
    "except Exception:\n",
    "    print(\"Please enter number only.\")"
   ]
  },
  {
   "cell_type": "code",
   "execution_count": 38,
   "metadata": {},
   "outputs": [
    {
     "name": "stdout",
     "output_type": "stream",
     "text": [
      "UPPERCASE\n"
     ]
    }
   ],
   "source": [
    "\"\"\"25. Write a Python script to determine the type of a character (uppercase, lowercase, or special) using elif\n",
    "statements.\"\"\"\n",
    "\n",
    "#try block to manage errors.\n",
    "try:\n",
    "    \n",
    "    #Taking user input\n",
    "    char=str(input(\"Enter any number:\"))\n",
    "    \n",
    "    #Conditions to check type of character.\n",
    "    if char.isupper():\n",
    "        print(\"UPPERCASE\")\n",
    "    elif char.islower():\n",
    "            print(\"lower\")\n",
    "    else:\n",
    "         print(\"special\")\n",
    "         \n",
    "except Exception:\n",
    "    print(\"Please enter charater only.\")"
   ]
  },
  {
   "cell_type": "code",
   "execution_count": 49,
   "metadata": {},
   "outputs": [
    {
     "name": "stdout",
     "output_type": "stream",
     "text": [
      "You gets discount of 20%\n"
     ]
    }
   ],
   "source": [
    "\"\"\"26. Implement a program to calculate the discounted price based on different purchase amounts using elif\n",
    "statements.\"\"\"\n",
    "\n",
    "# try block for mangae error.\n",
    "try:\n",
    "     \n",
    "     # Taking amount of purchase as user input.\n",
    "     amount =int(input(\"Enter your marks:\"))\n",
    "     \n",
    "     #Calculating discount based on purcahse.\n",
    "     if amount>=20000:\n",
    "         print(\"You gets discount of 20%\")\n",
    "     elif amount<20000 and amount>=15000:\n",
    "         print(\"You gets discount of 10%\")\n",
    "     elif amount>=7500 and amount<15000:\n",
    "         print(\"You gets discount of 7%\")\n",
    "     elif amount>=5000 and amount<7500:\n",
    "         print(\"You gets discount of 5%\")  \n",
    "     else:\n",
    "         print(\"No discount avaliable under 5000  purchase value.\")       \n",
    "                 \n",
    "         \n",
    "except Exception:\n",
    "    print(\"Please enter number only.\") "
   ]
  },
  {
   "cell_type": "code",
   "execution_count": 58,
   "metadata": {},
   "outputs": [
    {
     "name": "stdout",
     "output_type": "stream",
     "text": [
      "Electric bill $ 33.75\n"
     ]
    }
   ],
   "source": [
    "\"\"\"27. Develop a program to calculate the electricity bill based on different consumption slabs using elif\n",
    "statements.\"\"\"\n",
    "\n",
    "# try block for mangae error.\n",
    "try:\n",
    "     \n",
    "     # Taking electric units as user input.\n",
    "     unit =int(input(\"Enter your marks:\"))\n",
    "     \n",
    "     #Calculating electric bill based on unit used.\n",
    "     if unit>=1000:\n",
    "         print(\"Electric bill $\", unit*1.75)\n",
    "     elif unit<1000 and unit>=700:\n",
    "         print(\"Electric bill $\", unit*1.50)\n",
    "     elif unit>=400 and unit<700:\n",
    "         print(\"Electric bill $\", unit*1.25)\n",
    "     elif unit>=100 and unit<400:\n",
    "         print(\"Electric bill $\", unit*1) \n",
    "     elif unit>=1 and unit<100:\n",
    "         print(\"Electric bill $\", unit*0.75)     \n",
    "     else:\n",
    "         print(\"Seem you are trying to entered 0 or negetive number.\")       \n",
    "         \n",
    "except Exception:\n",
    "    print(\"Please enter number only.\") "
   ]
  },
  {
   "cell_type": "code",
   "execution_count": 82,
   "metadata": {},
   "outputs": [
    {
     "name": "stdout",
     "output_type": "stream",
     "text": [
      "It is a rectangle.\n"
     ]
    }
   ],
   "source": [
    "\"\"\"28. Create a program to determine the type of quadrilateral based on its angles and sides using elif\n",
    "statements.\"\"\"\n",
    "\n",
    "# try block for mangae error.\n",
    "try:\n",
    "     \n",
    "     sides = [4, 4, 6, 6]  \n",
    "     angles = [90, 90, 90, 90]\n",
    "     \n",
    "     #determine the type of quadrilateral\n",
    "     if all(angle == 90 for angle in angles):\n",
    "        if all(side1 == side2 for side1, side2 in zip(sides, sides[1:])):\n",
    "            print(\"It is a square.\")\n",
    "        else:\n",
    "            print(\"It is a rectangle.\")\n",
    "     elif all(angle == 180 for angle in angles):\n",
    "        print(\"It is a straight line.\")\n",
    "     elif sum(angles) == 360:\n",
    "        if all(angle < 90 for angle in angles):\n",
    "            print(\"It is a convex quadrilateral.\")\n",
    "        else:\n",
    "            print(\"It is a concave quadrilateral.\")\n",
    "     else:\n",
    "        print(\"It is a general quadrilateral.\")      \n",
    "         \n",
    "except Exception:\n",
    "    print(\"Please enter number only.\") "
   ]
  },
  {
   "cell_type": "code",
   "execution_count": 92,
   "metadata": {},
   "outputs": [
    {
     "name": "stdout",
     "output_type": "stream",
     "text": [
      "Winter\n"
     ]
    }
   ],
   "source": [
    "\"\"\"29. Write a Python script to determine the season based on a user-provided month using elif statements.\"\"\"\n",
    "\n",
    "# try block for mangae error.\n",
    "try:\n",
    "     \n",
    "     # Taking month number as user input.\n",
    "    month =int(input(\"Enter your marks:\"))\n",
    "     \n",
    "     #Calculating electric bill based on unit used.\n",
    "    if month in [12, 1, 2]:\n",
    "        print(\"Winter\")\n",
    "    elif month in [3, 4, 5]:\n",
    "        print(\"Spring\")\n",
    "    elif month in [6, 7, 8]:\n",
    "        print(\"Summer\")\n",
    "    elif month in [9, 10, 11]:\n",
    "        print(\"Fall\")\n",
    "    else:\n",
    "        print(\"Invalid month\")     \n",
    "         \n",
    "         \n",
    "except Exception:\n",
    "    print(\"Please enter number only.\")"
   ]
  },
  {
   "cell_type": "code",
   "execution_count": null,
   "metadata": {},
   "outputs": [],
   "source": [
    "\"\"\"30. Implement a program to determine the type of a year (leap or common) and month (30 or 31 days) using\n",
    "elif statements.\"\"\"\n",
    "\n",
    "#try block for manage error.\n",
    "try:\n",
    " def leap_year(year):\n",
    "    if (year % 4 == 0 and year % 100 != 0) or (year % 400 == 0):\n",
    "        return True\n",
    "    else:\n",
    "        return False\n",
    "\n",
    " def days_in_month(month, leap_year):\n",
    "    if month in [1, 3, 5, 7, 8, 10, 12]:\n",
    "        return 31\n",
    "    elif month in [4, 6, 9, 11]:\n",
    "        return 30\n",
    "    elif month == 2:\n",
    "        return 29 if leap_year else 28\n",
    "    else:\n",
    "        return -1  # Invalid month\n",
    "\n",
    "# Get user input for the year and month\n",
    " user_year = int(input(\"Enter the year: \"))\n",
    " user_month = int(input(\"Enter the month (1-12): \"))\n",
    "\n",
    "# Determine if it's a leap year\n",
    " check_year = leap_year(user_year)\n",
    "\n",
    "# Determine the number of days in the month\n",
    " days = days_in_month(user_month, check_year)\n",
    "\n",
    "# Display the result\n",
    " if days == -1:\n",
    "    print(\"Invalid month.\")\n",
    " else:\n",
    "    print(f\"The year {user_year} is {'leap' if leap_year else 'common'}.\")\n",
    "    print(f\"The month {user_month} has {days} days.\")\n",
    "\n",
    "except Exception:\n",
    "   print( Exception)"
   ]
  },
  {
   "cell_type": "markdown",
   "metadata": {},
   "source": [
    "<h1><center><u>Basic Level:</u></center></h1>\n",
    "1. Write a Python program that checks if a given number is positive, negative, or zero.<br>\n",
    "2. Create a program to determine if a person is eligible to vote based on their age.<br>\n",
    "3. Write a program to find the maximum of two given numbers using conditional statements.<br>\n",
    "4. Develop a program that calculates the grade of a student based on their exam score.<br>\n",
    "5. Create a program that checks if a year is a leap year or not.<br>\n",
    "6. Write a program to classify a triangle based on its sides' lengths.<br>\n",
    "7. Build a program that determines the largest of three given numbers.<br>\n",
    "8. Develop a program that checks whether a character is a vowel or a consonant.<br>\n",
    "9. Create a program to calculate the total cost of a shopping cart based on discounts.<br>\n",
    "10. Write a program that checks if a given number is even or odd."
   ]
  },
  {
   "cell_type": "code",
   "execution_count": null,
   "metadata": {},
   "outputs": [],
   "source": [
    "\"\"\"1. Write a Python program that checks if a given number is positive, negative, or zero.\"\"\"\n",
    "\n",
    "#try block to manage errors.\n",
    "try:\n",
    "    \n",
    "    #Taking user input\n",
    "    number=int(input(\"Enter any number:\"))\n",
    "    \n",
    "    #Conditions to check number is positive or negetive.\n",
    "    if number<0:\n",
    "        print(\"Number is Negative.\")\n",
    "    elif number>0:\n",
    "            print(\"Number is Positive.\")\n",
    "    elif number==0:\n",
    "         print(\"Number is Zero.\")\n",
    "         \n",
    "except Exception:\n",
    "    print(\"Please enter number only.\")"
   ]
  },
  {
   "cell_type": "code",
   "execution_count": null,
   "metadata": {},
   "outputs": [],
   "source": [
    "\"\"\"2. Create a program to determine if a person is eligible to vote based on their age.\"\"\"\n",
    "\n",
    "#try block to manage errors.\n",
    "\n",
    "try:\n",
    "    \n",
    "    #Taking user age as input.\n",
    "    age=int(input(\"enter your age:\"))\n",
    "    \n",
    "    #condtion for voting.\n",
    "    if age>18 and age<=100:\n",
    "        print(\"Person is eligible to vote.\")\n",
    "        \n",
    "    else:\n",
    "        if age<18:\n",
    "          print(\"Person is not eligible to vote.\")\n",
    "        else:\n",
    "             if age>100:\n",
    "               print(\"Please enter a valid age.\")    \n",
    "        \n",
    "except Exception:\n",
    "    print(\"Please enter number only.\") "
   ]
  },
  {
   "cell_type": "code",
   "execution_count": null,
   "metadata": {},
   "outputs": [],
   "source": [
    "\"\"\"3. Write a program to find the maximum of two given numbers using conditional statements.\"\"\"\n",
    "\n",
    "#try block to manage errors.\n",
    "\n",
    "try:\n",
    "    #Taking user age as input.\n",
    "    num1=int(input(\"Enter first number:\"))\n",
    "    num2=int(input(\"Enter second number:\"))\n",
    "    \n",
    "    #condtion for checking maximum number.\n",
    "    if num1>num2:\n",
    "        print(f\"{num1} is maximum.\")\n",
    "     \n",
    "    else:\n",
    "        print(f\"{num2} is maximum.\")    \n",
    "    \n",
    "except Exception:\n",
    "    print(\"Please enter number only.\") "
   ]
  },
  {
   "cell_type": "code",
   "execution_count": null,
   "metadata": {},
   "outputs": [],
   "source": [
    "\"\"\"4. Develop a program that calculates the grade of a student based on their exam score.\"\"\"\n",
    "\n",
    "# try block for mangae error.\n",
    "try:\n",
    "     \n",
    "     # Taking student marks as user input.\n",
    "     marks=int(input(\"Enter your marks:\"))\n",
    "     \n",
    "     #Calculating grade based on marks.\n",
    "     if marks>90:\n",
    "         print(\"Grade A\")\n",
    "     elif marks>75 and marks<=90:\n",
    "         print(\"Grade B\")\n",
    "     elif marks>60 and marks<=75:\n",
    "         print(\"Grade C\")\n",
    "     elif marks>=45 and marks<=60:\n",
    "         print(\"Grade D\")  \n",
    "     else:\n",
    "         print(\"Fale\")       \n",
    "                 \n",
    "         \n",
    "except Exception:\n",
    "    print(\"Please enter number only.\") "
   ]
  },
  {
   "cell_type": "code",
   "execution_count": null,
   "metadata": {},
   "outputs": [],
   "source": [
    "\"\"\"5. Create a program that checks if a year is a leap year or not.\"\"\"\n",
    "\n",
    "#try block to manage errors.\n",
    "\n",
    "try:\n",
    "    #Taking user input.\n",
    "    year=int(input(\"Enter any year:\"))\n",
    "    \n",
    "    #Checking number is leap or not.\n",
    "    if (year % 4 == 0 and year % 100 != 0) or (year % 400 == 0):\n",
    "        print(f\"{year} is leap year.\")\n",
    "    else:\n",
    "        print(f\"{year} is not a leap year.\")\n",
    "      \n",
    "except Exception:\n",
    "    print(\"Please enter number only.\")  "
   ]
  },
  {
   "cell_type": "code",
   "execution_count": null,
   "metadata": {},
   "outputs": [],
   "source": [
    "\"\"\"6. Write a program to classify a triangle based on its sides' lengths.\"\"\"\n",
    "\n",
    "#try block to manage errors.\n",
    "\n",
    "try:\n",
    "    #Taking user age as input.\n",
    "    side_a=int(input(\"Enter side a:\"))\n",
    "    side_b=int(input(\"Enter side b:\"))\n",
    "    side_c=int(input(\"Enter side c:\"))\n",
    "\n",
    "    #condtion to determine if a triangle is equilateral, isosceles, or scalene.\n",
    "    \n",
    "    if side_a!=0 and side_b!=0 and side_c!=0:\n",
    "        if side_a==side_b and side_b==side_c:\n",
    "          print(\"Triangle is equilateral\")  \n",
    "        \n",
    "        elif side_a == side_b or side_a == side_c or side_b == side_c:\n",
    "              print(\"Triangle is isosceles.\") \n",
    "        else:\n",
    "               print(\"Triangle is scalene.\") \n",
    "    else:\n",
    "        print(\"Enter non zero value.\")\n",
    "        \n",
    "        \n",
    "except Exception:\n",
    "    print(\"Please enter number only.\")"
   ]
  },
  {
   "cell_type": "code",
   "execution_count": null,
   "metadata": {},
   "outputs": [],
   "source": [
    "\"\"\"7. Build a program that determines the largest of three given numbers.\"\"\"\n",
    "\n",
    "#try block to manage errors.\n",
    "\n",
    "try:\n",
    "    #Taking user age as input.\n",
    "    num1=int(input(\"Enter first number:\"))\n",
    "    num2=int(input(\"Enter second number:\"))\n",
    "    num3=int(input(\"Enter third number:\"))\n",
    "    \n",
    "    print('Numbers:',num1,num2,num3)\n",
    "    #condtion for checking maximum number.\n",
    "    if num1>num2 and num1>num3:\n",
    "        print(f'{num1} is larger.')\n",
    "    else:\n",
    "        if num2>num1 and num2>num3:\n",
    "            print(f'{num2} is larger.')\n",
    "        else:\n",
    "            print(f'{num3} is larger.')     \n",
    "    \n",
    "except Exception:\n",
    "    print(\"Please enter number only.\")"
   ]
  },
  {
   "cell_type": "code",
   "execution_count": null,
   "metadata": {},
   "outputs": [],
   "source": [
    "\"\"\"8. Develop a program that checks whether a character is a vowel or a consonant.\"\"\"\n",
    "\n",
    "#try block to manage errors.\n",
    "try:\n",
    "    #Taking user input.\n",
    "    chr=input(\"Enter any character\")\n",
    "    char=chr.lower()\n",
    "    \n",
    "    #Checking whether a character is a vowel or a consonant. \n",
    "    if (char=='a' or char=='e' or char=='i' or char=='o' or char=='u'):\n",
    "        print(\"Entered character is vowel.\")\n",
    "     \n",
    "    else:\n",
    "         print(\"Entered character is consonant.\")   \n",
    "\n",
    "except Exception:\n",
    "    print(\"Enter single charater only.\")  "
   ]
  },
  {
   "cell_type": "code",
   "execution_count": 97,
   "metadata": {},
   "outputs": [
    {
     "name": "stdout",
     "output_type": "stream",
     "text": [
      "The total cost of the shopping cart is: $301.5\n"
     ]
    }
   ],
   "source": [
    "\"\"\"9. Create a program to calculate the total cost of a shopping cart based on discounts.\"\"\"\n",
    "#try block to manage errors.\n",
    "try:\n",
    "    \n",
    "    shopping_cart = {\n",
    "    'item1': 250,\n",
    "    'item2': 30,\n",
    "    'item3': 40,\n",
    "    'item4': 15\n",
    "    }\n",
    "    total_cost = 0\n",
    "    for item, price in shopping_cart.items():\n",
    "        total_cost += price\n",
    "\n",
    "    # Apply discount based on total cost\n",
    "    if total_cost >= 100:\n",
    "        discount = 0.1  # 10% discount for total cost $100 or more\n",
    "        total_cost -= total_cost * discount\n",
    "        print(f\"The total cost of the shopping cart is: ${total_cost}\")\n",
    "\n",
    "except Exception:\n",
    "    print(Exception) \n"
   ]
  },
  {
   "cell_type": "code",
   "execution_count": null,
   "metadata": {},
   "outputs": [],
   "source": [
    "\"\"\"10. Write a program that checks if a given number is even or odd.\"\"\"\n",
    "\n",
    "#try block to manage errors.\n",
    "try:\n",
    "    \n",
    "    #Taking user input\n",
    "    number=int(input(\"Enter any number:\"))\n",
    "    \n",
    "    #Checking whether a given number is even or odd.\n",
    "    if number%2==0:\n",
    "         print(f\"{number} is even.\") \n",
    "    else:\n",
    "        print(f\"{number} is odd.\")\n",
    "\n",
    "except Exception:\n",
    "    print(\"Please enter number only.\") "
   ]
  },
  {
   "cell_type": "markdown",
   "metadata": {},
   "source": [
    "<h1><center><u>Intermediate Level:</u></center></h1>\n",
    "11. Write a program that calculates the roots of a quadratic equation.<br>\n",
    "12. Create a program that determines the day of the week based on the day number (1-7).<br>\n",
    "13. Develop a program that calculates the factorial of a given number using recursion.<br>\n",
    "14. Write a program to find the largest among three numbers without using the `max()` function.<br>\n",
    "15. Create a program that simulates a basic ATM transaction menu.<br>\n",
    "16. Build a program that checks if a given string is a palindrome or not.<br>\n",
    "17. Write a program that calculates the average of a list of numbers, excluding the smallest and largest values.<br>\n",
    "18. Develop a program that converts a given temperature from Celsius to Fahrenheit.<br>\n",
    "19. Create a program that simulates a basic calculator for addition, subtraction, multiplication, and division.<br>\n",
    "20. Write a program that determines the roots of a cubic equation using the Cardano formula."
   ]
  },
  {
   "cell_type": "code",
   "execution_count": null,
   "metadata": {},
   "outputs": [],
   "source": [
    "\"\"\"11. Write a program that calculates the roots of a quadratic equation.\"\"\"\n",
    "\n",
    "import cmath  # Import the complex math module for handling complex roots\n",
    "\n",
    "#try block to manage error.\n",
    "try:\n",
    " def find_roots(a, b, c):\n",
    "    # Calculate the discriminant\n",
    "    discriminant = b**2 - 4*a*c\n",
    "    \n",
    "    # Check the nature of the roots\n",
    "    if discriminant > 0:\n",
    "        # Two distinct real roots\n",
    "        root1 = (-b + (discriminant)**0.5) / (2*a)\n",
    "        root2 = (-b - (discriminant)**0.5) / (2*a)\n",
    "        return root1, root2\n",
    "    \n",
    "    else:\n",
    "     \n",
    "         if discriminant == 0:\n",
    "        # One real root (repeated root or double root)\n",
    "          root = -b / (2*a)\n",
    "          return root,\n",
    "      \n",
    "         else:\n",
    "        # Two complex roots\n",
    "          root1 = (-b + cmath.sqrt(discriminant)) / (2*a)\n",
    "          root2 = (-b - cmath.sqrt(discriminant)) / (2*a)\n",
    "          return root1, root2\n",
    "\n",
    "except Exception:\n",
    "    print(f\"{Exception}Check your values.\")\n",
    "    \n",
    "# Taking user input for the values of a,b,c\n",
    "a = int(input(\"Enter value of a:\"))\n",
    "b = int(input(\"Enter value of b:\"))\n",
    "c = int(input(\"Enter value of c:\"))\n",
    "\n",
    "roots = find_roots(a, b, c)\n",
    "print(\"Roots:\", roots)\n"
   ]
  },
  {
   "cell_type": "code",
   "execution_count": null,
   "metadata": {},
   "outputs": [],
   "source": [
    "\"\"\"12. Create a program that determines the day of the week based on the day number (1-7).\"\"\"\n",
    "\n",
    "\n",
    "#try block to manage errors.\n",
    "try:\n",
    "    \n",
    "    #Taking user input\n",
    "    day=int(input(\"Enter number from (1 to 7):\"))\n",
    "    \n",
    "    #Conditions to check day based on number.\n",
    "    if day==1:\n",
    "        print(\"Monday\")\n",
    "    \n",
    "    elif day==2:\n",
    "        print(\"Tuseday\")\n",
    "        \n",
    "    elif day==3:\n",
    "        print(\"Wednesday\")   \n",
    "            \n",
    "    elif day==4:\n",
    "        print(\"Thrusday\")  \n",
    "                \n",
    "    elif day==5:\n",
    "         print(\"Friday\")  \n",
    "                    \n",
    "    elif day==6:\n",
    "        print(\"Saturday\")    \n",
    "                        \n",
    "    elif day==7:\n",
    "        print(\"Sunday\")        \n",
    "    else:\n",
    "        print(\"Enter number from 1 to 7.\")\n",
    "        \n",
    "except Exception:\n",
    "    print(\"Please enter number only.\")"
   ]
  },
  {
   "cell_type": "code",
   "execution_count": 7,
   "metadata": {},
   "outputs": [
    {
     "name": "stdout",
     "output_type": "stream",
     "text": [
      "The factorial of 5 is: 120\n"
     ]
    }
   ],
   "source": [
    "\"\"\"13. Develop a program that calculates the factorial of a given number using recursion.\"\"\"\n",
    "def factorial(n):\n",
    "    if n < 0:\n",
    "        return \"Factorial is undefined for negative numbers.\"\n",
    "    elif n == 0 or n == 1:\n",
    "        return 1\n",
    "    else:\n",
    "        return n * factorial(n - 1)\n",
    "\n",
    "# Get user input\n",
    "number = int(input(\"Enter a non-negative integer to calculate its factorial: \"))\n",
    "\n",
    "# Check if the input is non-negative\n",
    "if number < 0:\n",
    "    print(\"Please enter a non-negative integer.\")\n",
    "else:\n",
    "    result = factorial(number)\n",
    "    print(f\"The factorial of {number} is: {result}\")\n"
   ]
  },
  {
   "cell_type": "code",
   "execution_count": null,
   "metadata": {},
   "outputs": [],
   "source": [
    "\"\"\"14. Write a program to find the largest among three numbers without using the `max()` function.\"\"\"\n",
    "\n",
    "#try block to manage errors.\n",
    "\n",
    "try:\n",
    "    #Taking user age as input.\n",
    "    num1=int(input(\"Enter first number:\"))\n",
    "    num2=int(input(\"Enter second number:\"))\n",
    "    num3=int(input(\"Enter third number:\"))\n",
    "    \n",
    "    print('Numbers:',num1,num2,num3)\n",
    "    #condtion for checking maximum number.\n",
    "    if num1>num2 and num1>num3:\n",
    "        print(f'{num1} is larger.')\n",
    "    else:\n",
    "        if num2>num1 and num2>num3:\n",
    "            print(f'{num2} is larger.')\n",
    "        else:\n",
    "            print(f'{num3} is larger.')     \n",
    "    \n",
    "except Exception:\n",
    "    print(\"Please enter number only.\")   "
   ]
  },
  {
   "cell_type": "code",
   "execution_count": 19,
   "metadata": {},
   "outputs": [
    {
     "name": "stdout",
     "output_type": "stream",
     "text": [
      " Press 1 for check balance\n",
      " Press 2 for cash withdraw\n",
      " Rs. 322 debited, updated balance= Rs. 678\n",
      " After transaction collect your card\n"
     ]
    }
   ],
   "source": [
    "\"\"\"15. Create a program that simulates a basic ATM transaction menu.\"\"\"\n",
    "\n",
    "#Basic ATM transaction menu.\n",
    "print(\"Welcome to XYZ Bank Service\\n Press 1 for check balance\\n Press 2 for cash withdraw\")\n",
    "\n",
    "#try block to handle errors.\n",
    "try:\n",
    "    \n",
    "    #Function to perform basic ATM transaction.\n",
    "    def ATM(pin,user_choise):\n",
    "       #Adding some amount in user bank for testing purpose.\n",
    "       amount=1000\n",
    "       \n",
    "       #Condtions for ATM transaction.\n",
    "       if user_choise==1:\n",
    "           \n",
    "           user_pin=int(input(\"Enter you pincode\"))\n",
    "           if user_pin==pin:\n",
    "               return f\"Rs. {amount}\"\n",
    "       else:\n",
    "        if user_choise==2:\n",
    "            user_pin=int(input(\"Enter you pincode\"))\n",
    "            if user_pin==pin:\n",
    "               cash=int(input(\"Enter the amount to withdraw\"))\n",
    "               if amount<cash:\n",
    "                   return f\"Insuficient balance, your balance = Rs. {amount}\\n After transaction collect your card\"\n",
    "               else:\n",
    "                  cash_withdraw=amount-cash\n",
    "                  return f\" Rs. {cash} debited, updated balance= Rs. {cash_withdraw}\\n After transaction collect your card\"       \n",
    "        else: \n",
    "           return f\" No option selected\\n After transaction collect your card \"\n",
    "\n",
    "except Exception as e:\n",
    "    print(e)\n",
    "\n",
    "#Taking user input as menu option.  \n",
    "user_choise=int(input(\"Select any option\"))\n",
    "#Pincode for ATM card.\n",
    "pincode=5656\n",
    "#Passing perimeters to the function\n",
    "user=ATM(pincode,user_choise)\n",
    "#Printing function response.\n",
    "print(user)"
   ]
  },
  {
   "cell_type": "code",
   "execution_count": 1,
   "metadata": {},
   "outputs": [
    {
     "name": "stdout",
     "output_type": "stream",
     "text": [
      "121 is palindrome number.\n"
     ]
    }
   ],
   "source": [
    "\"\"\"16. Build a program that checks if a given string is a palindrome or not.\"\"\"\n",
    "#try block for manage error.\n",
    "\n",
    "try:\n",
    "    #Taking user input.\n",
    "    num=int(input(\"Enter any number:\"))\n",
    "    \n",
    "    #Type casting integer value to string.\n",
    "    str_num=str(num)\n",
    "    \n",
    "    #Checking number is palindrome or not.\n",
    "    if str_num==str_num[::-1]:\n",
    "        print(f\"{int(num)} is palindrome number.\")\n",
    "    \n",
    "    else:\n",
    "        print(f\"{int(num)} is not palindrome number.\")    \n",
    "\n",
    "\n",
    "except Exception:\n",
    "    print(\"Please enter number only.\") "
   ]
  },
  {
   "cell_type": "code",
   "execution_count": 22,
   "metadata": {},
   "outputs": [
    {
     "name": "stdout",
     "output_type": "stream",
     "text": [
      "Original List: [5, 2, 8, 3, 1, 9, 4, 6, 7]\n",
      "Average (excluding smallest and largest): 5.0\n"
     ]
    }
   ],
   "source": [
    "\"\"\"17. Write a program that calculates the average of a list of numbers, excluding the smallest and largest values.\"\"\"\n",
    "\n",
    "def calculate_average_without_extremes(numbers):\n",
    "    # Check if the list has at least 2 elements\n",
    "    if len(numbers) < 3:\n",
    "        print(\"List must have at least three elements.\")\n",
    "        return\n",
    "\n",
    "    # Find the minimum and maximum values in the list\n",
    "    min_val = min(numbers)\n",
    "    max_val = max(numbers)\n",
    "\n",
    "    # Exclude the smallest and largest values\n",
    "    numbers_without_extremes = [num for num in numbers if num != min_val and num != max_val]\n",
    "\n",
    "    # Calculate the average of the remaining values\n",
    "    average = sum(numbers_without_extremes) / len(numbers_without_extremes)\n",
    "\n",
    "    return average\n",
    "\n",
    "# Example usage\n",
    "number_list = [5, 2, 8, 3, 1, 9, 4, 6, 7]\n",
    "result = calculate_average_without_extremes(number_list)\n",
    "\n",
    "if result is not None:\n",
    "    print(\"Original List:\", number_list)\n",
    "    print(\"Average (excluding smallest and largest):\", result)\n"
   ]
  },
  {
   "cell_type": "code",
   "execution_count": 6,
   "metadata": {},
   "outputs": [
    {
     "name": "stdout",
     "output_type": "stream",
     "text": [
      "32.0 Fahrenheit\n"
     ]
    }
   ],
   "source": [
    "\"\"\"18. Develop a program that converts a given temperature from Celsius to Fahrenheit.\"\"\"\n",
    "\n",
    "#try block for manage error.\n",
    "\n",
    "try:\n",
    "    #Taking user input for temperature.\n",
    "    celsius=int(input(\"Enter temprature in celsius:\"))\n",
    "\n",
    "    #Converting temperature.\n",
    "    if True:\n",
    "        Fahrenheit=9/5*celsius+32\n",
    "        print(f'{Fahrenheit} Fahrenheit')\n",
    "\n",
    "\n",
    "except Exception:\n",
    "    print(\"Please enter number only.\") "
   ]
  },
  {
   "cell_type": "code",
   "execution_count": 9,
   "metadata": {},
   "outputs": [
    {
     "name": "stdout",
     "output_type": "stream",
     "text": [
      " For addition type 1\n",
      " For subtraction select 2\n",
      " For multiplication select 2\n",
      " For division select 2\n",
      "\n",
      "Addintion: 8.0\n"
     ]
    }
   ],
   "source": [
    "\"\"\"19. Create a program that simulates a basic calculator for addition, subtraction, multiplication, and division.\"\"\"\n",
    "\n",
    "#try block for manage error.\n",
    "\n",
    "try:\n",
    "   def cal(a,b,op):\n",
    "       if op==1:\n",
    "           return f\"Addintion: {a+b}\"\n",
    "       elif op==2:\n",
    "           return f\"Subtraction: {a-b}\"\n",
    "       elif op==3:\n",
    "           return f\"Multuplication: {a*b}\"\n",
    "       elif op==4:\n",
    "           return f\"Division: {a/b}\"\n",
    "       else:\n",
    "          return None\n",
    "          \n",
    "except Exception:\n",
    "    print(Exception)\n",
    "    \n",
    "print(\" For addition type 1\\n For subtraction select 2\\n For multiplication select 2\\n For division select 2\\n\")     \n",
    "\n",
    "x=float(input(\"Enter first value:\"))\n",
    "operator=int(input(\"Select operator\\n\"))\n",
    "y=float(input(\"Enter second value:\"))\n",
    "\n",
    "result=cal(x,y,operator) \n",
    "print(result) "
   ]
  },
  {
   "cell_type": "code",
   "execution_count": 21,
   "metadata": {},
   "outputs": [
    {
     "name": "stdout",
     "output_type": "stream",
     "text": [
      "Root 1: (0.7397209465392884+0.059883800532130785j)\n",
      "Root 2: (-1.1717213658056296-1.0436879330406483j)\n",
      "Root 3: (-1.0679995807336589+0.9838041325085175j)\n"
     ]
    }
   ],
   "source": [
    "\"\"\"20. Write a program that determines the roots of a cubic equation using the Cardano formula.\"\"\"\n",
    "\n",
    "import cmath  \n",
    "\n",
    "# Coefficients of the cubic equation\n",
    "a = int(input(\"Enter the value of a\"))\n",
    "b = int(input(\"Enter the value of b\"))\n",
    "c = int(input(\"Enter the value of c\"))\n",
    "d = int(input(\"Enter the value of d\"))\n",
    "\n",
    "# Calculate coefficients p and q\n",
    "p = (3 * a * c - b**2) / (3 * a**2)\n",
    "q = (9 * a * b * c - 27 * a**2 * d - 2 * b**3) / (27 * a**3)\n",
    "\n",
    "# Calculate discriminant D\n",
    "D = (q/2)**2 + (p/3)**3\n",
    "\n",
    "try:\n",
    "# Check the nature of the roots\n",
    "   if D > 0:\n",
    "    # Three real roots\n",
    "    r1 = (-q / 2 + cmath.sqrt(D))**(1/3)\n",
    "    r2 = (-q / 2 - cmath.sqrt(D))**(1/3)\n",
    "\n",
    "    # Calculate the three roots\n",
    "    x1 = r1 + r2 - b / (3 * a)\n",
    "    x2 = -(r1 + r2) / 2 - b / (3 * a) + (r1 - r2) * cmath.sqrt(3) / 2j\n",
    "    x3 = -(r1 + r2) / 2 - b / (3 * a) - (r1 - r2) * cmath.sqrt(3) / 2j\n",
    "\n",
    "    print(\"Root 1:\", x1)\n",
    "    print(\"Root 2:\", x2)\n",
    "    print(\"Root 3:\", x3)\n",
    "\n",
    "   elif D == 0:\n",
    "    # One real root (with multiplicity)\n",
    "    r1 = (-q / 2)**(1/3)\n",
    "    x1 = 2 * r1 - b / (3 * a)\n",
    "    print(\"Root:\", x1)\n",
    "\n",
    "   else:\n",
    "    # One real root and two complex conjugate roots\n",
    "    r = (-q / 2 + cmath.sqrt(D))**(1/3)\n",
    "    x1 = r + (-q / 2 - cmath.sqrt(D))**(1/3) - b / (3 * a)\n",
    "    x2 = -(r + (-q / 2 - cmath.sqrt(D))**(1/3)) / 2 - b / (3 * a) + (r - (-q / 2 - cmath.sqrt(D))**(1/3)) * cmath.sqrt(3) / 2j\n",
    "    x3 = -(r + (-q / 2 - cmath.sqrt(D))**(1/3)) / 2 - b / (3 * a) - (r - (-q / 2 - cmath.sqrt(D))**(1/3)) * cmath.sqrt(3) / 2j\n",
    "\n",
    "    print(\"Real Root:\", x1)\n",
    "    print(\"Complex Root 1:\", x2)\n",
    "    print(\"Complex Root 2:\", x3)\n",
    "\n",
    "except Exception:\n",
    "    print(Exception)"
   ]
  },
  {
   "cell_type": "markdown",
   "metadata": {},
   "source": [
    "<h1><center><u>Advanced Level:</u></center></h1>\n",
    "21. Create a program that calculates the income tax based on the user's income and tax brackets.<br>\n",
    "22. Write a program that simulates a rock-paper-scissors game against the computer.<br>\n",
    "23. Develop a program that generates a random password based on user preferences (length, complexity).<br>\n",
    "24. Create a program that implements a simple text-based adventure game with branching scenarios.<br>\n",
    "25. Build a program that solves a linear equation for x, considering different cases.<br>\n",
    "26. Write a program that simulates a basic quiz game with multiple-choice questions and scoring.<br>\n",
    "27. Develop a program that determines whether a given year is a prime number or not.<br>\n",
    "28. Create a program that sorts three numbers in ascending order using conditional statements.<br>\n",
    "29. Build a program that determines the roots of a quartic equation using numerical methods.<br>\n",
    "30. Write a program that calculates the BMI (Body Mass Index) and provides health recommendations based\n",
    "on the user's input."
   ]
  },
  {
   "cell_type": "code",
   "execution_count": 25,
   "metadata": {},
   "outputs": [
    {
     "name": "stdout",
     "output_type": "stream",
     "text": [
      "Income tax $ 50000.0\n"
     ]
    }
   ],
   "source": [
    "\"\"\"21. Create a program that calculates the income tax based on the user's income and tax brackets.\"\"\"\n",
    "\n",
    "# try block for mangae error.\n",
    "try:\n",
    "     \n",
    "     # Taking income as user input.\n",
    "     income =int(input(\"Enter your marks:\"))\n",
    "     \n",
    "     #Calculating tax based on income.\n",
    "     if income>=1000000:\n",
    "         print(\"Income tax $\", (5/100)*income)\n",
    "     elif income<1000000 and income>=700000:\n",
    "         print(\"Income tax $\", (3/100)*income)\n",
    "     elif income>=400000 and income<700000:\n",
    "         print(\"Income tax $\", (2/100)*income)\n",
    "     elif income>=300000 and income<400000:\n",
    "         print(\"Income tax $\", (1/100)*income) \n",
    "     elif income>=100000 and income<300000:\n",
    "         print(\"Income tax $\", (0.75/100)*income)     \n",
    "     else:\n",
    "         print(\"Seem you are trying to entered 0 or negetive number.\")       \n",
    "         \n",
    "except Exception:\n",
    "    print(\"Please enter number only.\") "
   ]
  },
  {
   "cell_type": "code",
   "execution_count": 14,
   "metadata": {},
   "outputs": [
    {
     "name": "stdout",
     "output_type": "stream",
     "text": [
      "\n",
      "Your choice rock and Computer choice scissors\n",
      "\n",
      "User win\n",
      "\n",
      "Your choice paper and Computer choice paper\n",
      "\n",
      "The game end in a tie\n",
      "\n",
      "Your choice paper and Computer choice rock\n",
      "\n",
      "User win\n",
      "\n",
      "Your choice paper and Computer choice scissors\n",
      "\n",
      "Computer win\n",
      "Exiting the game. Goodbye!\n"
     ]
    }
   ],
   "source": [
    "\"\"\"22. Write a program that simulates a rock-paper-scissors game against the computer.\"\"\"\n",
    "\n",
    "import random\n",
    "\n",
    "\"\"\"The game has three possible outcomes for each turn:\n",
    "\n",
    "1. Rock crushes Scissors: Rock wins against Scissors.\n",
    "2. Scissors cuts Paper: Scissors wins against Paper.\n",
    "3. Paper covers Rock: Paper wins against Rock. \"\"\"\n",
    "   \n",
    "\n",
    "def game(user_choise):\n",
    "  \n",
    "  computer=['rock', 'paper', 'scissors']\n",
    "  computer_choice=random.choice(computer)\n",
    "  \n",
    "  if computer_choice==user_choise:\n",
    "    return (\"\\nThe game end in a tie\")\n",
    "  elif user_choise=='rock' and computer_choice=='scissors':\n",
    "    return (\"\\nUser win\")\n",
    "  elif user_choise=='rock' and computer_choice=='paper':\n",
    "    return (\"\\nComputer win\")\n",
    "  elif user_choise=='paper' and computer_choice=='rock':\n",
    "    return(\"\\nUser win\")\n",
    "  elif user_choise=='paper' and computer_choice=='scissors':\n",
    "    return (\"\\nComputer win\") \n",
    "  elif user_choise=='scissors' and computer_choice=='rock':\n",
    "    return (\"\\nComputer win\")\n",
    "  elif user_choise=='scissors' and computer_choice=='paper':\n",
    "    return(\"\\nUser win\") \n",
    "\n",
    "\n",
    "while True:\n",
    "    user_input = input(\"Enter your choice (rock, paper, scissors) or 'exit' to stop: \").lower()\n",
    "\n",
    "    if user_input == 'exit':\n",
    "        print(\"Exiting the game. Goodbye!\")\n",
    "        break\n",
    "\n",
    "    if user_input not in ['rock', 'paper', 'scissors']:\n",
    "        print(\"Invalid input. Please enter 'rock', 'paper', 'scissors', or 'exit'.\")\n",
    "        continue\n",
    "\n",
    "    result = game(user_input)\n",
    "    print(result)\n",
    "    \n"
   ]
  },
  {
   "cell_type": "code",
   "execution_count": 17,
   "metadata": {},
   "outputs": [
    {
     "name": "stdout",
     "output_type": "stream",
     "text": [
      "Generated Password: z_gruz\"4B%\n"
     ]
    }
   ],
   "source": [
    "\"\"\"23. Develop a program that generates a random password based on user preferences (length, complexity).\"\"\"\n",
    "\n",
    "import secrets\n",
    "import string\n",
    "\n",
    "#Function to generate password for the given requirements.\n",
    "def generate_password(length, uppercase, lowercase, digits, special_chars):\n",
    "    # Define character sets based on complexity options\n",
    "    chars = \"\"\n",
    "    if uppercase:\n",
    "        chars += string.ascii_uppercase\n",
    "    if lowercase:\n",
    "        chars += string.ascii_lowercase\n",
    "    if digits:\n",
    "        chars += string.digits\n",
    "    if special_chars:\n",
    "        chars += string.punctuation\n",
    "\n",
    "    # Check if at least one character set is selected\n",
    "    if not chars:\n",
    "        raise ValueError(\"At least one character set (uppercase, lowercase, digits, special characters) must be selected.\")\n",
    "\n",
    "    # Generate the password using secrets.choice\n",
    "    password = ''.join(secrets.choice(chars) for _ in range(length))\n",
    "    \n",
    "    return password\n",
    "\n",
    "#Taking user input what he/she wants in password.\n",
    "length=int(input(\"Enter the length of password\"))\n",
    "uppercase=bool(input(\"You want uppercase letter in password, type 1 for yes or 0 for no\"))\n",
    "lowercase=bool(input(\"You want lowercase letter in password, type 1 for yes or 0 for no\"))\n",
    "digits=bool(input(\"You want digits in password, type 1 for yes or 0 for no\"))\n",
    "special_chars=bool(input(\"You want special charaters in password, type 1 for yes or 0 for no\"))\n",
    "\n",
    "#Passing user password requirements.\n",
    "password = generate_password(length, uppercase, lowercase, digits, special_chars)\n",
    "\n",
    "#Printing generated password.\n",
    "print(\"Generated Password:\", password)\n"
   ]
  },
  {
   "cell_type": "code",
   "execution_count": 6,
   "metadata": {},
   "outputs": [
    {
     "name": "stdout",
     "output_type": "stream",
     "text": [
      "Welocome to the guessing the number game.\n",
      "\n",
      "I'm thinking a number from 1 to 10, can you guess what is the number?\n",
      "Too low, Try again\n",
      "Congratulations! You guessed the number in 2 attempts.\n"
     ]
    }
   ],
   "source": [
    "\"\"\"24. Create a program that implements a simple text-based adventure game with branching scenarios.\"\"\"\n",
    "\n",
    "import random\n",
    "\n",
    "def advanture_game():\n",
    "    \n",
    "    print(\"Welocome to the guessing the number game.\\n\")\n",
    "    print(\"I'm thinking a number from 1 to 10, can you guess what is the number?\")\n",
    "    \n",
    "    guess=random.randint(1,10)\n",
    "    attempts=0\n",
    "\n",
    "    while True:\n",
    "        try:\n",
    "            user_guess=int(input(\"Enter your choice:\"))\n",
    "            attempts+=1\n",
    "            if user_guess==guess:\n",
    "                 print(f\"Congratulations! You guessed the number in {attempts} attempts.\")\n",
    "                 break\n",
    "             \n",
    "            elif user_guess<guess:\n",
    "                print(\"Too low, Try again\")\n",
    "            else:\n",
    "                print(\"Too high, Try again\")  \n",
    "        except Exception:\n",
    "            print(\"Invalid input\")          \n",
    "    \n",
    "if __name__==\"__main__\":\n",
    "    advanture_game()   \n",
    "    "
   ]
  },
  {
   "cell_type": "code",
   "execution_count": 15,
   "metadata": {},
   "outputs": [
    {
     "name": "stdout",
     "output_type": "stream",
     "text": [
      "\n",
      "Solution for x: 0.1429\n"
     ]
    }
   ],
   "source": [
    "\"\"\"25. Build a program that solves a linear equation for x, considering different cases.\"\"\"\n",
    "\n",
    "#Function to solve the linear equation for the valuse of x.\n",
    "\n",
    "# Linear equartion:  ax + b = 0, solution for x = -b/a\n",
    "\n",
    "def linear_eq():\n",
    "   try: \n",
    "       # Taking user input for the values of a and b.\n",
    "       a=int(input(\"Enter the value of a:\"))\n",
    "       b=int(input(\"Enter the value of b:\"))\n",
    "       \n",
    "       # Base case for value of a=0.\n",
    "       if a==0:\n",
    "           print(f\"If value of 'a' is zero than the equation will be zero.\\n 0x + b = 0\\n => b = 0\\n => 0 = 0\\n No solution for x \")\n",
    "       else:\n",
    "         x=-b/a\n",
    "         print('\\nSolution for x: {:.4f}'.format(x))    \n",
    "   except ValueError:\n",
    "       print(\"Invalid value, enter number only.\")\n",
    "\n",
    "if __name__==\"__main__\":\n",
    "    linear_eq()       "
   ]
  },
  {
   "cell_type": "code",
   "execution_count": 3,
   "metadata": {},
   "outputs": [
    {
     "name": "stdout",
     "output_type": "stream",
     "text": [
      "Welcome to the Python quiz game\n",
      "\n",
      "1. What does the len() function do in Python?\n",
      "a) Returns the length of a string\n",
      "b) Returns the length of a list, tuple, or string\n",
      "2. Which of the following statements is used for accepting user input in Python?\n",
      "a) input()\n",
      "b) get()\n",
      "3. What is the purpose of the break statement in Python?\n",
      "a) Exits the program immediately\n",
      "b) Terminates the current loop\n",
      "4. Which of the following is an example of a mutable data type in Python?\n",
      "a) int\n",
      "b) list\n",
      "5. What is the purpose of the pass statement in Python?\n",
      "a) Breaks out of the loop\n",
      "b) Represents a placeholder with no action\n",
      "\n",
      "Your final score: 25 out of 25.\n"
     ]
    }
   ],
   "source": [
    "\"\"\"26. Write a program that simulates a basic quiz game with multiple-choice questions and scoring.\"\"\"\n",
    "\n",
    "#Function to simulates a basic quiz game.\n",
    "def quiz_game():\n",
    "    score = 0\n",
    "    print(\"Welcome to the Python quiz game\\n\")\n",
    "    \n",
    "    #Adding some question to the game.\n",
    "    questions = [\n",
    "        '1. What does the len() function do in Python?',\n",
    "        '2. Which of the following statements is used for accepting user input in Python?',\n",
    "        '3. What is the purpose of the break statement in Python?',\n",
    "        '4. Which of the following is an example of a mutable data type in Python?',\n",
    "        '5. What is the purpose of the pass statement in Python?'\n",
    "    ]\n",
    "    \n",
    "    #Adding options for the questions.\n",
    "    options = [\n",
    "        ['a) Returns the length of a string', 'b) Returns the length of a list, tuple, or string'],\n",
    "        ['a) input()', 'b) get()'],\n",
    "        ['a) Exits the program immediately', 'b) Terminates the current loop'],\n",
    "        ['a) int', 'b) list'],\n",
    "        ['a) Breaks out of the loop', 'b) Represents a placeholder with no action']\n",
    "    ]\n",
    "    # Answers for the respective options and question.\n",
    "    answers = ['b', 'a', 'b', 'b', 'b']\n",
    "\n",
    "    # Iterate through the questions\n",
    "    for i in range(len(questions)):\n",
    "        # Print the question\n",
    "        print(questions[i])\n",
    "\n",
    "        # Print the options for the current question\n",
    "        for option in options[i]:\n",
    "            print(option)\n",
    "\n",
    "        # Get user input for the current question\n",
    "        user_answer = input(\"Enter your choice (a or b): \")\n",
    "\n",
    "        # Check if the user's answer is correct\n",
    "        if user_answer.lower() == answers[i]:\n",
    "            score += 5\n",
    "\n",
    "    # Print the final score\n",
    "    print(f\"\\nYour final score: {score} out of 25.\")\n",
    "\n",
    "if __name__ == \"__main__\":\n",
    "    quiz_game()\n",
    "\n"
   ]
  },
  {
   "cell_type": "code",
   "execution_count": 28,
   "metadata": {},
   "outputs": [
    {
     "name": "stdout",
     "output_type": "stream",
     "text": [
      "numbers [3, 8, 5]\n",
      "Sorted numbers: [3, 5, 8]\n"
     ]
    }
   ],
   "source": [
    "\"\"\"28. Create a program that sorts three numbers in ascending order using conditional statements.\"\"\"\n",
    "\n",
    "#try block to manage errors.\n",
    "\n",
    "try:\n",
    "   # Input three numbers\n",
    "    num1 = int(input(\"Enter the first number: \"))\n",
    "    num2 = int(input(\"Enter the second number: \"))\n",
    "    num3 = int(input(\"Enter the third number: \"))\n",
    "    \n",
    "\n",
    "# Bubble sort\n",
    "    numbers = [num1, num2, num3]\n",
    "    print(\"numbers\",numbers)\n",
    "\n",
    "    for i in range(len(numbers) - 1):\n",
    "         for j in range(len(numbers) - 1):\n",
    "             if numbers[j] > numbers[j + 1]:\n",
    "            # Swap the elements\n",
    "               numbers[j], numbers[j + 1] = numbers[j + 1], numbers[j]\n",
    "\n",
    "# Print the sorted numbers\n",
    "    print(\"Sorted numbers:\", numbers)\n",
    "\n",
    "except Exception:\n",
    "    print(\"Please enter number only.\") "
   ]
  },
  {
   "cell_type": "code",
   "execution_count": 24,
   "metadata": {},
   "outputs": [
    {
     "name": "stdout",
     "output_type": "stream",
     "text": [
      "Seem you are trying to entered 0 or negetive number.\n"
     ]
    }
   ],
   "source": [
    "\"\"\"30. Write a program that calculates the BMI (Body Mass Index) and provides health recommendations based\n",
    "on the user's input.\"\"\"\n",
    "\n",
    "#try block to manage errors.\n",
    "try:\n",
    "    #Taking user height(in meter) and weight(in kg) as input.\n",
    "    weight=float(input(\"Enter your weight (in kg)\"))\n",
    "    height=float(input(\"Enter your height (in m)\"))\n",
    "    \n",
    "    # This the avarage measurment for a human body from lowest to heighest value for weight and height. \n",
    "    if height>0.5 and height<2.4384 and weight>3 and weight<500:\n",
    "        \n",
    "        if (weight/(height**2))<18.5:\n",
    "            bmi=(weight/(height**2))\n",
    "            print(\"Underweight, Your BMI {:.3f}\\n\".format(bmi))\n",
    "            print(\" If you're underweight, consider incorporating nutrient-dense foods, healthy fats,\\n and protein-rich sources into your diet to support weight gain and overall well-being. \")\n",
    "        elif (weight/(height**2))>=18.5 and (weight/(height**2))<=24.9:\n",
    "            bmi=(weight/(height**2))\n",
    "            print(\"Normal weight, Your BMI {:.3f}\\n\".format(bmi))\n",
    "            print(\" Maintain a healthy lifestyle with a balanced diet that includes a variety of nutrient-dense foods.\\n Engage in regular physical activity to support overall well-being.\")\n",
    "        elif (weight/(height**2))>=25 and (weight/(height**2))<=29.9:\n",
    "            bmi=(weight/(height**2))\n",
    "            print(\"Overweight, Your BMI {:.3f}\\n\".format(bmi))\n",
    "            print(\" Aim for a balanced diet rich in whole foods, incorporating fruits, vegetables, lean proteins, and whole grains.\\n Regular physical activity is key to weight management; consider activities you enjoy to make exercise sustainable. \")\n",
    "        elif(weight/(height**2))>30:\n",
    "            bmi=(weight/(height**2))\n",
    "            print(\"Obesity, Your BMI {:.3f}\\n\".format(bmi))\n",
    "            print(\" Aim for a balanced diet rich in whole foods, incorporating fruits, vegetables, lean proteins, and whole grains.\\n Regular physical activity is key to weight management; consider activities you enjoy to make exercise sustainable. \")\n",
    "    else:\n",
    "        print(\"Seem you are trying to entered 0 or negetive number.\")      \n",
    "        \n",
    "except Exception:\n",
    "    print(\"Please enter number only.\") "
   ]
  },
  {
   "cell_type": "markdown",
   "metadata": {},
   "source": [
    "<h1><center><u>Challenge Level:</u></center></h1>\n",
    "31. Create a program that validates a password based on complexity rules (length, characters, etc.).<br>\n",
    "32. Develop a program that performs matrix addition and subtraction based on user input.<br>\n",
    "33. Write a program that calculates the greatest common divisor (GCD) of two numbers using the Euclidean\n",
    "algorithm.<br>\n",
    "34. Build a program that performs matrix multiplication using nested loops and conditional statements.<br>\n",
    "35. Create a program that simulates a basic text-based tic-tac-toe game against the computer.<br>\n",
    "36. Write a program that generates Fibonacci numbers up to a specified term using iterative methods.<br>\n",
    "37. Develop a program that calculates the nth term of the Fibonacci sequence using memoization.<br>\n",
    "38. Create a program that generates a calendar for a given month and year using conditional statements.<br>\n",
    "39. Build a program that simulates a basic text-based blackjack game against the computer.<br>\n",
    "40. Write a program that generates the prime factors of a given number using trial division."
   ]
  },
  {
   "cell_type": "code",
   "execution_count": null,
   "metadata": {},
   "outputs": [],
   "source": [
    "\n"
   ]
  }
 ],
 "metadata": {
  "kernelspec": {
   "display_name": "Python 3",
   "language": "python",
   "name": "python3"
  },
  "language_info": {
   "codemirror_mode": {
    "name": "ipython",
    "version": 3
   },
   "file_extension": ".py",
   "mimetype": "text/x-python",
   "name": "python",
   "nbconvert_exporter": "python",
   "pygments_lexer": "ipython3",
   "version": "3.11.6"
  }
 },
 "nbformat": 4,
 "nbformat_minor": 2
}
