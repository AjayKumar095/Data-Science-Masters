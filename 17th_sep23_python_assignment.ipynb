{
 "cells": [
  {
   "cell_type": "markdown",
   "metadata": {},
   "source": [
    "<h1><center>For Loop</center></h1>"
   ]
  },
  {
   "cell_type": "code",
   "execution_count": null,
   "metadata": {},
   "outputs": [],
   "source": [
    "\"\"\"1. Write a Python program to print numbers from 1 to 10 using a for loop.\"\"\"\n",
    "# numbers from 1 to 10 using a for loop\n",
    "\n",
    "for i in range(1,11):\n",
    "    print(i, end=' ')"
   ]
  },
  {
   "cell_type": "markdown",
   "metadata": {},
   "source": [
    "<p>2. Explain the difference between a for loop and a while loop in Python.<br>\n",
    "Ans. The main difference between the for loop and while loop is that, for loop is used when we know the number of itteration and while loop is used when we need to ittrate till a given condition become true or false.\n",
    "</p>\n"
   ]
  },
  {
   "cell_type": "code",
   "execution_count": null,
   "metadata": {},
   "outputs": [],
   "source": [
    "\"\"\"3. Write a Python program to calculate the sum of all numbers from 1 to 100 using a for loop.\"\"\"\n",
    "\n",
    "# sum of numbers from 1 to 100.\n",
    "sum=0\n",
    "for i in range(1,101):\n",
    "    sum+=i\n",
    "# printing the result\n",
    "print(\"Sum of the numbers from 1 to 100 is:\", sum)    "
   ]
  },
  {
   "cell_type": "code",
   "execution_count": null,
   "metadata": {},
   "outputs": [],
   "source": [
    "\"\"\"4. How do you iterate through a list using a for loop in Python?\"\"\"\n",
    "\n",
    "# declaring a list.\n",
    "l=[1,2,3,4,5,6]\n",
    "\n",
    "# iterating through the list by for loop\n",
    "for i in l:\n",
    "    print(f\"Itrating from list: {i}\")"
   ]
  },
  {
   "cell_type": "code",
   "execution_count": null,
   "metadata": {},
   "outputs": [],
   "source": [
    "\"\"\"5. Write a Python program to find the product of all elements in a list using a for loop.\"\"\"\n",
    "# Declaing the list.\n",
    "l=[1,2,3,4,5]\n",
    "\n",
    "# Product of numbers from 1 to 100.\n",
    "product=1\n",
    "for i in l:\n",
    "    product*=i\n",
    "# printing the result\n",
    "print(\"Product of all numbers:\", product) "
   ]
  },
  {
   "cell_type": "code",
   "execution_count": null,
   "metadata": {},
   "outputs": [],
   "source": [
    "\"\"\"6. Create a Python program that prints all even numbers from 1 to 20 using a for loop.\"\"\"\n",
    "# Loop through numbers from 1 to 20\n",
    "for num in range(1, 21):\n",
    "    # Check if the number is even\n",
    "    if num % 2 == 0:\n",
    "        # Print the even number\n",
    "        print(num)"
   ]
  },
  {
   "cell_type": "code",
   "execution_count": null,
   "metadata": {},
   "outputs": [],
   "source": [
    "\"\"\"7. Write a Python program that calculates the factorial of a number using a for loop.\"\"\"\n",
    "# Function to calculate factorial\n",
    "def fact(number):\n",
    "    # Initialize the result to 1\n",
    "    result = 1\n",
    "    \n",
    "    # Iterate from 1 to the given number\n",
    "    for i in range(1, number + 1):\n",
    "        # Multiply the result by the current number in the loop\n",
    "        result *= i\n",
    "    \n",
    "    return result\n",
    "\n",
    "num = 5\n",
    "result = fact(num)\n",
    "print(f\"The factorial of {num} is: {result}\")"
   ]
  },
  {
   "cell_type": "code",
   "execution_count": null,
   "metadata": {},
   "outputs": [],
   "source": [
    "\"\"\"8. How can you iterate through the characters of a string using a for loop in Python?\"\"\"\n",
    "\n",
    "# declaring a string.\n",
    "string='12345'\n",
    "\n",
    "# iterating through the string by for loop\n",
    "for i in string:\n",
    "    print(f\"Itrating from string: {i}\")"
   ]
  },
  {
   "cell_type": "code",
   "execution_count": null,
   "metadata": {},
   "outputs": [],
   "source": [
    "\"\"\"9. Write a Python program to find the largest number in a list using a for loop.\"\"\"\n",
    "\n",
    "# Function to find the largest number in a list\n",
    "def find_largest(numbers):\n",
    "    if not numbers:\n",
    "        return None  \n",
    "    \n",
    "    largest_number = numbers[0]\n",
    "    for num in numbers[1:]:\n",
    "       \n",
    "        if num > largest_number:\n",
    "            largest_number = num \n",
    "    return largest_number\n",
    "\n",
    "# example\n",
    "numbers = [1,2,3,4,5,6,7,8,9]\n",
    "largest_number = find_largest(numbers)\n",
    "\n",
    "if largest_number is not None:\n",
    "    print(f\"The largest number in the list is: {largest_number}\")\n",
    "else:\n",
    "    print(\"The list is empty.\")"
   ]
  },
  {
   "cell_type": "code",
   "execution_count": null,
   "metadata": {},
   "outputs": [],
   "source": [
    "\"\"\" 10. Create a Python program that prints the Fibonacci sequence up to a specified limit using a for loop.\"\"\"\n",
    "\n",
    "#limit\n",
    "n=10\n",
    "\n",
    "#Delcaring first two terms of series\n",
    "fib_seri=[0,1]\n",
    "\n",
    "for _ in range(2, n):\n",
    "    next_seri=fib_seri[-1]+fib_seri[-2]\n",
    "    fib_seri.append(next_seri)\n",
    "\n",
    "print(fib_seri)"
   ]
  },
  {
   "cell_type": "code",
   "execution_count": null,
   "metadata": {},
   "outputs": [],
   "source": [
    "\"\"\"11. Write a Python program to count the number of vowels in a given string using a for loop.\"\"\"\n",
    "\n",
    "# Declaring the base conditions and vowels.\n",
    "vowels='aeiouAEIOU'\n",
    "vow_count=0\n",
    "\n",
    "# Declaring s atring\n",
    "string='This is a sample string'\n",
    "\n",
    "for i in string:\n",
    "    if i in vowels:\n",
    "        vow_count+=1\n",
    "print(f\"Giving string contains {vow_count} vowels.\")        "
   ]
  },
  {
   "cell_type": "code",
   "execution_count": null,
   "metadata": {},
   "outputs": [],
   "source": [
    "\"\"\"12. Create a Python program that generates a multiplication table for a given number using a for loop.\"\"\"\n",
    "\n",
    "#Generates a multiplication table of number 5.\n",
    "i=5\n",
    "for j in range(1,11):\n",
    "    print(i,\"*\",j,\"=\", j*i,)\n",
    " "
   ]
  },
  {
   "cell_type": "code",
   "execution_count": null,
   "metadata": {},
   "outputs": [],
   "source": [
    "\"\"\"13. Write a Python program to reverse a list using a for loop.\"\"\"\n",
    "\n",
    "# Function to reverse a list\n",
    "def reverse_list(list):\n",
    "    \n",
    "    length = len(list)\n",
    "    reversed_list = []\n",
    "    for i in range(length - 1, -1, -1):\n",
    "        reversed_list.append(list[i])\n",
    "    return reversed_list\n",
    "\n",
    "\n",
    "input = [1,2,3,4,5,6]\n",
    "result = reverse_list(input)\n",
    "\n",
    "# Print the reversed lists\n",
    "print(\"Reversed list:\", result)"
   ]
  },
  {
   "cell_type": "code",
   "execution_count": null,
   "metadata": {},
   "outputs": [],
   "source": [
    "\"\"\"14. Write a Python program to find the common elements between two lists using a for loop.\"\"\"\n",
    " # declaring two list\n",
    "l1=[1,23,5,65,67,6,9]\n",
    "l2=[5,66,35,354,6,1]\n",
    "\n",
    "commom_ele=[]\n",
    "# findind the common element in between two list\n",
    "for i in l1:\n",
    "    if i in l2:\n",
    "       commom_ele.append(i)\n",
    "\n",
    "print(f\"common elements in both the list\", commom_ele)       "
   ]
  },
  {
   "cell_type": "code",
   "execution_count": null,
   "metadata": {},
   "outputs": [],
   "source": [
    "\"\"\"15. Explain how to use a for loop to iterate through the keys and values of a dictionary in Python.\"\"\"\n",
    "\n",
    "# Declaring a dictionary\n",
    "dict = {'a': 1, 'b': 2, 'c': 3, 'd': 4}\n",
    "\n",
    "# Iterating through keys and values using a for loop\n",
    "for key, value in dict.items():\n",
    "    print(f\"Key: {key}, Value: {value}\")\n",
    "    \n",
    "\"\"\"By using the .items() method we can get or itrate the key value in dict\"\"\"    "
   ]
  },
  {
   "cell_type": "code",
   "execution_count": null,
   "metadata": {},
   "outputs": [],
   "source": [
    "\"\"\"16. Write a Python program to find the GCD (Greatest Common Divisor) of two numbers using a for loop.\"\"\"\n",
    "\n",
    "\n",
    "#Function to find the greatest common divisor (GCD) of two numbers.\n",
    "def find_GCD(x,y):\n",
    "    gcd=0\n",
    "    if x>y:\n",
    "        for i in range(1,y+1):\n",
    "            if (x%i==0) and (y%i==0):\n",
    "                gcd=i\n",
    "        return gcd   \n",
    "    else:\n",
    "        for i in range(1,x+1):\n",
    "            if (x%i==0) and (y%i==0):\n",
    "                gcd=i\n",
    "        return gcd \n",
    "    \n",
    "\n",
    "#Taking input from the user for values of x and y.\n",
    "a=int(input(\"Enter first number:\")) \n",
    "b=int(input(\"Enter second number:\"))\n",
    "\n",
    "#Passing values to the function\n",
    "# a=12, b=30\n",
    "GCD=find_GCD(a,b)\n",
    "\n",
    "#Printing result\n",
    "print(f\"The GCD of given number is {GCD}.\")"
   ]
  },
  {
   "cell_type": "code",
   "execution_count": null,
   "metadata": {},
   "outputs": [],
   "source": [
    "\"\"\"17. Create a Python program that checks if a string is a palindrome using a for loop.\"\"\"\n",
    "\n",
    "def reversed_string(string):\n",
    "    length = len(string)\n",
    "    reversed_list = []\n",
    "    for i in range(length - 1, -1, -1):\n",
    "        reversed_list.append(string[i])\n",
    "    reversed_string=''.join(reversed_list)  \n",
    "    return reversed_string\n",
    "\n",
    "\n",
    "# declaring a string\n",
    "string=\"level\"\n",
    "reversed=reversed_string(string)\n",
    "\n",
    "# checks if a string is a palindrome or not\n",
    "if string==reversed:\n",
    "    print(\"Given string is palindromic\")\n",
    "else:\n",
    "     print(\"Given string is not palindromic\")   "
   ]
  },
  {
   "cell_type": "code",
   "execution_count": null,
   "metadata": {},
   "outputs": [],
   "source": [
    "\"\"\"18. Write a Python program to remove duplicates from a list using a for loop.\"\"\"\n",
    "\n",
    "# declaring a list with duplicates\n",
    "l=[1,1,1,2,2,3,3,4,5,6,6,6,7]\n",
    "\n",
    "# removig the duplicates.\n",
    "modifed_list=list(set(i for i in l))   \n",
    "print(\"modifed_list\",modifed_list)"
   ]
  },
  {
   "cell_type": "code",
   "execution_count": null,
   "metadata": {},
   "outputs": [],
   "source": [
    "\"\"\"19. Create a Python program that counts the number of words in a sentence using a for loop.\"\"\"\n",
    "\n",
    "# Declaring a sentence\n",
    "sentence='Python is very popular computer language.'\n",
    "\n",
    "# Assuming that given sentence have at least one word.\n",
    "word_count=1\n",
    "\n",
    "# Calculating the count of words in a sentence\n",
    "for i in sentence:\n",
    "    if i==' ':\n",
    "        word_count+=1\n",
    "    else:\n",
    "        if sentence=='':\n",
    "            print(\"Empty sentence\")\n",
    "\n",
    "print(f\"Given sentence have {word_count} words.\")                 "
   ]
  },
  {
   "cell_type": "code",
   "execution_count": null,
   "metadata": {},
   "outputs": [],
   "source": [
    "\"\"\"20. Write a Python program to find the sum of all odd numbers from 1 to 50 using a for loop.\"\"\"\n",
    "\n",
    "# declaring a list\n",
    "l=[1,2,3,4,5,6,7,8,9,10]\n",
    "\n",
    "odd_sum=0\n",
    "# finding the sum of odd numbers\n",
    "for i in l:\n",
    "    if i%2!=0:\n",
    "        odd_sum+=i\n",
    "print(\"Sum of odd numbers in the list\", odd_sum)   "
   ]
  },
  {
   "cell_type": "code",
   "execution_count": null,
   "metadata": {},
   "outputs": [],
   "source": [
    "\"\"\"21. Write a Python program that checks if a given year is a leap year using a for loop.\"\"\"\n",
    "\n",
    "# Function to check if a year is a leap year\n",
    "def is_leap_year(year):\n",
    "    if year % 4 == 0:\n",
    "        if year % 100 == 0:\n",
    "            return year % 400 == 0\n",
    "        else:\n",
    "            return True\n",
    "    else:\n",
    "        return False\n",
    "\n",
    "start_year =2000\n",
    "end_year = 2023\n",
    "\n",
    "# Check for leap years in the given range using a for loop\n",
    "leap_years = [year for year in range(start_year, end_year + 1) if is_leap_year(year)]\n",
    "\n",
    "# Print the leap years in the given range\n",
    "if leap_years:\n",
    "    print(\"Leap years in the given range:\", leap_years)\n",
    "else:\n",
    "    print(\"No leap years in the given range.\")"
   ]
  },
  {
   "cell_type": "code",
   "execution_count": null,
   "metadata": {},
   "outputs": [],
   "source": [
    "\"\"\"22. Create a Python program that calculates the square root of a number using a for loop.\"\"\"\n",
    "\n",
    "def calculate_square_root(number, epsilon=1e-10):\n",
    "    guess = number / 2 \n",
    "    for _ in range(1000):  \n",
    "        new_guess = 0.5 * (guess + number / guess)\n",
    "        if abs(new_guess - guess) < epsilon:\n",
    "            return new_guess\n",
    "        guess = new_guess\n",
    "    return guess\n",
    "\n",
    "# input.\n",
    "number = 5\n",
    "\n",
    "# Check if the number is non-negative\n",
    "if number >= 0:\n",
    "    result = calculate_square_root(number)\n",
    "    print(f\"The square root of {number} is approximately: {result:.6f}\")\n",
    "else:\n",
    "    print(\"Square root is not defined for negative numbers.\")"
   ]
  },
  {
   "cell_type": "code",
   "execution_count": null,
   "metadata": {},
   "outputs": [],
   "source": [
    "\"\"\"23. Write a Python program to find the LCM (Least Common Multiple) of two numbers using a for loop.\"\"\"\n",
    "\n",
    "# Function to find the GCD\n",
    "def find_gcd(x, y):\n",
    "    while y:\n",
    "        x, y = y, x % y\n",
    "    return x\n",
    "\n",
    "# Function to find the LCM \n",
    "def find_lcm(x, y):\n",
    "    return (x * y) // find_gcd(x, y)\n",
    "\n",
    "num1 = int(input(\"Enter the first number: \"))\n",
    "num2 = int(input(\"Enter the second number: \"))\n",
    "\n",
    "# Calculate and print the LCM of the two numbers\n",
    "lcm_result = find_lcm(num1, num2)\n",
    "print(f\"The LCM of {num1} and {num2} is: {lcm_result}\")"
   ]
  }
 ],
 "metadata": {
  "kernelspec": {
   "display_name": "Python 3",
   "language": "python",
   "name": "python3"
  },
  "language_info": {
   "codemirror_mode": {
    "name": "ipython",
    "version": 3
   },
   "file_extension": ".py",
   "mimetype": "text/x-python",
   "name": "python",
   "nbconvert_exporter": "python",
   "pygments_lexer": "ipython3",
   "version": "3.11.6"
  }
 },
 "nbformat": 4,
 "nbformat_minor": 2
}
