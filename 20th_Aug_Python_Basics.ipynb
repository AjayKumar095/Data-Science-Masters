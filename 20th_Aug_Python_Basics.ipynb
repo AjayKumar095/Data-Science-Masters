{
 "cells": [
  {
   "cell_type": "markdown",
   "metadata": {},
   "source": [
    "<h1><center>String Based Assignment Problem</center></h1>"
   ]
  },
  {
   "cell_type": "code",
   "execution_count": 1,
   "metadata": {},
   "outputs": [
    {
     "name": "stdout",
     "output_type": "stream",
     "text": [
      "gnirts siht esreveR\n"
     ]
    }
   ],
   "source": [
    "\n",
    "\"\"\"1. Write a program to reverse a string.\"\"\"\n",
    "#Declaring a variable \"string\" and storing some value in it\n",
    "string=\"Reverse this string\"\n",
    "#Reversing the string by slicing method and stroing it into other variable \"result\"\n",
    "result=string[::-1]\n",
    "\n",
    "#Printing the result as reversed string\n",
    "print(result)\n"
   ]
  },
  {
   "cell_type": "code",
   "execution_count": 2,
   "metadata": {},
   "outputs": [
    {
     "data": {
      "text/plain": [
       "True"
      ]
     },
     "execution_count": 2,
     "metadata": {},
     "output_type": "execute_result"
    }
   ],
   "source": [
    "\n",
    "\"\"\"2. Check if a string is a palindrome.\"\"\"\n",
    "\n",
    "#Taking string as input from user\n",
    "User_string=input(\"Enter a string to check it is a palindrome or not\")\n",
    "\n",
    "#Reversing the User_string\n",
    "reversed_string = User_string[::-1]\n",
    "\n",
    "#Checking the input string or reversed string is equal or not\n",
    "reversed_string == User_string\n",
    "\n",
    "# return True if sting is palindrome or False if not palindrome\n",
    "# taking \"level\" as input "
   ]
  },
  {
   "cell_type": "code",
   "execution_count": 3,
   "metadata": {},
   "outputs": [
    {
     "name": "stdout",
     "output_type": "stream",
     "text": [
      "CONVERT THIS STRING INTO UPPERCASE\n"
     ]
    }
   ],
   "source": [
    "\n",
    "\"\"\"3. Convert a string to uppercase.\"\"\"\n",
    "\n",
    "#Declaring a variable \"string\" and storing some value in it\n",
    "string=\"Convert this string into uppercase\"\n",
    "\n",
    "#Convert a string to uppercase.\n",
    "upper=string.upper()\n",
    "\n",
    "#Printing Result\n",
    "print(upper)"
   ]
  },
  {
   "cell_type": "code",
   "execution_count": 5,
   "metadata": {},
   "outputs": [
    {
     "name": "stdout",
     "output_type": "stream",
     "text": [
      "convert this string into uppercase\n"
     ]
    }
   ],
   "source": [
    "\n",
    "\"\"\"4. Convert a string to lowercase.\"\"\"\n",
    "#Declaring a variable \"string\" and storing some value in it\n",
    "string=\"CONVERT THIS STRING INTO UPPERCASE\"\n",
    "\n",
    "#Convert a string to uppercase.\n",
    "lower=string.lower()\n",
    "\n",
    "#Printing Result\n",
    "print(lower)"
   ]
  },
  {
   "cell_type": "code",
   "execution_count": 6,
   "metadata": {},
   "outputs": [
    {
     "name": "stdout",
     "output_type": "stream",
     "text": [
      "3\n"
     ]
    }
   ],
   "source": [
    "\n",
    "\"\"\"5. Count the number of vowels in a string.\"\"\"\n",
    "\n",
    "#Taking string as input from user\n",
    "string = input(\"Enter a string\")\n",
    "\n",
    "#Define vowels in a variable\n",
    "vow=\"aeiouAEIOU\"\n",
    "\n",
    "# Using sum(), map(), and in to count vowels\n",
    "cout_vow= sum(map(string.count, vow))\n",
    "\n",
    "#Printing count of vowels \n",
    "#example: taking string \"High level\"\n",
    "print(cout_vow)"
   ]
  },
  {
   "cell_type": "code",
   "execution_count": 7,
   "metadata": {},
   "outputs": [
    {
     "name": "stdout",
     "output_type": "stream",
     "text": [
      "23\n"
     ]
    }
   ],
   "source": [
    "\n",
    "\"\"\"6. Count the number of consonants in a string.\"\"\"\n",
    "\n",
    "#Taking string as input from user\n",
    "string = input(\"Enter a string\")\n",
    "\n",
    "#Define consonants in a variable\n",
    "consonants=\"bcdfghjklmnpqrstvwxyzBCDFGHJKLMNPQRSTVWXYZ\"\n",
    "\n",
    "# Using sum(), map(), and in to count vowels\n",
    "cout_cons= sum(map(string.count, consonants ))\n",
    "\n",
    "#Printing count of vowels \n",
    "#example: taking string \"Count the number of consonants in a string.\"\n",
    "print(cout_cons)"
   ]
  },
  {
   "cell_type": "code",
   "execution_count": 8,
   "metadata": {},
   "outputs": [
    {
     "name": "stdout",
     "output_type": "stream",
     "text": [
      "DataScienceMasters\n"
     ]
    }
   ],
   "source": [
    "\n",
    "\"\"\"7. Remove all whitespaces from a string.\"\"\"\n",
    "\n",
    "#Taking string as input from user\n",
    "string=input(\"Enter a string: \")\n",
    "\n",
    "#After removing spaces\n",
    "result=''.join(string.split())\n",
    "\n",
    "#Printing result\n",
    "#Example: Data Science Masters\n",
    "print(result)"
   ]
  },
  {
   "cell_type": "code",
   "execution_count": 14,
   "metadata": {},
   "outputs": [
    {
     "name": "stdout",
     "output_type": "stream",
     "text": [
      "26\n"
     ]
    }
   ],
   "source": [
    "\n",
    "\"\"\"8. Find the length of a string without using the `len()` function.\"\"\"\n",
    "\n",
    "#Declaring the string\n",
    "string=\"Count the lenght of string\"\n",
    "\n",
    "#calulating the lenght of string by for loop\n",
    "count=0\n",
    "for char in string:\n",
    "    count+=1\n",
    "print(count)\n",
    "\n"
   ]
  },
  {
   "cell_type": "code",
   "execution_count": 15,
   "metadata": {},
   "outputs": [
    {
     "data": {
      "text/plain": [
       "True"
      ]
     },
     "execution_count": 15,
     "metadata": {},
     "output_type": "execute_result"
    }
   ],
   "source": [
    "\n",
    "\"\"\"9. Check if a string contains a specific word.\"\"\"\n",
    "\n",
    "#Declaring the string (here we can also as)\n",
    "string=input(\"Enter a string: \")\n",
    "\n",
    "#Declaring the string \"specific_word\"\n",
    "specific_word=\"string\"\n",
    "\n",
    "#Checking the string contains the specific word.\n",
    "#Example: taking \"This is a string\" as input \n",
    "specific_word in string\n",
    "#It will return True if yes or False if not comtains the specific word."
   ]
  },
  {
   "cell_type": "code",
   "execution_count": 19,
   "metadata": {},
   "outputs": [
    {
     "name": "stdout",
     "output_type": "stream",
     "text": [
      "Programming is Eassy!\n",
      "Programming is Fun!\n"
     ]
    }
   ],
   "source": [
    "\n",
    "\"\"\"10. Replace a word in a string with another word.\"\"\"\n",
    "\n",
    "#Decalring a string\n",
    "string='Programming is Eassy!'\n",
    "\n",
    "#Replacing word with another word\n",
    "replaced_string=string.replace('Eassy', 'Fun')\n",
    "\n",
    "#Printing both strings\n",
    "print(string)\n",
    "print(replaced_string)\n"
   ]
  },
  {
   "cell_type": "code",
   "execution_count": 34,
   "metadata": {},
   "outputs": [
    {
     "name": "stdout",
     "output_type": "stream",
     "text": [
      "3\n"
     ]
    }
   ],
   "source": [
    "\n",
    "\"\"\"11. Count the occurrences of a word in a string.\"\"\"\n",
    "#Decalring a string\n",
    "string='Programming is Eassy. Programming is Fun, I love Programming'\n",
    "word='Programming'\n",
    "#Counting the occurrences of a word in a string.\n",
    "count_word=string.lower().count(word.lower())\n",
    "\n",
    "#Count of occurrences of word\n",
    "print(count_word)"
   ]
  },
  {
   "cell_type": "code",
   "execution_count": 36,
   "metadata": {},
   "outputs": [
    {
     "name": "stdout",
     "output_type": "stream",
     "text": [
      "First occurrence of word (Eassy) start at index  15\n"
     ]
    }
   ],
   "source": [
    "\n",
    "\"\"\"12. Find the first occurrence of a word in a string.\"\"\"\n",
    "\n",
    "#Decalring a string\n",
    "string='Programming is Eassy. Programming is Fun, I love Programming'\n",
    "\n",
    "#Counting the  first occurrences of a word in a string.\n",
    "word='Eassy'\n",
    "Ist_occurrence=string.lower().find(word.lower())\n",
    "\n",
    "#First occurrences of word\n",
    "\n",
    "print(\"First occurrence of word (Eassy) start at index \",Ist_occurrence)"
   ]
  },
  {
   "cell_type": "code",
   "execution_count": 40,
   "metadata": {},
   "outputs": [
    {
     "name": "stdout",
     "output_type": "stream",
     "text": [
      "Last occurrence of word (Eassy) start at index  34\n"
     ]
    }
   ],
   "source": [
    "  \n",
    "\"\"\"13. Find the last occurrence of a word in a string.\"\"\"\n",
    "\n",
    "#Decalring a string\n",
    "string='Programming is Eassy. Programming is Fun'\n",
    "\n",
    "#Counting the  first occurrences of a word in a string.\n",
    "word='is'\n",
    "Ist_occurrence=string.lower().rfind(word.lower())\n",
    "\n",
    "#Last occurrences of word\n",
    "\n",
    "print(\"Last occurrence of word (Eassy) start at index \",Ist_occurrence)"
   ]
  },
  {
   "cell_type": "code",
   "execution_count": 41,
   "metadata": {},
   "outputs": [
    {
     "name": "stdout",
     "output_type": "stream",
     "text": [
      "['Programming', 'is', 'Eassy.', 'Programming', 'is', 'Fun']\n"
     ]
    }
   ],
   "source": [
    "  \n",
    "\"\"\"14. Split a string into a list of words.\"\"\"\n",
    "\n",
    "#Decalring a string\n",
    "string='Programming is Eassy. Programming is Fun'\n",
    "\n",
    "#Split the string into a list of words\n",
    "str_word_list=string.split()\n",
    "\n",
    "#Printing result\n",
    "print(str_word_list)\n",
    " "
   ]
  },
  {
   "cell_type": "code",
   "execution_count": 43,
   "metadata": {},
   "outputs": [
    {
     "name": "stdout",
     "output_type": "stream",
     "text": [
      "Programming is Eassy. Programming is Fun\n"
     ]
    }
   ],
   "source": [
    "  \n",
    "\"\"\"15. Join a list of words into a string.\"\"\"\n",
    "\n",
    "#Decalring a list\n",
    "li=['Programming', 'is', 'Eassy.', 'Programming', 'is', 'Fun']\n",
    "\n",
    "#joining the list of words into a string\n",
    "string=' '.join(li)\n",
    "\n",
    "#Printing result\n",
    "print(string)\n"
   ]
  },
  {
   "cell_type": "code",
   "execution_count": 56,
   "metadata": {},
   "outputs": [
    {
     "name": "stdout",
     "output_type": "stream",
     "text": [
      "Data_science_is_a_multidisciplinary_field\n"
     ]
    }
   ],
   "source": [
    "  \n",
    "\"\"\"16. Convert a string where words are separated by spaces to one where words\n",
    "are separated by underscores.\"\"\"\n",
    "\n",
    "#Decalring a string\n",
    "space_string=\"Data science is a multidisciplinary field\"\n",
    "#Converting spaces to underscores.\n",
    "underscore_string=space_string.replace(' ','_')\n",
    "\n",
    "#Printing result\n",
    "print(underscore_string)\n",
    "\n"
   ]
  },
  {
   "cell_type": "code",
   "execution_count": 49,
   "metadata": {},
   "outputs": [
    {
     "data": {
      "text/plain": [
       "True"
      ]
     },
     "execution_count": 49,
     "metadata": {},
     "output_type": "execute_result"
    }
   ],
   "source": [
    "  \n",
    "\"\"\"17. Check if a string starts with a specific word or phrase.\"\"\"\n",
    "\n",
    "#Decalring a string\n",
    "string=\"Data science is a multidisciplinary field that uses scientific methods, processes, algorithms, and systems to extract insights and knowledge from structured and unstructured data.\"\n",
    "\n",
    "#Checking given string start a specific word or phrase.\n",
    "spc_word=\"Data science\"\n",
    "string.startswith(spc_word)\n",
    "\n",
    "#It will return True if given string start with specific word or phrase and return false otherwise\n",
    "\n"
   ]
  },
  {
   "cell_type": "code",
   "execution_count": 52,
   "metadata": {},
   "outputs": [
    {
     "data": {
      "text/plain": [
       "True"
      ]
     },
     "execution_count": 52,
     "metadata": {},
     "output_type": "execute_result"
    }
   ],
   "source": [
    "  \n",
    "\"\"\"18. Check if a string ends with a specific word or phrase.\"\"\"\n",
    "\n",
    "#Decalring a string\n",
    "string=\"Data science is a multidisciplinary field that uses scientific methods, processes, algorithms, and systems to extract insights and knowledge from structured and unstructured data\"\n",
    "\n",
    "#Checking given string start a specific word or phrase.\n",
    "spc_word=\"data\"\n",
    "string.endswith(spc_word)\n",
    "\n",
    "#It will return True if given string ends with specific word or phrase and return false otherwise\n",
    "\n"
   ]
  },
  {
   "cell_type": "code",
   "execution_count": 54,
   "metadata": {},
   "outputs": [
    {
     "name": "stdout",
     "output_type": "stream",
     "text": [
      "Hello World\n"
     ]
    }
   ],
   "source": [
    "  \n",
    "\"\"\"19. Convert a string to title case (e.g., \"hello world\" to \"Hello World\").\"\"\"\n",
    "\n",
    "#Decalring a string\n",
    "string=\"hello world\"\n",
    "\n",
    "#Converting into title string\n",
    "title_string=string.title()\n",
    "\n",
    "#Printing title string\n",
    "print(title_string)"
   ]
  },
  {
   "cell_type": "code",
   "execution_count": 76,
   "metadata": {},
   "outputs": [
    {
     "name": "stdout",
     "output_type": "stream",
     "text": [
      "Longest word in string is:  multidisciplinary\n"
     ]
    }
   ],
   "source": [
    "  \n",
    "\"\"\"20. Find the longest word in a string.\"\"\"\n",
    "\n",
    "#Decalring a string\n",
    "string=\"Data science is a multidisciplinary field.\"\n",
    "\n",
    "#Spliting string into list of words\n",
    "word_list=string.split()\n",
    "\n",
    "# Finding the longest word\n",
    "longest_word = max(word_list, key=len)\n",
    "\n",
    "#Printing result\n",
    "print(\"Longest word in string is: \", longest_word)\n"
   ]
  },
  {
   "cell_type": "code",
   "execution_count": 77,
   "metadata": {},
   "outputs": [
    {
     "name": "stdout",
     "output_type": "stream",
     "text": [
      "Shortest word in string is:  a\n"
     ]
    }
   ],
   "source": [
    "  \n",
    "\"\"\"21. Find the shortest word in a string.\"\"\"\n",
    "\n",
    "#Decalring a string\n",
    "string=\"Data science is a multidisciplinary field.\"\n",
    "\n",
    "#Spliting string into list of words\n",
    "word_list=string.split()\n",
    "\n",
    "# Finding the shortest word\n",
    "shortest_word = min(word_list, key=len)\n",
    "\n",
    "#Printing result\n",
    "print(\"Shortest word in string is: \", shortest_word)"
   ]
  },
  {
   "cell_type": "code",
   "execution_count": 57,
   "metadata": {},
   "outputs": [
    {
     "name": "stdout",
     "output_type": "stream",
     "text": [
      "world hello\n"
     ]
    }
   ],
   "source": [
    "  \n",
    "\"\"\"22. Reverse the order of words in a string.\"\"\"\n",
    "\n",
    "#Decalring a string\n",
    "string=\"hello world\"\n",
    "\n",
    "#Spliting string into word list\n",
    "word_list=string.split()\n",
    "\n",
    "#Reversing the word list\n",
    "reversed_word_list=word_list[::-1]\n",
    "\n",
    "#Joining the list into string\n",
    "reverse_ordered_str=\" \".join(reversed_word_list)\n",
    "\n",
    "#Printing final result\n",
    "print(reverse_ordered_str)"
   ]
  },
  {
   "cell_type": "code",
   "execution_count": 74,
   "metadata": {},
   "outputs": [
    {
     "name": "stdout",
     "output_type": "stream",
     "text": [
      "True\n"
     ]
    }
   ],
   "source": [
    "  \n",
    "\"\"\"23. Check if a string is alphanumeric.\"\"\"\n",
    "\n",
    "#Decalring a string\n",
    "string=\"hello123\"\n",
    "\n",
    "#Checking the string is alphanumeric or not\n",
    "is_alphanumeric=string.isalnum()\n",
    "print(is_alphanumeric)\n",
    "\n",
    "#return True if yes otherwise return False\n"
   ]
  },
  {
   "cell_type": "code",
   "execution_count": 79,
   "metadata": {},
   "outputs": [
    {
     "name": "stdout",
     "output_type": "stream",
     "text": [
      "123\n"
     ]
    }
   ],
   "source": [
    "  \n",
    "\"\"\"24. Extract all digits from a string.\"\"\"\n",
    "import re\n",
    "#Decalring a string\n",
    "string=\"hello123\"\n",
    "\n",
    "#Extracting all digits from string\n",
    "digit=re.findall(r'\\d',string)\n",
    "\n",
    "#Creating a string of digits\n",
    "digi_string=''.join(digit)\n",
    "\n",
    "#Printing result\n",
    "print(digi_string)"
   ]
  },
  {
   "cell_type": "code",
   "execution_count": 82,
   "metadata": {},
   "outputs": [
    {
     "name": "stdout",
     "output_type": "stream",
     "text": [
      "hello\n"
     ]
    }
   ],
   "source": [
    "  \n",
    "\"\"\"25. Extract all alphabets from a string.\"\"\"\n",
    "import re\n",
    "#Decalring a string\n",
    "string=\"hello123\"\n",
    "\n",
    "#Extracting all digits from string\n",
    "Alpha=re.findall(r'[a-zA-Z]',string)\n",
    "\n",
    "#Creating a string of digits\n",
    "alpha_string=''.join(Alpha)\n",
    "\n",
    "#Printing result\n",
    "print(alpha_string)"
   ]
  },
  {
   "cell_type": "code",
   "execution_count": 97,
   "metadata": {},
   "outputs": [
    {
     "name": "stdout",
     "output_type": "stream",
     "text": [
      "4\n"
     ]
    }
   ],
   "source": [
    "  \n",
    "\"\"\"26. Count the number of uppercase letters in a string.\"\"\"\n",
    "\n",
    "#Decalring a string\n",
    "string=\"Data Science is a Multidisciplinary Field.\"\n",
    "\n",
    "#Counting uppercase letters\n",
    "upp_cout=sum(map(str.isupper, string))\n",
    "\n",
    "\n",
    "#printing result\n",
    "print(upp_cout)"
   ]
  },
  {
   "cell_type": "code",
   "execution_count": 98,
   "metadata": {},
   "outputs": [
    {
     "name": "stdout",
     "output_type": "stream",
     "text": [
      "32\n"
     ]
    }
   ],
   "source": [
    "  \n",
    "\"\"\"27. Count the number of lowercase letters in a string.\"\"\"\n",
    "\n",
    "#Decalring a string\n",
    "string=\"Data Science is a Multidisciplinary Field.\"\n",
    "\n",
    "#Counting lowercase letters\n",
    "low_cout=sum(map(str.islower, string))\n",
    "\n",
    "\n",
    "#printing result\n",
    "print(low_cout)"
   ]
  },
  {
   "cell_type": "code",
   "execution_count": 99,
   "metadata": {},
   "outputs": [
    {
     "name": "stdout",
     "output_type": "stream",
     "text": [
      "dATA sCIENCE IS A mULTIDISCIPLINARY fIELD.\n"
     ]
    }
   ],
   "source": [
    "  \n",
    "\"\"\"28. Swap the case of each character in a string.\"\"\"\n",
    "#Decalring a string\n",
    "string=\"Data Science is a Multidisciplinary Field.\"\n",
    "\n",
    "#Swaping the case\n",
    "string_swap=string.swapcase()\n",
    "\n",
    "#printing result\n",
    "print(string_swap)"
   ]
  },
  {
   "cell_type": "code",
   "execution_count": 21,
   "metadata": {},
   "outputs": [
    {
     "name": "stdout",
     "output_type": "stream",
     "text": [
      "Word to remove:- specific \n",
      "\n",
      "Original string:- Remove a specific word from a string. \n",
      "\n",
      "After removing specific word:- Remove a word from a string. \n",
      "\n"
     ]
    }
   ],
   "source": [
    "  \n",
    "\"\"\"29. Remove a specific word from a string.\"\"\"\n",
    "#Decalring a string\n",
    "\n",
    "string=\"Remove a specific word from a string.\"\n",
    "\n",
    "string_list=string.split()\n",
    "word='specific'\n",
    "\n",
    "for i in string_list:\n",
    "    if i==word:\n",
    "        string_list.remove(i)\n",
    "\n",
    "modified_str=' '.join(string_list)\n",
    "print(\"Word to remove:-\", word,'\\n')\n",
    "print(\"Original string:-\",string,'\\n' )\n",
    "print('After removing specific word:-',modified_str,'\\n')"
   ]
  },
  {
   "cell_type": "code",
   "execution_count": 40,
   "metadata": {},
   "outputs": [],
   "source": [
    "\"\"\"30. Check if a string is a valid email address.\"\"\"\n",
    "\n",
    "#Declaring a list of email address.\n",
    "\n",
    "email_domains=['@gmail.com', '@yahoo.com', '@outlook.com'] # You can add more domains if applicable.\n",
    "\n",
    "# Example of email.\n",
    "my_email='example@yahoo.com'\n",
    "\n",
    "# checking for a valid email\n",
    "for mail in email_domains:\n",
    "    \n",
    "    # If given string is a valid email address it will yes other wise it return none value.\n",
    "    if my_email.endswith(mail):\n",
    "        print(\"It is valid email address\")\n",
    "        break\n",
    "    else:\n",
    "        None\n",
    "         \n",
    "    "
   ]
  },
  {
   "cell_type": "code",
   "execution_count": 41,
   "metadata": {},
   "outputs": [
    {
     "name": "stdout",
     "output_type": "stream",
     "text": [
      "Ram7808kumar\n"
     ]
    }
   ],
   "source": [
    "\"\"\"31. Extract the username from an email address string.\"\"\"\n",
    "\n",
    "#Declaring a list of email address.\n",
    "\n",
    "email_domains=['@gmail.com', '@yahoo.com', '@outlook.com' ] # You can add more domains if applicable.\n",
    "\n",
    "# Example of email.\n",
    "user_email='Ram7808kumar@yahoo.com'\n",
    "for mail in email_domains:\n",
    "    #Checking string for valid email address.\n",
    "    if user_email.endswith(mail):\n",
    "        # Extracting username form an email address\n",
    "        user_name=user_email.removesuffix(mail)\n",
    "        print(user_name)"
   ]
  },
  {
   "cell_type": "code",
   "execution_count": 44,
   "metadata": {},
   "outputs": [
    {
     "name": "stdout",
     "output_type": "stream",
     "text": [
      "yahoo.com\n"
     ]
    }
   ],
   "source": [
    "\"\"\"32. Extract the domain name from an email address string.\"\"\"\n",
    "#Declaring a list of email address.\n",
    "\n",
    "email_domains=['@gmail.com', '@yahoo.com', '@outlook.com' ] # You can add more domains if applicable.\n",
    "\n",
    "# Example of email.\n",
    "user_email='Ram7808kumar@yahoo.com'\n",
    "for mail in email_domains:\n",
    "    #Checking string for valid email address.\n",
    "    if user_email.endswith(mail):\n",
    "        # Extracting username form an email address\n",
    "        domain_name = mail.lstrip('@')\n",
    "        print(domain_name)"
   ]
  },
  {
   "cell_type": "code",
   "execution_count": 50,
   "metadata": {},
   "outputs": [
    {
     "data": {
      "text/plain": [
       "'Replace multiple spaces in a string with a single space.'"
      ]
     },
     "execution_count": 50,
     "metadata": {},
     "output_type": "execute_result"
    }
   ],
   "source": [
    "\"\"\"33. Replace multiple spaces in a string with a single space.\"\"\"\n",
    "\n",
    "# Declaing a sting with multiple spaces.\n",
    "\n",
    "multi_space_str=\"Replace    multiple spaces   in a string     with       a    single space.\"\n",
    "multi_space_str=multi_space_str.split()\n",
    "\n",
    "# Removing all multiple spaces from the sting and printing modified string.\n",
    "single_space_str=' '.join(multi_space_str)\n",
    "print(single_space_str)"
   ]
  },
  {
   "cell_type": "code",
   "execution_count": 60,
   "metadata": {},
   "outputs": [
    {
     "name": "stdout",
     "output_type": "stream",
     "text": [
      "Valid URL\n"
     ]
    }
   ],
   "source": [
    "\"\"\"34. Check if a string is a valid URL.\"\"\"\n",
    "import requests\n",
    "\n",
    "url_string = \"https://www.google.com/\"\n",
    "\n",
    "try:\n",
    "    response = requests.get(url_string)\n",
    "\n",
    "    # Check if the response status code is 200 (OK).\n",
    "    if response.status_code == 200:\n",
    "        print(\"Valid URL\")\n",
    "    else:\n",
    "        print(\"URL not valid or failed to retrieve data\")\n",
    "\n",
    "except Exception:\n",
    "   \n",
    "    print(\"Invalid URL or request failed\")\n"
   ]
  },
  {
   "cell_type": "code",
   "execution_count": null,
   "metadata": {},
   "outputs": [],
   "source": [
    "\"\"\"35. Extract the protocol (http or https) from a URL string.\"\"\"\n",
    "\n",
    "from urllib.parse import urlparse\n",
    "\n",
    "def extract_protocol(url):\n",
    "    parsed_url = urlparse(url)\n",
    "    return parsed_url.scheme\n",
    "\n",
    "# sample\n",
    "url1 = \"https://www.example.com/path/to/page\"\n",
    "url2=\"http://www.sample.com/path/to/page\"\n",
    "protocol1 = extract_protocol(url1)\n",
    "protocol2 = extract_protocol(url2)\n",
    "print(\"Protocol:\", protocol1)\n",
    "print(\"Protoco2:\", protocol2)\n"
   ]
  },
  {
   "cell_type": "code",
   "execution_count": null,
   "metadata": {},
   "outputs": [],
   "source": [
    "\"\"\"36. Find the frequency of each character in a string.\"\"\"\n",
    "\n",
    "def character_frequency(string):\n",
    "    # Creating an empty dictionary to store character frequencies\n",
    "    frequency_dict = {}\n",
    "\n",
    "    # Iterating through each character in the string\n",
    "    for char in string:\n",
    "        # Using the get() method to initialize the count to 0 if the character is not in the dictionary\n",
    "        frequency_dict[char] = frequency_dict.get(char, 0) + 1\n",
    "\n",
    "    return frequency_dict\n",
    "\n",
    "# sample\n",
    "input_string = \"Hello, World!\"\n",
    "result = character_frequency(input_string)\n",
    "\n",
    "# Displaying the character frequencies\n",
    "for char, frequency in result.items():\n",
    "    print(f\"Character: {char}, Frequency: {frequency}\")\n"
   ]
  },
  {
   "cell_type": "code",
   "execution_count": null,
   "metadata": {},
   "outputs": [],
   "source": [
    "\"\"\"37. Remove all punctuation from a string.\"\"\"\n",
    "\n",
    "import string\n",
    "\n",
    "def remove_punctuation(input_string):\n",
    "    # Create a translation table to remove punctuation\n",
    "    translation_table = str.maketrans(\"\", \"\", string.punctuation)\n",
    "\n",
    "    # Use translate method to remove punctuation from the input string\n",
    "    cleaned_string = input_string.translate(translation_table)\n",
    "\n",
    "    return cleaned_string\n",
    "\n",
    "# sample string:\n",
    "input_string = \"Hello, World! This is an example string with punctuation.\"\n",
    "result = remove_punctuation(input_string)\n",
    "\n",
    "# Printing the result.\n",
    "print(\"Original String:\", input_string)\n",
    "print(\"String without Punctuation:\", result)\n",
    "\n"
   ]
  },
  {
   "cell_type": "code",
   "execution_count": null,
   "metadata": {},
   "outputs": [],
   "source": [
    "\"\"\"38. Check if a string contains only digits.\"\"\"\n",
    "# function to check the string \n",
    "def digits(string):\n",
    "    return string.isdigit()\n",
    "\n",
    "# sample\n",
    "input_string = \"12345\"\n",
    "result = digits(input_string)\n",
    "\n",
    "if result:\n",
    "    print(\"The string contains only digits.\")\n",
    "else:\n",
    "    print(\"The string does not contain only digits.\")\n"
   ]
  },
  {
   "cell_type": "code",
   "execution_count": null,
   "metadata": {},
   "outputs": [],
   "source": [
    "\"\"\"39. Check if a string contains only alphabets.\"\"\"\n",
    "\n",
    "# function to check the string \n",
    "def alpha(string):\n",
    "    return string.isalpha()\n",
    "\n",
    "# sample\n",
    "input_string = \"qwerty\"\n",
    "result = alpha(input_string)\n",
    "\n",
    "if result:\n",
    "    print(\"The string contains only alphabets.\")\n",
    "else:\n",
    "    print(\"The string does not contain only alphabets.\")"
   ]
  },
  {
   "cell_type": "code",
   "execution_count": null,
   "metadata": {},
   "outputs": [],
   "source": [
    "\"\"\"40. Convert a string to a list of characters.\"\"\"\n",
    "\n",
    "# Function defination.\n",
    "def string_to_list_using_constructor(input_string):\n",
    "    char_list = list(input_string)\n",
    "    return char_list\n",
    "\n",
    "# sample\n",
    "input_string = \"Hello, World!\"\n",
    "result = string_to_list_using_constructor(input_string)\n",
    "\n",
    "# Printing the result.\n",
    "print(\"Original String:\", input_string)\n",
    "print(\"List of Characters:\", result)\n"
   ]
  },
  {
   "cell_type": "code",
   "execution_count": null,
   "metadata": {},
   "outputs": [],
   "source": [
    "\"\"\"42. Encode a string using a Caesar cipher.\"\"\"\n",
    "\n",
    "# Function defination.\n",
    "def encrypt(plain_text, shift):\n",
    "    encrypted_text = \"\"\n",
    "\n",
    "    for char in plain_text:\n",
    "        if char.isalpha():\n",
    "            # Determine the case (uppercase or lowercase) of the character\n",
    "            is_upper = char.isupper()\n",
    "            \n",
    "            # Apply the Caesar cipher shift to the character\n",
    "            char_code = ord(char)\n",
    "            encrypted_char = chr((char_code - ord('A' if is_upper else 'a') + shift) % 26 + ord('A' if is_upper else 'a'))\n",
    "            \n",
    "            encrypted_text += encrypted_char\n",
    "        else:\n",
    "            # Leave non-alphabetic characters unchanged\n",
    "            encrypted_text += char\n",
    "\n",
    "    return encrypted_text\n",
    "\n",
    "# sample\n",
    "input_text = \"Hello, World!\"\n",
    "shift_amount = 3\n",
    "encrypted_result = encrypt(input_text, shift_amount)\n",
    "\n",
    "# Printing the result.\n",
    "print(\"Original Text:\", input_text)\n",
    "print(f\"Encrypted Text (Caesar Cipher with shift {shift_amount}):\", encrypted_result)\n"
   ]
  },
  {
   "cell_type": "code",
   "execution_count": null,
   "metadata": {},
   "outputs": [],
   "source": [
    "\"\"\"43. Decode a Caesar cipher encoded string.\"\"\"\n",
    "\n",
    "# Function defination.\n",
    "def decrypt(encrypted_text, shift):\n",
    "    decrypted_text = \"\"\n",
    "\n",
    "    for char in encrypted_text:\n",
    "        if char.isalpha():\n",
    "            # Determine the case (uppercase or lowercase) of the character\n",
    "            is_upper = char.isupper()\n",
    "            \n",
    "            # Apply the reverse Caesar cipher shift to the character\n",
    "            char_code = ord(char)\n",
    "            decrypted_char = chr((char_code - ord('A' if is_upper else 'a') - shift) % 26 + ord('A' if is_upper else 'a'))\n",
    "            \n",
    "            decrypted_text += decrypted_char\n",
    "        else:\n",
    "            # Leave non-alphabetic characters unchanged\n",
    "            decrypted_text += char\n",
    "\n",
    "    return decrypted_text\n",
    "\n",
    "# sample\n",
    "encrypted_text = \"Khoor, Zruog!\"\n",
    "shift_amount = 3\n",
    "decrypted_result = decrypt(encrypted_text, shift_amount)\n",
    "\n",
    "# Printing the result.\n",
    "print(\"Encrypted Text:\", encrypted_text)\n",
    "print(f\"Decrypted Text (Caesar Cipher with shift {shift_amount}):\", decrypted_result)\n"
   ]
  },
  {
   "cell_type": "code",
   "execution_count": null,
   "metadata": {},
   "outputs": [],
   "source": [
    "\"\"\"44. Find the most frequent word in a string.\"\"\"\n",
    "\n",
    "# Function defination.\n",
    "def frequent(input_string):\n",
    "    # Remove punctuation and convert to lowercase\n",
    "    cleaned_string = ''.join(char.lower() if char.isalnum() or char.isspace() else ' ' for char in input_string)\n",
    "\n",
    "    # Split the string into words\n",
    "    words = cleaned_string.split()\n",
    "\n",
    "    # Count the frequency of each word\n",
    "    word_frequency = {}\n",
    "    for word in words:\n",
    "        word_frequency[word] = word_frequency.get(word, 0) + 1\n",
    "\n",
    "    # Find the word with the highest frequency\n",
    "    most_frequent_word = max(word_frequency, key=word_frequency.get)\n",
    "    frequency = word_frequency[most_frequent_word]\n",
    "\n",
    "    return most_frequent_word, frequency\n",
    "\n",
    "# sample\n",
    "input_string = \"This is an example sentence. This sentence is an example.\"\n",
    "result_word, result_frequency =frequent(input_string)\n",
    "\n",
    "\n",
    "# Printing the result.\n",
    "print(\"Original String:\", input_string)\n",
    "print(f\"Most Frequent Word: '{result_word}' with frequency {result_frequency}\")\n"
   ]
  },
  {
   "cell_type": "code",
   "execution_count": null,
   "metadata": {},
   "outputs": [],
   "source": [
    "\"\"\"45. Find all unique words in a string.\"\"\"\n",
    "\n",
    "# Function defination.\n",
    "def unique_words(input_string):\n",
    "    # Remove punctuation and convert to lowercase\n",
    "    cleaned_string = ''.join(char.lower() if char.isalnum() or char.isspace() else ' ' for char in input_string)\n",
    "\n",
    "    # Split the string into words and create a set to store unique words\n",
    "    words = cleaned_string.split()\n",
    "    unique_word_set = set(words)\n",
    "\n",
    "    return unique_word_set\n",
    "\n",
    "# sample\n",
    "input_string = \"This is an example sentence. This sentence is an example.\"\n",
    "result = unique_words(input_string)\n",
    "\n",
    "# Printing the result.\n",
    "print(\"Original String:\", input_string)\n",
    "print(\"Unique Words:\", result)\n"
   ]
  },
  {
   "cell_type": "code",
   "execution_count": null,
   "metadata": {},
   "outputs": [],
   "source": [
    "\"\"\"46. Count the number of syllables in a string.\"\"\"\n",
    "\n",
    "# Function defination.\n",
    "def count_syllables(word):\n",
    "    vowels = \"aeiouyAEIOUY\"\n",
    "    count = 0\n",
    "    prev_char_was_vowel = False\n",
    "\n",
    "    for char in word:\n",
    "        if char in vowels:\n",
    "            if not prev_char_was_vowel:\n",
    "                count += 1\n",
    "            prev_char_was_vowel = True\n",
    "        else:\n",
    "            prev_char_was_vowel = False\n",
    "\n",
    "    return count\n",
    "\n",
    "def count_syllables_in_sentence(sentence):\n",
    "    words = sentence.split()\n",
    "    total_syllables = sum(count_syllables(word) for word in words)\n",
    "    return total_syllables\n",
    "\n",
    "# sample\n",
    "input_sentence = \"This is an example sentence.\"\n",
    "syllable_count = count_syllables_in_sentence(input_sentence)\n",
    "\n",
    "# Printing the result.\n",
    "print(\"Original Sentence:\", input_sentence)\n",
    "print(\"Syllable Count:\", syllable_count)\n"
   ]
  },
  {
   "cell_type": "code",
   "execution_count": null,
   "metadata": {},
   "outputs": [],
   "source": [
    "\"\"\"47. Check if a string contains any special characters.\"\"\"\n",
    "\n",
    "# Function defination.\n",
    "def contains_special_characters(input_string):\n",
    "    special_characters = set(\"!@#$%^&*()-_+=[]{}|;:'\\\",.<>?/`~\")\n",
    "\n",
    "    for char in input_string:\n",
    "        if char in special_characters:\n",
    "            return True\n",
    "\n",
    "    return False\n",
    "\n",
    "# sample\n",
    "input_string = \"Hello, World!\"\n",
    "contains_special = contains_special_characters(input_string)\n",
    "\n",
    "# Printing the result.\n",
    "if contains_special:\n",
    "    print(\"The string contains special characters.\")\n",
    "else:\n",
    "    print(\"The string does not contain any special characters.\")\n"
   ]
  },
  {
   "cell_type": "code",
   "execution_count": null,
   "metadata": {},
   "outputs": [],
   "source": [
    "\"\"\"48. Remove the nth word from a string.\"\"\"\n",
    "\n",
    "# Function defination.\n",
    "def remove_word(input_string, n):\n",
    "    words = input_string.split()\n",
    "\n",
    "    if 1 <= n <= len(words):\n",
    "        del words[n - 1]\n",
    "\n",
    "    return ' '.join(words)\n",
    "\n",
    "# sample\n",
    "input_string = \"This is an example sentence.\"\n",
    "n = 3\n",
    "result = remove_word(input_string, n)\n",
    "\n",
    "# Printing the result.\n",
    "print(\"Original String:\", input_string)\n",
    "print(f\"String after removing {n}th word:\", result)\n"
   ]
  },
  {
   "cell_type": "code",
   "execution_count": null,
   "metadata": {},
   "outputs": [],
   "source": [
    "\"\"\"49. Insert a word at the nth position in a string.\"\"\"\n",
    "\n",
    "# Function defination.\n",
    "def insert_word(input_string, new_word, n):\n",
    "    words = input_string.split()\n",
    "\n",
    "    if 0 <= n <= len(words):\n",
    "        words.insert(n, new_word)\n",
    "\n",
    "    return ' '.join(words)\n",
    "\n",
    "# sample\n",
    "input_string = \"This is an example sentence.\"\n",
    "new_word = \"beautiful\"\n",
    "insert_position = 3\n",
    "result = insert_word(input_string, new_word, insert_position)\n",
    "\n",
    "# Printing the result.\n",
    "print(\"Original String:\", input_string)\n",
    "print(f\"String after inserting '{new_word}' at position {insert_position}:\", result)\n"
   ]
  },
  {
   "cell_type": "code",
   "execution_count": null,
   "metadata": {},
   "outputs": [],
   "source": [
    "\"\"\"50. Convert a CSV string to a list of lists.\"\"\"\n",
    "\n",
    "import csv\n",
    "from io import StringIO\n",
    "\n",
    "def csv_string_to_list_of_lists(csv_string):\n",
    "    # Using the csv.reader with StringIO to parse the CSV string\n",
    "    csv_reader = csv.reader(StringIO(csv_string))\n",
    "    \n",
    "    # Converting the reader object to a list of lists\n",
    "    result = list(csv_reader)\n",
    "\n",
    "    return result\n",
    "\n",
    "# sample\n",
    "csv_string = \"Name,Age,Gender\\nJohn,25,Male\\nAlice,30,Female\\nBob,22,Male\"\n",
    "result = csv_string_to_list_of_lists(csv_string)\n",
    "\n",
    "print(\"CSV String:\")\n",
    "print(csv_string)\n",
    "print(\"\\nList of Lists:\")\n",
    "for row in result:\n",
    "    print(row)\n"
   ]
  },
  {
   "cell_type": "markdown",
   "metadata": {},
   "source": [
    "<h1><center>List Based Practice Problem</center></h1>"
   ]
  },
  {
   "cell_type": "code",
   "execution_count": null,
   "metadata": {},
   "outputs": [],
   "source": [
    "\"\"\"1. Create a list with integers from 1 to 10.\"\"\"\n",
    "\n",
    "#list with integers from 1 to 10.\n",
    "print([i for i in range(1,11)])"
   ]
  },
  {
   "cell_type": "code",
   "execution_count": null,
   "metadata": {},
   "outputs": [],
   "source": [
    "\"\"\"2. Find the length of a list without using the `len()` function.\"\"\"\n",
    "\n",
    "# Declaring a list.\n",
    "l= [1,2,3,4,5,6,7,8,9,10]\n",
    "\n",
    "cout=0\n",
    "# Calculating the length of list by for loop.\n",
    "for i in l:\n",
    "    cout+=1\n",
    "\n",
    "# Printing both cases with or without function.\n",
    "print(\"Lenght of list without using the `len()` function.\", cout)\n",
    "print(\"Lenght of list with using the `len()` function.\", len(l))"
   ]
  },
  {
   "cell_type": "code",
   "execution_count": null,
   "metadata": {},
   "outputs": [],
   "source": [
    "\"\"\"3. Append an element to the end of a list.\"\"\"\n",
    "\n",
    "# Declaring a list.\n",
    "x= [1,2,3,4,5,6,7,8,9,10]\n",
    "\n",
    "# Element to append,\n",
    "apd=11\n",
    "\n",
    "x.append(apd)\n",
    "\n",
    "print(x)\n"
   ]
  },
  {
   "cell_type": "code",
   "execution_count": null,
   "metadata": {},
   "outputs": [],
   "source": [
    "\"\"\"4. Insert an element at a specific index in a list.\"\"\"\n",
    "\n",
    "# Declaring a list.\n",
    "x= [1,2,3,4,5,6,7,8,9,10]\n",
    "\n",
    "# Element to insert\n",
    "\n",
    "irt=1000\n",
    "\n",
    "x.insert(0,irt)\n",
    "print(x)"
   ]
  },
  {
   "cell_type": "code",
   "execution_count": null,
   "metadata": {},
   "outputs": [],
   "source": [
    "\"\"\"5. Remove an element from a list by its value.\"\"\"\n",
    "\n",
    "# Declaring a list.\n",
    "x= [1,2,3,4,5,6,7,8,9,10]\n",
    "\n",
    "# Element to remove\n",
    "\n",
    "rem=10\n",
    "\n",
    "x.remove(rem)\n",
    "print(x)"
   ]
  },
  {
   "cell_type": "code",
   "execution_count": null,
   "metadata": {},
   "outputs": [],
   "source": [
    "\"\"\"6. Remove an element from a list by its index.\"\"\"\n",
    "\n",
    "# Declaring a list.\n",
    "x= [1,2,3,4,5,6,7,8,9,10]\n",
    "\n",
    "# Index of element to remove\n",
    "# At index 9\n",
    "idx=9\n",
    "x.pop(idx)\n",
    "print(x)"
   ]
  },
  {
   "cell_type": "code",
   "execution_count": null,
   "metadata": {},
   "outputs": [],
   "source": [
    "\"\"\"7. Check if an element exists in a list.\"\"\"\n",
    "\n",
    "# Declaring a list.\n",
    "x= [1,2,3,4,5,6,7,8,9,10]\n",
    "\n",
    "# Element to check\n",
    "chk=9\n",
    "\n",
    "if chk in x:\n",
    "    print(f\"Element is exist in list at index {x.index(chk)}\")\n",
    "else:\n",
    "    print(\"Element is not exist in list\")"
   ]
  },
  {
   "cell_type": "code",
   "execution_count": null,
   "metadata": {},
   "outputs": [],
   "source": [
    "\"\"\"8. Find the index of the first occurrence of an element in a list.\"\"\"\n",
    "\n",
    "# Declaring a list.\n",
    "x= [1,2,3,3,3,3,4,5,6,7,8,9,10]\n",
    "\n",
    "# Element to check\n",
    "chk=3\n",
    "ind=x.index(chk)\n",
    "\n",
    "print(f\"The first occurrence of an element {chk} is at index {ind} \")\n"
   ]
  },
  {
   "cell_type": "code",
   "execution_count": null,
   "metadata": {},
   "outputs": [],
   "source": [
    "\"\"\"9. Count the occurrences of an element in a list.\"\"\"\n",
    "\n",
    "# Declaring a list.\n",
    "x= [1,2,3,3,3,3,4,5,6,7,8,9,10]\n",
    "\n",
    "# Element to Count occurrence\n",
    "ele=3\n",
    "cout=0\n",
    "for i in x:\n",
    "    if i==ele:\n",
    "        cout+=1\n",
    "\n",
    "print(f\"Count of occurrence of an element {ele} is list {cout} \")"
   ]
  },
  {
   "cell_type": "code",
   "execution_count": null,
   "metadata": {},
   "outputs": [],
   "source": [
    "\"\"\"10. Reverse the order of elements in a list.\"\"\"\n",
    "\n",
    "# Declaring a list.\n",
    "x= [16,26,34,42,52,63,74,85,97,130]\n",
    "\n",
    "# Reversing the order.\n",
    "\n",
    "rev=x[::-1]\n",
    "print(\"Elements in original order\",x)\n",
    "print('\\n')\n",
    "print(\"Elements in reverse order\",rev)\n"
   ]
  },
  {
   "cell_type": "code",
   "execution_count": null,
   "metadata": {},
   "outputs": [],
   "source": [
    "\"\"\"11. Sort a list in ascending order.\"\"\"\n",
    "\n",
    "# Declaring a list.\n",
    "x= [10,9,8,7,6,5,4,3,2,1]\n",
    "\n",
    "# Sorting a list in ascending order.\n",
    "\n",
    "x.sort()\n"
   ]
  },
  {
   "cell_type": "code",
   "execution_count": null,
   "metadata": {},
   "outputs": [],
   "source": [
    "\"\"\"12. Sort a list in descending order.\"\"\"\n",
    "\n",
    "# Declaring a list.\n",
    "x= [1, 2, 3, 4, 5, 6, 7, 8, 9, 10]\n",
    "\n",
    "# Sorting a list in ascending order.\n",
    "\n",
    "x.sort(reverse=True)\n",
    "print(x)"
   ]
  },
  {
   "cell_type": "code",
   "execution_count": null,
   "metadata": {},
   "outputs": [],
   "source": [
    "\"\"\"13. Create a list of even numbers from 1 to 20.\"\"\"\n",
    "\n",
    "# list of even numbers from 1 to 20.\n",
    "\n",
    "print('List of even number',[i for i in range(1,21) if i%2==0])"
   ]
  },
  {
   "cell_type": "code",
   "execution_count": null,
   "metadata": {},
   "outputs": [],
   "source": [
    "\"\"\"14. Create a list of odd numbers from 1 to 20.\"\"\"\n",
    "\n",
    "# list of odd numbers from 1 to 20.\n",
    "\n",
    "print('List of even number',[i for i in range(1,21) if i%2==1])"
   ]
  },
  {
   "cell_type": "code",
   "execution_count": null,
   "metadata": {},
   "outputs": [],
   "source": [
    "\n",
    "\"\"\"15. Find the sum of all elements in a list.\"\"\"\n",
    "\n",
    "# Declaring a list.\n",
    "x= [1, 2, 3, 4, 5, 6, 7, 8, 9, 10]\n",
    "\n",
    "#sum of all elements in a list.\n",
    "\n",
    "print(\"Sum of all element in list is\",int(sum(i for i in x)))\n"
   ]
  },
  {
   "cell_type": "code",
   "execution_count": null,
   "metadata": {},
   "outputs": [],
   "source": [
    "\"\"\"16. Find the maximum value in a list.\"\"\"\n",
    "\n",
    "# Declaring a list.\n",
    "x= [1, 2, 3, 4, 5, 6,1000, 7, 8, 9, 10]\n",
    "\n",
    "# Maximum element in list.\n",
    "\n",
    "print(\"Maximum element in list\",max(x))"
   ]
  },
  {
   "cell_type": "code",
   "execution_count": null,
   "metadata": {},
   "outputs": [],
   "source": [
    "\"\"\"17. Find the minimum value in a list.\"\"\"\n",
    "# Declaring a list.\n",
    "x= [1, 2, 3, 4, 5, 6,1000, 7, 8, 9, 10]\n",
    "\n",
    "# Minimum element in list.\n",
    "\n",
    "print(\"Minimum element in list\",min(x))"
   ]
  },
  {
   "cell_type": "code",
   "execution_count": null,
   "metadata": {},
   "outputs": [],
   "source": [
    "\"\"\"18. Create a list of squares of numbers from 1 to 10.\"\"\"\n",
    "\n",
    "# Printing a list of squares of numbers from 1 to 10.\n",
    "\n",
    "print(\"list of squares of numbers from 1 to 10.\",[i**2 for i in range(1,11)])"
   ]
  },
  {
   "cell_type": "code",
   "execution_count": null,
   "metadata": {},
   "outputs": [],
   "source": [
    "\"\"\"19. Create a list of random numbers.\"\"\"\n",
    "\n",
    "# List of random numbers\n",
    "import random\n",
    "\n",
    "print(\"List of random element \",[random.randint(1, 10) for _ in range(10)])"
   ]
  },
  {
   "cell_type": "code",
   "execution_count": null,
   "metadata": {},
   "outputs": [],
   "source": [
    "\"\"\"20. Remove duplicates from a list.\"\"\"\n",
    "\n",
    "# Declaring a list with duplicates.\n",
    "x= [1,2,3,3,3,3,4,5,6,7,8,9,10]\n",
    "\n",
    "# Removing duplicates from list.\n",
    "x=list(set(x))\n",
    "print(\"List with unique elements\", x)"
   ]
  },
  {
   "cell_type": "code",
   "execution_count": null,
   "metadata": {},
   "outputs": [],
   "source": [
    "\"\"\"21. Find the common elements between two lists.\"\"\"\n",
    "\n",
    "# Declaring two list with some common element.\n",
    "x1= [1,2,3,4,5,6,7,8,9]\n",
    "x2= [1,25,3,4,5,6,7,45,43,77]\n",
    "\n",
    "# Printing a list of common element in both list.\n",
    "print(\"Common element in both the list \",[i for i in x1 if i in x2])  "
   ]
  },
  {
   "cell_type": "code",
   "execution_count": null,
   "metadata": {},
   "outputs": [],
   "source": [
    "\"\"\"22. Find the difference between two lists.\"\"\"\n",
    "# Declaring two list\n",
    "list1 = [1, 2, 3, 4, 5]\n",
    "list2 = [3, 4, 5, 6, 7]\n",
    "\n",
    "# Find the difference between two lists\n",
    "difference_list = list(set(list1) - set(list2))\n",
    "\n",
    "print(\"List 1:\", list1)\n",
    "print(\"List 2:\", list2)\n",
    "print(\"Difference between List 1 and List 2:\", difference_list)\n"
   ]
  },
  {
   "cell_type": "code",
   "execution_count": null,
   "metadata": {},
   "outputs": [],
   "source": [
    "\"\"\"23. Merge two lists.\"\"\"\n",
    "\n",
    "# Declaring two list\n",
    "list1 = [1, 2, 3, 4, 5]\n",
    "list2 = [5, 6, 7]\n",
    "\n",
    "merge=list1+list2\n",
    "print(\"Merged list\", merge)"
   ]
  },
  {
   "cell_type": "code",
   "execution_count": null,
   "metadata": {},
   "outputs": [],
   "source": [
    "\"\"\"24. Multiply all elements in a list by 2.\"\"\"\n",
    "\n",
    "# Declaring a list with duplicates.\n",
    "x=[1,2,3,3,3,3,4,5,6,7,8,9,10]\n",
    "\n",
    "print(\"Modified list\",[i*2 for i in x])\n"
   ]
  },
  {
   "cell_type": "code",
   "execution_count": null,
   "metadata": {},
   "outputs": [],
   "source": [
    "\"\"\"25. Filter out all even numbers from a list.\"\"\"\n",
    "\n",
    "# Declaring a list.\n",
    "x=[1,2,3,4,5,6,7,8,9,10]\n",
    "\n",
    "filtered_list=list(filter(lambda i : i%2==0, x))\n",
    "print(\"Filtered list of even numbers\",filtered_list)"
   ]
  },
  {
   "cell_type": "code",
   "execution_count": null,
   "metadata": {},
   "outputs": [],
   "source": [
    "\"\"\"26. Convert a list of strings to a list of integers.\"\"\"\n",
    "\n",
    "# Declaring a list.\n",
    "num_str=['1','2','3','4','5']\n",
    "\n",
    "# Convert and printing a list of strings to a list of integers.\n",
    "print(\"List of integers\", [int(i) for i in num_str])"
   ]
  },
  {
   "cell_type": "code",
   "execution_count": null,
   "metadata": {},
   "outputs": [],
   "source": [
    "\"\"\"27. Convert a list of integers to a list of strings.\"\"\"\n",
    "\n",
    "# Declaring a list.\n",
    "x=[1,2,3,4,5,6,7,8,9,10]\n",
    "\n",
    "# Convert and printing a list of integers to a list of strings.\n",
    "print(\"List of string\", [str(i) for i in x])\n"
   ]
  },
  {
   "cell_type": "code",
   "execution_count": null,
   "metadata": {},
   "outputs": [],
   "source": [
    "\"\"\"28. Flatten a nested list.\"\"\"\n",
    "\n",
    "# Declaring a nested list.\n",
    "x=[[1,2,3,4,5],[6,7,8,9,10]]\n",
    "\n",
    "# Flatten a nested list.\n",
    "print(\"Flatten list\", [element for sublist in x for element in sublist])\n"
   ]
  },
  {
   "cell_type": "code",
   "execution_count": null,
   "metadata": {},
   "outputs": [],
   "source": [
    "\"\"\"29. Create a list of the first 10 Fibonacci numbers.\"\"\"\n",
    "\n",
    "# Function to find fibonacci numbers.\n",
    "def fibonacci(n):\n",
    "    fib_sequence = []\n",
    "    a, b = 0, 1\n",
    "    for _ in range(n):\n",
    "        fib_sequence.append(a)\n",
    "        a, b = b, a + b\n",
    "    return fib_sequence\n",
    "\n",
    "# Example: Generate the first 10 Fibonacci numbers\n",
    "result = fibonacci(10)\n",
    "print(\"Fibonacci Sequence:\", result)\n",
    "  "
   ]
  },
  {
   "cell_type": "code",
   "execution_count": null,
   "metadata": {},
   "outputs": [],
   "source": [
    "\"\"\"30. Check if a list is sorted.\"\"\"\n",
    "\n",
    "# Function to find fibonacci numbers.\n",
    "def is_sorted(input_list):\n",
    "    # Check if every element is less than or equal to the next one\n",
    "    return all(input_list[i] <= input_list[i + 1] for i in range(len(input_list) - 1))\n",
    "\n",
    "# sample\n",
    "sorted_list = [1, 2, 3, 4, 5]\n",
    "unsorted_list = [3, 1, 4, 1, 5, 9, 2, 6]\n",
    "\n",
    "print(\"Is the sorted list sorted?\", is_sorted(sorted_list))\n",
    "print(\"Is the unsorted list sorted?\", is_sorted(unsorted_list))\n"
   ]
  },
  {
   "cell_type": "code",
   "execution_count": null,
   "metadata": {},
   "outputs": [],
   "source": [
    "\"\"\"31. Rotate a list to the left by `n` positions.\"\"\"\n",
    "\n",
    "# functin to Rotate list by left side.\n",
    "def rotate_left(input_list, n):\n",
    "    # Use list slicing to perform the left rotation\n",
    "    rotated_list = input_list[n:] + input_list[:n]\n",
    "    return rotated_list\n",
    "\n",
    "# Example usage:\n",
    "original_list = [1, 2, 3, 4, 5]\n",
    "rotation_positions = 1\n",
    "\n",
    "result = rotate_left(original_list, rotation_positions)\n",
    "\n",
    "print(\"Original List:\", original_list)\n",
    "print(f\"List after left rotation by {rotation_positions} positions:\", result)\n"
   ]
  },
  {
   "cell_type": "code",
   "execution_count": null,
   "metadata": {},
   "outputs": [],
   "source": [
    "\"\"\"32. Rotate a list to the right by `n` positions.\"\"\"\n",
    "\n",
    "# functin to Rotate list by right side.\n",
    "def rotate_right(input_list, n):\n",
    "    # Use list slicing to perform the right rotation\n",
    "    rotated_list = input_list[-n:] + input_list[:-n]\n",
    "    return rotated_list\n",
    "\n",
    "# Example usage:\n",
    "original_list = [1, 2, 3, 4, 5]\n",
    "rotation_positions = 2\n",
    "\n",
    "result = rotate_right(original_list, rotation_positions)\n",
    "\n",
    "print(\"Original List:\", original_list)\n",
    "print(f\"List after right rotation by {rotation_positions} positions:\", result)\n"
   ]
  },
  {
   "cell_type": "code",
   "execution_count": null,
   "metadata": {},
   "outputs": [],
   "source": [
    "\"\"\"33. Create a list of prime numbers up to 50.\"\"\"\n",
    "\n",
    "# function to find the prime numbers.\n",
    "def is_prime(num):\n",
    "    if num < 2:\n",
    "        return False\n",
    "    for i in range(2, int(num**0.5) + 1):\n",
    "        if num % i == 0:\n",
    "            return False\n",
    "    return True\n",
    "\n",
    "def generate_primes_up_to_limit(limit):\n",
    "    return [num for num in range(2, limit) if is_prime(num)]\n",
    "\n",
    "# sample:\n",
    "limit = 50\n",
    "prime_numbers = generate_primes_up_to_limit(limit)\n",
    "\n",
    "print(f\"Prime numbers up to {limit}:\")\n",
    "print(prime_numbers)\n"
   ]
  },
  {
   "cell_type": "code",
   "execution_count": null,
   "metadata": {},
   "outputs": [],
   "source": [
    "\"\"\"34. Split a list into chunks of size `n`.\"\"\"\n",
    "\n",
    "# function to break lists into chunks.\n",
    "def chunks(input_list, chunk_size):\n",
    "    for i in range(0, len(input_list), chunk_size):\n",
    "        yield input_list[i:i + chunk_size]\n",
    "\n",
    "# Example usage:\n",
    "original_list = [1, 2, 3, 4, 5, 6, 7, 8, 9]\n",
    "chunk_size = 3\n",
    "\n",
    "result = list(chunks(original_list, chunk_size))\n",
    "\n",
    "print(\"Original List:\", original_list)\n",
    "print(f\"List split into chunks of size {chunk_size}:\", result)\n"
   ]
  },
  {
   "cell_type": "code",
   "execution_count": null,
   "metadata": {},
   "outputs": [],
   "source": [
    "\"\"\"35. Find the second largest number in a list.\"\"\"\n",
    "\n",
    "# function to  find the second largest number\n",
    "def second_largest(input_list):\n",
    "    # Check if the list has at least two elements\n",
    "    if len(input_list) < 2:\n",
    "        return None\n",
    "\n",
    "    # Sort the list in descending order and return the second element\n",
    "    sorted_list = sorted(input_list, reverse=True)\n",
    "    return sorted_list[1]\n",
    "\n",
    "# Example usage:\n",
    "numbers = [10, 5, 8, 12, 3, 15]\n",
    "\n",
    "result = second_largest(numbers)\n",
    "\n",
    "print(\"Original List:\", numbers)\n",
    "print(\"Second Largest Number:\", result)\n"
   ]
  },
  {
   "cell_type": "code",
   "execution_count": null,
   "metadata": {},
   "outputs": [],
   "source": [
    "\"\"\"36. Replace every element in a list with its square.\"\"\"\n",
    "\n",
    "# Declaring a list.\n",
    "x=[1,2,3,4,5,6,7,8,9,10]\n",
    "\n",
    "# Repalcing all elements with its square.\n",
    "x=[i**2 for i in x]\n",
    "\n",
    "#Printing the modified list.\n",
    "print(\"Elemnet are replaced by its own square value\",x)"
   ]
  },
  {
   "cell_type": "code",
   "execution_count": null,
   "metadata": {},
   "outputs": [],
   "source": [
    "\"\"\"37. Convert a list to a dictionary where list elements become keys and their\n",
    "indices become values.\"\"\"\n",
    "\n",
    "# function to convert.\n",
    "def dict_list(input_list):\n",
    "    return {element: index for index, element in enumerate(input_list)}\n",
    "\n",
    "# Example\n",
    "my_list = [\"apple\", \"banana\", \"orange\", \"grape\"]\n",
    "\n",
    "result_dict = dict_list(my_list)\n",
    "\n",
    "print(\"Original List:\", my_list)\n",
    "print(\"Dictionary:\", result_dict)\n"
   ]
  },
  {
   "cell_type": "code",
   "execution_count": null,
   "metadata": {},
   "outputs": [],
   "source": [
    "\"\"\"38. Shuffle the elements of a list randomly.\"\"\"\n",
    "\n",
    "import random\n",
    "\n",
    "# function to Shuffle\n",
    "def shuffle(input_list):\n",
    "    shuffled_list = input_list.copy()\n",
    "    random.shuffle(shuffled_list)\n",
    "    return shuffled_list\n",
    "\n",
    "# Example \n",
    "original_list = [1, 2, 3, 4, 5]\n",
    "\n",
    "shuffled_result = shuffle(original_list)\n",
    "\n",
    "print(\"Original List:\", original_list)\n",
    "print(\"Shuffled List:\", shuffled_result)\n"
   ]
  },
  {
   "cell_type": "code",
   "execution_count": null,
   "metadata": {},
   "outputs": [],
   "source": [
    "\"\"\"39. Create a list of the first 10 factorial numbers.\"\"\"\n",
    "\n",
    "import math\n",
    "\n",
    "# function to generate factorials\n",
    "def fact(n):\n",
    "    return [math.factorial(i) for i in range(1, n + 1)]\n",
    "\n",
    "# Example\n",
    "num_factorials = 10\n",
    "factorials_list = fact(num_factorials)\n",
    "\n",
    "print(f\"The first {num_factorials} factorial numbers:\")\n",
    "print(factorials_list)\n"
   ]
  },
  {
   "cell_type": "code",
   "execution_count": null,
   "metadata": {},
   "outputs": [],
   "source": [
    "\"\"\"40. Check if two lists have at least one element in common.\"\"\"\n",
    "\n",
    "# function to check the which element is common.\n",
    "def have_common_element(list1, list2):\n",
    "    return any(element in list1 for element in list2)\n",
    "\n",
    "# Example \n",
    "list_a = [1, 2, 3, 4, 5]\n",
    "list_b = [5, 6, 7, 8, 9]\n",
    "\n",
    "result = have_common_element(list_a, list_b)\n",
    "\n",
    "print(\"List A:\", list_a)\n",
    "print(\"List B:\", list_b)\n",
    "print(\"Do the lists have at least one common element?\", result)\n"
   ]
  },
  {
   "cell_type": "code",
   "execution_count": null,
   "metadata": {},
   "outputs": [],
   "source": [
    "\"\"\"41. Remove all elements from a list.\"\"\"\n",
    "\n",
    "# Declaring a list.\n",
    "y=[1,2,3,4,5,6,7,8,9,10]\n",
    "\n",
    "y.clear()    \n",
    "print(\"All elements are removerd from list: -\",y) "
   ]
  },
  {
   "cell_type": "code",
   "execution_count": null,
   "metadata": {},
   "outputs": [],
   "source": [
    "\"\"\"42. Replace negative numbers in a list with 0.\"\"\"\n",
    "\n",
    "# Declaring a list.\n",
    "l=[-1,2,4,-3,4,-10,-4,5,-6,-9,11]\n",
    "\n",
    "# Replace negative numbers\n",
    "l=[i if i>=0 else 0 for i in l]\n",
    "\n",
    "# Printing the modified list.\n",
    "print(\"Negative numbers are replaced by 0\", l)"
   ]
  },
  {
   "cell_type": "code",
   "execution_count": null,
   "metadata": {},
   "outputs": [],
   "source": [
    "\"\"\"43. Convert a string into a list of words.\"\"\"\n",
    "\n",
    "# Declaring a string.\n",
    "string=\"This is an example sentence.\"\n",
    "\n",
    "# Convert a string into a list of words.\n",
    "word_list=string.split()\n",
    "\n",
    "# Printing the modified string list.\n",
    "print(\"List of words\",word_list)"
   ]
  },
  {
   "cell_type": "code",
   "execution_count": null,
   "metadata": {},
   "outputs": [],
   "source": [
    "\"\"\"44. Convert a list of words into a string.\"\"\"\n",
    "\n",
    "# Declaring a list of words.\n",
    "list_of_word=['This', 'is', 'an', 'example', 'sentence.']\n",
    "\n",
    "# Convert a list of words into a string.\n",
    "string=' '.join(list_of_word)\n",
    "\n",
    "# Printing the modified string.\n",
    "print(\"List of words: -\",string)"
   ]
  },
  {
   "cell_type": "code",
   "execution_count": null,
   "metadata": {},
   "outputs": [],
   "source": [
    "\"\"\"45. Create a list of the first `n` powers of 2.\"\"\"\n",
    "\n",
    "# let we have to create first 'n' power of 2.\n",
    "# Suppose we have to calculate the first 'n' power of 2, from 2 to 10.\n",
    "n=10 # first 10th power of 2.\n",
    "\n",
    "# Calculating the power of 2 through the range of \"n\"\n",
    "l=[2**i for i in range(1,n+1)]\n",
    "\n",
    "# Printing the list of first '10th' power of 2.\n",
    "print(\"list of the first `10th` powers of 2.\",l)\n"
   ]
  },
  {
   "cell_type": "code",
   "execution_count": null,
   "metadata": {},
   "outputs": [],
   "source": [
    "\"\"\"46. Find the longest string in a list of strings.\"\"\"\n",
    "\n",
    "# function to find the longest string\n",
    "def find_longest(strings):\n",
    "    return max(strings, key=len)\n",
    "\n",
    "# Example \n",
    "list_of_strings = [\"apple\", \"banana\", \"orange\", \"kiwi\", \"strawberry\"]\n",
    "\n",
    "longest_string = find_longest(list_of_strings)\n",
    "\n",
    "print(\"List of Strings:\", list_of_strings)\n",
    "\n",
    "print(\"Longest String:\", longest_string)\n"
   ]
  },
  {
   "cell_type": "code",
   "execution_count": null,
   "metadata": {},
   "outputs": [],
   "source": [
    "\"\"\"47. Find the shortest string in a list of strings.\"\"\"\n",
    "\n",
    "# function to find the shortest string\n",
    "def find_shortest(strings):\n",
    "    return min(strings, key=len)\n",
    "\n",
    "# Example \n",
    "list_of_strings = [\"apple\", \"banana\", \"orange\", \"kiwi\", \"strawberry\"]\n",
    "\n",
    "shortest_string = find_shortest(list_of_strings)\n",
    "\n",
    "print(\"List of Strings:\", list_of_strings)\n",
    "print(\"shortest String:\", shortest_string)\n"
   ]
  },
  {
   "cell_type": "code",
   "execution_count": null,
   "metadata": {},
   "outputs": [],
   "source": [
    "\"\"\"48. Create a list of the first `n` triangular numbers.\"\"\"\n",
    "\n",
    "# function to find the first `n` triangular numbers.\n",
    "def triangular_num(n):\n",
    "    return [sum(range(1, i + 1)) for i in range(1, n + 1)]\n",
    "\n",
    "# Example \n",
    "num_triangular_numbers = 7\n",
    "triangular_numbers_list = triangular_num(num_triangular_numbers)\n",
    "\n",
    "print(f\"The first {num_triangular_numbers} triangular numbers:\")\n",
    "print(triangular_numbers_list)\n"
   ]
  },
  {
   "cell_type": "code",
   "execution_count": null,
   "metadata": {},
   "outputs": [],
   "source": [
    "\"\"\"49. Check if a list contains another list as a subsequence.\"\"\"\n",
    "\n",
    "# function to check if a list contains another list as a subsequence.\n",
    "def is_subsequence(subsequence, sequence):\n",
    "    sub_len = len(subsequence)\n",
    "    seq_len = len(sequence)\n",
    "\n",
    "    # Edge case: an empty subsequence is always a subsequence\n",
    "    if sub_len == 0:\n",
    "        return True\n",
    "\n",
    "    # Iterate through the elements of the main sequence\n",
    "    sub_idx = 0\n",
    "    for element in sequence:\n",
    "        if element == subsequence[sub_idx]:\n",
    "            sub_idx += 1\n",
    "\n",
    "            # If all elements of subsequence are found, it is a subsequence\n",
    "            if sub_idx == sub_len:\n",
    "                return True\n",
    "\n",
    "    # If the loop completes without finding all elements, it's not a subsequence\n",
    "    return False\n",
    "\n",
    "# Example usage:\n",
    "main_list = [1, 2, 3, 4, 5, 6, 7]\n",
    "subsequence_list = [3, 5, 7]\n",
    "\n",
    "result = is_subsequence(subsequence_list, main_list)\n",
    "\n",
    "print(\"Main List:\", main_list)\n",
    "print(\"Subsequence List:\", subsequence_list)\n",
    "print(\"Is Subsequence?\", result)\n"
   ]
  },
  {
   "cell_type": "code",
   "execution_count": null,
   "metadata": {},
   "outputs": [],
   "source": [
    "\"\"\"50. Swap two elements in a list by their indices.\"\"\"\n",
    "\n",
    "# Declaring a list.\n",
    "l=[2, 4, 8, 16, 32, 64, 128, 256, 512, 1024]\n",
    "\n",
    "# let first element at index 0 and second element at index 9.\n",
    "\n",
    "# Swaping two element by their indices.\n",
    "l[0],l[9]= l[9],l[0]\n",
    "\n",
    "print(\"We swap two element in this list:(2 by 1024) \",l)"
   ]
  },
  {
   "cell_type": "markdown",
   "metadata": {},
   "source": [
    "<h1><center>Tuple Based Practice Problem</center></h1>"
   ]
  },
  {
   "cell_type": "code",
   "execution_count": null,
   "metadata": {},
   "outputs": [],
   "source": [
    "\"\"\"1. Create a tuple with integers from 1 to 5.\"\"\"\n",
    "\n",
    "# Creating a tuple with integers from 1 to 5.\n",
    "t=tuple(range(1,6))\n",
    "\n",
    "# Printing the tuple.\n",
    "print(t)\n"
   ]
  },
  {
   "cell_type": "code",
   "execution_count": null,
   "metadata": {},
   "outputs": [],
   "source": [
    "\"\"\"2. Access the third element of a tuple.\"\"\"\n",
    "\n",
    "# Declaring a tuple.\n",
    "t=(1,2,3,4,5,6,7)\n",
    "\n",
    "# Access the third element. As the index start from 0.\n",
    "element=t[2]\n",
    "\n",
    "# printing the element.\n",
    "print(\"Third element present at 2nd index as index start from 0: element is\",element )"
   ]
  },
  {
   "cell_type": "code",
   "execution_count": null,
   "metadata": {},
   "outputs": [],
   "source": [
    "\"\"\"3. Find the length of a tuple without using the `len()` function.\"\"\"\n",
    "\n",
    "# Declaring a tuple.\n",
    "t=(1,2,3,4,5,6,7)\n",
    "\n",
    "cout=0\n",
    "\n",
    "# finding the length of tuple without len() function.\n",
    "\n",
    "for i in t:\n",
    "    cout+=1\n",
    "\n",
    "# Printing length of tuple.\n",
    "print(\"Length of tuple:\",cout)\n"
   ]
  },
  {
   "cell_type": "code",
   "execution_count": null,
   "metadata": {},
   "outputs": [],
   "source": [
    "\"\"\"4. Count the occurrences of an element in a tuple.\"\"\"\n",
    "\n",
    "# Declaring a tuple.\n",
    "t=(1,2,5,3,4,5,6,5,7,5,8,5,9,0,5)\n",
    "\n",
    "# Element to count occurrences\n",
    "ele_cout=0\n",
    "element=5\n",
    "\n",
    "# Counting the occurrences of an element\n",
    "for i in t:\n",
    "    if i==element:\n",
    "        ele_cout+=1\n",
    "\n",
    "# Printing the occurences of an element\n",
    "print(f'The element {element} come {ele_cout} times in tuple.')        "
   ]
  },
  {
   "cell_type": "code",
   "execution_count": null,
   "metadata": {},
   "outputs": [],
   "source": [
    "\"\"\"5. Find the index of the first occurrence of an element in a tuple.\"\"\"\n",
    "\n",
    "# Declaring a tuple.\n",
    "T = (1, 2, 3, 4, 6, 5, 7, 5, 8, 5, 9, 0, 5)\n",
    "ele = 0\n",
    "index = None\n",
    "\n",
    "# Finding the first occurrence of an element in a tuple.\n",
    "for index, value in enumerate(T):\n",
    "    if value == ele:\n",
    "        index= index\n",
    "        print(f\"The index of the first occurrence of {ele} in the tuple is at index {index}\")\n",
    "        break\n",
    "\n",
    "if index is None:\n",
    "    print(f\"{ele} not found in the tuple.\")\n"
   ]
  },
  {
   "cell_type": "code",
   "execution_count": null,
   "metadata": {},
   "outputs": [],
   "source": [
    "\"\"\"6. Check if an element exists in a tuple.\"\"\"\n",
    "\n",
    "# Declaring a tuple.\n",
    "t=(1,2,3,4,5,6,7)\n",
    "\n",
    "# Checking if an element exists\n",
    "elem=5\n",
    "\n",
    "if elem in t:\n",
    "    print(\"Element present in tuple\")\n",
    "else:\n",
    "    print(\"Element not present in tuple\")\n",
    "    "
   ]
  },
  {
   "cell_type": "code",
   "execution_count": null,
   "metadata": {},
   "outputs": [],
   "source": [
    "\"\"\"7. Convert a tuple to a list.\"\"\"\n",
    "\n",
    "# Declaring a tuple.\n",
    "t=(1,2,3,4,5,6,7)\n",
    "\n",
    "# Method first:\n",
    "# type casting.\n",
    "t_list=list(t)\n",
    "print(\"By type casting tuple to list\",t_list,'\\n')\n",
    "\n",
    "# Method second:\n",
    "# By appending element to a list.\n",
    "itr_list=[]\n",
    "for i in t:\n",
    "    itr_list.append(i)\n",
    "print(\"By appending tuple element to empty list.\", itr_list)    \n"
   ]
  },
  {
   "cell_type": "code",
   "execution_count": null,
   "metadata": {},
   "outputs": [],
   "source": [
    "\"\"\"8. Convert a list to a tuple.\"\"\"\n",
    "\n",
    "# Declaring a tuple.\n",
    "t=[1,2,3,4,5,6,7]\n",
    "\n",
    "# Tuples in Python are immutable, which means their elements cannot be modified or added once the tuple is created. \n",
    "li_tuple=tuple(t)\n",
    "print(\"By type casting list to tuple\",li_tuple,'\\n')"
   ]
  },
  {
   "cell_type": "code",
   "execution_count": null,
   "metadata": {},
   "outputs": [],
   "source": [
    "\"\"\"9. Unpack the elements of a tuple into variables.\"\"\"\n",
    "# Define a tuple\n",
    "my_tuple = (1, 2, 3)\n",
    "\n",
    "# Unpack the elements into variables\n",
    "a, b, c = my_tuple\n",
    "\n",
    "# Print the variables\n",
    "print(\"a:\", a)\n",
    "print(\"b:\", b)\n",
    "print(\"c:\", c)"
   ]
  },
  {
   "cell_type": "code",
   "execution_count": null,
   "metadata": {},
   "outputs": [],
   "source": [
    "\"\"\"10. Create a tuple of even numbers from 1 to 10.\"\"\"\n",
    "\n",
    "# Creating a tuple of even numbers.\n",
    "\n",
    "even_num_tuple=tuple([i for i in range(1,11) if i%2==0])\n",
    "\n",
    "# Printing the tuple.\n",
    "print(\"Tuple of even numbers from 1 to 10.\",even_num_tuple)"
   ]
  },
  {
   "cell_type": "code",
   "execution_count": null,
   "metadata": {},
   "outputs": [],
   "source": [
    "\"\"\"11. Create a tuple of odd numbers from 1 to 10.\"\"\"\n",
    "\n",
    "# Creating a tuple of odd numbers.\n",
    "\n",
    "odd_num_tuple=tuple([i for i in range(1,11) if i%2==1])\n",
    "\n",
    "# Printing the tuple.\n",
    "print(\"Tuple of odd numbers from 1 to 10.\",odd_num_tuple)"
   ]
  },
  {
   "cell_type": "code",
   "execution_count": null,
   "metadata": {},
   "outputs": [],
   "source": [
    "\"\"\"12. Concatenate two tuples.\"\"\"\n",
    "\n",
    "# Declaring two tuples.\n",
    "t1=(1,2,3,4)\n",
    "t2=(5,6,7,8)\n",
    "\n",
    "# Concatenateing two tuples.\n",
    "t3=t1+t2\n",
    "\n",
    "# Printing the result.\n",
    "print(\"Result after concatenateing two tuples\", t3)"
   ]
  },
  {
   "cell_type": "code",
   "execution_count": null,
   "metadata": {},
   "outputs": [],
   "source": [
    "\"\"\"13. Repeat a tuple three times.\"\"\"\n",
    "\n",
    "# Original tuple\n",
    "original_tuple = (1, 2, 3)\n",
    "\n",
    "# Repeat the tuple three times\n",
    "repeated_tuple = original_tuple * 3\n",
    "\n",
    "# Print the result\n",
    "print(\"Original tuple:\", original_tuple)\n",
    "print(\"Repeated tuple three times:\", repeated_tuple)\n"
   ]
  },
  {
   "cell_type": "code",
   "execution_count": null,
   "metadata": {},
   "outputs": [],
   "source": [
    "\"\"\"14. Check if a tuple is empty.\"\"\"\n",
    "\n",
    "# Declaring a empty tuple.\n",
    "t=()\n",
    "# Checking wheather tuple is empty or not.\n",
    "if len(t)==0:\n",
    "    print(\"Tuple is empty\")\n",
    "else:\n",
    "    print(\"Tuple is non-empty\")    "
   ]
  },
  {
   "cell_type": "code",
   "execution_count": null,
   "metadata": {},
   "outputs": [],
   "source": [
    "\"\"\"15. Create a nested tuple.\"\"\"\n",
    "\n",
    "# Creating a nested tuple\n",
    "nested_tuple = ((1, 2, 3), ('a', 'b', 'c'), (True, False))\n",
    "\n",
    "# Print the nested tuple\n",
    "print(\"Nested Tuple:\", nested_tuple)"
   ]
  },
  {
   "cell_type": "code",
   "execution_count": null,
   "metadata": {},
   "outputs": [],
   "source": [
    "\"\"\"16. Access the first element of a nested tuple.\"\"\"\n",
    "\n",
    "# Creating a nested tuple\n",
    "nested_tuple = ((1, 2, 3), ('a', 'b', 'c'), (True, False))\n",
    "\n",
    "# Access the first element of a nested tuple\n",
    "for i in nested_tuple:\n",
    "    if isinstance(i,tuple):\n",
    "        for j in i:\n",
    "            print(f\"First element of nested tuple is {j}\")\n",
    "            break\n",
    "           \n",
    "        "
   ]
  },
  {
   "cell_type": "code",
   "execution_count": null,
   "metadata": {},
   "outputs": [],
   "source": [
    "\"\"\"17. Create a tuple with a single element.\"\"\"\n",
    "\n",
    "# Declaring a tuple with a single element\n",
    "single_element_tuple=(1,)\n",
    "\n",
    "print(type(single_element_tuple), single_element_tuple)\n"
   ]
  },
  {
   "cell_type": "code",
   "execution_count": null,
   "metadata": {},
   "outputs": [],
   "source": [
    "\"\"\"18. Compare two tuples.\"\"\"\n",
    "\n",
    "# Declaring two tuples.\n",
    "t1=(1,2,3,4)\n",
    "t2=(5,6,7,8)\n",
    "\n",
    "# Comparing tuples\n",
    "comparison_result = (t1 > t2) - (t1 < t2)\n",
    "\n",
    "# Output\n",
    "if comparison_result > 0:\n",
    "    print(\"Tuple t1 is greater than t2.\")\n",
    "elif comparison_result < 0:\n",
    "    print(\"Tuple t1 is less than t2.\")\n",
    "else:\n",
    "    print(\"Tuples t1 and t2 are equal.\")\n"
   ]
  },
  {
   "cell_type": "code",
   "execution_count": null,
   "metadata": {},
   "outputs": [],
   "source": [
    "\"\"\"19. Delete a tuple.\"\"\"\n",
    "\n",
    "# Declaring tuple.\n",
    "t1=(1,2,3,4)\n",
    "\n",
    "# deleting the tuple.\n",
    "t1=list(t1).clear()\n",
    "\n",
    "print(\"Tuple deleted.\")"
   ]
  },
  {
   "cell_type": "code",
   "execution_count": null,
   "metadata": {},
   "outputs": [],
   "source": [
    "\"\"\"20. Slice a tuple.\"\"\"\n",
    "\n",
    "# Declaring tuple.\n",
    "t1=(1,2,3,4,5,6,7,8,9,10)\n",
    "\n",
    "print(\"Ist slice\",t1[3:5],'\\n',\"2nd slice\",t1[1:9:2])"
   ]
  },
  {
   "cell_type": "code",
   "execution_count": null,
   "metadata": {},
   "outputs": [],
   "source": [
    "\"\"\"21. Find the maximum value in a tuple.\"\"\"\n",
    "\n",
    "# Declaring tuple.\n",
    "t1=(1,2,3,4,5,6,7,8,9,10)\n",
    "\n",
    "# Finding the max value in tuple.\n",
    "max_num=max(t1)\n",
    "print(\"Maximum value:\",max_num)"
   ]
  },
  {
   "cell_type": "code",
   "execution_count": null,
   "metadata": {},
   "outputs": [],
   "source": [
    "\"\"\"22. Find the minimum value in a tuple.\"\"\"\n",
    "\n",
    "# Declaring tuple.\n",
    "t1=(1,2,3,4,5,6,7,8,9,10)\n",
    "\n",
    "# Finding the max value in tuple.\n",
    "min_num=min(t1)\n",
    "print(\"Minimum value:\",min_num)\n"
   ]
  },
  {
   "cell_type": "code",
   "execution_count": null,
   "metadata": {},
   "outputs": [],
   "source": [
    "\"\"\"23. Convert a string to a tuple of characters.\"\"\"\n",
    "\n",
    "# declaring a string\n",
    "string=\"tuple of characters\"\n",
    "\n",
    "# converting into tuple \n",
    "tuple_of_char=tuple(list( string))\n",
    "\n",
    "print(\"Tuple of characters\",tuple_of_char)"
   ]
  },
  {
   "cell_type": "code",
   "execution_count": null,
   "metadata": {},
   "outputs": [],
   "source": [
    "\"\"\"24. Convert a tuple of characters to a string.\"\"\"\n",
    "\n",
    "# declaring a tuple of characters\n",
    "\n",
    "char_tuple=('t', 'u', 'p', 'l', 'e', ' ', 'o', 'f', ' ', 'c', 'h', 'a', 'r', 'a', 'c', 't', 'e', 'r', 's')\n",
    "\n",
    "# converting into string\n",
    "string=''.join(list(char_tuple))\n",
    "print(string)\n"
   ]
  },
  {
   "cell_type": "code",
   "execution_count": null,
   "metadata": {},
   "outputs": [],
   "source": [
    "\"\"\"25. Create a tuple from multiple data types.\"\"\"\n",
    "\n",
    "# Declaring tuple of multiple data types.\n",
    "interger=(1,2,3)\n",
    "floating=(33.33,5.5,67.8)\n",
    "bool_=(True, False)\n",
    "string=('a','b','c')\n",
    "complex_=(2+2j,4+5j)\n",
    "\n",
    "# Creating a tuple from multiple data types.\n",
    "multiple_data_tuple=interger+floating+bool_+string+complex_\n",
    "print(multiple_data_tuple)"
   ]
  },
  {
   "cell_type": "code",
   "execution_count": null,
   "metadata": {},
   "outputs": [],
   "source": [
    "\"\"\"26. Check if two tuples are identical.\"\"\"\n",
    "\n",
    "# declaring.\n",
    "t1=(1,2,3)\n",
    "t2=(1,2,3)\n",
    "\n",
    "# checking if two tuples are identical or not.\n",
    "\n",
    "for i in t1:\n",
    "    if i in t2:\n",
    "        print(\"Both the tuple are identical\")\n",
    "    else:\n",
    "        print(\"Not identical tuple\")    "
   ]
  }
 ],
 "metadata": {
  "kernelspec": {
   "display_name": "Python 3",
   "language": "python",
   "name": "python3"
  },
  "language_info": {
   "codemirror_mode": {
    "name": "ipython",
    "version": 3
   },
   "file_extension": ".py",
   "mimetype": "text/x-python",
   "name": "python",
   "nbconvert_exporter": "python",
   "pygments_lexer": "ipython3",
   "version": "3.11.6"
  }
 },
 "nbformat": 4,
 "nbformat_minor": 2
}
