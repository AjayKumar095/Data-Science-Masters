{
 "cells": [
  {
   "cell_type": "markdown",
   "metadata": {},
   "source": []
  },
  {
   "cell_type": "code",
   "execution_count": 1,
   "metadata": {},
   "outputs": [
    {
     "name": "stdout",
     "output_type": "stream",
     "text": [
      "gnirts siht esreveR\n"
     ]
    }
   ],
   "source": [
    "\n",
    "\"\"\"1. Write a program to reverse a string.\"\"\"\n",
    "#Declaring a variable \"string\" and storing some value in it\n",
    "string=\"Reverse this string\"\n",
    "#Reversing the string by slicing method and stroing it into other variable \"result\"\n",
    "result=string[::-1]\n",
    "\n",
    "#Printing the result as reversed string\n",
    "print(result)\n"
   ]
  },
  {
   "cell_type": "code",
   "execution_count": 2,
   "metadata": {},
   "outputs": [
    {
     "data": {
      "text/plain": [
       "True"
      ]
     },
     "execution_count": 2,
     "metadata": {},
     "output_type": "execute_result"
    }
   ],
   "source": [
    "\n",
    "\"\"\"2. Check if a string is a palindrome.\"\"\"\n",
    "\n",
    "#Taking string as input from user\n",
    "User_string=input(\"Enter a string to check it is a palindrome or not\")\n",
    "\n",
    "#Reversing the User_string\n",
    "reversed_string = User_string[::-1]\n",
    "\n",
    "#Checking the input string or reversed string is equal or not\n",
    "reversed_string == User_string\n",
    "\n",
    "# return True if sting is palindrome or False if not palindrome\n",
    "# taking \"level\" as input "
   ]
  },
  {
   "cell_type": "code",
   "execution_count": 3,
   "metadata": {},
   "outputs": [
    {
     "name": "stdout",
     "output_type": "stream",
     "text": [
      "CONVERT THIS STRING INTO UPPERCASE\n"
     ]
    }
   ],
   "source": [
    "\n",
    "\"\"\"3. Convert a string to uppercase.\"\"\"\n",
    "\n",
    "#Declaring a variable \"string\" and storing some value in it\n",
    "string=\"Convert this string into uppercase\"\n",
    "\n",
    "#Convert a string to uppercase.\n",
    "upper=string.upper()\n",
    "\n",
    "#Printing Result\n",
    "print(upper)"
   ]
  },
  {
   "cell_type": "code",
   "execution_count": 5,
   "metadata": {},
   "outputs": [
    {
     "name": "stdout",
     "output_type": "stream",
     "text": [
      "convert this string into uppercase\n"
     ]
    }
   ],
   "source": [
    "\n",
    "\"\"\"4. Convert a string to lowercase.\"\"\"\n",
    "#Declaring a variable \"string\" and storing some value in it\n",
    "string=\"CONVERT THIS STRING INTO UPPERCASE\"\n",
    "\n",
    "#Convert a string to uppercase.\n",
    "lower=string.lower()\n",
    "\n",
    "#Printing Result\n",
    "print(lower)"
   ]
  },
  {
   "cell_type": "code",
   "execution_count": 6,
   "metadata": {},
   "outputs": [
    {
     "name": "stdout",
     "output_type": "stream",
     "text": [
      "3\n"
     ]
    }
   ],
   "source": [
    "\n",
    "\"\"\"5. Count the number of vowels in a string.\"\"\"\n",
    "\n",
    "#Taking string as input from user\n",
    "string = input(\"Enter a string\")\n",
    "\n",
    "#Define vowels in a variable\n",
    "vow=\"aeiouAEIOU\"\n",
    "\n",
    "# Using sum(), map(), and in to count vowels\n",
    "cout_vow= sum(map(string.count, vow))\n",
    "\n",
    "#Printing count of vowels \n",
    "#example: taking string \"High level\"\n",
    "print(cout_vow)"
   ]
  },
  {
   "cell_type": "code",
   "execution_count": 7,
   "metadata": {},
   "outputs": [
    {
     "name": "stdout",
     "output_type": "stream",
     "text": [
      "23\n"
     ]
    }
   ],
   "source": [
    "\n",
    "\"\"\"6. Count the number of consonants in a string.\"\"\"\n",
    "\n",
    "#Taking string as input from user\n",
    "string = input(\"Enter a string\")\n",
    "\n",
    "#Define consonants in a variable\n",
    "consonants=\"bcdfghjklmnpqrstvwxyzBCDFGHJKLMNPQRSTVWXYZ\"\n",
    "\n",
    "# Using sum(), map(), and in to count vowels\n",
    "cout_cons= sum(map(string.count, consonants ))\n",
    "\n",
    "#Printing count of vowels \n",
    "#example: taking string \"Count the number of consonants in a string.\"\n",
    "print(cout_cons)"
   ]
  },
  {
   "cell_type": "code",
   "execution_count": 8,
   "metadata": {},
   "outputs": [
    {
     "name": "stdout",
     "output_type": "stream",
     "text": [
      "DataScienceMasters\n"
     ]
    }
   ],
   "source": [
    "\n",
    "\"\"\"7. Remove all whitespaces from a string.\"\"\"\n",
    "\n",
    "#Taking string as input from user\n",
    "string=input(\"Enter a string: \")\n",
    "\n",
    "#After removing spaces\n",
    "result=''.join(string.split())\n",
    "\n",
    "#Printing result\n",
    "#Example: Data Science Masters\n",
    "print(result)"
   ]
  },
  {
   "cell_type": "code",
   "execution_count": 14,
   "metadata": {},
   "outputs": [
    {
     "name": "stdout",
     "output_type": "stream",
     "text": [
      "26\n"
     ]
    }
   ],
   "source": [
    "\n",
    "\"\"\"8. Find the length of a string without using the `len()` function.\"\"\"\n",
    "\n",
    "#Declaring the string\n",
    "string=\"Count the lenght of string\"\n",
    "\n",
    "#calulating the lenght of string by for loop\n",
    "count=0\n",
    "for char in string:\n",
    "    count+=1\n",
    "print(count)\n",
    "\n"
   ]
  },
  {
   "cell_type": "code",
   "execution_count": 15,
   "metadata": {},
   "outputs": [
    {
     "data": {
      "text/plain": [
       "True"
      ]
     },
     "execution_count": 15,
     "metadata": {},
     "output_type": "execute_result"
    }
   ],
   "source": [
    "\n",
    "\"\"\"9. Check if a string contains a specific word.\"\"\"\n",
    "\n",
    "#Declaring the string (here we can also as)\n",
    "string=input(\"Enter a string: \")\n",
    "\n",
    "#Declaring the string \"specific_word\"\n",
    "specific_word=\"string\"\n",
    "\n",
    "#Checking the string contains the specific word.\n",
    "#Example: taking \"This is a string\" as input \n",
    "specific_word in string\n",
    "#It will return True if yes or False if not comtains the specific word."
   ]
  },
  {
   "cell_type": "code",
   "execution_count": 19,
   "metadata": {},
   "outputs": [
    {
     "name": "stdout",
     "output_type": "stream",
     "text": [
      "Programming is Eassy!\n",
      "Programming is Fun!\n"
     ]
    }
   ],
   "source": [
    "\n",
    "\"\"\"10. Replace a word in a string with another word.\"\"\"\n",
    "\n",
    "#Decalring a string\n",
    "string='Programming is Eassy!'\n",
    "\n",
    "#Replacing word with another word\n",
    "replaced_string=string.replace('Eassy', 'Fun')\n",
    "\n",
    "#Printing both strings\n",
    "print(string)\n",
    "print(replaced_string)\n"
   ]
  },
  {
   "cell_type": "code",
   "execution_count": 34,
   "metadata": {},
   "outputs": [
    {
     "name": "stdout",
     "output_type": "stream",
     "text": [
      "3\n"
     ]
    }
   ],
   "source": [
    "\n",
    "\"\"\"11. Count the occurrences of a word in a string.\"\"\"\n",
    "#Decalring a string\n",
    "string='Programming is Eassy. Programming is Fun, I love Programming'\n",
    "word='Programming'\n",
    "#Counting the occurrences of a word in a string.\n",
    "count_word=string.lower().count(word.lower())\n",
    "\n",
    "#Count of occurrences of word\n",
    "print(count_word)"
   ]
  },
  {
   "cell_type": "code",
   "execution_count": 36,
   "metadata": {},
   "outputs": [
    {
     "name": "stdout",
     "output_type": "stream",
     "text": [
      "First occurrence of word (Eassy) start at index  15\n"
     ]
    }
   ],
   "source": [
    "\n",
    "\"\"\"12. Find the first occurrence of a word in a string.\"\"\"\n",
    "\n",
    "#Decalring a string\n",
    "string='Programming is Eassy. Programming is Fun, I love Programming'\n",
    "\n",
    "#Counting the  first occurrences of a word in a string.\n",
    "word='Eassy'\n",
    "Ist_occurrence=string.lower().find(word.lower())\n",
    "\n",
    "#First occurrences of word\n",
    "\n",
    "print(\"First occurrence of word (Eassy) start at index \",Ist_occurrence)"
   ]
  },
  {
   "cell_type": "code",
   "execution_count": 40,
   "metadata": {},
   "outputs": [
    {
     "name": "stdout",
     "output_type": "stream",
     "text": [
      "Last occurrence of word (Eassy) start at index  34\n"
     ]
    }
   ],
   "source": [
    "  \n",
    "\"\"\"13. Find the last occurrence of a word in a string.\"\"\"\n",
    "\n",
    "#Decalring a string\n",
    "string='Programming is Eassy. Programming is Fun'\n",
    "\n",
    "#Counting the  first occurrences of a word in a string.\n",
    "word='is'\n",
    "Ist_occurrence=string.lower().rfind(word.lower())\n",
    "\n",
    "#Last occurrences of word\n",
    "\n",
    "print(\"Last occurrence of word (Eassy) start at index \",Ist_occurrence)"
   ]
  },
  {
   "cell_type": "code",
   "execution_count": 41,
   "metadata": {},
   "outputs": [
    {
     "name": "stdout",
     "output_type": "stream",
     "text": [
      "['Programming', 'is', 'Eassy.', 'Programming', 'is', 'Fun']\n"
     ]
    }
   ],
   "source": [
    "  \n",
    "\"\"\"14. Split a string into a list of words.\"\"\"\n",
    "\n",
    "#Decalring a string\n",
    "string='Programming is Eassy. Programming is Fun'\n",
    "\n",
    "#Split the string into a list of words\n",
    "str_word_list=string.split()\n",
    "\n",
    "#Printing result\n",
    "print(str_word_list)\n",
    " "
   ]
  },
  {
   "cell_type": "code",
   "execution_count": 43,
   "metadata": {},
   "outputs": [
    {
     "name": "stdout",
     "output_type": "stream",
     "text": [
      "Programming is Eassy. Programming is Fun\n"
     ]
    }
   ],
   "source": [
    "  \n",
    "\"\"\"15. Join a list of words into a string.\"\"\"\n",
    "\n",
    "#Decalring a list\n",
    "li=['Programming', 'is', 'Eassy.', 'Programming', 'is', 'Fun']\n",
    "\n",
    "#joining the list of words into a string\n",
    "string=' '.join(li)\n",
    "\n",
    "#Printing result\n",
    "print(string)\n"
   ]
  },
  {
   "cell_type": "code",
   "execution_count": 56,
   "metadata": {},
   "outputs": [
    {
     "name": "stdout",
     "output_type": "stream",
     "text": [
      "Data_science_is_a_multidisciplinary_field\n"
     ]
    }
   ],
   "source": [
    "  \n",
    "\"\"\"16. Convert a string where words are separated by spaces to one where words\n",
    "are separated by underscores.\"\"\"\n",
    "\n",
    "#Decalring a string\n",
    "space_string=\"Data science is a multidisciplinary field\"\n",
    "#Converting spaces to underscores.\n",
    "underscore_string=space_string.replace(' ','_')\n",
    "\n",
    "#Printing result\n",
    "print(underscore_string)\n",
    "\n"
   ]
  },
  {
   "cell_type": "code",
   "execution_count": 49,
   "metadata": {},
   "outputs": [
    {
     "data": {
      "text/plain": [
       "True"
      ]
     },
     "execution_count": 49,
     "metadata": {},
     "output_type": "execute_result"
    }
   ],
   "source": [
    "  \n",
    "\"\"\"17. Check if a string starts with a specific word or phrase.\"\"\"\n",
    "\n",
    "#Decalring a string\n",
    "string=\"Data science is a multidisciplinary field that uses scientific methods, processes, algorithms, and systems to extract insights and knowledge from structured and unstructured data.\"\n",
    "\n",
    "#Checking given string start a specific word or phrase.\n",
    "spc_word=\"Data science\"\n",
    "string.startswith(spc_word)\n",
    "\n",
    "#It will return True if given string start with specific word or phrase and return false otherwise\n",
    "\n"
   ]
  },
  {
   "cell_type": "code",
   "execution_count": 52,
   "metadata": {},
   "outputs": [
    {
     "data": {
      "text/plain": [
       "True"
      ]
     },
     "execution_count": 52,
     "metadata": {},
     "output_type": "execute_result"
    }
   ],
   "source": [
    "  \n",
    "\"\"\"18. Check if a string ends with a specific word or phrase.\"\"\"\n",
    "\n",
    "#Decalring a string\n",
    "string=\"Data science is a multidisciplinary field that uses scientific methods, processes, algorithms, and systems to extract insights and knowledge from structured and unstructured data\"\n",
    "\n",
    "#Checking given string start a specific word or phrase.\n",
    "spc_word=\"data\"\n",
    "string.endswith(spc_word)\n",
    "\n",
    "#It will return True if given string ends with specific word or phrase and return false otherwise\n",
    "\n"
   ]
  },
  {
   "cell_type": "code",
   "execution_count": 54,
   "metadata": {},
   "outputs": [
    {
     "name": "stdout",
     "output_type": "stream",
     "text": [
      "Hello World\n"
     ]
    }
   ],
   "source": [
    "  \n",
    "\"\"\"19. Convert a string to title case (e.g., \"hello world\" to \"Hello World\").\"\"\"\n",
    "\n",
    "#Decalring a string\n",
    "string=\"hello world\"\n",
    "\n",
    "#Converting into title string\n",
    "title_string=string.title()\n",
    "\n",
    "#Printing title string\n",
    "print(title_string)"
   ]
  },
  {
   "cell_type": "code",
   "execution_count": 76,
   "metadata": {},
   "outputs": [
    {
     "name": "stdout",
     "output_type": "stream",
     "text": [
      "Longest word in string is:  multidisciplinary\n"
     ]
    }
   ],
   "source": [
    "  \n",
    "\"\"\"20. Find the longest word in a string.\"\"\"\n",
    "\n",
    "#Decalring a string\n",
    "string=\"Data science is a multidisciplinary field.\"\n",
    "\n",
    "#Spliting string into list of words\n",
    "word_list=string.split()\n",
    "\n",
    "# Finding the longest word\n",
    "longest_word = max(word_list, key=len)\n",
    "\n",
    "#Printing result\n",
    "print(\"Longest word in string is: \", longest_word)\n"
   ]
  },
  {
   "cell_type": "code",
   "execution_count": 77,
   "metadata": {},
   "outputs": [
    {
     "name": "stdout",
     "output_type": "stream",
     "text": [
      "Shortest word in string is:  a\n"
     ]
    }
   ],
   "source": [
    "  \n",
    "\"\"\"21. Find the shortest word in a string.\"\"\"\n",
    "\n",
    "#Decalring a string\n",
    "string=\"Data science is a multidisciplinary field.\"\n",
    "\n",
    "#Spliting string into list of words\n",
    "word_list=string.split()\n",
    "\n",
    "# Finding the shortest word\n",
    "shortest_word = min(word_list, key=len)\n",
    "\n",
    "#Printing result\n",
    "print(\"Shortest word in string is: \", shortest_word)"
   ]
  },
  {
   "cell_type": "code",
   "execution_count": 57,
   "metadata": {},
   "outputs": [
    {
     "name": "stdout",
     "output_type": "stream",
     "text": [
      "world hello\n"
     ]
    }
   ],
   "source": [
    "  \n",
    "\"\"\"22. Reverse the order of words in a string.\"\"\"\n",
    "\n",
    "#Decalring a string\n",
    "string=\"hello world\"\n",
    "\n",
    "#Spliting string into word list\n",
    "word_list=string.split()\n",
    "\n",
    "#Reversing the word list\n",
    "reversed_word_list=word_list[::-1]\n",
    "\n",
    "#Joining the list into string\n",
    "reverse_ordered_str=\" \".join(reversed_word_list)\n",
    "\n",
    "#Printing final result\n",
    "print(reverse_ordered_str)"
   ]
  },
  {
   "cell_type": "code",
   "execution_count": 74,
   "metadata": {},
   "outputs": [
    {
     "name": "stdout",
     "output_type": "stream",
     "text": [
      "True\n"
     ]
    }
   ],
   "source": [
    "  \n",
    "\"\"\"23. Check if a string is alphanumeric.\"\"\"\n",
    "\n",
    "#Decalring a string\n",
    "string=\"hello123\"\n",
    "\n",
    "#Checking the string is alphanumeric or not\n",
    "is_alphanumeric=string.isalnum()\n",
    "print(is_alphanumeric)\n",
    "\n",
    "#return True if yes otherwise return False\n"
   ]
  },
  {
   "cell_type": "code",
   "execution_count": 79,
   "metadata": {},
   "outputs": [
    {
     "name": "stdout",
     "output_type": "stream",
     "text": [
      "123\n"
     ]
    }
   ],
   "source": [
    "  \n",
    "\"\"\"24. Extract all digits from a string.\"\"\"\n",
    "import re\n",
    "#Decalring a string\n",
    "string=\"hello123\"\n",
    "\n",
    "#Extracting all digits from string\n",
    "digit=re.findall(r'\\d',string)\n",
    "\n",
    "#Creating a string of digits\n",
    "digi_string=''.join(digit)\n",
    "\n",
    "#Printing result\n",
    "print(digi_string)"
   ]
  },
  {
   "cell_type": "code",
   "execution_count": 82,
   "metadata": {},
   "outputs": [
    {
     "name": "stdout",
     "output_type": "stream",
     "text": [
      "hello\n"
     ]
    }
   ],
   "source": [
    "  \n",
    "\"\"\"25. Extract all alphabets from a string.\"\"\"\n",
    "import re\n",
    "#Decalring a string\n",
    "string=\"hello123\"\n",
    "\n",
    "#Extracting all digits from string\n",
    "Alpha=re.findall(r'[a-zA-Z]',string)\n",
    "\n",
    "#Creating a string of digits\n",
    "alpha_string=''.join(Alpha)\n",
    "\n",
    "#Printing result\n",
    "print(alpha_string)"
   ]
  },
  {
   "cell_type": "code",
   "execution_count": 97,
   "metadata": {},
   "outputs": [
    {
     "name": "stdout",
     "output_type": "stream",
     "text": [
      "4\n"
     ]
    }
   ],
   "source": [
    "  \n",
    "\"\"\"26. Count the number of uppercase letters in a string.\"\"\"\n",
    "\n",
    "#Decalring a string\n",
    "string=\"Data Science is a Multidisciplinary Field.\"\n",
    "\n",
    "#Counting uppercase letters\n",
    "upp_cout=sum(map(str.isupper, string))\n",
    "\n",
    "\n",
    "#printing result\n",
    "print(upp_cout)"
   ]
  },
  {
   "cell_type": "code",
   "execution_count": 98,
   "metadata": {},
   "outputs": [
    {
     "name": "stdout",
     "output_type": "stream",
     "text": [
      "32\n"
     ]
    }
   ],
   "source": [
    "  \n",
    "\"\"\"27. Count the number of lowercase letters in a string.\"\"\"\n",
    "\n",
    "#Decalring a string\n",
    "string=\"Data Science is a Multidisciplinary Field.\"\n",
    "\n",
    "#Counting lowercase letters\n",
    "low_cout=sum(map(str.islower, string))\n",
    "\n",
    "\n",
    "#printing result\n",
    "print(low_cout)"
   ]
  },
  {
   "cell_type": "code",
   "execution_count": 99,
   "metadata": {},
   "outputs": [
    {
     "name": "stdout",
     "output_type": "stream",
     "text": [
      "dATA sCIENCE IS A mULTIDISCIPLINARY fIELD.\n"
     ]
    }
   ],
   "source": [
    "  \n",
    "\"\"\"28. Swap the case of each character in a string.\"\"\"\n",
    "#Decalring a string\n",
    "string=\"Data Science is a Multidisciplinary Field.\"\n",
    "\n",
    "#Swaping the case\n",
    "string_swap=string.swapcase()\n",
    "\n",
    "#printing result\n",
    "print(string_swap)"
   ]
  },
  {
   "cell_type": "code",
   "execution_count": 21,
   "metadata": {},
   "outputs": [
    {
     "name": "stdout",
     "output_type": "stream",
     "text": [
      "Word to remove:- specific \n",
      "\n",
      "Original string:- Remove a specific word from a string. \n",
      "\n",
      "After removing specific word:- Remove a word from a string. \n",
      "\n"
     ]
    }
   ],
   "source": [
    "  \n",
    "\"\"\"29. Remove a specific word from a string.\"\"\"\n",
    "#Decalring a string\n",
    "\n",
    "string=\"Remove a specific word from a string.\"\n",
    "\n",
    "string_list=string.split()\n",
    "word='specific'\n",
    "\n",
    "for i in string_list:\n",
    "    if i==word:\n",
    "        string_list.remove(i)\n",
    "\n",
    "modified_str=' '.join(string_list)\n",
    "print(\"Word to remove:-\", word,'\\n')\n",
    "print(\"Original string:-\",string,'\\n' )\n",
    "print('After removing specific word:-',modified_str,'\\n')"
   ]
  },
  {
   "cell_type": "code",
   "execution_count": 40,
   "metadata": {},
   "outputs": [],
   "source": [
    "\"\"\"30. Check if a string is a valid email address.\"\"\"\n",
    "\n",
    "#Declaring a list of email address.\n",
    "\n",
    "email_domains=['@gmail.com', '@yahoo.com', '@outlook.com'] # You can add more domains if applicable.\n",
    "\n",
    "# Example of email.\n",
    "my_email='example@yahoo.com'\n",
    "\n",
    "# checking for a valid email\n",
    "for mail in email_domains:\n",
    "    \n",
    "    # If given string is a valid email address it will yes other wise it return none value.\n",
    "    if my_email.endswith(mail):\n",
    "        print(\"It is valid email address\")\n",
    "        break\n",
    "    else:\n",
    "        None\n",
    "         \n",
    "    "
   ]
  },
  {
   "cell_type": "code",
   "execution_count": 41,
   "metadata": {},
   "outputs": [
    {
     "name": "stdout",
     "output_type": "stream",
     "text": [
      "Ram7808kumar\n"
     ]
    }
   ],
   "source": [
    "\"\"\"31. Extract the username from an email address string.\"\"\"\n",
    "\n",
    "#Declaring a list of email address.\n",
    "\n",
    "email_domains=['@gmail.com', '@yahoo.com', '@outlook.com' ] # You can add more domains if applicable.\n",
    "\n",
    "# Example of email.\n",
    "user_email='Ram7808kumar@yahoo.com'\n",
    "for mail in email_domains:\n",
    "    #Checking string for valid email address.\n",
    "    if user_email.endswith(mail):\n",
    "        # Extracting username form an email address\n",
    "        user_name=user_email.removesuffix(mail)\n",
    "        print(user_name)"
   ]
  },
  {
   "cell_type": "code",
   "execution_count": 44,
   "metadata": {},
   "outputs": [
    {
     "name": "stdout",
     "output_type": "stream",
     "text": [
      "yahoo.com\n"
     ]
    }
   ],
   "source": [
    "\"\"\"32. Extract the domain name from an email address string.\"\"\"\n",
    "#Declaring a list of email address.\n",
    "\n",
    "email_domains=['@gmail.com', '@yahoo.com', '@outlook.com' ] # You can add more domains if applicable.\n",
    "\n",
    "# Example of email.\n",
    "user_email='Ram7808kumar@yahoo.com'\n",
    "for mail in email_domains:\n",
    "    #Checking string for valid email address.\n",
    "    if user_email.endswith(mail):\n",
    "        # Extracting username form an email address\n",
    "        domain_name = mail.lstrip('@')\n",
    "        print(domain_name)"
   ]
  },
  {
   "cell_type": "code",
   "execution_count": 50,
   "metadata": {},
   "outputs": [
    {
     "data": {
      "text/plain": [
       "'Replace multiple spaces in a string with a single space.'"
      ]
     },
     "execution_count": 50,
     "metadata": {},
     "output_type": "execute_result"
    }
   ],
   "source": [
    "\"\"\"33. Replace multiple spaces in a string with a single space.\"\"\"\n",
    "\n",
    "# Declaing a sting with multiple spaces.\n",
    "\n",
    "multi_space_str=\"Replace    multiple spaces   in a string     with       a    single space.\"\n",
    "multi_space_str=multi_space_str.split()\n",
    "\n",
    "# Removing all multiple spaces from the sting and printing modified string.\n",
    "single_space_str=' '.join(multi_space_str)\n",
    "print(single_space_str)"
   ]
  },
  {
   "cell_type": "code",
   "execution_count": 60,
   "metadata": {},
   "outputs": [
    {
     "name": "stdout",
     "output_type": "stream",
     "text": [
      "Valid URL\n"
     ]
    }
   ],
   "source": [
    "\"\"\"34. Check if a string is a valid URL.\"\"\"\n",
    "import requests\n",
    "\n",
    "url_string = \"https://www.google.com/\"\n",
    "\n",
    "try:\n",
    "    response = requests.get(url_string)\n",
    "\n",
    "    # Check if the response status code is 200 (OK).\n",
    "    if response.status_code == 200:\n",
    "        print(\"Valid URL\")\n",
    "    else:\n",
    "        print(\"URL not valid or failed to retrieve data\")\n",
    "\n",
    "except Exception:\n",
    "   \n",
    "    print(\"Invalid URL or request failed\")\n"
   ]
  },
  {
   "cell_type": "code",
   "execution_count": null,
   "metadata": {},
   "outputs": [],
   "source": [
    "\"\"\"35. Extract the protocol (http or https) from a URL string.\"\"\"\n",
    "\n"
   ]
  }
 ],
 "metadata": {
  "kernelspec": {
   "display_name": "Python 3",
   "language": "python",
   "name": "python3"
  },
  "language_info": {
   "codemirror_mode": {
    "name": "ipython",
    "version": 3
   },
   "file_extension": ".py",
   "mimetype": "text/x-python",
   "name": "python",
   "nbconvert_exporter": "python",
   "pygments_lexer": "ipython3",
   "version": "3.11.6"
  }
 },
 "nbformat": 4,
 "nbformat_minor": 2
}
