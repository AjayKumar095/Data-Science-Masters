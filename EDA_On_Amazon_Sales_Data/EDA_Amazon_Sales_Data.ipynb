{
 "cells": [
  {
   "cell_type": "markdown",
   "metadata": {},
   "source": [
    "<h1 style='color:green;'><center>Amazon Sales Data</center></h1>\n",
    "This dataset contains information on #K+ Amazon products, including their ratings, reviews, and other details."
   ]
  },
  {
   "cell_type": "markdown",
   "metadata": {},
   "source": [
    "# Features:\n",
    "\n",
    "\n",
    "- product_id: Unique identifier for each product\n",
    "\n",
    "- product_name: Name of the product\n",
    "\n",
    "- category: Category of the product\n",
    "\n",
    "- discounted_price: Discounted price of the product\n",
    "\n",
    "- actual_price: Actual price of the product\n",
    "\n",
    "- discount_percentage: Percentage of discount for the product\n",
    "\n",
    "- rating: Rating of the product (#-5)\n",
    "\n",
    "- rating_count: Number of people who voted for the Amazon rating\n",
    "\n",
    "- about_product: Description about the product\n",
    "\n",
    "- user_id: ID of the user who wrote the review\n",
    "\n",
    "- user_name: Name of the user who wrote the review\n",
    "\n",
    "- review_id: ID of the user review\n",
    "\n",
    "- review_title: Short review\n",
    "\n",
    "- review_content: Long review\n",
    "\n",
    "- img_link: Image link of the product\n",
    "\n",
    "- product_link: Qfficial website link of the product\n"
   ]
  },
  {
   "cell_type": "markdown",
   "metadata": {},
   "source": [
    "# Description of the Dataset:\n",
    "The dataset titled \"Spotify Data: Popular Hip-hop Artists and Tracks\" provides a curated collection of\n",
    "approximately 500 entries showcasing the vibrant realm of hip-hop music. These entries meticulously compile\n",
    "the most celebrated hip-hop tracks and artists, reflecting their significant influence on the genre's landscape.\n",
    "Each entry not only highlights the popularity and musical composition of the tracks but also underscores the\n",
    "creative prowess of the artists and their profound impact on global listeners.\n",
    "\n",
    "\n"
   ]
  },
  {
   "cell_type": "markdown",
   "metadata": {},
   "source": [
    "# Application in Data Science:\n",
    "\n",
    "This dataset serves as a valuable resource for various data science explorations. Analysts can delve into trend\n",
    "analysis to discern the popularity dynamics of hit hip-hop tracks over recent years. Additionally, the dataset\n",
    "enables network analysis to uncover collaborative patterns among top artists, shedding light on the genre's\n",
    "evolving collaborative landscape. Furthermore, it facilitates the development of predictive models aimed at\n",
    "forecasting track popularity based on diverse features, offering insights for artists, producers, and marketers."
   ]
  },
  {
   "cell_type": "markdown",
   "metadata": {},
   "source": [
    "<h1 style='color: green;'><center>EDA </center></h1>"
   ]
  },
  {
   "cell_type": "code",
   "execution_count": 3,
   "metadata": {},
   "outputs": [],
   "source": [
    "import pandas as pd\n",
    "import numpy as np \n",
    "import matplotlib.pyplot as plt \n",
    "import seaborn as sns\n",
    "\n",
    "import warnings\n",
    "warnings.filterwarnings('ignore')"
   ]
  },
  {
   "cell_type": "markdown",
   "metadata": {},
   "source": [
    "# Questions:"
   ]
  },
  {
   "cell_type": "markdown",
   "metadata": {},
   "source": [
    "<h3>1.Load the dataframe and ensure data quality by checking for missing values and duplicate rows.\n",
    " Handle missing values and remove duplicate rows if necessary.</h3>\n",
    "<p><b>Answer</b></p>"
   ]
  },
  {
   "cell_type": "code",
   "execution_count": null,
   "metadata": {},
   "outputs": [],
   "source": [
    "## Loading the data into dataframe and checking the data quality\n"
   ]
  }
 ],
 "metadata": {
  "kernelspec": {
   "display_name": "base",
   "language": "python",
   "name": "python3"
  },
  "language_info": {
   "codemirror_mode": {
    "name": "ipython",
    "version": 3
   },
   "file_extension": ".py",
   "mimetype": "text/x-python",
   "name": "python",
   "nbconvert_exporter": "python",
   "pygments_lexer": "ipython3",
   "version": "3.11.9"
  }
 },
 "nbformat": 4,
 "nbformat_minor": 2
}
