{
 "cells": [
  {
   "cell_type": "markdown",
   "metadata": {},
   "source": [
    "<h1><center><u>Basic Level:</u></center></h1>\n",
    "<p>1. Write a Python program to print the numbers from 1 to 10 using a `for` loop.<br>\n",
    "2. Create a program that calculates the sum of all numbers in a list using a `for` loop.<br>\n",
    "3. Write a program to print the characters of a string in reverse order using a `for` loop.<br>\n",
    "4. Develop a program that finds the factorial of a given number using a `for` loop.<br>\n",
    "5. Create a program to print the multiplication table of a given number using a `for` loop.<br>\n",
    "6. Write a program that counts the number of even and odd numbers in a list using a `for` loop.<br>\n",
    "7. Develop a program that prints the squares of numbers from 1 to 5 using a `for` loop.<br>\n",
    "8. Create a program to find the length of a string without using the `len()` function.<br>\n",
    "9. Write a program that calculates the average of a list of numbers using a `for` loop.<br>\n",
    "10. Develop a program that prints the first `n` Fibonacci numbers using a `for` loop.</p>\n"
   ]
  },
  {
   "cell_type": "code",
   "execution_count": 10,
   "metadata": {},
   "outputs": [
    {
     "name": "stdout",
     "output_type": "stream",
     "text": [
      "1 2 3 4 5 6 7 8 9 10 "
     ]
    }
   ],
   "source": [
    "\"\"\"1. Write a Python program to print the numbers from 1 to 10 using a `for` loop.\"\"\"\n",
    "\n",
    "for i in range(1,11):\n",
    "    print(i, end=\" \")"
   ]
  },
  {
   "cell_type": "code",
   "execution_count": 11,
   "metadata": {},
   "outputs": [
    {
     "name": "stdout",
     "output_type": "stream",
     "text": [
      "175\n"
     ]
    }
   ],
   "source": [
    "\"\"\"2. Create a program that calculates the sum of all numbers in a list using a `for` loop.\"\"\"\n",
    "#Declaring a list 'l' of 10 element\n",
    "l=[2,54,6,4,34,7,8,56,4]\n",
    "\n",
    "#calculating the sum of all number from the list by for loop.\n",
    "sum=0\n",
    "for i in l:\n",
    "    sum+=i\n",
    "\n",
    "#printing sum\n",
    "print(sum)   "
   ]
  },
  {
   "cell_type": "code",
   "execution_count": 20,
   "metadata": {},
   "outputs": [
    {
     "name": "stdout",
     "output_type": "stream",
     "text": [
      "sretcarahC desreveR"
     ]
    }
   ],
   "source": [
    "\"\"\"3. Write a program to print the characters of a string in reverse order using a `for` loop.\"\"\"\n",
    "\n",
    "#Declaring a string \n",
    "\n",
    "string='Reversed Characters'\n",
    "\n",
    "#Printing the characters in reverse order\n",
    "for i in string[::-1]:\n",
    "    print(i, end='')\n",
    "    "
   ]
  },
  {
   "cell_type": "code",
   "execution_count": 33,
   "metadata": {},
   "outputs": [
    {
     "name": "stdout",
     "output_type": "stream",
     "text": [
      "120\n"
     ]
    }
   ],
   "source": [
    "\"\"\"4. Develop a program that finds the factorial of a given number using a `for` loop.\"\"\"\n",
    "\n",
    "#Taking user input\n",
    "n=int(input(\"Enter any number\"))\n",
    "#Finding factorial by for loop\n",
    "fact=1\n",
    "for i in range(1,n+1):\n",
    "    fact=fact*i\n",
    "    n-=1\n",
    "print(fact)    "
   ]
  },
  {
   "cell_type": "code",
   "execution_count": 34,
   "metadata": {},
   "outputs": [
    {
     "name": "stdout",
     "output_type": "stream",
     "text": [
      "5 * 1 = 5\n",
      "5 * 2 = 10\n",
      "5 * 3 = 15\n",
      "5 * 4 = 20\n",
      "5 * 5 = 25\n",
      "5 * 6 = 30\n",
      "5 * 7 = 35\n",
      "5 * 8 = 40\n",
      "5 * 9 = 45\n",
      "5 * 10 = 50\n"
     ]
    }
   ],
   "source": [
    "\"\"\"5. Create a program to print the multiplication table of a given number using a `for` loop.\"\"\"\n",
    "\n",
    "#Taking user input \n",
    "x=int(input(\"Enter any number\"))\n",
    "\n",
    "#Print the multiplication table\n",
    "for i in range(1,11):\n",
    "    print(x,\"*\",i,\"=\", i*x)\n"
   ]
  },
  {
   "cell_type": "code",
   "execution_count": 37,
   "metadata": {},
   "outputs": [
    {
     "name": "stdout",
     "output_type": "stream",
     "text": [
      "Even numbers count: 9\n",
      "Odd numbers count: 7\n"
     ]
    }
   ],
   "source": [
    "\"\"\"6. Write a program that counts the number of even and odd numbers in a list using a `for` loop.\"\"\"\n",
    "\n",
    "#Declaring a list \n",
    "l=[1,2,34,33,56,77,23,1,2,8,5,7,90,4,4,8]\n",
    "\n",
    "#Counting the numbers of odd and even\n",
    "odd_cout=0\n",
    "even_cout=0\n",
    "for i in l:\n",
    "    if i%2==0:\n",
    "        even_cout+=1\n",
    "    elif i%2!=0:\n",
    "        odd_cout+=1   \n",
    "print(\"Even numbers count:\", even_cout)\n",
    "print(\"Odd numbers count:\", odd_cout)                 "
   ]
  },
  {
   "cell_type": "code",
   "execution_count": 38,
   "metadata": {},
   "outputs": [
    {
     "name": "stdout",
     "output_type": "stream",
     "text": [
      "Square of 1 is 1\n",
      "Square of 2 is 4\n",
      "Square of 3 is 9\n",
      "Square of 4 is 16\n",
      "Square of 5 is 25\n"
     ]
    }
   ],
   "source": [
    "\"\"\"7. Develop a program that prints the squares of numbers from 1 to 5 using a `for` loop.\"\"\"\n",
    "\n",
    "#Prints the squares of numbers from 1 to 5.\n",
    "for i in range(1,6):\n",
    "    print(f'Square of {i} is', i*i)"
   ]
  },
  {
   "cell_type": "code",
   "execution_count": 41,
   "metadata": {},
   "outputs": [
    {
     "name": "stdout",
     "output_type": "stream",
     "text": [
      "12\n"
     ]
    }
   ],
   "source": [
    "\"\"\"8. Create a program to find the length of a string without using the `len()` function.\"\"\"\n",
    "\n",
    "#Taking string as input from user\n",
    "string=input(\"Enter any string: \")\n",
    "\n",
    "#Find the length of a string without using the `len()` function.\n",
    "length=0\n",
    "for i in string:\n",
    "    #tested for Hello! World\n",
    "    length+=1\n",
    "print(length)"
   ]
  },
  {
   "cell_type": "code",
   "execution_count": 42,
   "metadata": {},
   "outputs": [
    {
     "name": "stdout",
     "output_type": "stream",
     "text": [
      "Average of given lsit: 28.1\n"
     ]
    }
   ],
   "source": [
    "\"\"\"9. Write a program that calculates the average of a list of numbers using a `for` loop.\"\"\"\n",
    "\n",
    "#Declaring a list of numbers\n",
    "l=[23,5,34,6,4,7,78,23,45,56]\n",
    "\n",
    "#Declaring two variable to store sum of numbers and count of numbers in given list\n",
    "sum=0\n",
    "count=0\n",
    "\n",
    "#Calculating average of a list of numbers.\n",
    "for i in l:\n",
    "    sum+=i\n",
    "    count+=1\n",
    "average=sum/count\n",
    "\n",
    "print('Average of given lsit:', average)\n",
    "            "
   ]
  },
  {
   "cell_type": "code",
   "execution_count": 57,
   "metadata": {},
   "outputs": [
    {
     "name": "stdout",
     "output_type": "stream",
     "text": [
      "[0, 1, 1, 2, 3, 5, 8, 13, 21, 34]\n"
     ]
    }
   ],
   "source": [
    "\"\"\"10. Develop a program that prints the first `n` Fibonacci numbers using a `for` loop.\"\"\"\n",
    "\n",
    "#Taking 'n' as arrgunment from user\n",
    "n=int(input(\"Enter the number of terms you want in fibonacci series: \"))\n",
    "\n",
    "#Delcaring first two terms of series\n",
    "fib_seri=[0,1]\n",
    "\n",
    "for _ in range(2, n):\n",
    "    next_seri=fib_seri[-1]+fib_seri[-2]\n",
    "    fib_seri.append(next_seri)\n",
    "\n",
    "print(fib_seri)\n"
   ]
  },
  {
   "cell_type": "markdown",
   "metadata": {},
   "source": [
    "<h1><center><u>Intermediate Level:</u></center></h1>\n",
    "<p>11. Write a program to check if a given list contains any duplicates using a `for` loop.<br>\n",
    "12. Create a program that prints the prime numbers in a given range using a `for` loop.<br>\n",
    "13. Develop a program that counts the number of vowels in a string using a `for` loop.<br>\n",
    "14. Write a program to find the maximum element in a 2D list using a nested `for` loop.<br>\n",
    "15. Create a program that removes all occurrences of a specific element from a list using a `for` loop.<br>\n",
    "16. Develop a program that generates a multiplication table for numbers from 1 to 5 using a nested `for` loop.<br>\n",
    "17. Write a program that converts a list of Fahrenheit temperatures to Celsius using a `for` loop.<br>\n",
    "18. Create a program to print the common elements from two lists using a `for` loop.<br>\n",
    "19. Develop a program that prints the pattern of right-angled triangles using a `for` loop. Use ‘*’ to draw the\n",
    "pattern.<br>\n",
    "20. Write a program to find the greatest common divisor (GCD) of two numbers using a `for` loop.</P>"
   ]
  },
  {
   "cell_type": "code",
   "execution_count": 104,
   "metadata": {},
   "outputs": [
    {
     "name": "stdout",
     "output_type": "stream",
     "text": [
      "Is my list contain dupicate elements: Yes\n",
      "Is my list contain dupicate elements: No\n"
     ]
    }
   ],
   "source": [
    "\"\"\"11. Write a program to check if a given list contains any duplicates using a `for` loop.\"\"\"\n",
    "\n",
    "#Checking duplicate numbers.\n",
    "def dupli_check(elements):\n",
    "    uniq_num=set()\n",
    "    for i in elements:\n",
    "       if i in uniq_num:\n",
    "           return \"Yes\"\n",
    "       uniq_num.add(i)\n",
    "        \n",
    "    return \"No\"  \n",
    "#Declaring two list one with duplicates and second one without duplicates.\n",
    "dupli_num=[1,4,34,34,5,67,56]\n",
    "non_dupli_num=[1,2,3,4,5,6,7]\n",
    "\n",
    "#Passing list to function to check duplicates\n",
    "send_ele1=dupli_check(dupli_num)\n",
    "send_ele2=dupli_check(non_dupli_num)\n",
    "\n",
    "#Printing the result as true and false\n",
    "print(\"Is my list contain dupicate elements:\",send_ele1)\n",
    "print(\"Is my list contain dupicate elements:\",send_ele2)\n",
    "\n",
    " "
   ]
  },
  {
   "cell_type": "code",
   "execution_count": 1,
   "metadata": {},
   "outputs": [
    {
     "name": "stdout",
     "output_type": "stream",
     "text": [
      "Prime numbers between 0 and 3:\n",
      "2 3 \n"
     ]
    }
   ],
   "source": [
    "\"\"\"12. Create a program that prints the prime numbers in a given range using a `for` loop.\"\"\"\n",
    "#Function for finding prime numbers\n",
    "def find_prime(number):\n",
    "    if number<2:\n",
    "        return False\n",
    "    for i in range(2, int(number**0.5)+1):\n",
    "        if number%i==0:\n",
    "            return False\n",
    "    return True \n",
    "#Function to prints prime numbers  \n",
    "def print_primes(start, end):\n",
    "    print(f\"Prime numbers between {start} and {end}:\")\n",
    "\n",
    "    for num in range(start, end + 1):\n",
    "        if find_prime(num):\n",
    "            print(num, end=' ')\n",
    "\n",
    "    print()   \n",
    "\n",
    "print_primes(0, 30)          "
   ]
  },
  {
   "cell_type": "code",
   "execution_count": 123,
   "metadata": {},
   "outputs": [
    {
     "name": "stdout",
     "output_type": "stream",
     "text": [
      "2\n"
     ]
    }
   ],
   "source": [
    "\"\"\"13. Develop a program that counts the number of vowels in a string using a `for` loop.\"\"\"\n",
    "\n",
    "#Function to count vowels in a string.\n",
    "def count_vowels(string, vow):\n",
    "    count=0\n",
    "    for char in string:\n",
    "        if char in vow:\n",
    "            count+=1\n",
    "    return count\n",
    "\n",
    "#Taking a string as input from user\n",
    "user_input=input(\"Enter any string:\")\n",
    "\n",
    "#Defining vowels in a string\n",
    "vowels='aeiouAEIOU'\n",
    "\n",
    "#passing values to the function\n",
    "vowels_count=count_vowels(user_input, vowels)\n",
    "\n",
    "#Printting result\n",
    "print(vowels_count)"
   ]
  },
  {
   "cell_type": "code",
   "execution_count": 126,
   "metadata": {},
   "outputs": [
    {
     "name": "stdout",
     "output_type": "stream",
     "text": [
      "The maximum element from the 2D list is 625.\n"
     ]
    }
   ],
   "source": [
    "\"\"\"14. Write a program to find the maximum element in a 2D list using a nested `for` loop.\"\"\"\n",
    "\n",
    "#Function to find maximum element in 2D list.\n",
    "def find_max(elements):\n",
    "    max_element=[]\n",
    "    for i in elements:\n",
    "        if type(i)==list:\n",
    "            x=max(i)\n",
    "            max_element.append(x)\n",
    "    Max=max(max_element)\n",
    "    return Max\n",
    "    \n",
    "\n",
    "#Declaring a 2D list \n",
    "_2D_list=[[2,3,45,7,5,1], [8,6,46,65,3,2], [78,34,21,2,0,5], [99, 234, 45, 30,0,3], [343,45,103,4,625]]\n",
    "\n",
    "#Passing 2D list to function.\n",
    "maximum=find_max(_2D_list)\n",
    "\n",
    "#Printing maximum elements from the 2D list.\n",
    "print(f\"The maximum element from the 2D list is {maximum}.\")"
   ]
  },
  {
   "cell_type": "code",
   "execution_count": 120,
   "metadata": {},
   "outputs": [
    {
     "name": "stdout",
     "output_type": "stream",
     "text": [
      "[1, 4, 56, 'sonu', 'monu', 5, 6, 5.65, 45.6, (4+9j), (5+3j)]\n"
     ]
    }
   ],
   "source": [
    "\"\"\"15. Create a program that removes all occurrences of a specific element from a list using a `for` loop.\"\"\"\n",
    "\n",
    "#Function that removes all occurrences of a specific element from a list.\n",
    "def remove_occurrences(elements, spc_ele):\n",
    "    for i in elements:\n",
    "        if i == spc_ele:\n",
    "            elements.remove(i)\n",
    "    return elements\n",
    "#Declaring a list having multiple elements with a specific element.\n",
    "element_list=[1,'#',4,56,'sonu','monu','#',5,6, '#', 5.65, 45.6, 4+9j, '#', 5+3j, '#']\n",
    "specific_element='#'\n",
    "\n",
    "#Passing elements list and specific element to remove from the list\n",
    "Modified_list=remove_occurrences(element_list, specific_element)\n",
    "\n",
    "#Printing the modified list\n",
    "print(Modified_list)"
   ]
  },
  {
   "cell_type": "code",
   "execution_count": 118,
   "metadata": {},
   "outputs": [
    {
     "name": "stdout",
     "output_type": "stream",
     "text": [
      "Multiplication table for 1:\n",
      "1 * 1 = 1\n",
      "1 * 2 = 2\n",
      "1 * 3 = 3\n",
      "1 * 4 = 4\n",
      "1 * 5 = 5\n",
      "1 * 6 = 6\n",
      "1 * 7 = 7\n",
      "1 * 8 = 8\n",
      "1 * 9 = 9\n",
      "1 * 10 = 10\n",
      "\n",
      "\n",
      "Multiplication table for 2:\n",
      "2 * 1 = 2\n",
      "2 * 2 = 4\n",
      "2 * 3 = 6\n",
      "2 * 4 = 8\n",
      "2 * 5 = 10\n",
      "2 * 6 = 12\n",
      "2 * 7 = 14\n",
      "2 * 8 = 16\n",
      "2 * 9 = 18\n",
      "2 * 10 = 20\n",
      "\n",
      "\n",
      "Multiplication table for 3:\n",
      "3 * 1 = 3\n",
      "3 * 2 = 6\n",
      "3 * 3 = 9\n",
      "3 * 4 = 12\n",
      "3 * 5 = 15\n",
      "3 * 6 = 18\n",
      "3 * 7 = 21\n",
      "3 * 8 = 24\n",
      "3 * 9 = 27\n",
      "3 * 10 = 30\n",
      "\n",
      "\n",
      "Multiplication table for 4:\n",
      "4 * 1 = 4\n",
      "4 * 2 = 8\n",
      "4 * 3 = 12\n",
      "4 * 4 = 16\n",
      "4 * 5 = 20\n",
      "4 * 6 = 24\n",
      "4 * 7 = 28\n",
      "4 * 8 = 32\n",
      "4 * 9 = 36\n",
      "4 * 10 = 40\n",
      "\n",
      "\n",
      "Multiplication table for 5:\n",
      "5 * 1 = 5\n",
      "5 * 2 = 10\n",
      "5 * 3 = 15\n",
      "5 * 4 = 20\n",
      "5 * 5 = 25\n",
      "5 * 6 = 30\n",
      "5 * 7 = 35\n",
      "5 * 8 = 40\n",
      "5 * 9 = 45\n",
      "5 * 10 = 50\n",
      "\n",
      "\n"
     ]
    }
   ],
   "source": [
    "\"\"\"16. Develop a program that generates a multiplication table for numbers from 1 to 5 using a nested `for` loop.\"\"\"\n",
    "#Generates a multiplication table for numbers from 1 to 5.\n",
    "for i in range(1,6):\n",
    "    print(f\"Multiplication table for {i}:\")\n",
    "    for j in range(1,11):\n",
    "        print(i,\"*\",j,\"=\", j*i,)\n",
    "         \n",
    "    print('\\n')   \n",
    "      \n"
   ]
  },
  {
   "cell_type": "code",
   "execution_count": 91,
   "metadata": {},
   "outputs": [
    {
     "name": "stdout",
     "output_type": "stream",
     "text": [
      "Temperature in celsius is ['39.167', '37.389', '35.833', '36.167', '40.111', '37.056', '35.444', '38.056'] respectivly\n"
     ]
    }
   ],
   "source": [
    "\"\"\"17. Write a program that converts a list of Fahrenheit temperatures to Celsius using a `for` loop.\"\"\"\n",
    "\n",
    "#Declaring a list containing temperatures as fahrenheit.\n",
    "Fahren_tem=[102.5,99.3,96.5,97.1,104.2,98.7,95.8,100.5]\n",
    "\n",
    "#Converting a list of Fahrenheit temperatures to Celsius.\n",
    "celsius_tem=[]\n",
    "for i in Fahren_tem:\n",
    "    celsius=5/9*(i-32)\n",
    "    celsius=\"{:.3f}\".format(celsius)\n",
    "    celsius_tem.append(celsius)\n",
    "print(f\"Temperature in celsius is {celsius_tem} respectively as given Fahrenheit temperatures\")    "
   ]
  },
  {
   "cell_type": "code",
   "execution_count": 86,
   "metadata": {},
   "outputs": [
    {
     "name": "stdout",
     "output_type": "stream",
     "text": [
      "List of common elements: [4, 'a', 5, 'g', 'r', 5.6]\n"
     ]
    }
   ],
   "source": [
    "\"\"\"18. Create a program to print the common elements from two lists using a `for` loop.\"\"\"\n",
    "\n",
    "#Delcaring two list l1 and l2 with some common values or elements.\n",
    "l1=[1,4,6,'a',5,'f','g',4.5,'r',5.6]\n",
    "l2=[4,'a','s','g', 5, 5.6, 'r','v',9]\n",
    "\n",
    "#By using List Comprehension, creating a 3rd list l3 that contain only common elements of l1 and l2.\n",
    "\n",
    "l3=[i for i in l1 if i in l2]\n",
    "\n",
    "#Printing reslut\n",
    "print(\"List of common elements:\", l3)"
   ]
  },
  {
   "cell_type": "code",
   "execution_count": 84,
   "metadata": {},
   "outputs": [
    {
     "name": "stdout",
     "output_type": "stream",
     "text": [
      "*\n",
      "\n",
      "**\n",
      "\n",
      "***\n",
      "\n",
      "****\n",
      "\n",
      "*****\n",
      "\n"
     ]
    }
   ],
   "source": [
    "\"\"\"19. Develop a program that prints the pattern of right-angled triangles using a `for` loop. Use ‘*’ to draw the\n",
    "pattern\"\"\"  \n",
    "\n",
    "#Printing right-angled triangle by for loop\n",
    "for i in range(1,6):\n",
    "    for j in range(i):\n",
    "        print('*', end='')\n",
    "    print('\\n')\n",
    "   "
   ]
  },
  {
   "cell_type": "code",
   "execution_count": 131,
   "metadata": {},
   "outputs": [
    {
     "name": "stdout",
     "output_type": "stream",
     "text": [
      "The GCD of given number is 6.\n"
     ]
    }
   ],
   "source": [
    "\"\"\"20. Write a program to find the greatest common divisor (GCD) of two numbers using a `for` loop.\"\"\"\n",
    "\n",
    "#Function to find the greatest common divisor (GCD) of two numbers.\n",
    "def find_GCD(x,y):\n",
    "    gcd=0\n",
    "    if x>y:\n",
    "        for i in range(1,y+1):\n",
    "            if (x%i==0) and (y%i==0):\n",
    "                gcd=i\n",
    "        return gcd   \n",
    "    else:\n",
    "        for i in range(1,x+1):\n",
    "            if (x%i==0) and (y%i==0):\n",
    "                gcd=i\n",
    "        return gcd \n",
    "    \n",
    "\n",
    "#Taking input from the user for values of x and y.\n",
    "a=int(input(\"Enter first number:\")) \n",
    "b=int(input(\"Enter second number:\"))\n",
    "\n",
    "#Passing values to the function\n",
    "# a=12, b=30\n",
    "GCD=find_GCD(a,b)\n",
    "\n",
    "#Printing result\n",
    "print(f\"The GCD of given number is {GCD}.\")"
   ]
  },
  {
   "cell_type": "markdown",
   "metadata": {},
   "source": [
    "<h1><center><u>Advanced Level:</u></center></h1>\n",
    "<p>21. Create a program that calculates the sum of the digits of numbers in a list using a list comprehension.<br>\n",
    "22. Write a program to find the prime factors of a given number using a `for` loop and list comprehension.<br>\n",
    "23. Develop a program that extracts unique elements from a list and stores them in a new list using a list\n",
    "comprehension.<br>\n",
    "24. Create a program that generates a list of all palindromic numbers up to a specified limit using a list\n",
    "comprehension.<br>\n",
    "25. Write a program to flatten a nested list using list comprehension.<br>\n",
    "26. Develop a program that computes the sum of even and odd numbers in a list separately using list\n",
    "comprehension.<br>\n",
    "27. Create a program that generates a list of squares of odd numbers between 1 and 10 using list\n",
    "comprehension.<br>\n",
    "28. Write a program that combines two lists into a dictionary using list comprehension.<br>\n",
    "29. Develop a program that extracts the vowels from a string and stores them in a list using list comprehension.<br>\n",
    "30. Create a program that removes all non-numeric characters from a list of strings using list comprehension.</p>"
   ]
  },
  {
   "cell_type": "code",
   "execution_count": 2,
   "metadata": {},
   "outputs": [
    {
     "name": "stdout",
     "output_type": "stream",
     "text": [
      "Sum of numbers of digits: [5, 9, 10, 16, 17]\n"
     ]
    }
   ],
   "source": [
    "\"\"\"21. Create a program that calculates the sum of the digits of numbers in a list using a list comprehension.\"\"\"\n",
    "\n",
    "#Declaring a list of numbers.\n",
    "Numbers_list = [23, 45,46,673,4544]\n",
    "\n",
    "#Type casting from int to string for every element in Numbers_list\n",
    "Numbers_string=[str(i) for i in Numbers_list]\n",
    "\n",
    "\n",
    "# Convert each character to an integer and calculate the sum.\n",
    "sum_of_digits = [sum(int(digit) for digit in number) for number in Numbers_string]\n",
    "\n",
    "#Printing the result.\n",
    "print('Sum of numbers of digits:', sum_of_digits)"
   ]
  },
  {
   "cell_type": "code",
   "execution_count": 5,
   "metadata": {},
   "outputs": [
    {
     "name": "stdout",
     "output_type": "stream",
     "text": [
      "Prime factors of 14: [2, 7]\n"
     ]
    }
   ],
   "source": [
    "\"\"\"22. Write a program to find the prime factors of a given number using a `for` loop and list comprehension.\"\"\"\n",
    "\n",
    "# Function to find prime factors of a number\n",
    "def prime_factors(n):\n",
    "    factors = [factor for factor in range(2, n + 1) if n % factor == 0 and is_prime(factor)]\n",
    "    return factors\n",
    "\n",
    "# Function to check if a number is prime\n",
    "def is_prime(num):\n",
    "    if num < 2:\n",
    "        return False\n",
    "    for i in range(2, int(num**0.5) + 1):\n",
    "        if num % i == 0:\n",
    "            return False\n",
    "    return True\n",
    "\n",
    "# Example: Find prime factors of a number (e.g., 24)\n",
    "number_to_factorize = int(input(\"Enter a number to check prime factor:\"))\n",
    "result = prime_factors(number_to_factorize)\n",
    "\n",
    "# Print the result\n",
    "print(f\"Prime factors of {number_to_factorize}: {result}\")\n"
   ]
  },
  {
   "cell_type": "code",
   "execution_count": 7,
   "metadata": {},
   "outputs": [
    {
     "name": "stdout",
     "output_type": "stream",
     "text": [
      "List with unique elements:  [1, 2, 3, 4, 5, 6, 7]\n"
     ]
    }
   ],
   "source": [
    "\"\"\"23. Develop a program that extracts unique elements from a list and stores them in a new list using a list\n",
    "comprehension.\"\"\"\n",
    "\n",
    "#Declaring a list with duplicates elements\n",
    "l=[1,1,1,2,2,3,3,4,5,5,5,6,6,7,7]\n",
    "\n",
    "#Extracting unique elements from the list.\n",
    "unique_result=list(set(l))\n",
    "\n",
    "#printing result\n",
    "print('List with unique elements: ', unique_result)\n"
   ]
  },
  {
   "cell_type": "code",
   "execution_count": 35,
   "metadata": {},
   "outputs": [
    {
     "name": "stdout",
     "output_type": "stream",
     "text": [
      "Palindromic Numbers:  [11, 22, 33, 44, 55, 66, 77, 88, 99, 101, 111, 121, 131, 141, 151, 161, 171, 181, 191, 202, 212, 222, 232, 242, 252, 262, 272, 282, 292, 303, 313, 323, 333, 343, 353, 363, 373, 383, 393, 404, 414, 424, 434, 444, 454, 464, 474, 484, 494]"
     ]
    }
   ],
   "source": [
    "\"\"\"24. Create a program that generates a list of all palindromic numbers up to a specified limit using a list\n",
    "comprehension.\"\"\"\n",
    "\n",
    "#Function to check the number is palindromic or not.\n",
    "def find_palindrom(n):\n",
    "    N=str(n)\n",
    "    if N==N[::-1]:\n",
    "        N=int(n)\n",
    "        return n\n",
    "\n",
    "#Collecting all palindromic numbers.\n",
    "All_palindromic=[find_palindrom(i) for i in range(10,500)]\n",
    "\n",
    "#Filtring none type value from the list.\n",
    "Result=[i for i in All_palindromic if i is not None]  \n",
    "\n",
    "#Printing result.\n",
    "print('Palindromic Numbers: ',Result, end='')"
   ]
  },
  {
   "cell_type": "code",
   "execution_count": 36,
   "metadata": {},
   "outputs": [
    {
     "name": "stdout",
     "output_type": "stream",
     "text": [
      "Flattened List:  [1, 2, 3, 4, 5, 6, 7, 8, 9]\n"
     ]
    }
   ],
   "source": [
    "\"\"\"25. Write a program to flatten a nested list using list comprehension.\"\"\"\n",
    "\n",
    "#Declaring a nested list.\n",
    "nested_list = [[1, 2, 3], [4, 5, 6], [7, 8, 9]]\n",
    "\n",
    "#Flatten the list into single result (program applicable on single nested list)\n",
    "flattened_list = [element for sublist in nested_list for element in sublist]\n",
    "\n",
    "#Printing result\n",
    "print('Flattened List: ',flattened_list)"
   ]
  },
  {
   "cell_type": "code",
   "execution_count": 13,
   "metadata": {},
   "outputs": [
    {
     "name": "stdout",
     "output_type": "stream",
     "text": [
      "Sum of even number within a list:  [240]\n",
      "Sum of odd number within a list:  [225]\n",
      "Sum of even and odd in same list:  [[240], [225]]\n"
     ]
    }
   ],
   "source": [
    "\"\"\"26. Develop a program that computes the sum of even and odd numbers in a list separately using list\n",
    "comprehension.\"\"\"\n",
    "\n",
    "#defining functions for this type of calculation.\n",
    "def cal_sum_even(even):\n",
    "    return [sum(i for i in even if i%2==0)]\n",
    "\n",
    "def cal_sum_odd(odd):\n",
    "    return [sum(i for i in odd if i%2!=0)]\n",
    "\n",
    "#Declaring a list having odds and even numbers in range of 30.\n",
    "l=list(range(1,31))\n",
    "\n",
    "#Passing list 'l' to the function for calculating sum of even and odd numbers.\n",
    "even_sum=cal_sum_even(l)\n",
    "odd_sum=cal_sum_odd(l)\n",
    "\n",
    "#printing sum\n",
    "print(\"Sum of even number within a list: \", even_sum)\n",
    "print(\"Sum of odd number within a list: \", odd_sum)\n",
    "\n",
    "#Alternative, you can do the same in same list\n",
    "\n",
    "sum=[[sum(i for i in l if i%2==0)], [sum(i for i in l if i%2!=0)]]\n",
    "print(\"Sum of even and odd in same list: \",sum)"
   ]
  },
  {
   "cell_type": "code",
   "execution_count": 39,
   "metadata": {},
   "outputs": [
    {
     "name": "stdout",
     "output_type": "stream",
     "text": [
      "By List Comprehension: Odd Numbers (from 1 t0 10) [1, 9, 25, 49, 81]\n"
     ]
    }
   ],
   "source": [
    "\"\"\"27. Create a program that generates a list of squares of odd numbers between 1 and 10 using list\n",
    "comprehension.\"\"\"\n",
    "\n",
    "#Odd number list from 1 to 10.\n",
    "odd_num=[i**2 for i in range(1,10)  if i%2!=0]\n",
    "\n",
    "#Priniting reslut\n",
    "print(\"By List Comprehension: Odd Numbers (from 1 t0 10)\", odd_num)\n",
    "\n",
    "    \n"
   ]
  },
  {
   "cell_type": "code",
   "execution_count": 86,
   "metadata": {},
   "outputs": [
    {
     "name": "stdout",
     "output_type": "stream",
     "text": [
      "[{'key1': 1, 'key2': 2, 'key3': 3, 'key4': 4, 'key5': 5}]\n"
     ]
    }
   ],
   "source": [
    "\"\"\"28. Write a program that combines two lists into a dictionary using list comprehension.\"\"\"\n",
    "\n",
    "#Declaring two list l1 and l2 with keys and value for dist()\n",
    "l1=[1,2,3,4,5]\n",
    "l2=['key1','key2', 'key3','key4','key5']\n",
    "\n",
    "#Combining two list into dictionary.\n",
    "Dictionary=[dict(zip(l2,l1))]\n",
    "\n",
    "#Printing result\n",
    "print(Dictionary)\n"
   ]
  },
  {
   "cell_type": "code",
   "execution_count": 32,
   "metadata": {},
   "outputs": [
    {
     "name": "stdout",
     "output_type": "stream",
     "text": [
      "Following string have these number of vowels: ['A', 'a', 'e', 'e', 'e']\n"
     ]
    }
   ],
   "source": [
    "\"\"\"29. Develop a program that extracts the vowels from a string and stores them in a list using list comprehension.\"\"\"\n",
    "\n",
    "#Declaring string\n",
    "string=\"Advance Level\"\n",
    "\n",
    "#Declaring vowels\n",
    "vowels=\"aeiouAEIOU\"\n",
    "\n",
    "#Extracting vowels from the given string and storing it into sorted_list\n",
    "sorted_list=[i for i in string if i in vowels]\n",
    "\n",
    "#Printing sorted list\n",
    "print(\"Following string have these number of vowels:\",sorted_list)"
   ]
  },
  {
   "cell_type": "code",
   "execution_count": 47,
   "metadata": {},
   "outputs": [
    {
     "name": "stdout",
     "output_type": "stream",
     "text": [
      "['123', '67', '34', '45', '78', '21']\n"
     ]
    }
   ],
   "source": [
    "\"\"\"30. Create a program that removes all non-numeric characters from a list of strings using list comprehension.\"\"\"\n",
    "\n",
    "#Declaing a list with non-numeric characters\n",
    "non_numberic=['hello123', '6&7a', '3>4py', 'rt$45', '@gt78', 'sd21' ]\n",
    "\n",
    "#Removing non-numberic character from the give string\n",
    "only_numeric=[''.join(i for i in string if i.isdigit()) for string in non_numberic]\n",
    "\n",
    "#printing resulr\n",
    "print(only_numeric)"
   ]
  },
  {
   "cell_type": "markdown",
   "metadata": {},
   "source": [
    "<h1><center><u>Challenge Level:</u></center></h1>\n",
    "<p>31. Write a program to generate a list of prime numbers using the Sieve of Eratosthenes algorithm and list\n",
    "comprehension.<br>\n",
    "32. Create a program that generates a list of all Pythagorean triplets up to a specified limit using list\n",
    "comprehension.<br>\n",
    "33. Develop a program that generates a list of all possible combinations of two lists using list comprehension.<br>\n",
    "34. Write a program that calculates the mean, median, and mode of a list of numbers using list\n",
    "comprehension.<br>\n",
    "35. Create a program that generates Pascal's triangle up to a specified number of rows using list\n",
    "comprehension.<br>\n",
    "36. Develop a program that calculates the sum of the digits of a factorial of numbers from 1 to 5 using list\n",
    "comprehension.<br>\n",
    "37. Write a program that finds the longest word in a sentence using list comprehension.<br>\n",
    "38. Create a program that filters a list of strings to include only those with more than three vowels using list\n",
    "comprehension.<br>\n",
    "39. Develop a program that calculates the sum of the digits of numbers from 1 to 1000 using list\n",
    "comprehension.<br>\n",
    "40. Write a program that generates a list of prime palindromic numbers using list comprehension.</p>"
   ]
  },
  {
   "cell_type": "code",
   "execution_count": 83,
   "metadata": {},
   "outputs": [
    {
     "name": "stdout",
     "output_type": "stream",
     "text": [
      "List of prime number:  [2, 3, 5, 7, 11, 13, 17, 19, 23, 29]\n"
     ]
    }
   ],
   "source": [
    "\"\"\"31. Write a program to generate a list of prime numbers using the Sieve of Eratosthenes algorithm and list\n",
    "comprehension.\"\"\"\n",
    "\n",
    "#Function for finding prime numbers using the Sieve of Eratosthenes algorithm.\n",
    "def find_prime(number):\n",
    "    if number<2:\n",
    "       return None\n",
    "    \n",
    "    for i in range(2, int(number**0.5)+1):\n",
    "        if number%i==0:\n",
    "            return None\n",
    "    return number\n",
    "\n",
    "#Collecting all value returning by function\n",
    "Result=[find_prime(i) for i in range(2,30)]\n",
    "\n",
    "#Removing nonetype value from the list\n",
    "prime_num_list=[i for i in Result if i is not None]\n",
    "\n",
    "#Printing list of prime numbers list with a given range\n",
    "print(\"List of prime number: \", prime_num_list)\n",
    "\n"
   ]
  },
  {
   "cell_type": "code",
   "execution_count": 9,
   "metadata": {},
   "outputs": [
    {
     "name": "stdout",
     "output_type": "stream",
     "text": [
      "List of Pythagorean triplets:  [(3, 4, 5), (5, 12, 13), (6, 8, 10), (8, 15, 17), (9, 12, 15), (12, 16, 20)]\n"
     ]
    }
   ],
   "source": [
    "\"\"\"32. Create a program that generates a list of all Pythagorean triplets up to a specified limit using list\n",
    "comprehension.\"\"\"\n",
    "\n",
    "value=int(input(\"Enter a specified limit:\"))\n",
    "\n",
    "# Using list comprehension to generate Pythagorean triplets\n",
    "pythagorean_triplets = [(a, b, c) for a in range(1, value + 1) \n",
    "                                    for b in range(a, value + 1) \n",
    "                                    for c in range(b, value + 1) \n",
    "                                    if a**2 + b**2 == c**2]\n",
    "\n",
    "# Print the list of Pythagorean triplets\n",
    "print(\"List of Pythagorean triplets: \",pythagorean_triplets)"
   ]
  },
  {
   "cell_type": "code",
   "execution_count": 8,
   "metadata": {},
   "outputs": [
    {
     "name": "stdout",
     "output_type": "stream",
     "text": [
      "Possible combination: [(1, 'a'), (1, 'b'), (1, 'c'), (1, 'd'), (1, 'e'), (2, 'a'), (2, 'b'), (2, 'c'), (2, 'd'), (2, 'e'), (3, 'a'), (3, 'b'), (3, 'c'), (3, 'd'), (3, 'e'), (7, 'a'), (7, 'b'), (7, 'c'), (7, 'd'), (7, 'e'), (5, 'a'), (5, 'b'), (5, 'c'), (5, 'd'), (5, 'e'), (9, 'a'), (9, 'b'), (9, 'c'), (9, 'd'), (9, 'e')]\n"
     ]
    }
   ],
   "source": [
    "\"\"\"33. Develop a program that generates a list of all possible combinations of two lists using list comprehension.\"\"\"\n",
    "\n",
    "#Declaring two lists to combine.\n",
    "list1 = [1, 2, 3,7,5,9]\n",
    "list2 = ['a', 'b', 'c','d','e']\n",
    "\n",
    "#Finding all possible combinations using nested loops.\n",
    "combinations = [(x, y) for x in list1 for y in list2]\n",
    "\n",
    "#Printig result\n",
    "print(\"Possible combination:\",combinations)\n"
   ]
  },
  {
   "cell_type": "code",
   "execution_count": 15,
   "metadata": {},
   "outputs": [
    {
     "name": "stdout",
     "output_type": "stream",
     "text": [
      "List of Numbers: [1, 2, 3, 4, 5, 5, 6, 6, 7, 8, 8, 8, 9]\n",
      "Mean: 5.538461538461538\n",
      "Median: 6\n",
      "Mode: 8\n"
     ]
    }
   ],
   "source": [
    "\"\"\"34. Write a program that calculates the mean, median, and mode of a list of numbers using list\n",
    "comprehension.\"\"\"\n",
    "\n",
    "#Importing math librarys.\n",
    "from statistics import mean, median, mode\n",
    "\n",
    "#Function to calculate mean.\n",
    "def calculate_mean(numbers):\n",
    "    return mean(numbers)\n",
    "\n",
    "#Function to calculate median.\n",
    "def calculate_median(numbers):\n",
    "    return median(numbers)\n",
    "\n",
    "#Function to calculate mode.\n",
    "def calculate_mode(numbers):\n",
    "    return mode(numbers)\n",
    "\n",
    "# Example list of numbers\n",
    "numbers = [1, 2, 3, 4, 5, 5, 6, 6, 7, 8, 8, 8, 9]\n",
    "\n",
    "# Calculate mean, median, and mode using list comprehension\n",
    "mean_result = calculate_mean(numbers)\n",
    "median_result = calculate_median(numbers)\n",
    "mode_result = calculate_mode(numbers)\n",
    "\n",
    "# Print the results\n",
    "print(f\"List of Numbers: {numbers}\")\n",
    "print(f\"Mean: {mean_result}\")\n",
    "print(f\"Median: {median_result}\")\n",
    "print(f\"Mode: {mode_result}\")\n",
    "\n",
    "        "
   ]
  },
  {
   "cell_type": "code",
   "execution_count": 13,
   "metadata": {},
   "outputs": [
    {
     "name": "stdout",
     "output_type": "stream",
     "text": [
      "       1       \n",
      "      1 1      \n",
      "     1 2 1     \n",
      "    1 3 3 1    \n",
      "   1 4 6 4 1   \n"
     ]
    }
   ],
   "source": [
    "\"\"\"35. Create a program that generates Pascal's triangle up to a specified number of rows using list\n",
    "comprehension.\"\"\"\n",
    "\n",
    "def generate_pascals_triangle(rows):\n",
    "    triangle = [[1] * (n + 1) for n in range(rows)]\n",
    "    \n",
    "    for i in range(2, rows):\n",
    "        for j in range(1, i):\n",
    "            triangle[i][j] = triangle[i - 1][j - 1] + triangle[i - 1][j]\n",
    "    \n",
    "    return triangle\n",
    "\n",
    "def print_pascals_triangle(triangle):\n",
    "   for row in triangle:\n",
    "        print(' '.join(map(str, row)).center(len(triangle[-1]) * 3))\n",
    "\n",
    "# Specify the number of rows for Pascal's Triangle\n",
    "num_rows = int(input(\"Enter number of rows:\"))\n",
    "\n",
    "# Generate Pascal's Triangle using list comprehension\n",
    "pascals_triangle = generate_pascals_triangle(num_rows)\n",
    "\n",
    "# Print Pascal's Triangle\n",
    "print_pascals_triangle(pascals_triangle)\n"
   ]
  },
  {
   "cell_type": "code",
   "execution_count": 46,
   "metadata": {},
   "outputs": [
    {
     "name": "stdout",
     "output_type": "stream",
     "text": [
      "Sum of digits of factorial of number: [1, 2, 6, 6, 3]\n"
     ]
    }
   ],
   "source": [
    "\"\"\"36. Develop a program that calculates the sum of the digits of a factorial of numbers from 1 to 5 using list\n",
    "comprehension.\"\"\"\n",
    "\n",
    "# Function to calculate the factorial of a number\n",
    "def factorial(n):\n",
    "    if n == 0 or n == 1:\n",
    "        return 1\n",
    "    else:\n",
    "        return n * factorial(n - 1)\n",
    "\n",
    "# Calculate the sum of digits for each factorial using list comprehension\n",
    "sum_of_digits_list = [sum(int(digit) for digit in str(factorial(i))) for i in range(1, 6)]\n",
    "\n",
    "# Print the results\n",
    "print('Sum of digits of factorial of number:', sum_of_digits_list)"
   ]
  },
  {
   "cell_type": "code",
   "execution_count": 124,
   "metadata": {},
   "outputs": [
    {
     "name": "stdout",
     "output_type": "stream",
     "text": [
      "The longest word in the sentence is \"comprehension\" and its length is 13.\n"
     ]
    }
   ],
   "source": [
    "\"\"\"37. Write a program that finds the longest word in a sentence using list comprehension.\"\"\"\n",
    "\n",
    "#Declaring a string to check for.\n",
    "string='finds the longest word in a sentence using list comprehension'\n",
    "\n",
    "#Spliting string in list of word.\n",
    "words=string.split()\n",
    "\n",
    "#Finding longest word in  given sentence\n",
    "length = max(len(i) for i in words)\n",
    "\n",
    "#Receving result from function.\n",
    "result=[i for i in words if len(i)==length]\n",
    "\n",
    "\n",
    "#Extracting longest word from the sentence\n",
    "word=result.pop()\n",
    "\n",
    "\n",
    "#Printing end result\n",
    "print(f'The longest word in the sentence is \"{word}\" and its length is {length}.')"
   ]
  },
  {
   "cell_type": "code",
   "execution_count": 5,
   "metadata": {},
   "outputs": [
    {
     "name": "stdout",
     "output_type": "stream",
     "text": [
      "Following word have more than 3 vowels:  ['Data Science', 'language']\n"
     ]
    }
   ],
   "source": [
    "\"\"\"38. Create a program that filters a list of strings to include only those with more than three vowels using list\n",
    "comprehension.\"\"\"\n",
    "\n",
    "#Function to calculate the sum of vowels in a particular word.\n",
    "def count(word):\n",
    "    vowels='aeiouAEIOU'\n",
    "    return sum(1 for char in word if char in vowels)\n",
    "\n",
    "#declaring a list of word.\n",
    "word_list = [\"logging\", \"flask\", \"Data Science\", \"kiwi\", \"python\", \"programming\", \"language\"]\n",
    "\n",
    "#Filtring list of word and collection those word that contain vowels count >3.\n",
    "filtered_list = [word for word in word_list if count(word) > 3]\n",
    "\n",
    "#Printing result\n",
    "print(\"Following word have more than 3 vowels: \",filtered_list)\n"
   ]
  },
  {
   "cell_type": "code",
   "execution_count": 48,
   "metadata": {},
   "outputs": [
    {
     "name": "stdout",
     "output_type": "stream",
     "text": [
      "[1, 2, 3, 4, 5, 6, 7, 8, 9, 1, 2, 3, 4, 5, 6, 7, 8, 9, 10, 2, 3, 4, 5, 6, 7, 8, 9, 10, 11, 3, 4, 5, 6, 7, 8, 9, 10, 11, 12, 4, 5, 6, 7, 8, 9, 10, 11, 12, 13, 5, 6, 7, 8, 9, 10, 11, 12, 13, 14, 6, 7, 8, 9, 10, 11, 12, 13, 14, 15, 7, 8, 9, 10, 11, 12, 13, 14, 15, 16, 8, 9, 10, 11, 12, 13, 14, 15, 16, 17, 9, 10, 11, 12, 13, 14, 15, 16, 17, 18, 1, 2, 3, 4, 5, 6, 7, 8, 9, 10, 2, 3, 4, 5, 6, 7, 8, 9, 10, 11, 3, 4, 5, 6, 7, 8, 9, 10, 11, 12, 4, 5, 6, 7, 8, 9, 10, 11, 12, 13, 5, 6, 7, 8, 9, 10, 11, 12, 13, 14, 6, 7, 8, 9, 10, 11, 12, 13, 14, 15, 7, 8, 9, 10, 11, 12, 13, 14, 15, 16, 8, 9, 10, 11, 12, 13, 14, 15, 16, 17, 9, 10, 11, 12, 13, 14, 15, 16, 17, 18, 10, 11, 12, 13, 14, 15, 16, 17, 18, 19, 2, 3, 4, 5, 6, 7, 8, 9, 10, 11, 3, 4, 5, 6, 7, 8, 9, 10, 11, 12, 4, 5, 6, 7, 8, 9, 10, 11, 12, 13, 5, 6, 7, 8, 9, 10, 11, 12, 13, 14, 6, 7, 8, 9, 10, 11, 12, 13, 14, 15, 7, 8, 9, 10, 11, 12, 13, 14, 15, 16, 8, 9, 10, 11, 12, 13, 14, 15, 16, 17, 9, 10, 11, 12, 13, 14, 15, 16, 17, 18, 10, 11, 12, 13, 14, 15, 16, 17, 18, 19, 11, 12, 13, 14, 15, 16, 17, 18, 19, 20, 3, 4, 5, 6, 7, 8, 9, 10, 11, 12, 4, 5, 6, 7, 8, 9, 10, 11, 12, 13, 5, 6, 7, 8, 9, 10, 11, 12, 13, 14, 6, 7, 8, 9, 10, 11, 12, 13, 14, 15, 7, 8, 9, 10, 11, 12, 13, 14, 15, 16, 8, 9, 10, 11, 12, 13, 14, 15, 16, 17, 9, 10, 11, 12, 13, 14, 15, 16, 17, 18, 10, 11, 12, 13, 14, 15, 16, 17, 18, 19, 11, 12, 13, 14, 15, 16, 17, 18, 19, 20, 12, 13, 14, 15, 16, 17, 18, 19, 20, 21, 4, 5, 6, 7, 8, 9, 10, 11, 12, 13, 5, 6, 7, 8, 9, 10, 11, 12, 13, 14, 6, 7, 8, 9, 10, 11, 12, 13, 14, 15, 7, 8, 9, 10, 11, 12, 13, 14, 15, 16, 8, 9, 10, 11, 12, 13, 14, 15, 16, 17, 9, 10, 11, 12, 13, 14, 15, 16, 17, 18, 10, 11, 12, 13, 14, 15, 16, 17, 18, 19, 11, 12, 13, 14, 15, 16, 17, 18, 19, 20, 12, 13, 14, 15, 16, 17, 18, 19, 20, 21, 13, 14, 15, 16, 17, 18, 19, 20, 21, 22, 5, 6, 7, 8, 9, 10, 11, 12, 13, 14, 6, 7, 8, 9, 10, 11, 12, 13, 14, 15, 7, 8, 9, 10, 11, 12, 13, 14, 15, 16, 8, 9, 10, 11, 12, 13, 14, 15, 16, 17, 9, 10, 11, 12, 13, 14, 15, 16, 17, 18, 10, 11, 12, 13, 14, 15, 16, 17, 18, 19, 11, 12, 13, 14, 15, 16, 17, 18, 19, 20, 12, 13, 14, 15, 16, 17, 18, 19, 20, 21, 13, 14, 15, 16, 17, 18, 19, 20, 21, 22, 14, 15, 16, 17, 18, 19, 20, 21, 22, 23, 6, 7, 8, 9, 10, 11, 12, 13, 14, 15, 7, 8, 9, 10, 11, 12, 13, 14, 15, 16, 8, 9, 10, 11, 12, 13, 14, 15, 16, 17, 9, 10, 11, 12, 13, 14, 15, 16, 17, 18, 10, 11, 12, 13, 14, 15, 16, 17, 18, 19, 11, 12, 13, 14, 15, 16, 17, 18, 19, 20, 12, 13, 14, 15, 16, 17, 18, 19, 20, 21, 13, 14, 15, 16, 17, 18, 19, 20, 21, 22, 14, 15, 16, 17, 18, 19, 20, 21, 22, 23, 15, 16, 17, 18, 19, 20, 21, 22, 23, 24, 7, 8, 9, 10, 11, 12, 13, 14, 15, 16, 8, 9, 10, 11, 12, 13, 14, 15, 16, 17, 9, 10, 11, 12, 13, 14, 15, 16, 17, 18, 10, 11, 12, 13, 14, 15, 16, 17, 18, 19, 11, 12, 13, 14, 15, 16, 17, 18, 19, 20, 12, 13, 14, 15, 16, 17, 18, 19, 20, 21, 13, 14, 15, 16, 17, 18, 19, 20, 21, 22, 14, 15, 16, 17, 18, 19, 20, 21, 22, 23, 15, 16, 17, 18, 19, 20, 21, 22, 23, 24, 16, 17, 18, 19, 20, 21, 22, 23, 24, 25, 8, 9, 10, 11, 12, 13, 14, 15, 16, 17, 9, 10, 11, 12, 13, 14, 15, 16, 17, 18, 10, 11, 12, 13, 14, 15, 16, 17, 18, 19, 11, 12, 13, 14, 15, 16, 17, 18, 19, 20, 12, 13, 14, 15, 16, 17, 18, 19, 20, 21, 13, 14, 15, 16, 17, 18, 19, 20, 21, 22, 14, 15, 16, 17, 18, 19, 20, 21, 22, 23, 15, 16, 17, 18, 19, 20, 21, 22, 23, 24, 16, 17, 18, 19, 20, 21, 22, 23, 24, 25, 17, 18, 19, 20, 21, 22, 23, 24, 25, 26, 9, 10, 11, 12, 13, 14, 15, 16, 17, 18, 10, 11, 12, 13, 14, 15, 16, 17, 18, 19, 11, 12, 13, 14, 15, 16, 17, 18, 19, 20, 12, 13, 14, 15, 16, 17, 18, 19, 20, 21, 13, 14, 15, 16, 17, 18, 19, 20, 21, 22, 14, 15, 16, 17, 18, 19, 20, 21, 22, 23, 15, 16, 17, 18, 19, 20, 21, 22, 23, 24, 16, 17, 18, 19, 20, 21, 22, 23, 24, 25, 17, 18, 19, 20, 21, 22, 23, 24, 25, 26, 18, 19, 20, 21, 22, 23, 24, 25, 26, 27, 1]"
     ]
    }
   ],
   "source": [
    "\"\"\"39. Develop a program that calculates the sum of the digits of numbers from 1 to 1000 using list\n",
    "comprehension.\"\"\"\n",
    "\n",
    "#Function to calculate the sum of digits.\n",
    "def digi(n):\n",
    "    sum=0\n",
    "    while n > 0:\n",
    "        num=n%10\n",
    "        sum+=num\n",
    "        n//=10    \n",
    "    return  sum \n",
    "#Declaring a list with a range from 1 to 1000. \n",
    "l=list(range(1,1001))\n",
    "\n",
    "#Passing list value to the function.\n",
    "result=[digi(i) for i in l]\n",
    "\n",
    "#Printing the desired list.\n",
    "print(result, end='')\n",
    "\n"
   ]
  },
  {
   "cell_type": "code",
   "execution_count": 43,
   "metadata": {},
   "outputs": [
    {
     "name": "stdout",
     "output_type": "stream",
     "text": [
      "List of prime palindrom number between(10,1000):  [11, 101, 131, 151, 181, 191, 313, 353, 373, 383, 727, 757, 787, 797, 919, 929]\n"
     ]
    }
   ],
   "source": [
    "\"\"\"40. Write a program that generates a list of prime palindromic numbers using list comprehension.\"\"\"\n",
    "\n",
    "#Function to check the number is palindromic or not.\n",
    "def find_palindrom(n):\n",
    "    N=str(n)\n",
    "    if N==N[::-1]:\n",
    "        N=int(n)\n",
    "        return n\n",
    "\n",
    "#Function for finding prime numbers.\n",
    "def find_prime_(number):\n",
    "      if number<2:\n",
    "       return None\n",
    "      for i in range(2, int(number**0.5)+1):\n",
    "        if number%i==0:\n",
    "            return None\n",
    "      return number\n",
    "  \n",
    "#Collecting all prime number from function find_prime_\n",
    "Result=[find_prime_(i) for i in range(10,1000)]\n",
    "\n",
    "#Removing nonetype value from the list.\n",
    "prime_num_list=[i for i in Result if i is not None]\n",
    "\n",
    "#Checking prime palindromic number in prime number list.\n",
    "check_palindrom=[find_palindrom(i) for i in prime_num_list]\n",
    "\n",
    "#Removing nonetype value form the list.\n",
    "prime_palindrom=[i for i in check_palindrom if i is not None]\n",
    "\n",
    "#Printing list of prime palindromic numbers list with a given range.\n",
    "print(\"List of prime palindrom number between(10,1000): \", prime_palindrom)\n",
    "\n",
    "  "
   ]
  }
 ],
 "metadata": {
  "kernelspec": {
   "display_name": "Python 3",
   "language": "python",
   "name": "python3"
  },
  "language_info": {
   "codemirror_mode": {
    "name": "ipython",
    "version": 3
   },
   "file_extension": ".py",
   "mimetype": "text/x-python",
   "name": "python",
   "nbconvert_exporter": "python",
   "pygments_lexer": "ipython3",
   "version": "3.11.8"
  }
 },
 "nbformat": 4,
 "nbformat_minor": 2
}
